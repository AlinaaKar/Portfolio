{
 "cells": [
  {
   "cell_type": "markdown",
   "id": "a16c9b8f",
   "metadata": {},
   "source": [
    "<a id='task'></a>\n",
    "\n",
    "### Материалы\n",
    "\n",
    "Презентация (2): https://disk.yandex.ru/i/3G-hKPgmwOKzww\n",
    "\n",
    "Дашборд: https://public.tableau.com/views/Dashboardestimatedsalary/Dashboard1?:language=en-US&:display_count=n&:origin=viz_share_link\n",
    "\n",
    "### Цель проекта\n",
    "\n",
    "Целью данного проекта является поиск инсайтов для уменьшения оттока клиентов банка. Инсайты будут основаны на портретах пользователей, которые склонны уходить из банка, и пользователей, которые склонны оставаться в банке. Портреты будут составлены на основе характеристик (пол, возраст, уровень дохода и тд), присущих текущим и бывшим клиентам банка. Данная инфомация будет передана проектному менеджеру для дальнейшей работы с продуктами банка и уменьшении оттока клиентов.\n",
    "\n",
    "### Конечный результат проекта:\n",
    "* Отчет по проведенному анализу (в формате тетради jupyter notebook)\n",
    "* Презентация для продуктового менеджера\n",
    "* Дашборд\n",
    "\n",
    "### Данные\n",
    "Для анализа предоставлен датасет bank_dataset.csv, содержащий информацию о клиентах банка «Метанпром». Банк располагается в Ярославле и областных городах: Ростов Великий и Рыбинск. Датасет содержит 10000 строк и 12 столбцов с характеристиками пользователей банка. \n",
    "\n",
    "### Задачи проекта\n",
    "\n",
    "Для достижения поставленной цели необходимо\n",
    "\n",
    "**Шаг 1. Подгрузка и предобработка данных**\n",
    "1. Подгрузить данные; \n",
    "\n",
    "2. Привести столбцы к нижнему регистру, добавить столбцы с бинарными значениями для столбцов с городами;\n",
    "\n",
    "3. Проверить данные на наличие дубликатов (явных и неявных);\n",
    "\n",
    "4. Проверить данные на наличие пропущенных значений;\n",
    "\n",
    "5. Проверить данные на аномальные значения;\n",
    "\n",
    "6. Преобразовать типы данных.\n",
    "\n",
    "**Шаг 2. Исследовательский анализ данных**\n",
    "\n",
    "1. Изучить данные пользователей (и визуализовать распределение данных) по баллам кредитного скоринга, городу, полу, возрасту, количеству объектов в собственности, балансу на счёте, количеству продуктов, которыми пользуется клиент, наличию кредитной карты, активности клиентов, заработной плате клиентов;\n",
    "\n",
    "2. Построить матрицу корреляции (и хитмеп) по взаимосвязям между параметрами и итоговым показателем - ушел клиент или нет; \n",
    "\n",
    "3. Определить, какие показатели характеризуют пользователей, которые ушли и которые остались; составить портреты пользователей\n",
    "\n",
    "**Шаг 3. Проверка статистических гипотез**\n",
    "\n",
    "4. Проверить статистические гипотезы:\n",
    "    * Средний доход между теми клиентами, которые ушли и теми, которые остались, различается;\n",
    "    * Средний возраст между теми клиентами, которые ушли и теми, которые остались, различается;\n",
    "    * Средний балл кредитного скоринга между теми клиентами, которые ушли и теми, которые остались, различается;\n",
    "    * Количество продуктов, которые приобретают пользователи из Ярославля, отличается от количества продуктов, которые приобретают пользователи из других регионов.\n",
    "\n",
    "**Шаг 4. Вывод и презентация**\n",
    "1. Сделать вывод по результатам анализа и сделать презентацию для продуктового менеджера\n"
   ]
  },
  {
   "cell_type": "markdown",
   "id": "ef3448f8",
   "metadata": {},
   "source": [
    "<a id='back'></a>\n",
    "\n",
    "### Оглавление\n",
    "\n",
    "[Описание задачи](#task)\n",
    "\n",
    "[Шаг 1. Подгрузка и предобработка данных](#solution_1)\n",
    "\n",
    "[Шаг 2. Исследовательский анализ данных](#solution_2)\n",
    "\n",
    "[Шаг 3. Проверка статистических гипотез](#solution_3)\n",
    "\n",
    "[Общий вывод](#conclusion)"
   ]
  },
  {
   "cell_type": "markdown",
   "id": "45710af0",
   "metadata": {},
   "source": [
    "<a id='solution_1'></a>"
   ]
  },
  {
   "cell_type": "markdown",
   "id": "5da98591",
   "metadata": {},
   "source": [
    "### Шаг 1. Подгрузка и предобработка данных"
   ]
  },
  {
   "cell_type": "code",
   "execution_count": 1,
   "id": "9b869f91",
   "metadata": {},
   "outputs": [],
   "source": [
    "#подгрузим необходимые библиотеки\n",
    "import pandas as pd\n",
    "import seaborn as sns\n",
    "import matplotlib.pyplot as plt\n",
    "from scipy import stats as st\n",
    "import seaborn as sns"
   ]
  },
  {
   "cell_type": "code",
   "execution_count": 2,
   "id": "63f206bf",
   "metadata": {},
   "outputs": [],
   "source": [
    "#подгрузим датасет\n",
    "\n",
    "try:\n",
    "    bank_data = pd.read_csv('~/Desktop/projects/bank_dataset.csv')\n",
    "except:\n",
    "    bank_data = pd.read_csv('/datasets/bank_dataset.csv')"
   ]
  },
  {
   "cell_type": "code",
   "execution_count": 3,
   "id": "4aef09dd",
   "metadata": {},
   "outputs": [
    {
     "name": "stdout",
     "output_type": "stream",
     "text": [
      "<class 'pandas.core.frame.DataFrame'>\n",
      "RangeIndex: 10000 entries, 0 to 9999\n",
      "Data columns (total 12 columns):\n",
      " #   Column            Non-Null Count  Dtype  \n",
      "---  ------            --------------  -----  \n",
      " 0   userid            10000 non-null  int64  \n",
      " 1   score             10000 non-null  int64  \n",
      " 2   City              10000 non-null  object \n",
      " 3   Gender            10000 non-null  object \n",
      " 4   Age               10000 non-null  int64  \n",
      " 5   Objects           10000 non-null  int64  \n",
      " 6   Balance           6383 non-null   float64\n",
      " 7   Products          10000 non-null  int64  \n",
      " 8   CreditCard        10000 non-null  int64  \n",
      " 9   Loyalty           10000 non-null  int64  \n",
      " 10  estimated_salary  10000 non-null  float64\n",
      " 11  Churn             10000 non-null  int64  \n",
      "dtypes: float64(2), int64(8), object(2)\n",
      "memory usage: 937.6+ KB\n"
     ]
    }
   ],
   "source": [
    "#прочитаем основную информацию\n",
    "\n",
    "bank_data.info()"
   ]
  },
  {
   "cell_type": "markdown",
   "id": "8f51f3b7",
   "metadata": {},
   "source": [
    "Датасет содержит 10000 строк и 12 столбцов с характеристиками пользователей банка:\n",
    "* идентификатор клиента\n",
    "* балл кредитного скоринга, \n",
    "* город,\n",
    "* пол, \n",
    "* возраст, \n",
    "* количество объектов в собственности, \n",
    "* баланс на счёте, \n",
    "* количество продуктов банка, которыми пользуется клиент, \n",
    "* наличие кредитной карты, \n",
    "* активность клиента, \n",
    "* заработная плата клиентов,\n",
    "* показатель, ушел клиент или остался\n",
    "\n",
    "Всего целочисленных значений в столбцах - 8, значений с плавающей точкой 2 и строки - 2.\n",
    "\n",
    "Ниже заменим строки на булевы значения.\n",
    "\n",
    "Наименования столбцов содержат прописные буквы, от которых мы далее избавимся\n",
    "\n",
    "В данных есть пропущенные значения в части баланса - далее рассмотрим, с чем связаны пропущенные значения.\n",
    "\n",
    "Также ниже рассмотрим, есть ли явные или неявные дубликаты, и аномальные значения."
   ]
  },
  {
   "cell_type": "code",
   "execution_count": 4,
   "id": "a43a73b3",
   "metadata": {},
   "outputs": [],
   "source": [
    "#меняем все столбцы на нижний регистр\n",
    "\n",
    "bank_data.columns = bank_data.columns.str.lower()"
   ]
  },
  {
   "cell_type": "code",
   "execution_count": 5,
   "id": "63eb6745",
   "metadata": {},
   "outputs": [
    {
     "data": {
      "text/html": [
       "<div>\n",
       "<style scoped>\n",
       "    .dataframe tbody tr th:only-of-type {\n",
       "        vertical-align: middle;\n",
       "    }\n",
       "\n",
       "    .dataframe tbody tr th {\n",
       "        vertical-align: top;\n",
       "    }\n",
       "\n",
       "    .dataframe thead th {\n",
       "        text-align: right;\n",
       "    }\n",
       "</style>\n",
       "<table border=\"1\" class=\"dataframe\">\n",
       "  <thead>\n",
       "    <tr style=\"text-align: right;\">\n",
       "      <th></th>\n",
       "      <th>count</th>\n",
       "      <th>mean</th>\n",
       "      <th>std</th>\n",
       "      <th>min</th>\n",
       "      <th>25%</th>\n",
       "      <th>50%</th>\n",
       "      <th>75%</th>\n",
       "      <th>max</th>\n",
       "    </tr>\n",
       "  </thead>\n",
       "  <tbody>\n",
       "    <tr>\n",
       "      <th>score</th>\n",
       "      <td>10000.0</td>\n",
       "      <td>650.528800</td>\n",
       "      <td>96.653299</td>\n",
       "      <td>350.00</td>\n",
       "      <td>584.000</td>\n",
       "      <td>652.000</td>\n",
       "      <td>718.0000</td>\n",
       "      <td>850.00</td>\n",
       "    </tr>\n",
       "    <tr>\n",
       "      <th>age</th>\n",
       "      <td>10000.0</td>\n",
       "      <td>38.921800</td>\n",
       "      <td>10.487806</td>\n",
       "      <td>18.00</td>\n",
       "      <td>32.000</td>\n",
       "      <td>37.000</td>\n",
       "      <td>44.0000</td>\n",
       "      <td>92.00</td>\n",
       "    </tr>\n",
       "    <tr>\n",
       "      <th>objects</th>\n",
       "      <td>10000.0</td>\n",
       "      <td>5.012800</td>\n",
       "      <td>2.892174</td>\n",
       "      <td>0.00</td>\n",
       "      <td>3.000</td>\n",
       "      <td>5.000</td>\n",
       "      <td>7.0000</td>\n",
       "      <td>10.00</td>\n",
       "    </tr>\n",
       "    <tr>\n",
       "      <th>balance</th>\n",
       "      <td>6383.0</td>\n",
       "      <td>119827.493793</td>\n",
       "      <td>30095.056462</td>\n",
       "      <td>3768.69</td>\n",
       "      <td>100181.975</td>\n",
       "      <td>119839.690</td>\n",
       "      <td>139512.2900</td>\n",
       "      <td>250898.09</td>\n",
       "    </tr>\n",
       "    <tr>\n",
       "      <th>products</th>\n",
       "      <td>10000.0</td>\n",
       "      <td>1.530200</td>\n",
       "      <td>0.581654</td>\n",
       "      <td>1.00</td>\n",
       "      <td>1.000</td>\n",
       "      <td>1.000</td>\n",
       "      <td>2.0000</td>\n",
       "      <td>4.00</td>\n",
       "    </tr>\n",
       "    <tr>\n",
       "      <th>creditcard</th>\n",
       "      <td>10000.0</td>\n",
       "      <td>0.705500</td>\n",
       "      <td>0.455840</td>\n",
       "      <td>0.00</td>\n",
       "      <td>0.000</td>\n",
       "      <td>1.000</td>\n",
       "      <td>1.0000</td>\n",
       "      <td>1.00</td>\n",
       "    </tr>\n",
       "    <tr>\n",
       "      <th>loyalty</th>\n",
       "      <td>10000.0</td>\n",
       "      <td>0.515100</td>\n",
       "      <td>0.499797</td>\n",
       "      <td>0.00</td>\n",
       "      <td>0.000</td>\n",
       "      <td>1.000</td>\n",
       "      <td>1.0000</td>\n",
       "      <td>1.00</td>\n",
       "    </tr>\n",
       "    <tr>\n",
       "      <th>estimated_salary</th>\n",
       "      <td>10000.0</td>\n",
       "      <td>100090.239881</td>\n",
       "      <td>57510.492818</td>\n",
       "      <td>11.58</td>\n",
       "      <td>51002.110</td>\n",
       "      <td>100193.915</td>\n",
       "      <td>149388.2475</td>\n",
       "      <td>199992.48</td>\n",
       "    </tr>\n",
       "    <tr>\n",
       "      <th>churn</th>\n",
       "      <td>10000.0</td>\n",
       "      <td>0.203700</td>\n",
       "      <td>0.402769</td>\n",
       "      <td>0.00</td>\n",
       "      <td>0.000</td>\n",
       "      <td>0.000</td>\n",
       "      <td>0.0000</td>\n",
       "      <td>1.00</td>\n",
       "    </tr>\n",
       "  </tbody>\n",
       "</table>\n",
       "</div>"
      ],
      "text/plain": [
       "                    count           mean           std      min         25%  \\\n",
       "score             10000.0     650.528800     96.653299   350.00     584.000   \n",
       "age               10000.0      38.921800     10.487806    18.00      32.000   \n",
       "objects           10000.0       5.012800      2.892174     0.00       3.000   \n",
       "balance            6383.0  119827.493793  30095.056462  3768.69  100181.975   \n",
       "products          10000.0       1.530200      0.581654     1.00       1.000   \n",
       "creditcard        10000.0       0.705500      0.455840     0.00       0.000   \n",
       "loyalty           10000.0       0.515100      0.499797     0.00       0.000   \n",
       "estimated_salary  10000.0  100090.239881  57510.492818    11.58   51002.110   \n",
       "churn             10000.0       0.203700      0.402769     0.00       0.000   \n",
       "\n",
       "                         50%          75%        max  \n",
       "score                652.000     718.0000     850.00  \n",
       "age                   37.000      44.0000      92.00  \n",
       "objects                5.000       7.0000      10.00  \n",
       "balance           119839.690  139512.2900  250898.09  \n",
       "products               1.000       2.0000       4.00  \n",
       "creditcard             1.000       1.0000       1.00  \n",
       "loyalty                1.000       1.0000       1.00  \n",
       "estimated_salary  100193.915  149388.2475  199992.48  \n",
       "churn                  0.000       0.0000       1.00  "
      ]
     },
     "execution_count": 5,
     "metadata": {},
     "output_type": "execute_result"
    }
   ],
   "source": [
    "#проверим аномальные значения\n",
    "\n",
    "bank_data.drop(columns = 'userid').describe().T"
   ]
  },
  {
   "cell_type": "markdown",
   "id": "07b4c693",
   "metadata": {},
   "source": [
    "В целом аномальных значений не обнаружено:\n",
    "* Клиенты получают кредитный рейтинг от 350 до 850 очков, в среднем 651\n",
    "* Возраст клиентов находится в пределах от 18 до 92 лет, а среднем - 39 лет\n",
    "* Количество объектов в собственности - от 0 до 10, в среднем 5\n",
    "* Баланс лежит от 3 768 до 250 898, в среднем баланс составляет 119 827\n",
    "* Клиенты имеют от 1 до 4 продуктов банка, в среднем - 2 продукта\n",
    "* В среднем у клиента есть кредитная карта\n",
    "* В среднем клиент активен\n",
    "* Зарплата колеблется от 12 до 199 992, в среднем - 100 090\n",
    "* Клиенты в основном остаются в банке"
   ]
  },
  {
   "cell_type": "code",
   "execution_count": 6,
   "id": "ee234354",
   "metadata": {},
   "outputs": [
    {
     "data": {
      "text/plain": [
       "0"
      ]
     },
     "execution_count": 6,
     "metadata": {},
     "output_type": "execute_result"
    }
   ],
   "source": [
    "#проверим данные на явные и неявные дубликаты\n",
    "\n",
    "bank_data.duplicated().sum()"
   ]
  },
  {
   "cell_type": "code",
   "execution_count": 7,
   "id": "3add64d6",
   "metadata": {},
   "outputs": [
    {
     "name": "stdout",
     "output_type": "stream",
     "text": [
      "15636869    1\n",
      "15853581    1\n",
      "15763481    1\n",
      "15833091    1\n",
      "15634721    1\n",
      "           ..\n",
      "15685621    1\n",
      "15765494    1\n",
      "15697911    1\n",
      "15609850    1\n",
      "15720675    1\n",
      "Name: userid, Length: 10000, dtype: int64\n",
      "Ярославль         5014\n",
      "Ростов Великий    2509\n",
      "Рыбинск           2477\n",
      "Name: city, dtype: int64\n",
      "М    5457\n",
      "Ж    4543\n",
      "Name: gender, dtype: int64\n"
     ]
    }
   ],
   "source": [
    "#неявные дубликаты могут содержатся в столбцах userid, City, Gender\n",
    "\n",
    "list_of_columns = ['userid', 'city', 'gender']\n",
    "\n",
    "for columns in list_of_columns:\n",
    "    print(bank_data[columns].value_counts().sort_values(ascending = False))"
   ]
  },
  {
   "cell_type": "markdown",
   "id": "0fca8961",
   "metadata": {},
   "source": [
    "Явные дубликаты отсуствуют, неявные дубликаты, которые могут содержатся в столбцах с идентификатором клиентов, городом и полом также отсутствуют.\n",
    "\n",
    "Также можно обнаружить, что большинство клиентов из Ярославля - 5 014 клиентов, затем идет город Ростов Великий - 2 509 клиентов и из Рыбинска - 2 477 клиетов.\n",
    "\n",
    "Распределение среди мужчин и женщин практически одинаковое - 5 457 клиентов-мужчин и 4 543 клиентов-женщин."
   ]
  },
  {
   "cell_type": "code",
   "execution_count": 8,
   "id": "70549cec",
   "metadata": {},
   "outputs": [
    {
     "data": {
      "text/html": [
       "<div>\n",
       "<style scoped>\n",
       "    .dataframe tbody tr th:only-of-type {\n",
       "        vertical-align: middle;\n",
       "    }\n",
       "\n",
       "    .dataframe tbody tr th {\n",
       "        vertical-align: top;\n",
       "    }\n",
       "\n",
       "    .dataframe thead th {\n",
       "        text-align: right;\n",
       "    }\n",
       "</style>\n",
       "<table border=\"1\" class=\"dataframe\">\n",
       "  <thead>\n",
       "    <tr style=\"text-align: right;\">\n",
       "      <th></th>\n",
       "      <th>count</th>\n",
       "      <th>mean</th>\n",
       "      <th>std</th>\n",
       "      <th>min</th>\n",
       "      <th>25%</th>\n",
       "      <th>50%</th>\n",
       "      <th>75%</th>\n",
       "      <th>max</th>\n",
       "    </tr>\n",
       "  </thead>\n",
       "  <tbody>\n",
       "    <tr>\n",
       "      <th>score</th>\n",
       "      <td>3617.0</td>\n",
       "      <td>649.452861</td>\n",
       "      <td>96.158798</td>\n",
       "      <td>350.00</td>\n",
       "      <td>583.00</td>\n",
       "      <td>651.00</td>\n",
       "      <td>717.00</td>\n",
       "      <td>850.00</td>\n",
       "    </tr>\n",
       "    <tr>\n",
       "      <th>age</th>\n",
       "      <td>3617.0</td>\n",
       "      <td>38.434891</td>\n",
       "      <td>10.492002</td>\n",
       "      <td>18.00</td>\n",
       "      <td>31.00</td>\n",
       "      <td>37.00</td>\n",
       "      <td>43.00</td>\n",
       "      <td>88.00</td>\n",
       "    </tr>\n",
       "    <tr>\n",
       "      <th>objects</th>\n",
       "      <td>3617.0</td>\n",
       "      <td>5.071330</td>\n",
       "      <td>2.860781</td>\n",
       "      <td>0.00</td>\n",
       "      <td>3.00</td>\n",
       "      <td>5.00</td>\n",
       "      <td>7.00</td>\n",
       "      <td>10.00</td>\n",
       "    </tr>\n",
       "    <tr>\n",
       "      <th>balance</th>\n",
       "      <td>0.0</td>\n",
       "      <td>NaN</td>\n",
       "      <td>NaN</td>\n",
       "      <td>NaN</td>\n",
       "      <td>NaN</td>\n",
       "      <td>NaN</td>\n",
       "      <td>NaN</td>\n",
       "      <td>NaN</td>\n",
       "    </tr>\n",
       "    <tr>\n",
       "      <th>products</th>\n",
       "      <td>3617.0</td>\n",
       "      <td>1.784628</td>\n",
       "      <td>0.496455</td>\n",
       "      <td>1.00</td>\n",
       "      <td>1.00</td>\n",
       "      <td>2.00</td>\n",
       "      <td>2.00</td>\n",
       "      <td>4.00</td>\n",
       "    </tr>\n",
       "    <tr>\n",
       "      <th>creditcard</th>\n",
       "      <td>3617.0</td>\n",
       "      <td>0.716616</td>\n",
       "      <td>0.450704</td>\n",
       "      <td>0.00</td>\n",
       "      <td>0.00</td>\n",
       "      <td>1.00</td>\n",
       "      <td>1.00</td>\n",
       "      <td>1.00</td>\n",
       "    </tr>\n",
       "    <tr>\n",
       "      <th>loyalty</th>\n",
       "      <td>3617.0</td>\n",
       "      <td>0.517832</td>\n",
       "      <td>0.499751</td>\n",
       "      <td>0.00</td>\n",
       "      <td>0.00</td>\n",
       "      <td>1.00</td>\n",
       "      <td>1.00</td>\n",
       "      <td>1.00</td>\n",
       "    </tr>\n",
       "    <tr>\n",
       "      <th>estimated_salary</th>\n",
       "      <td>3617.0</td>\n",
       "      <td>98983.559549</td>\n",
       "      <td>57730.828955</td>\n",
       "      <td>90.07</td>\n",
       "      <td>49506.82</td>\n",
       "      <td>98618.79</td>\n",
       "      <td>148330.97</td>\n",
       "      <td>199992.48</td>\n",
       "    </tr>\n",
       "    <tr>\n",
       "      <th>churn</th>\n",
       "      <td>3617.0</td>\n",
       "      <td>0.138236</td>\n",
       "      <td>0.345195</td>\n",
       "      <td>0.00</td>\n",
       "      <td>0.00</td>\n",
       "      <td>0.00</td>\n",
       "      <td>0.00</td>\n",
       "      <td>1.00</td>\n",
       "    </tr>\n",
       "  </tbody>\n",
       "</table>\n",
       "</div>"
      ],
      "text/plain": [
       "                   count          mean           std     min       25%  \\\n",
       "score             3617.0    649.452861     96.158798  350.00    583.00   \n",
       "age               3617.0     38.434891     10.492002   18.00     31.00   \n",
       "objects           3617.0      5.071330      2.860781    0.00      3.00   \n",
       "balance              0.0           NaN           NaN     NaN       NaN   \n",
       "products          3617.0      1.784628      0.496455    1.00      1.00   \n",
       "creditcard        3617.0      0.716616      0.450704    0.00      0.00   \n",
       "loyalty           3617.0      0.517832      0.499751    0.00      0.00   \n",
       "estimated_salary  3617.0  98983.559549  57730.828955   90.07  49506.82   \n",
       "churn             3617.0      0.138236      0.345195    0.00      0.00   \n",
       "\n",
       "                       50%        75%        max  \n",
       "score               651.00     717.00     850.00  \n",
       "age                  37.00      43.00      88.00  \n",
       "objects               5.00       7.00      10.00  \n",
       "balance                NaN        NaN        NaN  \n",
       "products              2.00       2.00       4.00  \n",
       "creditcard            1.00       1.00       1.00  \n",
       "loyalty               1.00       1.00       1.00  \n",
       "estimated_salary  98618.79  148330.97  199992.48  \n",
       "churn                 0.00       0.00       1.00  "
      ]
     },
     "execution_count": 8,
     "metadata": {},
     "output_type": "execute_result"
    }
   ],
   "source": [
    "#рассмотрим пропущенные значения \n",
    "\n",
    "#отберем данные только с пропущенными значениями в части баланса - всего 3 617 строк или 36%\n",
    "\n",
    "bank_data[bank_data['balance'].isna()].drop(columns = 'userid').describe().T"
   ]
  },
  {
   "cell_type": "code",
   "execution_count": 9,
   "id": "93efd481",
   "metadata": {},
   "outputs": [
    {
     "data": {
      "text/html": [
       "<div>\n",
       "<style scoped>\n",
       "    .dataframe tbody tr th:only-of-type {\n",
       "        vertical-align: middle;\n",
       "    }\n",
       "\n",
       "    .dataframe tbody tr th {\n",
       "        vertical-align: top;\n",
       "    }\n",
       "\n",
       "    .dataframe thead th {\n",
       "        text-align: right;\n",
       "    }\n",
       "</style>\n",
       "<table border=\"1\" class=\"dataframe\">\n",
       "  <thead>\n",
       "    <tr style=\"text-align: right;\">\n",
       "      <th></th>\n",
       "      <th>count</th>\n",
       "      <th>mean</th>\n",
       "      <th>std</th>\n",
       "      <th>min</th>\n",
       "      <th>25%</th>\n",
       "      <th>50%</th>\n",
       "      <th>75%</th>\n",
       "      <th>max</th>\n",
       "    </tr>\n",
       "  </thead>\n",
       "  <tbody>\n",
       "    <tr>\n",
       "      <th>score</th>\n",
       "      <td>6383.0</td>\n",
       "      <td>651.138493</td>\n",
       "      <td>96.934609</td>\n",
       "      <td>350.00</td>\n",
       "      <td>584.000</td>\n",
       "      <td>652.00</td>\n",
       "      <td>718.000</td>\n",
       "      <td>850.00</td>\n",
       "    </tr>\n",
       "    <tr>\n",
       "      <th>age</th>\n",
       "      <td>6383.0</td>\n",
       "      <td>39.197713</td>\n",
       "      <td>10.476208</td>\n",
       "      <td>18.00</td>\n",
       "      <td>32.000</td>\n",
       "      <td>38.00</td>\n",
       "      <td>44.000</td>\n",
       "      <td>92.00</td>\n",
       "    </tr>\n",
       "    <tr>\n",
       "      <th>objects</th>\n",
       "      <td>6383.0</td>\n",
       "      <td>4.979633</td>\n",
       "      <td>2.909514</td>\n",
       "      <td>0.00</td>\n",
       "      <td>2.000</td>\n",
       "      <td>5.00</td>\n",
       "      <td>8.000</td>\n",
       "      <td>10.00</td>\n",
       "    </tr>\n",
       "    <tr>\n",
       "      <th>balance</th>\n",
       "      <td>6383.0</td>\n",
       "      <td>119827.493793</td>\n",
       "      <td>30095.056462</td>\n",
       "      <td>3768.69</td>\n",
       "      <td>100181.975</td>\n",
       "      <td>119839.69</td>\n",
       "      <td>139512.290</td>\n",
       "      <td>250898.09</td>\n",
       "    </tr>\n",
       "    <tr>\n",
       "      <th>products</th>\n",
       "      <td>6383.0</td>\n",
       "      <td>1.386025</td>\n",
       "      <td>0.577011</td>\n",
       "      <td>1.00</td>\n",
       "      <td>1.000</td>\n",
       "      <td>1.00</td>\n",
       "      <td>2.000</td>\n",
       "      <td>4.00</td>\n",
       "    </tr>\n",
       "    <tr>\n",
       "      <th>creditcard</th>\n",
       "      <td>6383.0</td>\n",
       "      <td>0.699201</td>\n",
       "      <td>0.458641</td>\n",
       "      <td>0.00</td>\n",
       "      <td>0.000</td>\n",
       "      <td>1.00</td>\n",
       "      <td>1.000</td>\n",
       "      <td>1.00</td>\n",
       "    </tr>\n",
       "    <tr>\n",
       "      <th>loyalty</th>\n",
       "      <td>6383.0</td>\n",
       "      <td>0.513552</td>\n",
       "      <td>0.499855</td>\n",
       "      <td>0.00</td>\n",
       "      <td>0.000</td>\n",
       "      <td>1.00</td>\n",
       "      <td>1.000</td>\n",
       "      <td>1.00</td>\n",
       "    </tr>\n",
       "    <tr>\n",
       "      <th>estimated_salary</th>\n",
       "      <td>6383.0</td>\n",
       "      <td>100717.352956</td>\n",
       "      <td>57380.316584</td>\n",
       "      <td>11.58</td>\n",
       "      <td>51736.850</td>\n",
       "      <td>101139.30</td>\n",
       "      <td>149596.615</td>\n",
       "      <td>199970.74</td>\n",
       "    </tr>\n",
       "    <tr>\n",
       "      <th>churn</th>\n",
       "      <td>6383.0</td>\n",
       "      <td>0.240796</td>\n",
       "      <td>0.427600</td>\n",
       "      <td>0.00</td>\n",
       "      <td>0.000</td>\n",
       "      <td>0.00</td>\n",
       "      <td>0.000</td>\n",
       "      <td>1.00</td>\n",
       "    </tr>\n",
       "  </tbody>\n",
       "</table>\n",
       "</div>"
      ],
      "text/plain": [
       "                   count           mean           std      min         25%  \\\n",
       "score             6383.0     651.138493     96.934609   350.00     584.000   \n",
       "age               6383.0      39.197713     10.476208    18.00      32.000   \n",
       "objects           6383.0       4.979633      2.909514     0.00       2.000   \n",
       "balance           6383.0  119827.493793  30095.056462  3768.69  100181.975   \n",
       "products          6383.0       1.386025      0.577011     1.00       1.000   \n",
       "creditcard        6383.0       0.699201      0.458641     0.00       0.000   \n",
       "loyalty           6383.0       0.513552      0.499855     0.00       0.000   \n",
       "estimated_salary  6383.0  100717.352956  57380.316584    11.58   51736.850   \n",
       "churn             6383.0       0.240796      0.427600     0.00       0.000   \n",
       "\n",
       "                        50%         75%        max  \n",
       "score                652.00     718.000     850.00  \n",
       "age                   38.00      44.000      92.00  \n",
       "objects                5.00       8.000      10.00  \n",
       "balance           119839.69  139512.290  250898.09  \n",
       "products               1.00       2.000       4.00  \n",
       "creditcard             1.00       1.000       1.00  \n",
       "loyalty                1.00       1.000       1.00  \n",
       "estimated_salary  101139.30  149596.615  199970.74  \n",
       "churn                  0.00       0.000       1.00  "
      ]
     },
     "execution_count": 9,
     "metadata": {},
     "output_type": "execute_result"
    }
   ],
   "source": [
    "# сравним из с теми, у кого отмечен баланс\n",
    "\n",
    "bank_data.dropna().drop(columns = 'userid').describe().T"
   ]
  },
  {
   "cell_type": "markdown",
   "id": "21ef60d4",
   "metadata": {},
   "source": [
    "В целом между категориями с указанной информацией по балансу и отсутствием информации, различий нет. Наибольшее отклонение по характеристикам наблюдается только в категории количества продуктов банка у клиента. Можно предположить, что при наличии у клиента более чем 1 продукта затруднительно отражать баланс клиента. \n",
    "Отсутствие значений в части баланса можно также охарактеризовать технической ошибкой, и информацию можно запросить у тех, кто предоставил датасет."
   ]
  },
  {
   "cell_type": "code",
   "execution_count": 10,
   "id": "a7aa50b8",
   "metadata": {},
   "outputs": [
    {
     "data": {
      "text/html": [
       "<div>\n",
       "<style scoped>\n",
       "    .dataframe tbody tr th:only-of-type {\n",
       "        vertical-align: middle;\n",
       "    }\n",
       "\n",
       "    .dataframe tbody tr th {\n",
       "        vertical-align: top;\n",
       "    }\n",
       "\n",
       "    .dataframe thead th {\n",
       "        text-align: right;\n",
       "    }\n",
       "</style>\n",
       "<table border=\"1\" class=\"dataframe\">\n",
       "  <thead>\n",
       "    <tr style=\"text-align: right;\">\n",
       "      <th></th>\n",
       "      <th>userid</th>\n",
       "      <th>score</th>\n",
       "      <th>city</th>\n",
       "      <th>gender</th>\n",
       "      <th>age</th>\n",
       "      <th>objects</th>\n",
       "      <th>balance</th>\n",
       "      <th>products</th>\n",
       "      <th>creditcard</th>\n",
       "      <th>loyalty</th>\n",
       "      <th>estimated_salary</th>\n",
       "      <th>churn</th>\n",
       "      <th>rostov_the_great</th>\n",
       "      <th>rybinsk</th>\n",
       "      <th>yaroslavl</th>\n",
       "    </tr>\n",
       "  </thead>\n",
       "  <tbody>\n",
       "    <tr>\n",
       "      <th>0</th>\n",
       "      <td>15677338</td>\n",
       "      <td>619</td>\n",
       "      <td>Ярославль</td>\n",
       "      <td>Ж</td>\n",
       "      <td>42</td>\n",
       "      <td>2</td>\n",
       "      <td>NaN</td>\n",
       "      <td>1</td>\n",
       "      <td>1</td>\n",
       "      <td>1</td>\n",
       "      <td>101348.88</td>\n",
       "      <td>1</td>\n",
       "      <td>0</td>\n",
       "      <td>0</td>\n",
       "      <td>1</td>\n",
       "    </tr>\n",
       "    <tr>\n",
       "      <th>1</th>\n",
       "      <td>15690047</td>\n",
       "      <td>608</td>\n",
       "      <td>Рыбинск</td>\n",
       "      <td>Ж</td>\n",
       "      <td>41</td>\n",
       "      <td>1</td>\n",
       "      <td>83807.86</td>\n",
       "      <td>1</td>\n",
       "      <td>0</td>\n",
       "      <td>1</td>\n",
       "      <td>112542.58</td>\n",
       "      <td>0</td>\n",
       "      <td>0</td>\n",
       "      <td>1</td>\n",
       "      <td>0</td>\n",
       "    </tr>\n",
       "    <tr>\n",
       "      <th>2</th>\n",
       "      <td>15662040</td>\n",
       "      <td>502</td>\n",
       "      <td>Ярославль</td>\n",
       "      <td>Ж</td>\n",
       "      <td>42</td>\n",
       "      <td>8</td>\n",
       "      <td>159660.80</td>\n",
       "      <td>3</td>\n",
       "      <td>1</td>\n",
       "      <td>0</td>\n",
       "      <td>113931.57</td>\n",
       "      <td>1</td>\n",
       "      <td>0</td>\n",
       "      <td>0</td>\n",
       "      <td>1</td>\n",
       "    </tr>\n",
       "    <tr>\n",
       "      <th>3</th>\n",
       "      <td>15744090</td>\n",
       "      <td>699</td>\n",
       "      <td>Ярославль</td>\n",
       "      <td>Ж</td>\n",
       "      <td>39</td>\n",
       "      <td>1</td>\n",
       "      <td>NaN</td>\n",
       "      <td>2</td>\n",
       "      <td>0</td>\n",
       "      <td>0</td>\n",
       "      <td>93826.63</td>\n",
       "      <td>0</td>\n",
       "      <td>0</td>\n",
       "      <td>0</td>\n",
       "      <td>1</td>\n",
       "    </tr>\n",
       "    <tr>\n",
       "      <th>4</th>\n",
       "      <td>15780624</td>\n",
       "      <td>850</td>\n",
       "      <td>Рыбинск</td>\n",
       "      <td>Ж</td>\n",
       "      <td>43</td>\n",
       "      <td>2</td>\n",
       "      <td>125510.82</td>\n",
       "      <td>1</td>\n",
       "      <td>1</td>\n",
       "      <td>1</td>\n",
       "      <td>79084.10</td>\n",
       "      <td>0</td>\n",
       "      <td>0</td>\n",
       "      <td>1</td>\n",
       "      <td>0</td>\n",
       "    </tr>\n",
       "  </tbody>\n",
       "</table>\n",
       "</div>"
      ],
      "text/plain": [
       "     userid  score       city gender  age  objects    balance  products  \\\n",
       "0  15677338    619  Ярославль      Ж   42        2        NaN         1   \n",
       "1  15690047    608    Рыбинск      Ж   41        1   83807.86         1   \n",
       "2  15662040    502  Ярославль      Ж   42        8  159660.80         3   \n",
       "3  15744090    699  Ярославль      Ж   39        1        NaN         2   \n",
       "4  15780624    850    Рыбинск      Ж   43        2  125510.82         1   \n",
       "\n",
       "   creditcard  loyalty  estimated_salary  churn  rostov_the_great  rybinsk  \\\n",
       "0           1        1         101348.88      1                 0        0   \n",
       "1           0        1         112542.58      0                 0        1   \n",
       "2           1        0         113931.57      1                 0        0   \n",
       "3           0        0          93826.63      0                 0        0   \n",
       "4           1        1          79084.10      0                 0        1   \n",
       "\n",
       "   yaroslavl  \n",
       "0          1  \n",
       "1          0  \n",
       "2          1  \n",
       "3          1  \n",
       "4          0  "
      ]
     },
     "execution_count": 10,
     "metadata": {},
     "output_type": "execute_result"
    }
   ],
   "source": [
    "# добавим столбцы с бинарными значениями для городов клиентов\n",
    "\n",
    "bank_data[['rostov_the_great','rybinsk', 'yaroslavl']] = pd.get_dummies(bank_data['city'])\n",
    "\n",
    "bank_data.head()"
   ]
  },
  {
   "cell_type": "code",
   "execution_count": 11,
   "id": "774689aa",
   "metadata": {},
   "outputs": [
    {
     "data": {
      "text/plain": [
       "0       1\n",
       "6670    1\n",
       "6663    1\n",
       "6664    1\n",
       "6665    1\n",
       "       ..\n",
       "3333    1\n",
       "3334    1\n",
       "3335    1\n",
       "3336    1\n",
       "9999    1\n",
       "Name: total, Length: 10000, dtype: uint8"
      ]
     },
     "execution_count": 11,
     "metadata": {},
     "output_type": "execute_result"
    }
   ],
   "source": [
    "#проверим, что у нас нет столбцов с бинарными значениями, которые в сумме дают 2 и более города:\n",
    "\n",
    "bank_data['total'] = bank_data['rostov_the_great'] + bank_data['rybinsk'] + bank_data['yaroslavl']\n",
    "\n",
    "bank_data['total'].sort_values(ascending = False)"
   ]
  },
  {
   "cell_type": "code",
   "execution_count": 12,
   "id": "4c5bebdd",
   "metadata": {},
   "outputs": [],
   "source": [
    "#преобразуем типы данных (строку в столбце gender в булево значение):\n",
    "\n",
    "bank_data['is_woman'] = pd.get_dummies(bank_data['gender']).drop(columns = 'М')"
   ]
  },
  {
   "cell_type": "code",
   "execution_count": 13,
   "id": "ce04294e",
   "metadata": {},
   "outputs": [],
   "source": [
    "#убираем лишние столбцы\n",
    "\n",
    "bank_data = bank_data.drop(columns = ['total', 'city', 'gender'])"
   ]
  },
  {
   "cell_type": "code",
   "execution_count": 14,
   "id": "e52e972b",
   "metadata": {},
   "outputs": [
    {
     "data": {
      "text/html": [
       "<div>\n",
       "<style scoped>\n",
       "    .dataframe tbody tr th:only-of-type {\n",
       "        vertical-align: middle;\n",
       "    }\n",
       "\n",
       "    .dataframe tbody tr th {\n",
       "        vertical-align: top;\n",
       "    }\n",
       "\n",
       "    .dataframe thead th {\n",
       "        text-align: right;\n",
       "    }\n",
       "</style>\n",
       "<table border=\"1\" class=\"dataframe\">\n",
       "  <thead>\n",
       "    <tr style=\"text-align: right;\">\n",
       "      <th></th>\n",
       "      <th>userid</th>\n",
       "      <th>score</th>\n",
       "      <th>age</th>\n",
       "      <th>objects</th>\n",
       "      <th>balance</th>\n",
       "      <th>products</th>\n",
       "      <th>creditcard</th>\n",
       "      <th>loyalty</th>\n",
       "      <th>estimated_salary</th>\n",
       "      <th>churn</th>\n",
       "      <th>rostov_the_great</th>\n",
       "      <th>rybinsk</th>\n",
       "      <th>yaroslavl</th>\n",
       "      <th>is_woman</th>\n",
       "    </tr>\n",
       "  </thead>\n",
       "  <tbody>\n",
       "    <tr>\n",
       "      <th>0</th>\n",
       "      <td>15677338</td>\n",
       "      <td>619</td>\n",
       "      <td>42</td>\n",
       "      <td>2</td>\n",
       "      <td>NaN</td>\n",
       "      <td>1</td>\n",
       "      <td>1</td>\n",
       "      <td>1</td>\n",
       "      <td>101348.88</td>\n",
       "      <td>1</td>\n",
       "      <td>0</td>\n",
       "      <td>0</td>\n",
       "      <td>1</td>\n",
       "      <td>1</td>\n",
       "    </tr>\n",
       "    <tr>\n",
       "      <th>1</th>\n",
       "      <td>15690047</td>\n",
       "      <td>608</td>\n",
       "      <td>41</td>\n",
       "      <td>1</td>\n",
       "      <td>83807.86</td>\n",
       "      <td>1</td>\n",
       "      <td>0</td>\n",
       "      <td>1</td>\n",
       "      <td>112542.58</td>\n",
       "      <td>0</td>\n",
       "      <td>0</td>\n",
       "      <td>1</td>\n",
       "      <td>0</td>\n",
       "      <td>1</td>\n",
       "    </tr>\n",
       "    <tr>\n",
       "      <th>2</th>\n",
       "      <td>15662040</td>\n",
       "      <td>502</td>\n",
       "      <td>42</td>\n",
       "      <td>8</td>\n",
       "      <td>159660.80</td>\n",
       "      <td>3</td>\n",
       "      <td>1</td>\n",
       "      <td>0</td>\n",
       "      <td>113931.57</td>\n",
       "      <td>1</td>\n",
       "      <td>0</td>\n",
       "      <td>0</td>\n",
       "      <td>1</td>\n",
       "      <td>1</td>\n",
       "    </tr>\n",
       "    <tr>\n",
       "      <th>3</th>\n",
       "      <td>15744090</td>\n",
       "      <td>699</td>\n",
       "      <td>39</td>\n",
       "      <td>1</td>\n",
       "      <td>NaN</td>\n",
       "      <td>2</td>\n",
       "      <td>0</td>\n",
       "      <td>0</td>\n",
       "      <td>93826.63</td>\n",
       "      <td>0</td>\n",
       "      <td>0</td>\n",
       "      <td>0</td>\n",
       "      <td>1</td>\n",
       "      <td>1</td>\n",
       "    </tr>\n",
       "    <tr>\n",
       "      <th>4</th>\n",
       "      <td>15780624</td>\n",
       "      <td>850</td>\n",
       "      <td>43</td>\n",
       "      <td>2</td>\n",
       "      <td>125510.82</td>\n",
       "      <td>1</td>\n",
       "      <td>1</td>\n",
       "      <td>1</td>\n",
       "      <td>79084.10</td>\n",
       "      <td>0</td>\n",
       "      <td>0</td>\n",
       "      <td>1</td>\n",
       "      <td>0</td>\n",
       "      <td>1</td>\n",
       "    </tr>\n",
       "  </tbody>\n",
       "</table>\n",
       "</div>"
      ],
      "text/plain": [
       "     userid  score  age  objects    balance  products  creditcard  loyalty  \\\n",
       "0  15677338    619   42        2        NaN         1           1        1   \n",
       "1  15690047    608   41        1   83807.86         1           0        1   \n",
       "2  15662040    502   42        8  159660.80         3           1        0   \n",
       "3  15744090    699   39        1        NaN         2           0        0   \n",
       "4  15780624    850   43        2  125510.82         1           1        1   \n",
       "\n",
       "   estimated_salary  churn  rostov_the_great  rybinsk  yaroslavl  is_woman  \n",
       "0         101348.88      1                 0        0          1         1  \n",
       "1         112542.58      0                 0        1          0         1  \n",
       "2         113931.57      1                 0        0          1         1  \n",
       "3          93826.63      0                 0        0          1         1  \n",
       "4          79084.10      0                 0        1          0         1  "
      ]
     },
     "execution_count": 14,
     "metadata": {},
     "output_type": "execute_result"
    }
   ],
   "source": [
    "bank_data.head()"
   ]
  },
  {
   "cell_type": "markdown",
   "id": "a8a7754a",
   "metadata": {},
   "source": [
    "### Вывод\n",
    "\n",
    "Исходный датасет содержит 10000 строк и 12 столбцов с характеристиками пользователей банка:\n",
    "\n",
    "идентификатор клиента\n",
    "балл кредитного скоринга,\n",
    "город,\n",
    "пол,\n",
    "возраст,\n",
    "количество объектов в собственности,\n",
    "баланс на счёте,\n",
    "количество продуктов банка, которыми пользуется клиент,\n",
    "наличие кредитной карты,\n",
    "активность клиента,\n",
    "заработная плата клиентов,\n",
    "показатель, ушел клиент или остался\n",
    "\n",
    "Всего целочисленных значений в столбцах - 8, значений с плавающей точкой 2 и строки - 2.\n",
    "\n",
    "Привели исходный датасет в удобный формат для дальнейшего анализа:\n",
    "\n",
    "1. Явные дубликаты отсуствуют, неявные дубликаты, которые могут содержатся в столбцах с идентификатором клиентов, городом и полом также отсутствуют.\n",
    "\n",
    "\n",
    "2. В целом аномальных значений не обнаружено:\n",
    "\n",
    "    - Клиенты получают кредитный рейтинг от 350 до 850 очков, в среднем 651;\n",
    "    \n",
    "    - Возраст клиентов находится в пределах от 18 до 92 лет, а среднем - 39 лет;\n",
    "    \n",
    "    - Количество объектов в собственности - от 0 до 10, в среднем 5;\n",
    "    \n",
    "    - Баланс лежит от 3 768 до 250 898, в среднем баланс составляет 119 827;\n",
    "\n",
    "    - Клиенты имеют от 1 до 4 продуктов банка, в среднем - 2 продукта;\n",
    "\n",
    "    - В среднем у клиента есть кредитная карта;\n",
    "\n",
    "    - В среднем клиент активен;\n",
    "\n",
    "    - Зарплата колеблется от 12 до 199 992, в среднем - 100 090;\n",
    "    \n",
    "    - Клиенты в основном остаются в банке;\n",
    "    \n",
    "    - Большинство клиентов из Ярославля - 5 014 клиентов, затем идет город Ростов Великий - 2 509 клиентов и из Рыбинска - 2 477 клиетов; \n",
    "    \n",
    "    - Распределение среди мужчин и женщин практически одинаковое - 5 457 клиентов-мужчин и 4 543 клиентов-женщин.\n",
    "    \n",
    "\n",
    "3. Были проанализированы пропущенные значения в части баланса:\n",
    "\n",
    "    В целом между категориями с указанной информацией по балансу и отсутствием информации, различий нет. Наибольшее отклонение по характеристикам наблюдается только в категории количества продуктов банка у клиента. Можно предположить, что при наличии у клиента более чем 1 продукта затруднительно отражать баланс клиента. Отсутствие значений в части баланса можно также охарактеризовать технической ошибкой, и информацию можно запросить у тех, кто предоставил датасет.\n",
    "    \n",
    "    \n",
    "4. Все данные со строчным типом данных преобразовали в данные с булевым типом    "
   ]
  },
  {
   "cell_type": "markdown",
   "id": "fc0028a3",
   "metadata": {},
   "source": [
    "[Вернуться наверх](#back)"
   ]
  },
  {
   "cell_type": "markdown",
   "id": "4529908f",
   "metadata": {},
   "source": [
    "<a id='solution_2'></a>"
   ]
  },
  {
   "cell_type": "markdown",
   "id": "cd4061ab",
   "metadata": {},
   "source": [
    "### Шаг 2. Исследовательский анализ данных"
   ]
  },
  {
   "cell_type": "code",
   "execution_count": 15,
   "id": "3bd380f0",
   "metadata": {},
   "outputs": [],
   "source": [
    "#Рассмотрим клиентов и бывших клиентов банка подробнее\n",
    "\n",
    "#клиенты банка\n",
    "bank_clients = bank_data[bank_data['churn'] == 0]"
   ]
  },
  {
   "cell_type": "code",
   "execution_count": 16,
   "id": "19515c78",
   "metadata": {},
   "outputs": [],
   "source": [
    "#бывшие клиенты банка\n",
    "bank_exclients = bank_data[bank_data['churn'] == 1]"
   ]
  },
  {
   "cell_type": "code",
   "execution_count": 17,
   "id": "ef486677",
   "metadata": {},
   "outputs": [
    {
     "data": {
      "image/png": "[encoded data removed]",
      "text/plain": [
       "<Figure size 432x288 with 1 Axes>"
      ]
     },
     "metadata": {},
     "output_type": "display_data"
    }
   ],
   "source": [
    "#построим распределение клиентов/бывших клиентов банка\n",
    "\n",
    "plt.pie([len(bank_clients), len(bank_exclients)], labels = ['Клиенты', 'Бывшие клиенты'], autopct='%1.1f%%', colors = ['#8ebe86', '#435ebb'])\n",
    "\n",
    "plt.title('Всего клиентов банка в датасете - 10 000');"
   ]
  },
  {
   "cell_type": "markdown",
   "id": "616f8c03",
   "metadata": {},
   "source": [
    "В данный момент в банке обслуживает 7 963 клиента или 80% датасета. Соответственно, перестали обслуживаться 2 037 клиентов или 20% датасета"
   ]
  },
  {
   "cell_type": "code",
   "execution_count": 18,
   "id": "fd140101",
   "metadata": {},
   "outputs": [
    {
     "data": {
      "text/html": [
       "<style  type=\"text/css\" >\n",
       "#T_50fad_row0_col0,#T_50fad_row1_col1,#T_50fad_row2_col2,#T_50fad_row3_col3,#T_50fad_row4_col4,#T_50fad_row5_col5,#T_50fad_row6_col6,#T_50fad_row7_col7,#T_50fad_row8_col8,#T_50fad_row9_col9,#T_50fad_row10_col10,#T_50fad_row11_col11,#T_50fad_row12_col12,#T_50fad_row13_col13{\n",
       "            background-color:  #000000;\n",
       "            color:  #f1f1f1;\n",
       "        }#T_50fad_row0_col1,#T_50fad_row0_col7,#T_50fad_row0_col11,#T_50fad_row0_col13,#T_50fad_row1_col0,#T_50fad_row1_col3,#T_50fad_row1_col10,#T_50fad_row1_col11,#T_50fad_row1_col13,#T_50fad_row3_col1,#T_50fad_row3_col4,#T_50fad_row3_col8,#T_50fad_row3_col11,#T_50fad_row4_col3,#T_50fad_row4_col6,#T_50fad_row4_col12,#T_50fad_row5_col6,#T_50fad_row5_col12,#T_50fad_row6_col4,#T_50fad_row6_col5,#T_50fad_row6_col12,#T_50fad_row7_col0,#T_50fad_row7_col12,#T_50fad_row8_col3,#T_50fad_row10_col1,#T_50fad_row11_col0,#T_50fad_row11_col1,#T_50fad_row11_col3,#T_50fad_row12_col4,#T_50fad_row12_col5,#T_50fad_row12_col6,#T_50fad_row12_col7,#T_50fad_row13_col0,#T_50fad_row13_col1{\n",
       "            background-color:  #959595;\n",
       "            color:  #000000;\n",
       "        }#T_50fad_row0_col2,#T_50fad_row0_col8,#T_50fad_row1_col5,#T_50fad_row2_col0,#T_50fad_row3_col5,#T_50fad_row5_col1,#T_50fad_row5_col3,#T_50fad_row5_col7,#T_50fad_row5_col8,#T_50fad_row5_col11,#T_50fad_row6_col10,#T_50fad_row7_col5,#T_50fad_row8_col0,#T_50fad_row8_col5,#T_50fad_row8_col9,#T_50fad_row8_col10,#T_50fad_row8_col13,#T_50fad_row9_col8,#T_50fad_row10_col6,#T_50fad_row10_col8,#T_50fad_row11_col5,#T_50fad_row13_col8{\n",
       "            background-color:  #949494;\n",
       "            color:  #000000;\n",
       "        }#T_50fad_row0_col3,#T_50fad_row0_col4,#T_50fad_row0_col6,#T_50fad_row1_col12,#T_50fad_row2_col3,#T_50fad_row2_col4,#T_50fad_row2_col6,#T_50fad_row3_col0,#T_50fad_row3_col2,#T_50fad_row3_col9,#T_50fad_row3_col13,#T_50fad_row4_col0,#T_50fad_row4_col2,#T_50fad_row5_col10,#T_50fad_row6_col0,#T_50fad_row6_col2,#T_50fad_row6_col7,#T_50fad_row6_col8,#T_50fad_row6_col11,#T_50fad_row7_col6,#T_50fad_row7_col8,#T_50fad_row8_col6,#T_50fad_row8_col7,#T_50fad_row9_col3,#T_50fad_row10_col5,#T_50fad_row11_col6,#T_50fad_row12_col1,#T_50fad_row13_col3{\n",
       "            background-color:  #989898;\n",
       "            color:  #000000;\n",
       "        }#T_50fad_row0_col5,#T_50fad_row3_col6,#T_50fad_row4_col9,#T_50fad_row5_col0,#T_50fad_row5_col13,#T_50fad_row6_col3,#T_50fad_row7_col11,#T_50fad_row9_col4,#T_50fad_row11_col7,#T_50fad_row13_col5{\n",
       "            background-color:  #939393;\n",
       "            color:  #000000;\n",
       "        }#T_50fad_row0_col9,#T_50fad_row0_col10,#T_50fad_row0_col12,#T_50fad_row1_col2,#T_50fad_row1_col4,#T_50fad_row1_col6,#T_50fad_row1_col8,#T_50fad_row2_col1,#T_50fad_row2_col8,#T_50fad_row2_col11,#T_50fad_row3_col10,#T_50fad_row3_col12,#T_50fad_row4_col1,#T_50fad_row4_col5,#T_50fad_row4_col8,#T_50fad_row4_col10,#T_50fad_row4_col11,#T_50fad_row5_col4,#T_50fad_row6_col1,#T_50fad_row6_col9,#T_50fad_row6_col13,#T_50fad_row8_col1,#T_50fad_row8_col2,#T_50fad_row8_col4,#T_50fad_row8_col11,#T_50fad_row8_col12,#T_50fad_row9_col0,#T_50fad_row9_col6,#T_50fad_row10_col0,#T_50fad_row10_col3,#T_50fad_row10_col4,#T_50fad_row11_col2,#T_50fad_row11_col4,#T_50fad_row11_col8,#T_50fad_row12_col0,#T_50fad_row12_col3,#T_50fad_row12_col8,#T_50fad_row12_col13,#T_50fad_row13_col6,#T_50fad_row13_col12{\n",
       "            background-color:  #979797;\n",
       "            color:  #000000;\n",
       "        }#T_50fad_row1_col7,#T_50fad_row2_col13,#T_50fad_row7_col1,#T_50fad_row10_col13,#T_50fad_row13_col2,#T_50fad_row13_col10{\n",
       "            background-color:  #929292;\n",
       "            color:  #000000;\n",
       "        }#T_50fad_row1_col9,#T_50fad_row2_col5,#T_50fad_row3_col7,#T_50fad_row4_col13,#T_50fad_row5_col2,#T_50fad_row7_col3,#T_50fad_row9_col1,#T_50fad_row13_col4{\n",
       "            background-color:  #9a9a9a;\n",
       "            color:  #000000;\n",
       "        }#T_50fad_row2_col7,#T_50fad_row7_col2{\n",
       "            background-color:  #8a8a8a;\n",
       "            color:  #000000;\n",
       "        }#T_50fad_row2_col9,#T_50fad_row9_col2{\n",
       "            background-color:  #6e6e6e;\n",
       "            color:  #000000;\n",
       "        }#T_50fad_row2_col10,#T_50fad_row10_col2{\n",
       "            background-color:  #8f8f8f;\n",
       "            color:  #000000;\n",
       "        }#T_50fad_row2_col12,#T_50fad_row12_col2{\n",
       "            background-color:  #9d9d9d;\n",
       "            color:  #000000;\n",
       "        }#T_50fad_row4_col7,#T_50fad_row7_col4,#T_50fad_row7_col10,#T_50fad_row7_col13,#T_50fad_row10_col7,#T_50fad_row11_col13,#T_50fad_row13_col7,#T_50fad_row13_col11{\n",
       "            background-color:  #999999;\n",
       "            color:  #000000;\n",
       "        }#T_50fad_row5_col9,#T_50fad_row9_col5,#T_50fad_row9_col11,#T_50fad_row11_col9{\n",
       "            background-color:  #9e9e9e;\n",
       "            color:  #000000;\n",
       "        }#T_50fad_row7_col9,#T_50fad_row9_col7{\n",
       "            background-color:  #aeaeae;\n",
       "            color:  #000000;\n",
       "        }#T_50fad_row9_col10,#T_50fad_row10_col9{\n",
       "            background-color:  #7d7d7d;\n",
       "            color:  #000000;\n",
       "        }#T_50fad_row9_col12,#T_50fad_row12_col9{\n",
       "            background-color:  #a7a7a7;\n",
       "            color:  #000000;\n",
       "        }#T_50fad_row9_col13,#T_50fad_row13_col9{\n",
       "            background-color:  #878787;\n",
       "            color:  #000000;\n",
       "        }#T_50fad_row10_col11,#T_50fad_row11_col10{\n",
       "            background-color:  #c6c6c6;\n",
       "            color:  #000000;\n",
       "        }#T_50fad_row10_col12,#T_50fad_row12_col10{\n",
       "            background-color:  #e1e1e1;\n",
       "            color:  #000000;\n",
       "        }#T_50fad_row11_col12,#T_50fad_row12_col11{\n",
       "            background-color:  #e0e0e0;\n",
       "            color:  #000000;\n",
       "        }</style><table id=\"T_50fad_\" ><thead>    <tr>        <th class=\"blank level0\" ></th>        <th class=\"col_heading level0 col0\" >userid</th>        <th class=\"col_heading level0 col1\" >score</th>        <th class=\"col_heading level0 col2\" >age</th>        <th class=\"col_heading level0 col3\" >objects</th>        <th class=\"col_heading level0 col4\" >balance</th>        <th class=\"col_heading level0 col5\" >products</th>        <th class=\"col_heading level0 col6\" >creditcard</th>        <th class=\"col_heading level0 col7\" >loyalty</th>        <th class=\"col_heading level0 col8\" >estimated_salary</th>        <th class=\"col_heading level0 col9\" >churn</th>        <th class=\"col_heading level0 col10\" >rostov_the_great</th>        <th class=\"col_heading level0 col11\" >rybinsk</th>        <th class=\"col_heading level0 col12\" >yaroslavl</th>        <th class=\"col_heading level0 col13\" >is_woman</th>    </tr></thead><tbody>\n",
       "                <tr>\n",
       "                        <th id=\"T_50fad_level0_row0\" class=\"row_heading level0 row0\" >userid</th>\n",
       "                        <td id=\"T_50fad_row0_col0\" class=\"data row0 col0\" >1.000000</td>\n",
       "                        <td id=\"T_50fad_row0_col1\" class=\"data row0 col1\" >0.005308</td>\n",
       "                        <td id=\"T_50fad_row0_col2\" class=\"data row0 col2\" >0.009497</td>\n",
       "                        <td id=\"T_50fad_row0_col3\" class=\"data row0 col3\" >-0.014883</td>\n",
       "                        <td id=\"T_50fad_row0_col4\" class=\"data row0 col4\" >-0.008690</td>\n",
       "                        <td id=\"T_50fad_row0_col5\" class=\"data row0 col5\" >0.016972</td>\n",
       "                        <td id=\"T_50fad_row0_col6\" class=\"data row0 col6\" >-0.014025</td>\n",
       "                        <td id=\"T_50fad_row0_col7\" class=\"data row0 col7\" >0.001665</td>\n",
       "                        <td id=\"T_50fad_row0_col8\" class=\"data row0 col8\" >0.015271</td>\n",
       "                        <td id=\"T_50fad_row0_col9\" class=\"data row0 col9\" >-0.006248</td>\n",
       "                        <td id=\"T_50fad_row0_col10\" class=\"data row0 col10\" >-0.003097</td>\n",
       "                        <td id=\"T_50fad_row0_col11\" class=\"data row0 col11\" >0.007800</td>\n",
       "                        <td id=\"T_50fad_row0_col12\" class=\"data row0 col12\" >-0.004049</td>\n",
       "                        <td id=\"T_50fad_row0_col13\" class=\"data row0 col13\" >0.002641</td>\n",
       "            </tr>\n",
       "            <tr>\n",
       "                        <th id=\"T_50fad_level0_row1\" class=\"row_heading level0 row1\" >score</th>\n",
       "                        <td id=\"T_50fad_row1_col0\" class=\"data row1 col0\" >0.005308</td>\n",
       "                        <td id=\"T_50fad_row1_col1\" class=\"data row1 col1\" >1.000000</td>\n",
       "                        <td id=\"T_50fad_row1_col2\" class=\"data row1 col2\" >-0.003965</td>\n",
       "                        <td id=\"T_50fad_row1_col3\" class=\"data row1 col3\" >0.000842</td>\n",
       "                        <td id=\"T_50fad_row1_col4\" class=\"data row1 col4\" >-0.004744</td>\n",
       "                        <td id=\"T_50fad_row1_col5\" class=\"data row1 col5\" >0.012238</td>\n",
       "                        <td id=\"T_50fad_row1_col6\" class=\"data row1 col6\" >-0.005458</td>\n",
       "                        <td id=\"T_50fad_row1_col7\" class=\"data row1 col7\" >0.025651</td>\n",
       "                        <td id=\"T_50fad_row1_col8\" class=\"data row1 col8\" >-0.001384</td>\n",
       "                        <td id=\"T_50fad_row1_col9\" class=\"data row1 col9\" >-0.027094</td>\n",
       "                        <td id=\"T_50fad_row1_col10\" class=\"data row1 col10\" >0.005538</td>\n",
       "                        <td id=\"T_50fad_row1_col11\" class=\"data row1 col11\" >0.004780</td>\n",
       "                        <td id=\"T_50fad_row1_col12\" class=\"data row1 col12\" >-0.008928</td>\n",
       "                        <td id=\"T_50fad_row1_col13\" class=\"data row1 col13\" >0.002857</td>\n",
       "            </tr>\n",
       "            <tr>\n",
       "                        <th id=\"T_50fad_level0_row2\" class=\"row_heading level0 row2\" >age</th>\n",
       "                        <td id=\"T_50fad_row2_col0\" class=\"data row2 col0\" >0.009497</td>\n",
       "                        <td id=\"T_50fad_row2_col1\" class=\"data row2 col1\" >-0.003965</td>\n",
       "                        <td id=\"T_50fad_row2_col2\" class=\"data row2 col2\" >1.000000</td>\n",
       "                        <td id=\"T_50fad_row2_col3\" class=\"data row2 col3\" >-0.009997</td>\n",
       "                        <td id=\"T_50fad_row2_col4\" class=\"data row2 col4\" >-0.012822</td>\n",
       "                        <td id=\"T_50fad_row2_col5\" class=\"data row2 col5\" >-0.030680</td>\n",
       "                        <td id=\"T_50fad_row2_col6\" class=\"data row2 col6\" >-0.011721</td>\n",
       "                        <td id=\"T_50fad_row2_col7\" class=\"data row2 col7\" >0.085472</td>\n",
       "                        <td id=\"T_50fad_row2_col8\" class=\"data row2 col8\" >-0.007201</td>\n",
       "                        <td id=\"T_50fad_row2_col9\" class=\"data row2 col9\" >0.285323</td>\n",
       "                        <td id=\"T_50fad_row2_col10\" class=\"data row2 col10\" >0.046897</td>\n",
       "                        <td id=\"T_50fad_row2_col11\" class=\"data row2 col11\" >-0.001685</td>\n",
       "                        <td id=\"T_50fad_row2_col12\" class=\"data row2 col12\" >-0.039208</td>\n",
       "                        <td id=\"T_50fad_row2_col13\" class=\"data row2 col13\" >0.027544</td>\n",
       "            </tr>\n",
       "            <tr>\n",
       "                        <th id=\"T_50fad_level0_row3\" class=\"row_heading level0 row3\" >objects</th>\n",
       "                        <td id=\"T_50fad_row3_col0\" class=\"data row3 col0\" >-0.014883</td>\n",
       "                        <td id=\"T_50fad_row3_col1\" class=\"data row3 col1\" >0.000842</td>\n",
       "                        <td id=\"T_50fad_row3_col2\" class=\"data row3 col2\" >-0.009997</td>\n",
       "                        <td id=\"T_50fad_row3_col3\" class=\"data row3 col3\" >1.000000</td>\n",
       "                        <td id=\"T_50fad_row3_col4\" class=\"data row3 col4\" >0.005827</td>\n",
       "                        <td id=\"T_50fad_row3_col5\" class=\"data row3 col5\" >0.013444</td>\n",
       "                        <td id=\"T_50fad_row3_col6\" class=\"data row3 col6\" >0.022583</td>\n",
       "                        <td id=\"T_50fad_row3_col7\" class=\"data row3 col7\" >-0.028362</td>\n",
       "                        <td id=\"T_50fad_row3_col8\" class=\"data row3 col8\" >0.007784</td>\n",
       "                        <td id=\"T_50fad_row3_col9\" class=\"data row3 col9\" >-0.014001</td>\n",
       "                        <td id=\"T_50fad_row3_col10\" class=\"data row3 col10\" >-0.000567</td>\n",
       "                        <td id=\"T_50fad_row3_col11\" class=\"data row3 col11\" >0.003868</td>\n",
       "                        <td id=\"T_50fad_row3_col12\" class=\"data row3 col12\" >-0.002848</td>\n",
       "                        <td id=\"T_50fad_row3_col13\" class=\"data row3 col13\" >-0.014733</td>\n",
       "            </tr>\n",
       "            <tr>\n",
       "                        <th id=\"T_50fad_level0_row4\" class=\"row_heading level0 row4\" >balance</th>\n",
       "                        <td id=\"T_50fad_row4_col0\" class=\"data row4 col0\" >-0.008690</td>\n",
       "                        <td id=\"T_50fad_row4_col1\" class=\"data row4 col1\" >-0.004744</td>\n",
       "                        <td id=\"T_50fad_row4_col2\" class=\"data row4 col2\" >-0.012822</td>\n",
       "                        <td id=\"T_50fad_row4_col3\" class=\"data row4 col3\" >0.005827</td>\n",
       "                        <td id=\"T_50fad_row4_col4\" class=\"data row4 col4\" >1.000000</td>\n",
       "                        <td id=\"T_50fad_row4_col5\" class=\"data row4 col5\" >-0.001027</td>\n",
       "                        <td id=\"T_50fad_row4_col6\" class=\"data row4 col6\" >0.006721</td>\n",
       "                        <td id=\"T_50fad_row4_col7\" class=\"data row4 col7\" >-0.020418</td>\n",
       "                        <td id=\"T_50fad_row4_col8\" class=\"data row4 col8\" >-0.001856</td>\n",
       "                        <td id=\"T_50fad_row4_col9\" class=\"data row4 col9\" >0.017208</td>\n",
       "                        <td id=\"T_50fad_row4_col10\" class=\"data row4 col10\" >-0.002604</td>\n",
       "                        <td id=\"T_50fad_row4_col11\" class=\"data row4 col11\" >-0.000208</td>\n",
       "                        <td id=\"T_50fad_row4_col12\" class=\"data row4 col12\" >0.002759</td>\n",
       "                        <td id=\"T_50fad_row4_col13\" class=\"data row4 col13\" >-0.025742</td>\n",
       "            </tr>\n",
       "            <tr>\n",
       "                        <th id=\"T_50fad_level0_row5\" class=\"row_heading level0 row5\" >products</th>\n",
       "                        <td id=\"T_50fad_row5_col0\" class=\"data row5 col0\" >0.016972</td>\n",
       "                        <td id=\"T_50fad_row5_col1\" class=\"data row5 col1\" >0.012238</td>\n",
       "                        <td id=\"T_50fad_row5_col2\" class=\"data row5 col2\" >-0.030680</td>\n",
       "                        <td id=\"T_50fad_row5_col3\" class=\"data row5 col3\" >0.013444</td>\n",
       "                        <td id=\"T_50fad_row5_col4\" class=\"data row5 col4\" >-0.001027</td>\n",
       "                        <td id=\"T_50fad_row5_col5\" class=\"data row5 col5\" >1.000000</td>\n",
       "                        <td id=\"T_50fad_row5_col6\" class=\"data row5 col6\" >0.003183</td>\n",
       "                        <td id=\"T_50fad_row5_col7\" class=\"data row5 col7\" >0.009612</td>\n",
       "                        <td id=\"T_50fad_row5_col8\" class=\"data row5 col8\" >0.014204</td>\n",
       "                        <td id=\"T_50fad_row5_col9\" class=\"data row5 col9\" >-0.047820</td>\n",
       "                        <td id=\"T_50fad_row5_col10\" class=\"data row5 col10\" >-0.010419</td>\n",
       "                        <td id=\"T_50fad_row5_col11\" class=\"data row5 col11\" >0.009039</td>\n",
       "                        <td id=\"T_50fad_row5_col12\" class=\"data row5 col12\" >0.001230</td>\n",
       "                        <td id=\"T_50fad_row5_col13\" class=\"data row5 col13\" >0.021859</td>\n",
       "            </tr>\n",
       "            <tr>\n",
       "                        <th id=\"T_50fad_level0_row6\" class=\"row_heading level0 row6\" >creditcard</th>\n",
       "                        <td id=\"T_50fad_row6_col0\" class=\"data row6 col0\" >-0.014025</td>\n",
       "                        <td id=\"T_50fad_row6_col1\" class=\"data row6 col1\" >-0.005458</td>\n",
       "                        <td id=\"T_50fad_row6_col2\" class=\"data row6 col2\" >-0.011721</td>\n",
       "                        <td id=\"T_50fad_row6_col3\" class=\"data row6 col3\" >0.022583</td>\n",
       "                        <td id=\"T_50fad_row6_col4\" class=\"data row6 col4\" >0.006721</td>\n",
       "                        <td id=\"T_50fad_row6_col5\" class=\"data row6 col5\" >0.003183</td>\n",
       "                        <td id=\"T_50fad_row6_col6\" class=\"data row6 col6\" >1.000000</td>\n",
       "                        <td id=\"T_50fad_row6_col7\" class=\"data row6 col7\" >-0.011866</td>\n",
       "                        <td id=\"T_50fad_row6_col8\" class=\"data row6 col8\" >-0.009933</td>\n",
       "                        <td id=\"T_50fad_row6_col9\" class=\"data row6 col9\" >-0.007138</td>\n",
       "                        <td id=\"T_50fad_row6_col10\" class=\"data row6 col10\" >0.010577</td>\n",
       "                        <td id=\"T_50fad_row6_col11\" class=\"data row6 col11\" >-0.013480</td>\n",
       "                        <td id=\"T_50fad_row6_col12\" class=\"data row6 col12\" >0.002467</td>\n",
       "                        <td id=\"T_50fad_row6_col13\" class=\"data row6 col13\" >-0.005766</td>\n",
       "            </tr>\n",
       "            <tr>\n",
       "                        <th id=\"T_50fad_level0_row7\" class=\"row_heading level0 row7\" >loyalty</th>\n",
       "                        <td id=\"T_50fad_row7_col0\" class=\"data row7 col0\" >0.001665</td>\n",
       "                        <td id=\"T_50fad_row7_col1\" class=\"data row7 col1\" >0.025651</td>\n",
       "                        <td id=\"T_50fad_row7_col2\" class=\"data row7 col2\" >0.085472</td>\n",
       "                        <td id=\"T_50fad_row7_col3\" class=\"data row7 col3\" >-0.028362</td>\n",
       "                        <td id=\"T_50fad_row7_col4\" class=\"data row7 col4\" >-0.020418</td>\n",
       "                        <td id=\"T_50fad_row7_col5\" class=\"data row7 col5\" >0.009612</td>\n",
       "                        <td id=\"T_50fad_row7_col6\" class=\"data row7 col6\" >-0.011866</td>\n",
       "                        <td id=\"T_50fad_row7_col7\" class=\"data row7 col7\" >1.000000</td>\n",
       "                        <td id=\"T_50fad_row7_col8\" class=\"data row7 col8\" >-0.011421</td>\n",
       "                        <td id=\"T_50fad_row7_col9\" class=\"data row7 col9\" >-0.156128</td>\n",
       "                        <td id=\"T_50fad_row7_col10\" class=\"data row7 col10\" >-0.020486</td>\n",
       "                        <td id=\"T_50fad_row7_col11\" class=\"data row7 col11\" >0.016732</td>\n",
       "                        <td id=\"T_50fad_row7_col12\" class=\"data row7 col12\" >0.003317</td>\n",
       "                        <td id=\"T_50fad_row7_col13\" class=\"data row7 col13\" >-0.022544</td>\n",
       "            </tr>\n",
       "            <tr>\n",
       "                        <th id=\"T_50fad_level0_row8\" class=\"row_heading level0 row8\" >estimated_salary</th>\n",
       "                        <td id=\"T_50fad_row8_col0\" class=\"data row8 col0\" >0.015271</td>\n",
       "                        <td id=\"T_50fad_row8_col1\" class=\"data row8 col1\" >-0.001384</td>\n",
       "                        <td id=\"T_50fad_row8_col2\" class=\"data row8 col2\" >-0.007201</td>\n",
       "                        <td id=\"T_50fad_row8_col3\" class=\"data row8 col3\" >0.007784</td>\n",
       "                        <td id=\"T_50fad_row8_col4\" class=\"data row8 col4\" >-0.001856</td>\n",
       "                        <td id=\"T_50fad_row8_col5\" class=\"data row8 col5\" >0.014204</td>\n",
       "                        <td id=\"T_50fad_row8_col6\" class=\"data row8 col6\" >-0.009933</td>\n",
       "                        <td id=\"T_50fad_row8_col7\" class=\"data row8 col7\" >-0.011421</td>\n",
       "                        <td id=\"T_50fad_row8_col8\" class=\"data row8 col8\" >1.000000</td>\n",
       "                        <td id=\"T_50fad_row8_col9\" class=\"data row8 col9\" >0.012097</td>\n",
       "                        <td id=\"T_50fad_row8_col10\" class=\"data row8 col10\" >0.010297</td>\n",
       "                        <td id=\"T_50fad_row8_col11\" class=\"data row8 col11\" >-0.006482</td>\n",
       "                        <td id=\"T_50fad_row8_col12\" class=\"data row8 col12\" >-0.003332</td>\n",
       "                        <td id=\"T_50fad_row8_col13\" class=\"data row8 col13\" >0.008112</td>\n",
       "            </tr>\n",
       "            <tr>\n",
       "                        <th id=\"T_50fad_level0_row9\" class=\"row_heading level0 row9\" >churn</th>\n",
       "                        <td id=\"T_50fad_row9_col0\" class=\"data row9 col0\" >-0.006248</td>\n",
       "                        <td id=\"T_50fad_row9_col1\" class=\"data row9 col1\" >-0.027094</td>\n",
       "                        <td id=\"T_50fad_row9_col2\" class=\"data row9 col2\" >0.285323</td>\n",
       "                        <td id=\"T_50fad_row9_col3\" class=\"data row9 col3\" >-0.014001</td>\n",
       "                        <td id=\"T_50fad_row9_col4\" class=\"data row9 col4\" >0.017208</td>\n",
       "                        <td id=\"T_50fad_row9_col5\" class=\"data row9 col5\" >-0.047820</td>\n",
       "                        <td id=\"T_50fad_row9_col6\" class=\"data row9 col6\" >-0.007138</td>\n",
       "                        <td id=\"T_50fad_row9_col7\" class=\"data row9 col7\" >-0.156128</td>\n",
       "                        <td id=\"T_50fad_row9_col8\" class=\"data row9 col8\" >0.012097</td>\n",
       "                        <td id=\"T_50fad_row9_col9\" class=\"data row9 col9\" >1.000000</td>\n",
       "                        <td id=\"T_50fad_row9_col10\" class=\"data row9 col10\" >0.173488</td>\n",
       "                        <td id=\"T_50fad_row9_col11\" class=\"data row9 col11\" >-0.052667</td>\n",
       "                        <td id=\"T_50fad_row9_col12\" class=\"data row9 col12\" >-0.104955</td>\n",
       "                        <td id=\"T_50fad_row9_col13\" class=\"data row9 col13\" >0.106512</td>\n",
       "            </tr>\n",
       "            <tr>\n",
       "                        <th id=\"T_50fad_level0_row10\" class=\"row_heading level0 row10\" >rostov_the_great</th>\n",
       "                        <td id=\"T_50fad_row10_col0\" class=\"data row10 col0\" >-0.003097</td>\n",
       "                        <td id=\"T_50fad_row10_col1\" class=\"data row10 col1\" >0.005538</td>\n",
       "                        <td id=\"T_50fad_row10_col2\" class=\"data row10 col2\" >0.046897</td>\n",
       "                        <td id=\"T_50fad_row10_col3\" class=\"data row10 col3\" >-0.000567</td>\n",
       "                        <td id=\"T_50fad_row10_col4\" class=\"data row10 col4\" >-0.002604</td>\n",
       "                        <td id=\"T_50fad_row10_col5\" class=\"data row10 col5\" >-0.010419</td>\n",
       "                        <td id=\"T_50fad_row10_col6\" class=\"data row10 col6\" >0.010577</td>\n",
       "                        <td id=\"T_50fad_row10_col7\" class=\"data row10 col7\" >-0.020486</td>\n",
       "                        <td id=\"T_50fad_row10_col8\" class=\"data row10 col8\" >0.010297</td>\n",
       "                        <td id=\"T_50fad_row10_col9\" class=\"data row10 col9\" >0.173488</td>\n",
       "                        <td id=\"T_50fad_row10_col10\" class=\"data row10 col10\" >1.000000</td>\n",
       "                        <td id=\"T_50fad_row10_col11\" class=\"data row10 col11\" >-0.332084</td>\n",
       "                        <td id=\"T_50fad_row10_col12\" class=\"data row10 col12\" >-0.580359</td>\n",
       "                        <td id=\"T_50fad_row10_col13\" class=\"data row10 col13\" >0.024628</td>\n",
       "            </tr>\n",
       "            <tr>\n",
       "                        <th id=\"T_50fad_level0_row11\" class=\"row_heading level0 row11\" >rybinsk</th>\n",
       "                        <td id=\"T_50fad_row11_col0\" class=\"data row11 col0\" >0.007800</td>\n",
       "                        <td id=\"T_50fad_row11_col1\" class=\"data row11 col1\" >0.004780</td>\n",
       "                        <td id=\"T_50fad_row11_col2\" class=\"data row11 col2\" >-0.001685</td>\n",
       "                        <td id=\"T_50fad_row11_col3\" class=\"data row11 col3\" >0.003868</td>\n",
       "                        <td id=\"T_50fad_row11_col4\" class=\"data row11 col4\" >-0.000208</td>\n",
       "                        <td id=\"T_50fad_row11_col5\" class=\"data row11 col5\" >0.009039</td>\n",
       "                        <td id=\"T_50fad_row11_col6\" class=\"data row11 col6\" >-0.013480</td>\n",
       "                        <td id=\"T_50fad_row11_col7\" class=\"data row11 col7\" >0.016732</td>\n",
       "                        <td id=\"T_50fad_row11_col8\" class=\"data row11 col8\" >-0.006482</td>\n",
       "                        <td id=\"T_50fad_row11_col9\" class=\"data row11 col9\" >-0.052667</td>\n",
       "                        <td id=\"T_50fad_row11_col10\" class=\"data row11 col10\" >-0.332084</td>\n",
       "                        <td id=\"T_50fad_row11_col11\" class=\"data row11 col11\" >1.000000</td>\n",
       "                        <td id=\"T_50fad_row11_col12\" class=\"data row11 col12\" >-0.575418</td>\n",
       "                        <td id=\"T_50fad_row11_col13\" class=\"data row11 col13\" >-0.016889</td>\n",
       "            </tr>\n",
       "            <tr>\n",
       "                        <th id=\"T_50fad_level0_row12\" class=\"row_heading level0 row12\" >yaroslavl</th>\n",
       "                        <td id=\"T_50fad_row12_col0\" class=\"data row12 col0\" >-0.004049</td>\n",
       "                        <td id=\"T_50fad_row12_col1\" class=\"data row12 col1\" >-0.008928</td>\n",
       "                        <td id=\"T_50fad_row12_col2\" class=\"data row12 col2\" >-0.039208</td>\n",
       "                        <td id=\"T_50fad_row12_col3\" class=\"data row12 col3\" >-0.002848</td>\n",
       "                        <td id=\"T_50fad_row12_col4\" class=\"data row12 col4\" >0.002759</td>\n",
       "                        <td id=\"T_50fad_row12_col5\" class=\"data row12 col5\" >0.001230</td>\n",
       "                        <td id=\"T_50fad_row12_col6\" class=\"data row12 col6\" >0.002467</td>\n",
       "                        <td id=\"T_50fad_row12_col7\" class=\"data row12 col7\" >0.003317</td>\n",
       "                        <td id=\"T_50fad_row12_col8\" class=\"data row12 col8\" >-0.003332</td>\n",
       "                        <td id=\"T_50fad_row12_col9\" class=\"data row12 col9\" >-0.104955</td>\n",
       "                        <td id=\"T_50fad_row12_col10\" class=\"data row12 col10\" >-0.580359</td>\n",
       "                        <td id=\"T_50fad_row12_col11\" class=\"data row12 col11\" >-0.575418</td>\n",
       "                        <td id=\"T_50fad_row12_col12\" class=\"data row12 col12\" >1.000000</td>\n",
       "                        <td id=\"T_50fad_row12_col13\" class=\"data row12 col13\" >-0.006772</td>\n",
       "            </tr>\n",
       "            <tr>\n",
       "                        <th id=\"T_50fad_level0_row13\" class=\"row_heading level0 row13\" >is_woman</th>\n",
       "                        <td id=\"T_50fad_row13_col0\" class=\"data row13 col0\" >0.002641</td>\n",
       "                        <td id=\"T_50fad_row13_col1\" class=\"data row13 col1\" >0.002857</td>\n",
       "                        <td id=\"T_50fad_row13_col2\" class=\"data row13 col2\" >0.027544</td>\n",
       "                        <td id=\"T_50fad_row13_col3\" class=\"data row13 col3\" >-0.014733</td>\n",
       "                        <td id=\"T_50fad_row13_col4\" class=\"data row13 col4\" >-0.025742</td>\n",
       "                        <td id=\"T_50fad_row13_col5\" class=\"data row13 col5\" >0.021859</td>\n",
       "                        <td id=\"T_50fad_row13_col6\" class=\"data row13 col6\" >-0.005766</td>\n",
       "                        <td id=\"T_50fad_row13_col7\" class=\"data row13 col7\" >-0.022544</td>\n",
       "                        <td id=\"T_50fad_row13_col8\" class=\"data row13 col8\" >0.008112</td>\n",
       "                        <td id=\"T_50fad_row13_col9\" class=\"data row13 col9\" >0.106512</td>\n",
       "                        <td id=\"T_50fad_row13_col10\" class=\"data row13 col10\" >0.024628</td>\n",
       "                        <td id=\"T_50fad_row13_col11\" class=\"data row13 col11\" >-0.016889</td>\n",
       "                        <td id=\"T_50fad_row13_col12\" class=\"data row13 col12\" >-0.006772</td>\n",
       "                        <td id=\"T_50fad_row13_col13\" class=\"data row13 col13\" >1.000000</td>\n",
       "            </tr>\n",
       "    </tbody></table>"
      ],
      "text/plain": [
       "<pandas.io.formats.style.Styler at 0x7f8a2c8181f0>"
      ]
     },
     "execution_count": 18,
     "metadata": {},
     "output_type": "execute_result"
    }
   ],
   "source": [
    "#рассмотрим, есть ли зависимость переменной, характеризующей обслуживание клиента, и других переменных датасета\n",
    "\n",
    "bank_data.corr().style.background_gradient(cmap = 'Greys', vmin=-1, vmax=1)"
   ]
  },
  {
   "cell_type": "markdown",
   "id": "57ac3869",
   "metadata": {},
   "source": [
    "Нам интересно рассмотреть, есть ли среди характеристик клиента такие, которые могут повлиять на его дальнейший уход.\n",
    "\n",
    "Обозначим, что слабая связь наблюдается от 0.11 до 0.29;\n",
    "Средняя связь - 0.30-0.50\n",
    "Сильная связь - от 0.51\n",
    "\n",
    "Так можно обнаружить, что между возрастом и показателем ухода клиента есть слабая положительная связь - 0,29. Это означает, что при увеличении возраста клиента он более склонен уходить. Также видно, что слабая положительная связь возникла между показателем Ростова Великого (rostov_the_great) и показателем ухода клиента - 0.17. Так можно сказать, что если пользователь из Ростова Великого, то он более склонен уходить.\n",
    "\n",
    "Также заметим слабую отрицательную связь между активностью (loyalty) и показателем ухода клиентов (churn) - -0.16. Так можно отметить, что при уменьшении активности клиента он более склонен уходить. \n",
    "\n",
    "Остальные характеристики практически не имеют связи с показателем ухода клиента.\n",
    "\n",
    "Рассмотрим, в чем еще различаются клиенты банка."
   ]
  },
  {
   "cell_type": "code",
   "execution_count": 19,
   "id": "069c3d70",
   "metadata": {},
   "outputs": [
    {
     "data": {
      "image/png": "[encoded data removed]",
      "text/plain": [
       "<Figure size 432x288 with 1 Axes>"
      ]
     },
     "metadata": {
      "needs_background": "light"
     },
     "output_type": "display_data"
    }
   ],
   "source": [
    "sns.histplot(data = bank_data, hue = 'churn', x = 'score', stat = 'density', common_norm = False, palette = ['green', 'blue'])\n",
    "\n",
    "plt.title('Распределение кредитного рейтинга')\n",
    "plt.xlabel('кредитный рейтинг')\n",
    "plt.ylabel('количество клиентов')\n",
    "plt.legend(['клиенты', 'бывшие клиенты']);"
   ]
  },
  {
   "cell_type": "markdown",
   "id": "2881c861",
   "metadata": {},
   "source": [
    "Текущие клиенты и бывшие клиенты банка имеют примерно одинаковый кредитный рейтинг - от 600 до 700. Также наблюдается всплеск значений на максимальном кредитном рейтинге  - 850. Попробуем проверить, есть ли какие-то признаки, по которым можно определить клиента в категорию с наивысшим рейтингом. \n",
    "\n",
    "Также можно заметить, что только бывшие клиенты имеют кредитный рейтинг менее 400, для клиентов банка кредитный рейтинг имеет минимальные значение от 400. \n",
    "\n",
    "Ниже предоставлен расчет основных статистических показателей по критерию \"максимальный кредитный рейтинг\" - характеристики достаточно разнообразны и однозначной зацепки нет. Возможно в дальшейшем стоит уточнить, какая категория клиентов получает наивысший кредитный рейтинг."
   ]
  },
  {
   "cell_type": "code",
   "execution_count": 20,
   "id": "32d9dfa6",
   "metadata": {},
   "outputs": [
    {
     "data": {
      "text/html": [
       "<div>\n",
       "<style scoped>\n",
       "    .dataframe tbody tr th:only-of-type {\n",
       "        vertical-align: middle;\n",
       "    }\n",
       "\n",
       "    .dataframe tbody tr th {\n",
       "        vertical-align: top;\n",
       "    }\n",
       "\n",
       "    .dataframe thead th {\n",
       "        text-align: right;\n",
       "    }\n",
       "</style>\n",
       "<table border=\"1\" class=\"dataframe\">\n",
       "  <thead>\n",
       "    <tr style=\"text-align: right;\">\n",
       "      <th></th>\n",
       "      <th>count</th>\n",
       "      <th>mean</th>\n",
       "      <th>std</th>\n",
       "      <th>min</th>\n",
       "      <th>25%</th>\n",
       "      <th>50%</th>\n",
       "      <th>75%</th>\n",
       "      <th>max</th>\n",
       "    </tr>\n",
       "  </thead>\n",
       "  <tbody>\n",
       "    <tr>\n",
       "      <th>score</th>\n",
       "      <td>233.0</td>\n",
       "      <td>850.000000</td>\n",
       "      <td>0.000000</td>\n",
       "      <td>850.00</td>\n",
       "      <td>850.000</td>\n",
       "      <td>850.00</td>\n",
       "      <td>850.00</td>\n",
       "      <td>850.00</td>\n",
       "    </tr>\n",
       "    <tr>\n",
       "      <th>age</th>\n",
       "      <td>233.0</td>\n",
       "      <td>38.918455</td>\n",
       "      <td>10.572298</td>\n",
       "      <td>19.00</td>\n",
       "      <td>32.000</td>\n",
       "      <td>37.00</td>\n",
       "      <td>43.00</td>\n",
       "      <td>81.00</td>\n",
       "    </tr>\n",
       "    <tr>\n",
       "      <th>objects</th>\n",
       "      <td>233.0</td>\n",
       "      <td>4.819742</td>\n",
       "      <td>2.856050</td>\n",
       "      <td>0.00</td>\n",
       "      <td>2.000</td>\n",
       "      <td>5.00</td>\n",
       "      <td>7.00</td>\n",
       "      <td>10.00</td>\n",
       "    </tr>\n",
       "    <tr>\n",
       "      <th>balance</th>\n",
       "      <td>155.0</td>\n",
       "      <td>118332.422065</td>\n",
       "      <td>31392.428595</td>\n",
       "      <td>43658.33</td>\n",
       "      <td>98568.815</td>\n",
       "      <td>117640.39</td>\n",
       "      <td>137092.50</td>\n",
       "      <td>212778.20</td>\n",
       "    </tr>\n",
       "    <tr>\n",
       "      <th>products</th>\n",
       "      <td>233.0</td>\n",
       "      <td>1.515021</td>\n",
       "      <td>0.573094</td>\n",
       "      <td>1.00</td>\n",
       "      <td>1.000</td>\n",
       "      <td>1.00</td>\n",
       "      <td>2.00</td>\n",
       "      <td>4.00</td>\n",
       "    </tr>\n",
       "    <tr>\n",
       "      <th>creditcard</th>\n",
       "      <td>233.0</td>\n",
       "      <td>0.699571</td>\n",
       "      <td>0.459432</td>\n",
       "      <td>0.00</td>\n",
       "      <td>0.000</td>\n",
       "      <td>1.00</td>\n",
       "      <td>1.00</td>\n",
       "      <td>1.00</td>\n",
       "    </tr>\n",
       "    <tr>\n",
       "      <th>loyalty</th>\n",
       "      <td>233.0</td>\n",
       "      <td>0.549356</td>\n",
       "      <td>0.498629</td>\n",
       "      <td>0.00</td>\n",
       "      <td>0.000</td>\n",
       "      <td>1.00</td>\n",
       "      <td>1.00</td>\n",
       "      <td>1.00</td>\n",
       "    </tr>\n",
       "    <tr>\n",
       "      <th>estimated_salary</th>\n",
       "      <td>233.0</td>\n",
       "      <td>95919.323777</td>\n",
       "      <td>61941.677679</td>\n",
       "      <td>705.18</td>\n",
       "      <td>40313.470</td>\n",
       "      <td>92053.75</td>\n",
       "      <td>152996.89</td>\n",
       "      <td>199775.67</td>\n",
       "    </tr>\n",
       "    <tr>\n",
       "      <th>churn</th>\n",
       "      <td>233.0</td>\n",
       "      <td>0.184549</td>\n",
       "      <td>0.388767</td>\n",
       "      <td>0.00</td>\n",
       "      <td>0.000</td>\n",
       "      <td>0.00</td>\n",
       "      <td>0.00</td>\n",
       "      <td>1.00</td>\n",
       "    </tr>\n",
       "    <tr>\n",
       "      <th>rostov_the_great</th>\n",
       "      <td>233.0</td>\n",
       "      <td>0.278970</td>\n",
       "      <td>0.449458</td>\n",
       "      <td>0.00</td>\n",
       "      <td>0.000</td>\n",
       "      <td>0.00</td>\n",
       "      <td>1.00</td>\n",
       "      <td>1.00</td>\n",
       "    </tr>\n",
       "    <tr>\n",
       "      <th>rybinsk</th>\n",
       "      <td>233.0</td>\n",
       "      <td>0.231760</td>\n",
       "      <td>0.422865</td>\n",
       "      <td>0.00</td>\n",
       "      <td>0.000</td>\n",
       "      <td>0.00</td>\n",
       "      <td>0.00</td>\n",
       "      <td>1.00</td>\n",
       "    </tr>\n",
       "    <tr>\n",
       "      <th>yaroslavl</th>\n",
       "      <td>233.0</td>\n",
       "      <td>0.489270</td>\n",
       "      <td>0.500961</td>\n",
       "      <td>0.00</td>\n",
       "      <td>0.000</td>\n",
       "      <td>0.00</td>\n",
       "      <td>1.00</td>\n",
       "      <td>1.00</td>\n",
       "    </tr>\n",
       "    <tr>\n",
       "      <th>is_woman</th>\n",
       "      <td>233.0</td>\n",
       "      <td>0.467811</td>\n",
       "      <td>0.500037</td>\n",
       "      <td>0.00</td>\n",
       "      <td>0.000</td>\n",
       "      <td>0.00</td>\n",
       "      <td>1.00</td>\n",
       "      <td>1.00</td>\n",
       "    </tr>\n",
       "  </tbody>\n",
       "</table>\n",
       "</div>"
      ],
      "text/plain": [
       "                  count           mean           std       min        25%  \\\n",
       "score             233.0     850.000000      0.000000    850.00    850.000   \n",
       "age               233.0      38.918455     10.572298     19.00     32.000   \n",
       "objects           233.0       4.819742      2.856050      0.00      2.000   \n",
       "balance           155.0  118332.422065  31392.428595  43658.33  98568.815   \n",
       "products          233.0       1.515021      0.573094      1.00      1.000   \n",
       "creditcard        233.0       0.699571      0.459432      0.00      0.000   \n",
       "loyalty           233.0       0.549356      0.498629      0.00      0.000   \n",
       "estimated_salary  233.0   95919.323777  61941.677679    705.18  40313.470   \n",
       "churn             233.0       0.184549      0.388767      0.00      0.000   \n",
       "rostov_the_great  233.0       0.278970      0.449458      0.00      0.000   \n",
       "rybinsk           233.0       0.231760      0.422865      0.00      0.000   \n",
       "yaroslavl         233.0       0.489270      0.500961      0.00      0.000   \n",
       "is_woman          233.0       0.467811      0.500037      0.00      0.000   \n",
       "\n",
       "                        50%        75%        max  \n",
       "score                850.00     850.00     850.00  \n",
       "age                   37.00      43.00      81.00  \n",
       "objects                5.00       7.00      10.00  \n",
       "balance           117640.39  137092.50  212778.20  \n",
       "products               1.00       2.00       4.00  \n",
       "creditcard             1.00       1.00       1.00  \n",
       "loyalty                1.00       1.00       1.00  \n",
       "estimated_salary   92053.75  152996.89  199775.67  \n",
       "churn                  0.00       0.00       1.00  \n",
       "rostov_the_great       0.00       1.00       1.00  \n",
       "rybinsk                0.00       0.00       1.00  \n",
       "yaroslavl              0.00       1.00       1.00  \n",
       "is_woman               0.00       1.00       1.00  "
      ]
     },
     "execution_count": 20,
     "metadata": {},
     "output_type": "execute_result"
    }
   ],
   "source": [
    "#характеристика клиентов банка с наивысшим рейтингом\n",
    "\n",
    "bank_data[bank_data['score'] == 850].drop(columns = 'userid').describe().T"
   ]
  },
  {
   "cell_type": "code",
   "execution_count": 21,
   "id": "4a36c5ca",
   "metadata": {},
   "outputs": [
    {
     "data": {
      "image/png": "[encoded data removed]",
      "text/plain": [
       "<Figure size 432x288 with 1 Axes>"
      ]
     },
     "metadata": {
      "needs_background": "light"
     },
     "output_type": "display_data"
    }
   ],
   "source": [
    "sns.histplot(data = bank_data, hue = 'churn', x = 'age', stat = 'density', common_norm = False, palette = ['green', 'blue'])\n",
    "\n",
    "plt.title('Распределение возраста')\n",
    "plt.xlabel('возраст')\n",
    "plt.ylabel('количество клиентов')\n",
    "plt.legend(['бывшие клиенты', 'клиенты']);"
   ]
  },
  {
   "cell_type": "markdown",
   "id": "613368f3",
   "metadata": {},
   "source": [
    "Как мы выяснили ранее, возраст является фактором, который влияет на уход человека из банка. Так, на графике видно, что большинство клиентов, которые ушли из банка, имеют возраст от 40 до 50. При этом текущие клиенты банка имеют возраст от 30 до 40 лет.\n",
    "\n",
    "Есть предположение, что банк имеет отличные условия для клиентов от 30 до 40 (переход от \"молодежного\" банка до более взрослого), и имеет меньшие преимущества перед людьми в возрасте от 40 до 50 и далее (есть клиенты возраста примерно 55 лет, где распределение бывших клиентов превышает количество клиентов).\n",
    "\n",
    "В качестве рекомендации можно посоветовать обратить внимание на целевой возраст клиентов банка. Банк может ориентироваться на клиентов до 45 лет, предлагая специальные условия под интересы молодых людей. Поэтому для такого банка наличие клиентов, которые уходят в возрасте от 40 до 50 лет, это вполне нормальные условия. Но так как основной целью данного проекта является уменьшение оттока, то есть 2 рекомендации:\n",
    "\n",
    "1. Сохранение позиционирования банка: если банк хочет продолжать предлагать лучшие условия для молодой части клиентов (до 40 лет), необходимо провести исследования с теми клиентами, кто ушел и чей возраст до 40 лет - это 597 клиентов (29% от всех бывших клиентов или 6% от всех данных). \n",
    "\n",
    "2. Дополнение позиционирования банка: банк начинает исследовать категорию пользователей от 40 до 50 - какие продукты были бы интересны этим клиентам. В эту категорию входят еще 35% клиентов (или 7% от всех клиентов), которые ушли.  "
   ]
  },
  {
   "cell_type": "code",
   "execution_count": 22,
   "id": "30029460",
   "metadata": {},
   "outputs": [
    {
     "data": {
      "text/plain": [
       "0.2930780559646539"
      ]
     },
     "execution_count": 22,
     "metadata": {},
     "output_type": "execute_result"
    }
   ],
   "source": [
    "#доля ушедших до 40 лет\n",
    "\n",
    "len(bank_exclients[bank_exclients['age'] < 40]) / len(bank_exclients)"
   ]
  },
  {
   "cell_type": "code",
   "execution_count": 23,
   "id": "14e7730f",
   "metadata": {},
   "outputs": [
    {
     "data": {
      "text/plain": [
       "0.35198821796759944"
      ]
     },
     "execution_count": 23,
     "metadata": {},
     "output_type": "execute_result"
    }
   ],
   "source": [
    "#доля ушедших от 40 до 50 лет\n",
    "\n",
    "len(bank_exclients[(bank_exclients['age'] > 40) & (bank_exclients['age'] < 50)])/ len(bank_exclients)"
   ]
  },
  {
   "cell_type": "code",
   "execution_count": 24,
   "id": "de87630f",
   "metadata": {},
   "outputs": [
    {
     "data": {
      "image/png": "[encoded data removed]",
      "text/plain": [
       "<Figure size 432x288 with 1 Axes>"
      ]
     },
     "metadata": {
      "needs_background": "light"
     },
     "output_type": "display_data"
    }
   ],
   "source": [
    "sns.histplot(data = bank_data, hue = 'churn', x = 'objects', stat = 'density', common_norm = False, palette = ['blue', 'green'])\n",
    "\n",
    "plt.title('Распределение количества объектов')\n",
    "plt.xlabel('количество объектов')\n",
    "plt.ylabel('количество клиентов')\n",
    "plt.legend(['клиенты', 'бывшие клиенты']);"
   ]
  },
  {
   "cell_type": "markdown",
   "id": "58772f12",
   "metadata": {},
   "source": [
    "Текущие и бывшие клиенты банка имеют достаточно стабильную динамику по количеству объектов в собственности: от 1 до 9 объектов клиенты имеют практически одинаковое распределение: примерно по 800 клиентов среди текущих клиентов и примерно по 200 клиентов среди бывших клиентов. Однако наблюдается пик в точке 10 объектов собственности как для текущих клиентов, так и ушедших клиентов."
   ]
  },
  {
   "cell_type": "code",
   "execution_count": 25,
   "id": "297ae4e2",
   "metadata": {},
   "outputs": [
    {
     "data": {
      "image/png": "[encoded data removed]",
      "text/plain": [
       "<Figure size 432x288 with 1 Axes>"
      ]
     },
     "metadata": {
      "needs_background": "light"
     },
     "output_type": "display_data"
    }
   ],
   "source": [
    "sns.histplot(data = bank_data, hue = 'churn', x = 'balance', stat = 'density', common_norm = False, palette = ['blue', 'green'])\n",
    "\n",
    "plt.title('Распределение баланса на счетах')\n",
    "plt.xlabel('сумма')\n",
    "plt.ylabel('количество клиентов')\n",
    "plt.legend(['клиенты', 'бывшие клиенты']);"
   ]
  },
  {
   "cell_type": "markdown",
   "id": "1d42182d",
   "metadata": {},
   "source": [
    "Баланс на счетах текущих и бывших клиентов банка совпадает по динамике. Так, большинство клиентов имеют баланс в размере от 100 000 до 150 000."
   ]
  },
  {
   "cell_type": "code",
   "execution_count": 26,
   "id": "e1d15d00",
   "metadata": {},
   "outputs": [
    {
     "data": {
      "image/png": "[encoded data removed]",
      "text/plain": [
       "<Figure size 432x288 with 1 Axes>"
      ]
     },
     "metadata": {
      "needs_background": "light"
     },
     "output_type": "display_data"
    }
   ],
   "source": [
    "sns.histplot(data = bank_data, hue = 'churn', x = 'products', stat = 'density', common_norm = False, palette = ['green', 'blue'])\n",
    "\n",
    "plt.title('Распределение количества продуктов банка')\n",
    "plt.xlabel('продукты')\n",
    "plt.ylabel('количество клиентов')\n",
    "plt.legend(['бывшие клиенты', 'клиенты']);"
   ]
  },
  {
   "cell_type": "markdown",
   "id": "8b1c5b33",
   "metadata": {},
   "source": [
    "Большинство текущих клиентов банка имеют 1 или 2 продукта банка, в основном - 2. Для бывших клиентов динамика отрицательная - в основном 1 продукт, намного меньше 2 и тд."
   ]
  },
  {
   "cell_type": "code",
   "execution_count": 27,
   "id": "e1266f84",
   "metadata": {},
   "outputs": [
    {
     "data": {
      "image/png": "[encoded data removed]",
      "text/plain": [
       "<Figure size 432x288 with 1 Axes>"
      ]
     },
     "metadata": {
      "needs_background": "light"
     },
     "output_type": "display_data"
    }
   ],
   "source": [
    "sns.histplot(data = bank_data, hue = 'churn', x = 'estimated_salary', stat = 'density', common_norm = False, palette = ['blue', 'green'])\n",
    "\n",
    "plt.title('Распределение заработной платы')\n",
    "plt.xlabel('сумма')\n",
    "plt.ylabel('количество клиентов')\n",
    "plt.legend(['клиенты', 'бывшие клиенты']);"
   ]
  },
  {
   "cell_type": "markdown",
   "id": "2da3b429",
   "metadata": {},
   "source": [
    "Распределение заработной платы среди текущих и бывших клиентов банка практически равномерное, одинаковое количество клиентов имеют зарплату от 0 до 200 000.\n"
   ]
  },
  {
   "cell_type": "code",
   "execution_count": 28,
   "id": "4eb87ce9",
   "metadata": {},
   "outputs": [
    {
     "data": {
      "text/html": [
       "<div>\n",
       "<style scoped>\n",
       "    .dataframe tbody tr th:only-of-type {\n",
       "        vertical-align: middle;\n",
       "    }\n",
       "\n",
       "    .dataframe tbody tr th {\n",
       "        vertical-align: top;\n",
       "    }\n",
       "\n",
       "    .dataframe thead th {\n",
       "        text-align: right;\n",
       "    }\n",
       "</style>\n",
       "<table border=\"1\" class=\"dataframe\">\n",
       "  <thead>\n",
       "    <tr style=\"text-align: right;\">\n",
       "      <th>loyalty</th>\n",
       "      <th>unactive</th>\n",
       "      <th>active</th>\n",
       "    </tr>\n",
       "  </thead>\n",
       "  <tbody>\n",
       "    <tr>\n",
       "      <th>clients_%</th>\n",
       "      <td>0.445435</td>\n",
       "      <td>0.554565</td>\n",
       "    </tr>\n",
       "    <tr>\n",
       "      <th>exclients_%</th>\n",
       "      <td>0.639175</td>\n",
       "      <td>0.360825</td>\n",
       "    </tr>\n",
       "  </tbody>\n",
       "</table>\n",
       "</div>"
      ],
      "text/plain": [
       "loyalty      unactive    active\n",
       "clients_%    0.445435  0.554565\n",
       "exclients_%  0.639175  0.360825"
      ]
     },
     "execution_count": 28,
     "metadata": {},
     "output_type": "execute_result"
    }
   ],
   "source": [
    "#посмотрим, как меняется активность клиентов среди тех, кто остается в банке и тех, кто ушел\n",
    "\n",
    "#создадим датафрейм, в котором будет хранится информация о количестве активных и неактивных клиентов \n",
    "#в разбивке на текущих и ушедших клиентов\n",
    "bank_clients_loyalty = pd.DataFrame(bank_clients.groupby('loyalty')['userid'].count())\n",
    "\n",
    "bank_clients_loyalty['exclients'] = pd.DataFrame(bank_exclients.groupby('loyalty')['userid'].count())\n",
    "\n",
    "bank_clients_loyalty = bank_clients_loyalty.rename(columns = {'userid': 'clients'}, index = {0: 'unactive', 1:'active'} )\n",
    "\n",
    "bank_clients_loyalty['clients_%'] =  bank_clients_loyalty['clients'] / bank_clients_loyalty['clients'].sum()\n",
    "\n",
    "bank_clients_loyalty['exclients_%'] =  bank_clients_loyalty['exclients'] / bank_clients_loyalty['exclients'].sum()\n",
    "\n",
    "bank_clients_loyalty = bank_clients_loyalty.T.drop(index = ['clients', 'exclients'])\n",
    "\n",
    "bank_clients_loyalty\n"
   ]
  },
  {
   "cell_type": "code",
   "execution_count": 29,
   "id": "f6d34094",
   "metadata": {},
   "outputs": [
    {
     "data": {
      "image/png": "[encoded data removed]",
      "text/plain": [
       "<Figure size 432x288 with 1 Axes>"
      ]
     },
     "metadata": {
      "needs_background": "light"
     },
     "output_type": "display_data"
    }
   ],
   "source": [
    "#визуализируем % активных и неактивных клиентов банка среди текущих клиентов и тех, кто ушел\n",
    "\n",
    "plt.bar(bank_clients_loyalty.index.tolist(), bank_clients_loyalty['unactive'], color = 'salmon')\n",
    "\n",
    "plt.bar(bank_clients_loyalty.index.tolist(), bank_clients_loyalty['active'], bottom = bank_clients_loyalty['unactive'], color = '#8ebe86')\n",
    "\n",
    "plt.title('Активные/неактивные клиенты')\n",
    "plt.legend(['неактивные клиенты', 'активные клиенты'])\n",
    "plt.xticks(ticks = [0,1], rotation=0, labels = ['Текущие клиенты', 'Ушедшие клиенты'] );"
   ]
  },
  {
   "cell_type": "markdown",
   "id": "dd8051f3",
   "metadata": {},
   "source": [
    "На графике видно, что среди тех, кто остается в банке % активности выше - примерно 55%.\n",
    "При этом среди тех, кто ушел % активности снизился на 10%.\n",
    "\n",
    "Так как этот фактор имеет слабую зависимость с уходом клиента, необходимо повышать активность клиентов в банке до уровня текущих клиентов. "
   ]
  },
  {
   "cell_type": "code",
   "execution_count": 30,
   "id": "c48110a2",
   "metadata": {},
   "outputs": [
    {
     "data": {
      "image/png": "[encoded data removed]",
      "text/plain": [
       "<Figure size 432x288 with 1 Axes>"
      ]
     },
     "metadata": {
      "needs_background": "light"
     },
     "output_type": "display_data"
    }
   ],
   "source": [
    "#построим распределение по городам в разбивке на текущих клиентов и бывших клиентов\n",
    "columns = ['rostov_the_great', 'rybinsk', 'yaroslavl']\n",
    "\n",
    "cities_of_client_and_excliens = pd.DataFrame(bank_clients[columns].sum())\n",
    "\n",
    "cities_of_client_and_excliens = cities_of_client_and_excliens.rename(columns = {0: 'clients'})\n",
    "\n",
    "cities_of_client_and_excliens['exclients'] = pd.DataFrame(bank_exclients[columns].sum())\n",
    "\n",
    "cities_of_client_and_excliens.plot(kind = 'bar', color = ['#8ebe86', '#435ebb'])\n",
    "\n",
    "plt.title('Распределение по городам')\n",
    "plt.legend(['клиенты', 'бывшие клиенты'])\n",
    "plt.xticks(ticks = [0,1,2], rotation=0, labels = ['Ростов Великий', 'Рыбинск', 'Ярославль'] );"
   ]
  },
  {
   "cell_type": "markdown",
   "id": "b606d1c0",
   "metadata": {},
   "source": [
    "В основном клиенты банка из Ярославля - более 4000 клиентов, затем клиенты из Рыбинска и Ростова Великово. Достаточно высокая доля клиентов, которые ушли, из Ростова Великово.\n",
    "\n",
    "Ранее мы обнаружили связь между переменной города Ростов Великий и показателем того, собирается ли уйти клиент. Поэтому в качетсве рекомендаций можно предложить:\n",
    "    \n",
    "1. Изучить пользователей из Ростова Великово с точки зрения поиска моментов, за счет чего клиенты уходят (исследовать жалобы, провести кастдев). Гипотетически можно вернуть до 814 пользователей или 39% клиентов, которые ушли (или 8% от всех клиентов).\n",
    "\n",
    "2. Рассмотреть целесообразность наличия клиентов из Ростова Великого. Возможно работа с данными клиентами забирает ресурсы, которые возможно перераспределить на клиентов из городов Рыбинск и Ярославль. Потеря данных клиентов приведет к уменьшению 19% текущих клиентов.  "
   ]
  },
  {
   "cell_type": "code",
   "execution_count": 31,
   "id": "f1f7e925",
   "metadata": {},
   "outputs": [
    {
     "data": {
      "text/plain": [
       "0.39960726558664705"
      ]
     },
     "execution_count": 31,
     "metadata": {},
     "output_type": "execute_result"
    }
   ],
   "source": [
    "#доля ушедших клиентов из Ростова Великого\n",
    "\n",
    "len(bank_exclients[bank_exclients['rostov_the_great'] == 1])/len(bank_exclients)"
   ]
  },
  {
   "cell_type": "code",
   "execution_count": 32,
   "id": "ab556390",
   "metadata": {},
   "outputs": [
    {
     "data": {
      "image/png": "[encoded data removed]",
      "text/plain": [
       "<Figure size 432x288 with 1 Axes>"
      ]
     },
     "metadata": {
      "needs_background": "light"
     },
     "output_type": "display_data"
    }
   ],
   "source": [
    "#построим распределение по полу в разбивке на текущих клиентов и бывших клиентов\n",
    "\n",
    "gender_of_client_and_exclients = [[bank_clients['is_woman'].sum(), bank_exclients['is_woman'].sum()], \n",
    "                                  [bank_clients['is_woman'].count() - bank_clients['is_woman'].sum(), bank_exclients['is_woman'].count() - bank_exclients['is_woman'].sum()]]\n",
    "\n",
    "gender_of_client_and_exclients = pd.DataFrame(gender_of_client_and_exclients, columns = ['client', 'exclient'], index = ['women', 'men']).reset_index()\n",
    "\n",
    "gender_of_client_and_exclients.plot( kind = 'bar', color = ['#8ebe86', '#435ebb'])\n",
    "\n",
    "plt.title('Распределение по полу')\n",
    "plt.legend(['клиенты', 'бывшие клиенты'])\n",
    "plt.xticks(ticks = [0,1], rotation=0, labels = ['Женщины', 'Мужчины']);"
   ]
  },
  {
   "cell_type": "markdown",
   "id": "e052b8f1",
   "metadata": {},
   "source": [
    "Большинство текущих клиентов - мужчины (более 4 тыс клиентов против 3,5 тыс клиентов), но при этом чаще уходят из банка женщины (1000 клиентов против около 800 клиентов)"
   ]
  },
  {
   "cell_type": "markdown",
   "id": "7f89f1ea",
   "metadata": {},
   "source": [
    "### Выводы\n",
    "\n",
    "В данный момент в банке обслуживает 7 963 клиента или 80% датасета. Соответственно, перестали обслуживаться 2 037 клиентов или 20% датасета\n",
    "\n",
    "Мы построили матрицу корреляции по характеристикам клиентов банка. Обозначим, что слабая связь наблюдается от 0.11 до 0.29; Средняя связь - 0.30-0.50 Сильная связь - от 0.51\n",
    "\n",
    "Так можно обнаружить, что между возрастом и показателем ухода клиента есть слабая положительная связь - 0,29. Это означает, что при увеличении возраста клиента он более склонен уходить. Также видно, что слабая положительная связь возникла между показателем Ростова Великого (rostov_the_great) и показателем ухода клиента - 0.17. Так можно сказать, что если пользователь из Ростова Великого, то он более склонен уходить.\n",
    "\n",
    "Также заметим слабую отрицательную связь между активностью (loyalty) и показателем ухода клиентов (churn) - -0.16. Так можно отметить, что при уменьшении активности клиента он более склонен уходить.\n",
    "\n",
    "Остальные характеристики практически не имеют связи с показателем ухода клиента.\n",
    "\n",
    "Среди характеристик можно выделить:\n",
    "\n",
    "**Кредитный рейтинг**\n",
    "\n",
    "Текущие клиенты и бывшие клиенты банка имеют примерно одинаковый кредитный рейтинг - от 600 до 700. Также наблюдается всплеск значений на максимальном кредитном рейтинге - 850. Попробуем проверить, есть ли какие-то признаки, по которым можно определить клиента в категорию с наивысшим рейтингом.\n",
    "\n",
    "Также можно заметить, что только бывшие клиенты имеют кредитный рейтинг менее 400, для клиентов банка кредитный рейтинг имеет минимальные значение от 400.\n",
    "\n",
    "Ниже предоставлен расчет основных статистических показателей по критерию \"максимальный кредитный рейтинг\" - характеристики достаточно разнообразны и однозначной зацепки нет. Возможно в дальшейшем стоит уточнить, какая категория клиентов получает наивысший кредитный рейтинг.\n",
    "\n",
    "**Возраст**\n",
    "\n",
    "Как мы выяснили ранее, возраст является фактором, который влияет на уход человека из банка. Так, на графике видно, что большинство клиентов, которые ушли из банка, имеют возраст от 40 до 50. При этом текущие клиенты банка имеют возраст от 30 до 40 лет.\n",
    "\n",
    "Есть предположение, что банк имеет отличные условия для клиентов от 30 до 40 (переход от \"молодежного\" банка до более взрослого), и имеет меньшие преимущества перед людьми в возрасте от 40 до 50 и далее (есть клиенты возраста примерно 55 лет, где распределение бывших клиентов превышает количество клиентов).\n",
    "\n",
    "**Количество объектов в собственности**\n",
    "\n",
    "Текущие и бывшие клиенты банка имеют достаточно стабильную динамику по количеству объектов в собственности: от 1 до 9 объектов клиенты имеют практически одинаковое распределение: примерно по 800 клиентов среди текущих клиентов и примерно по 200 клиентов среди бывших клиентов. Только в крайних точках есть слегка понижение количества клиентов.\n",
    "\n",
    "**Баланс на счете**\n",
    "\n",
    "Баланс на счетах текущих и бывших клиентов банка совпадает по динамике. Так, большинство клиентов имеют баланс в размере от 100 000 до 150 000.\n",
    "\n",
    "**Количество продуктов банка**\n",
    "\n",
    "Большинство текущих клиентов банка имеют 1 или 2 продукта банка, в основном - 2. Для бывших клиентов динамика отрицательная - в основном 1 продукт, намного меньше 2 и тд.\n",
    "\n",
    "**Активность**\n",
    "\n",
    "На графике видно, что среди тех, кто остается в банке % активности выше - примерно 55%.\n",
    "При этом среди тех, кто ушел % активности снизился на 10%.\n",
    "\n",
    "Так как этот фактор имеет слабую зависимость с уходом клиента, необходимо повышать активность клиентов в банке до уровня текущих клиентов. \n",
    "\n",
    "**Заработная плата**\n",
    "\n",
    "Распределение заработной платы среди текущих и бывших клиентов банка практически равномерное, одинаковое количество клиентов имеют зарплату от 0 до 200 000.\n",
    "\n",
    "**Город**\n",
    "\n",
    "В основном клиенты банка из Ярославля - более 4000 клиентов, затем клиенты из Рыбинска и Ростова Великово. Достаточно высокая доля клиентов, которые ушли, из Ростова Великово.\n",
    "\n",
    "Ранее мы обнаружили связь между переменной города Ростов Великий и показателем того, собирается ли уйти клиент. Поэтому в качетсве рекомендаций можно предложить:\n",
    "\n",
    "\n",
    "\n",
    "**Пол**\n",
    "\n",
    "Большинство текущих клиентов - мужчины (более 4 тыс клиентов против 3,5 тыс клиентов), но при этом чаще уходят из банка женщины (1000 клиентов против около 800 клиентов)\n",
    "\n",
    "**Портреты клиентов**\n",
    "\n",
    "Таким образом, портреты текущих клиентов и бывших клиентов банка (на основании медианных значений). Курсивом выделены характеристики, изменение которых может повлиять на уход клиента из банка.\n",
    "\n",
    "|**Характеристика**   |**Текущий клиент**   |**Ушедший клиент**  |\n",
    "|:-------------:|:--------------:|:--------------:|\n",
    "|Пол| Мужчина | Женщина|\n",
    "|_Возраст_| _35 лет_ | _45 лет_ |\n",
    "|_Город_| _Ярославль_ | _Ростов Великий_ |\n",
    "|Кредитный рейтинг | от 600 до 700 | от 600 до 700 |\n",
    "|Количество объектов в собственности| 5 | 5 |\n",
    "|Активность| + | - |\n",
    "|Баланс на счете| 120 тыс | 121 тыс. |\n",
    "|Количество продуктов| 2 | 1 |\n",
    "|Заработная плата| 100 тыс. | 102 тыс. |\n",
    "\n",
    "**Рекомендации**\n",
    "\n",
    "*Возраст*\n",
    "\n",
    "В качестве рекомендации можно посоветовать обратить внимание на целевой возраст клиентов банка. Банк может ориентироваться на клиентов до 45 лет, предлагая специальные условия под интересы молодых людей. Поэтому для такого банка наличие клиентов, которые уходят в возрасте от 40 до 50 лет, это вполне нормальные условия. Но так как основной целью данного проекта является уменьшение оттока, то есть 2 рекомендации:\n",
    "\n",
    "* Сохранение позиционирования банка: если банк хочет продолжать предлагать лучшие условия для молодой части клиентов (до 40 лет), необходимо провести исследования с теми клиентами, кто ушел и чей возраст до 40 лет - это 597 клиентов (29% от всех бывших клиентов или 6% от всех данных).\n",
    "\n",
    "* Дополнение позиционирования банка: банк начинает исследовать категорию пользователей от 40 до 50 - какие продукты были бы интересны этим клиентам. В эту категорию входят еще 35% клиентов (или 7% от всех клиентов), которые ушли.\n",
    "\n",
    "*Город*\n",
    "\n",
    "* Изучить пользователей из Ростова Великого с точки зрения поиска моментов, за счет чего клиенты уходят (исследовать жалобы, провести кастдев). Гипотетически можно вернуть до 814 пользователей или 39% клиентов, которые ушли (или 8% от всех клиентов).\n",
    "\n",
    "* Рассмотреть целесообразность наличия клиентов из Ростова Великого. Возможно работа с данными клиентами забирает ресурсы, которые возможно перераспределить на клиентов из городов Рыбинск и Ярославль. Потеря данных клиентов приведет к уменьшению 19% текущих клиентов.\n",
    "\n",
    "*Активность*\n",
    "\n",
    "Так как этот фактор имеет слабую зависимость с уходом клиента, необходимо повышать активность клиентов в банке до уровня текущих клиентов. "
   ]
  },
  {
   "cell_type": "markdown",
   "id": "c574ada1",
   "metadata": {},
   "source": [
    "[Вернуться наверх](#back)"
   ]
  },
  {
   "cell_type": "markdown",
   "id": "6ea8435d",
   "metadata": {},
   "source": [
    "<a id='solution_3'></a>"
   ]
  },
  {
   "cell_type": "markdown",
   "id": "e4530f21",
   "metadata": {},
   "source": [
    "### Шаг 3 Проверка статистических гипотез"
   ]
  },
  {
   "cell_type": "markdown",
   "id": "9cbde1ab",
   "metadata": {},
   "source": [
    "**Проверка гипотезы: Средний доход между теми клиентами, которые ушли и теми, которые остались, различается;**\n",
    "\n",
    "Для проверки гипотезы будем использовать специальный метод для проверки гипотезы о равенстве среднего двух генеральных совокупностей по взятым из них выборкам: t-тест Уэлча. Для проверки гипотез был выбран t-тест Уэлча как модификация Т-критерия Стьюдента, поскольку он используется для проверки равенства средних значений у независимых выборок.\n",
    "\n",
    "H_0: Средний доход (estimated_salary) текущих клиентов банка = средний доход (estimated_salary) ушедших клиентов; \\\n",
    "H_a: Средний доход (estimated_salary) текущих клиентов банка ≠ средний доход (estimated_salary) ушедших клиентов.\n",
    "\n",
    "Уровень существенности установим: alpha = 0.05"
   ]
  },
  {
   "cell_type": "code",
   "execution_count": 33,
   "id": "a4d2a237",
   "metadata": {},
   "outputs": [
    {
     "name": "stdout",
     "output_type": "stream",
     "text": [
      "0.22892461305145798\n",
      "Не получилось отвергнуть нулевую гипотезу\n"
     ]
    }
   ],
   "source": [
    "# alpha\n",
    "alpha =0.05\n",
    "\n",
    "# results = вызов метода для проверки гипотезы\n",
    "results = st.ttest_ind(\n",
    "    bank_data[bank_data['churn'] == 0]['estimated_salary'], \n",
    "    bank_data[bank_data['churn'] != 0]['estimated_salary'], equal_var = False)\n",
    "\n",
    "print(results.pvalue) # вывод значения p-value на экран \n",
    "\n",
    "# условный оператор с выводом строки с ответом\n",
    "if results.pvalue < alpha: \n",
    "    print(\"Отвергаем нулевую гипотезу\")\n",
    "else:\n",
    "    print(\"Не получилось отвергнуть нулевую гипотезу\")"
   ]
  },
  {
   "cell_type": "markdown",
   "id": "c0fd9e65",
   "metadata": {},
   "source": [
    "Таким образом, средний доход текущих клиентов банка равен среднему доходу ушедших клиентов;"
   ]
  },
  {
   "cell_type": "markdown",
   "id": "283a8fe4",
   "metadata": {},
   "source": [
    "**Проверка гипотезы: Средний возраст между теми клиентами, которые ушли и теми, которые остались, различается;**\n",
    "\n",
    "Для проверки гипотезы будем использовать специальный метод для проверки гипотезы о равенстве среднего двух генеральных совокупностей по взятым из них выборкам: t-тест Уэлча\n",
    "\n",
    "H_0: Средний возраст (age) текущих клиентов банка = средний возраст (age) ушедших клиентов; \\\n",
    "H_a: Средний возраст (age) текущих клиентов банка ≠ средний возраст (age) ушедших клиентов;\n",
    "\n",
    "Уровень существенности установим: alpha = 0.05"
   ]
  },
  {
   "cell_type": "code",
   "execution_count": 34,
   "id": "e778e2d0",
   "metadata": {},
   "outputs": [
    {
     "name": "stdout",
     "output_type": "stream",
     "text": [
      "4.7127272656641046e-179\n",
      "Отвергаем нулевую гипотезу\n"
     ]
    }
   ],
   "source": [
    "# alpha\n",
    "alpha =0.05\n",
    "\n",
    "# results = вызов метода для проверки гипотезы\n",
    "results = st.ttest_ind(\n",
    "    bank_data[bank_data['churn'] == 0]['age'], \n",
    "    bank_data[bank_data['churn'] != 0]['age'], equal_var = False)\n",
    "\n",
    "print(results.pvalue) # вывод значения p-value на экран \n",
    "\n",
    "# условный оператор с выводом строки с ответом\n",
    "if results.pvalue < alpha: \n",
    "    print(\"Отвергаем нулевую гипотезу\")\n",
    "else:\n",
    "    print(\"Не получилось отвергнуть нулевую гипотезу\")"
   ]
  },
  {
   "cell_type": "markdown",
   "id": "6e940c32",
   "metadata": {},
   "source": [
    "Таким образом, средний возраст текущих клиентов банка не равен среднему возрасту ушедших клиентов;"
   ]
  },
  {
   "cell_type": "markdown",
   "id": "3c53cf5e",
   "metadata": {},
   "source": [
    "**Проверка гипотезы: Средний балл кредитного скоринга между теми клиентами, которые ушли и теми, которые остались, различается;**\n",
    "\n",
    "Для проверки гипотезы будем использовать специальный метод для проверки гипотезы о равенстве среднего двух генеральных совокупностей по взятым из них выборкам: t-тест Уэлча\n",
    "\n",
    "H_0: Средний балл кредитного скоринга (score) текущих клиентов банка = средний кредитного скоринга (score) ушедших клиентов; \\\n",
    "H_a: Средний балл кредитного скоринга (score) текущих клиентов банка ≠ средний балл кредитного скоринга (score) ушедших клиентов;\n",
    "\n",
    "Уровень существенности установим: alpha = 0.05"
   ]
  },
  {
   "cell_type": "code",
   "execution_count": 35,
   "id": "69cb74f8",
   "metadata": {},
   "outputs": [
    {
     "name": "stdout",
     "output_type": "stream",
     "text": [
      "0.008464728991832862\n",
      "Отвергаем нулевую гипотезу\n"
     ]
    }
   ],
   "source": [
    "# alpha\n",
    "alpha =0.05\n",
    "\n",
    "# results = вызов метода для проверки гипотезы\n",
    "results = st.ttest_ind(\n",
    "    bank_data[bank_data['churn'] == 0]['score'], \n",
    "    bank_data[bank_data['churn'] != 0]['score'], equal_var = False)\n",
    "\n",
    "print(results.pvalue) # вывод значения p-value на экран \n",
    "\n",
    "# условный оператор с выводом строки с ответом\n",
    "if results.pvalue < alpha: \n",
    "    print(\"Отвергаем нулевую гипотезу\")\n",
    "else:\n",
    "    print(\"Не получилось отвергнуть нулевую гипотезу\")"
   ]
  },
  {
   "cell_type": "markdown",
   "id": "6235d0e7",
   "metadata": {},
   "source": [
    "Несмотря на то, что средний балл кредитного скоринга, рассчитанный с помощью медианы, у текущих клиентов банка и тех, кто ушел, одинаковый, есть статистическое различие между ними, и средний балл кредитного скоринга текущих клиентов банка не равен среднему баллу кредитного скоринга ушедших клиентов; "
   ]
  },
  {
   "cell_type": "markdown",
   "id": "ab7d4af9",
   "metadata": {},
   "source": [
    "**Проверка гипотезы: Среднее количество продуктов, которые имеют клиенты из Ярославля, отличается от количества продуктов, которые имеют клиенты из других регионов**\n",
    "\n",
    "Для проверки гипотезы будем использовать специальный метод для проверки гипотезы о равенстве среднего двух генеральных совокупностей по взятым из них выборкам: t-тест Уэлча\n",
    "\n",
    "H_0: Среднее количество продуктов, которые имеют клиенты из Ярославля (products) = cреднее количество продуктов, которые имеют клиенты из других регионов (products); \\\n",
    "H_a: Среднее количество продуктов, которые имеют клиенты из Ярославля (products) ≠ cреднее количество продуктов, которые имеют клиенты из других регионов (products);\n",
    "\n",
    "Уровень существенности установим: alpha = 0.05"
   ]
  },
  {
   "cell_type": "code",
   "execution_count": 36,
   "id": "7b42e565",
   "metadata": {},
   "outputs": [
    {
     "name": "stdout",
     "output_type": "stream",
     "text": [
      "0.9021238446942643\n",
      "Не получилось отвергнуть нулевую гипотезу\n"
     ]
    }
   ],
   "source": [
    "# alpha\n",
    "alpha =0.05\n",
    "\n",
    "# results = вызов метода для проверки гипотезы\n",
    "results = st.ttest_ind(\n",
    "    bank_data[bank_data['yaroslavl'] == 1]['products'], \n",
    "    bank_data[bank_data['yaroslavl'] != 1]['products'], equal_var = False)\n",
    "\n",
    "print(results.pvalue) # вывод значения p-value на экран \n",
    "\n",
    "# условный оператор с выводом строки с ответом\n",
    "if results.pvalue < alpha: \n",
    "    print(\"Отвергаем нулевую гипотезу\")\n",
    "else:\n",
    "    print(\"Не получилось отвергнуть нулевую гипотезу\")"
   ]
  },
  {
   "cell_type": "markdown",
   "id": "9abe2f38",
   "metadata": {},
   "source": [
    "Таким образом, среднее количество продуктов, которые имеют клиенты из Ярославля равно cреднему количеству продуктов, которые имеют клиенты из других регионов;"
   ]
  },
  {
   "cell_type": "markdown",
   "id": "0df1fe70",
   "metadata": {},
   "source": [
    "### Выводы\n",
    "\n",
    "Используя t-тест Уэлча и уровень значимости 0.05, мы имеем:\n",
    "\n",
    "* Средний доход текущих клиентов банка равен среднему доходу ушедших клиентов;\n",
    "\n",
    "* Средний возраст текущих клиентов банка не равен среднему возрасту ушедших клиентов;\n",
    "\n",
    "* Несмотря на то, что средний балл кредитного скоринга, рассчитанный с помощью медианы, у текущих клиентов банка и тех, кто ушел, одинаковый, есть статистическое различие между ними, и средний балл кредитного скоринга текущих клиентов банка не равен среднему баллу кредитного скоринга ушедших клиентов;\n",
    "\n",
    "* Среднее количество продуктов, которые имеют клиенты из Ярославля равно cреднему количеству продуктов, которые имеют клиенты из других регионов;"
   ]
  },
  {
   "cell_type": "markdown",
   "id": "e0718ba8",
   "metadata": {},
   "source": [
    "[Вернуться наверх](#back)"
   ]
  },
  {
   "cell_type": "markdown",
   "id": "445b472a",
   "metadata": {},
   "source": [
    "<a id='conclusion'></a>"
   ]
  },
  {
   "cell_type": "markdown",
   "id": "57b21afd",
   "metadata": {},
   "source": [
    "## Общий вывод\n",
    "\n",
    "На **шаге 1** была выполнена предобработка данных. \n",
    "\n",
    "Исходный датасет содержит 10000 строк и 12 столбцов с характеристиками пользователей банка:\n",
    "\n",
    "идентификатор клиента \\\n",
    "балл кредитного скоринга, \\\n",
    "город, \\\n",
    "пол, \\\n",
    "возраст, \\\n",
    "количество объектов в собственности, \\\n",
    "баланс на счёте, \\\n",
    "количество продуктов банка, которыми пользуется клиент, \\\n",
    "наличие кредитной карты, \\\n",
    "активность клиента, \\\n",
    "заработная плата клиентов, \\\n",
    "показатель, ушел клиент или остался \\\n",
    "\n",
    "Всего целочисленных значений в столбцах - 8, значений с плавающей точкой 2 и строки - 2.\n",
    "\n",
    "Привели исходный датасет в удобный формат для дальнейшего анализа:\n",
    "\n",
    "1. Явные дубликаты отсуствуют, неявные дубликаты, которые могут содержатся в столбцах с идентификатором клиентов, городом и полом также отсутствуют.\n",
    "\n",
    "\n",
    "2. В целом аномальных значений не обнаружено:\n",
    "\n",
    "    - Клиенты получают кредитный рейтинг от 350 до 850 очков, в среднем 651;\n",
    "    \n",
    "    - Возраст клиентов находится в пределах от 18 до 92 лет, а среднем - 39 лет;\n",
    "    \n",
    "    - Количество объектов в собственности - от 0 до 10, в среднем 5;\n",
    "    \n",
    "    - Баланс лежит от 3 768 до 250 898, в среднем баланс составляет 119 827;\n",
    "\n",
    "    - Клиенты имеют от 1 до 4 продуктов банка, в среднем - 2 продукта;\n",
    "\n",
    "    - В среднем у клиента есть кредитная карта;\n",
    "\n",
    "    - В среднем клиент активен;\n",
    "\n",
    "    - Зарплата колеблется от 12 до 199 992, в среднем - 100 090;\n",
    "    \n",
    "    - Клиенты в основном остаются в банке;\n",
    "    \n",
    "    - Большинство клиентов из Ярославля - 5 014 клиентов, затем идет город Ростов Великий - 2 509 клиентов и из Рыбинска - 2 477 клиетов; \n",
    "    \n",
    "    - Распределение среди мужчин и женщин практически одинаковое - 5 457 клиентов-мужчин и 4 543 клиентов-женщин.\n",
    "    \n",
    "\n",
    "3. Были проанализированы пропущенные значения в части баланса:\n",
    "\n",
    "    В целом между категориями с указанной информацией по балансу и отсутствием информации, различий нет. Наибольшее отклонение по характеристикам наблюдается только в категории количества продуктов банка у клиента. Можно предположить, что при наличии у клиента более чем 1 продукта затруднительно отражать баланс клиента. Отсутствие значений в части баланса можно также охарактеризовать технической ошибкой, и информацию можно запросить у тех, кто предоставил датасет.\n",
    "    \n",
    "    \n",
    "4. Все данные со строчным типом данных преобразовали в данные с булевым типом    \n",
    "\n",
    "На **шаге 2** был выполнен исследовательский анализ данных. \n",
    "\n",
    "В данный момент в банке обслуживает 7 963 клиента или 80% датасета. Соответственно, перестали обслуживаться 2 037 клиентов или 20% датасета\n",
    "\n",
    "Мы построили матрицу корреляции по характеристикам клиентов банка. Обозначим, что слабая связь наблюдается от 0.11 до 0.29; Средняя связь - 0.30-0.50 Сильная связь - от 0.51\n",
    "\n",
    "Так можно обнаружить, что между возрастом и показателем ухода клиента есть слабая положительная связь - 0,29. Это означает, что при увеличении возраста клиента он более склонен уходить. Также видно, что слабая положительная связь возникла между показателем Ростова Великого (rostov_the_great) и показателем ухода клиента - 0.17. Так можно сказать, что если пользователь из Ростова Великого, то он более склонен уходить.\n",
    "\n",
    "Также заметим слабую отрицательную связь между активностью (loyalty) и показателем ухода клиентов (churn) - -0.16. Так можно отметить, что при уменьшении активности клиента он более склонен уходить.\n",
    "\n",
    "Остальные характеристики практически не имеют связи с показателем ухода клиента.\n",
    "\n",
    "Среди характеристик можно выделить:\n",
    "\n",
    "**Кредитный рейтинг**\n",
    "\n",
    "Текущие клиенты и бывшие клиенты банка имеют примерно одинаковый кредитный рейтинг - от 600 до 700. Также наблюдается всплеск значений на максимальном кредитном рейтинге - 850. Попробуем проверить, есть ли какие-то признаки, по которым можно определить клиента в категорию с наивысшим рейтингом.\n",
    "\n",
    "Также можно заметить, что только бывшие клиенты имеют кредитный рейтинг менее 400, для клиентов банка кредитный рейтинг имеет минимальные значение от 400.\n",
    "\n",
    "Ниже предоставлен расчет основных статистических показателей по критерию \"максимальный кредитный рейтинг\" - характеристики достаточно разнообразны и однозначной зацепки нет. Возможно в дальшейшем стоит уточнить, какая категория клиентов получает наивысший кредитный рейтинг.\n",
    "\n",
    "**Возраст**\n",
    "\n",
    "Как мы выяснили ранее, возраст является фактором, который влияет на уход человека из банка. Так, на графике видно, что большинство клиентов, которые ушли из банка, имеют возраст от 40 до 50. При этом текущие клиенты банка имеют возраст от 30 до 40 лет.\n",
    "\n",
    "Есть предположение, что банк имеет отличные условия для клиентов от 30 до 40 (переход от \"молодежного\" банка до более взрослого), и имеет меньшие преимущества перед людьми в возрасте от 40 до 50 и далее (есть клиенты возраста примерно 55 лет, где распределение бывших клиентов превышает количество клиентов).\n",
    "\n",
    "**Количество объектов в собственности**\n",
    "\n",
    "Текущие и бывшие клиенты банка имеют достаточно стабильную динамику по количеству объектов в собственности: от 1 до 9 объектов клиенты имеют практически одинаковое распределение: примерно по 800 клиентов среди текущих клиентов и примерно по 200 клиентов среди бывших клиентов. Только в крайних точках есть слегка понижение количества клиентов.\n",
    "\n",
    "**Баланс на счете**\n",
    "\n",
    "Баланс на счетах текущих и бывших клиентов банка совпадает по динамике. Так, большинство клиентов имеют баланс в размере от 100 000 до 150 000.\n",
    "\n",
    "**Количество продуктов банка**\n",
    "\n",
    "Большинство текущих клиентов банка имеют 1 или 2 продукта банка, в основном - 2. Для бывших клиентов динамика отрицательная - в основном 1 продукт, намного меньше 2 и тд.\n",
    "\n",
    "**Активность**\n",
    "\n",
    "На графике видно, что среди тех, кто остается в банке % активности выше - примерно 55%.\n",
    "При этом среди тех, кто ушел % активности снизился на 10%.\n",
    "\n",
    "Так как этот фактор имеет слабую зависимость с уходом клиента, необходимо повышать активность клиентов в банке до уровня текущих клиентов. \n",
    "\n",
    "**Заработная плата**\n",
    "\n",
    "Распределение заработной платы среди текущих и бывших клиентов банка практически равномерное, одинаковое количество клиентов имеют зарплату от 0 до 200 000.\n",
    "\n",
    "**Город**\n",
    "\n",
    "В основном клиенты банка из Ярославля - более 4000 клиентов, затем клиенты из Рыбинска и Ростова Великово. Достаточно высокая доля клиентов, которые ушли, из Ростова Великово.\n",
    "\n",
    "**Пол**\n",
    "\n",
    "Большинство текущих клиентов - мужчины (более 4 тыс клиентов против 3,5 тыс клиентов), но при этом чаще уходят из банка женщины (1000 клиентов против около 800 клиентов)\n",
    "\n",
    "**Портреты клиентов**\n",
    "\n",
    "Таким образом, портреты текущих клиентов и бывших клиентов банка (на основании медианных значений). Курсивом выделены характеристики, изменение которых может повлиять на уход клиента из банка.\n",
    "\n",
    "|**Характеристика**   |**Текущий клиент**   |**Ушедший клиент**  |\n",
    "|:-------------:|:--------------:|:--------------:|\n",
    "|Пол| Мужчина | Женщина|\n",
    "|_Возраст_| _35 лет_ | _45 лет_ |\n",
    "|_Город_| _Ярославль_ | _Ростов Великий_ |\n",
    "|Кредитный рейтинг | от 600 до 700 | от 600 до 700 |\n",
    "|Количество объектов в собственности| 5 | 5 |\n",
    "|Активность| + | - |\n",
    "|Баланс на счете| 120 тыс | 121 тыс. |\n",
    "|Количество продуктов| 2 | 1 |\n",
    "|Заработная плата| 100 тыс. | 102 тыс. |\n",
    "\n",
    "**Рекомендации**\n",
    "\n",
    "*Возраст*\n",
    "\n",
    "В качестве рекомендации можно посоветовать обратить внимание на целевой возраст клиентов банка. Банк может ориентироваться на клиентов до 45 лет, предлагая специальные условия под интересы молодых людей. Поэтому для такого банка наличие клиентов, которые уходят в возрасте от 40 до 50 лет, это вполне нормальные условия. Но так как основной целью данного проекта является уменьшение оттока, то есть 2 рекомендации:\n",
    "\n",
    "* Сохранение позиционирования банка: если банк хочет продолжать предлагать лучшие условия для молодой части клиентов (до 40 лет), необходимо провести исследования с теми клиентами, кто ушел и чей возраст до 40 лет - это 597 клиентов (29% от всех бывших клиентов или 6% от всех данных). В качестве примеров продуктов, которые были бы интересны данной категории: кредитные карты, потребительские кредиты, автокредиты, ипотека.\n",
    "\n",
    "* Дополнение позиционирования банка: банк начинает исследовать категорию пользователей от 40 до 50 - какие продукты были бы интересны этим клиентам. В эту категорию входят еще 35% клиентов (или 7% от всех клиентов), которые ушли. В качестве примеров продуктов, которые были бы интересны данной категории: депозиты, накопления на пенсию, жизнь после пенсии.\n",
    "\n",
    "*Город*\n",
    "\n",
    "* Изучить пользователей из Ростова Великого с точки зрения поиска моментов, за счет чего клиенты уходят (исследовать жалобы, провести кастдев). Гипотетически можно вернуть до 814 пользователей или 39% клиентов, которые ушли (или 8% от всех клиентов). В качестве примеров продуктов, которые могли бы удержать клиентов: кэшбэк для заведений Ростова Великого, коллабы с местными организациями, льготные условия для открытия бизнеса в Ростове Великом.\n",
    "\n",
    "* Рассмотреть целесообразность наличия клиентов из Ростова Великого. Возможно работа с данными клиентами забирает ресурсы, которые возможно перераспределить на клиентов из городов Рыбинск и Ярославль. Потеря данных клиентов приведет к уменьшению 19% текущих клиентов. Возможные примеры продуктов, интересных для этой категории: ипотеки в Рыбинске и Ярославле, автокредиты. \n",
    "\n",
    "*Активность*\n",
    "\n",
    "Так как этот фактор имеет слабую зависимость с уходом клиента, необходимо повышать активность клиентов в банке до уровня текущих клиентов. Это можно сделать путем развития онлайн банкинга и элементов геймификации.\n",
    "\n",
    "На **шаге 3** была выполнена статистическая проверка гипотез. \n",
    "\n",
    "* Средний доход между теми клиентами, которые ушли и теми, которые остались, различается;\n",
    "\n",
    "* Средний возраст между теми клиентами, которые ушли и теми, которые остались, различается;\n",
    "\n",
    "* Средний балл кредитного скоринга между теми клиентами, которые ушли и теми, которые остались, различается;\n",
    "\n",
    "* Среднее количество продуктов, которые имеют клиенты из Ярославля, отличается от количества продуктов, которые имеют клиенты из других регионов.\n",
    "\n",
    "При проверке статистических гипотез было определено:\n",
    "\n",
    "Используя t-тест Уэлча и уровень значимости 0.05, мы имеем:\n",
    "\n",
    "* Средний доход текущих клиентов банка равен среднему доходу ушедших клиентов;\n",
    "\n",
    "* Средний возраст текущих клиентов банка не равен среднему возрасту ушедших клиентов;\n",
    "\n",
    "* Несмотря на то, что средний балл кредитного скоринга, рассчитанный с помощью медианы, у текущих клиентов банка и тех, кто ушел, одинаковый, есть статистическое различие между ними, и средний балл кредитного скоринга текущих клиентов банка не равен среднему баллу кредитного скоринга ушедших клиентов;\n",
    "\n",
    "* Среднее количество продуктов, которые имеют клиенты из Ярославля равно cреднему количеству продуктов, которые имеют клиенты из других регионов;"
   ]
  },
  {
   "cell_type": "markdown",
   "id": "a7f1445c",
   "metadata": {},
   "source": [
    "[Вернуться наверх](#back)"
   ]
  }
 ],
 "metadata": {
  "ExecuteTimeLog": [
   {
    "duration": 1285,
    "start_time": "2023-02-09T11:36:12.811Z"
   },
   {
    "duration": 118,
    "start_time": "2023-02-09T11:36:14.100Z"
   },
   {
    "duration": 18,
    "start_time": "2023-02-09T11:36:14.223Z"
   },
   {
    "duration": 4,
    "start_time": "2023-02-09T11:36:14.243Z"
   },
   {
    "duration": 74,
    "start_time": "2023-02-09T11:36:14.250Z"
   },
   {
    "duration": 15,
    "start_time": "2023-02-09T11:36:14.327Z"
   },
   {
    "duration": 34,
    "start_time": "2023-02-09T11:36:14.344Z"
   },
   {
    "duration": 96,
    "start_time": "2023-02-09T11:36:14.380Z"
   },
   {
    "duration": 50,
    "start_time": "2023-02-09T11:36:14.479Z"
   },
   {
    "duration": 22,
    "start_time": "2023-02-09T11:36:14.531Z"
   },
   {
    "duration": 8,
    "start_time": "2023-02-09T11:36:14.555Z"
   },
   {
    "duration": 7,
    "start_time": "2023-02-09T11:36:14.565Z"
   },
   {
    "duration": 26,
    "start_time": "2023-02-09T11:36:14.573Z"
   },
   {
    "duration": 17,
    "start_time": "2023-02-09T11:36:14.607Z"
   },
   {
    "duration": 23,
    "start_time": "2023-02-09T11:36:14.626Z"
   },
   {
    "duration": 7,
    "start_time": "2023-02-09T11:36:14.650Z"
   },
   {
    "duration": 106,
    "start_time": "2023-02-09T11:36:14.659Z"
   },
   {
    "duration": 90,
    "start_time": "2023-02-09T11:36:14.767Z"
   },
   {
    "duration": 341,
    "start_time": "2023-02-09T11:36:14.859Z"
   },
   {
    "duration": 61,
    "start_time": "2023-02-09T11:36:15.205Z"
   },
   {
    "duration": 297,
    "start_time": "2023-02-09T11:36:15.268Z"
   },
   {
    "duration": 7,
    "start_time": "2023-02-09T11:36:15.567Z"
   },
   {
    "duration": 24,
    "start_time": "2023-02-09T11:36:15.576Z"
   },
   {
    "duration": 201,
    "start_time": "2023-02-09T11:36:15.602Z"
   },
   {
    "duration": 297,
    "start_time": "2023-02-09T11:36:15.804Z"
   },
   {
    "duration": 278,
    "start_time": "2023-02-09T11:36:16.103Z"
   },
   {
    "duration": 283,
    "start_time": "2023-02-09T11:36:16.383Z"
   },
   {
    "duration": 27,
    "start_time": "2023-02-09T11:36:16.667Z"
   },
   {
    "duration": 130,
    "start_time": "2023-02-09T11:36:16.698Z"
   },
   {
    "duration": 165,
    "start_time": "2023-02-09T11:36:16.830Z"
   },
   {
    "duration": 9,
    "start_time": "2023-02-09T11:36:17.004Z"
   },
   {
    "duration": 136,
    "start_time": "2023-02-09T11:36:17.015Z"
   },
   {
    "duration": 8,
    "start_time": "2023-02-09T11:36:17.152Z"
   },
   {
    "duration": 9,
    "start_time": "2023-02-09T11:36:17.161Z"
   },
   {
    "duration": 38,
    "start_time": "2023-02-09T11:36:17.172Z"
   },
   {
    "duration": 13,
    "start_time": "2023-02-09T11:36:17.213Z"
   },
   {
    "duration": 1403,
    "start_time": "2023-02-10T21:05:39.861Z"
   },
   {
    "duration": 114,
    "start_time": "2023-02-10T21:06:04.265Z"
   },
   {
    "duration": 3,
    "start_time": "2023-02-10T21:06:08.092Z"
   },
   {
    "duration": 166,
    "start_time": "2023-02-10T21:06:08.097Z"
   },
   {
    "duration": 13,
    "start_time": "2023-02-10T21:06:08.265Z"
   },
   {
    "duration": 8,
    "start_time": "2023-02-10T21:06:08.280Z"
   },
   {
    "duration": 46,
    "start_time": "2023-02-10T21:06:08.289Z"
   },
   {
    "duration": 24,
    "start_time": "2023-02-10T21:06:08.337Z"
   },
   {
    "duration": 9,
    "start_time": "2023-02-10T21:06:08.366Z"
   },
   {
    "duration": 47,
    "start_time": "2023-02-10T21:06:08.377Z"
   },
   {
    "duration": 47,
    "start_time": "2023-02-10T21:06:08.427Z"
   },
   {
    "duration": 13,
    "start_time": "2023-02-10T21:06:08.476Z"
   },
   {
    "duration": 8,
    "start_time": "2023-02-10T21:06:08.491Z"
   },
   {
    "duration": 6,
    "start_time": "2023-02-10T21:06:08.500Z"
   },
   {
    "duration": 6,
    "start_time": "2023-02-10T21:06:08.508Z"
   },
   {
    "duration": 50,
    "start_time": "2023-02-10T21:06:08.516Z"
   },
   {
    "duration": 7,
    "start_time": "2023-02-10T21:06:08.568Z"
   },
   {
    "duration": 6,
    "start_time": "2023-02-10T21:06:08.578Z"
   },
   {
    "duration": 94,
    "start_time": "2023-02-10T21:06:08.585Z"
   },
   {
    "duration": 86,
    "start_time": "2023-02-10T21:06:08.681Z"
   },
   {
    "duration": 273,
    "start_time": "2023-02-10T21:06:08.769Z"
   },
   {
    "duration": 77,
    "start_time": "2023-02-10T21:06:09.044Z"
   },
   {
    "duration": 0,
    "start_time": "2023-02-10T21:06:09.123Z"
   },
   {
    "duration": 0,
    "start_time": "2023-02-10T21:06:09.124Z"
   },
   {
    "duration": 0,
    "start_time": "2023-02-10T21:06:09.126Z"
   },
   {
    "duration": 0,
    "start_time": "2023-02-10T21:06:09.127Z"
   },
   {
    "duration": 0,
    "start_time": "2023-02-10T21:06:09.128Z"
   },
   {
    "duration": 0,
    "start_time": "2023-02-10T21:06:09.129Z"
   },
   {
    "duration": 0,
    "start_time": "2023-02-10T21:06:09.130Z"
   },
   {
    "duration": 0,
    "start_time": "2023-02-10T21:06:09.132Z"
   },
   {
    "duration": 0,
    "start_time": "2023-02-10T21:06:09.133Z"
   },
   {
    "duration": 0,
    "start_time": "2023-02-10T21:06:09.134Z"
   },
   {
    "duration": 0,
    "start_time": "2023-02-10T21:06:09.135Z"
   },
   {
    "duration": 0,
    "start_time": "2023-02-10T21:06:09.136Z"
   },
   {
    "duration": 0,
    "start_time": "2023-02-10T21:06:09.137Z"
   },
   {
    "duration": 0,
    "start_time": "2023-02-10T21:06:09.138Z"
   },
   {
    "duration": 0,
    "start_time": "2023-02-10T21:06:09.139Z"
   },
   {
    "duration": 0,
    "start_time": "2023-02-10T21:06:09.140Z"
   },
   {
    "duration": 0,
    "start_time": "2023-02-10T21:06:09.142Z"
   },
   {
    "duration": 405,
    "start_time": "2023-02-10T21:07:54.821Z"
   },
   {
    "duration": 123,
    "start_time": "2023-02-10T21:08:19.580Z"
   },
   {
    "duration": 285,
    "start_time": "2023-02-10T21:08:23.008Z"
   },
   {
    "duration": 276,
    "start_time": "2023-02-10T21:08:51.445Z"
   },
   {
    "duration": 278,
    "start_time": "2023-02-10T21:10:27.466Z"
   },
   {
    "duration": 278,
    "start_time": "2023-02-10T21:11:21.721Z"
   },
   {
    "duration": 415,
    "start_time": "2023-02-10T21:11:32.921Z"
   },
   {
    "duration": 130,
    "start_time": "2023-02-10T21:12:14.948Z"
   },
   {
    "duration": 4,
    "start_time": "2023-02-10T21:12:37.362Z"
   },
   {
    "duration": 46,
    "start_time": "2023-02-10T21:12:37.370Z"
   },
   {
    "duration": 15,
    "start_time": "2023-02-10T21:12:37.418Z"
   },
   {
    "duration": 3,
    "start_time": "2023-02-10T21:12:37.435Z"
   },
   {
    "duration": 58,
    "start_time": "2023-02-10T21:12:37.441Z"
   },
   {
    "duration": 14,
    "start_time": "2023-02-10T21:12:37.501Z"
   },
   {
    "duration": 10,
    "start_time": "2023-02-10T21:12:37.516Z"
   },
   {
    "duration": 53,
    "start_time": "2023-02-10T21:12:37.528Z"
   },
   {
    "duration": 34,
    "start_time": "2023-02-10T21:12:37.583Z"
   },
   {
    "duration": 47,
    "start_time": "2023-02-10T21:12:37.619Z"
   },
   {
    "duration": 7,
    "start_time": "2023-02-10T21:12:37.669Z"
   },
   {
    "duration": 7,
    "start_time": "2023-02-10T21:12:37.678Z"
   },
   {
    "duration": 10,
    "start_time": "2023-02-10T21:12:37.686Z"
   },
   {
    "duration": 14,
    "start_time": "2023-02-10T21:12:37.697Z"
   },
   {
    "duration": 7,
    "start_time": "2023-02-10T21:12:37.713Z"
   },
   {
    "duration": 7,
    "start_time": "2023-02-10T21:12:37.722Z"
   },
   {
    "duration": 92,
    "start_time": "2023-02-10T21:12:37.730Z"
   },
   {
    "duration": 56,
    "start_time": "2023-02-10T21:12:37.824Z"
   },
   {
    "duration": 337,
    "start_time": "2023-02-10T21:12:37.882Z"
   },
   {
    "duration": 63,
    "start_time": "2023-02-10T21:12:38.221Z"
   },
   {
    "duration": 312,
    "start_time": "2023-02-10T21:12:38.286Z"
   },
   {
    "duration": 9,
    "start_time": "2023-02-10T21:12:38.600Z"
   },
   {
    "duration": 9,
    "start_time": "2023-02-10T21:12:38.611Z"
   },
   {
    "duration": 231,
    "start_time": "2023-02-10T21:12:38.622Z"
   },
   {
    "duration": 317,
    "start_time": "2023-02-10T21:12:38.859Z"
   },
   {
    "duration": 207,
    "start_time": "2023-02-10T21:12:39.178Z"
   },
   {
    "duration": 482,
    "start_time": "2023-02-10T21:12:39.387Z"
   },
   {
    "duration": 16,
    "start_time": "2023-02-10T21:12:39.871Z"
   },
   {
    "duration": 138,
    "start_time": "2023-02-10T21:12:39.891Z"
   },
   {
    "duration": 160,
    "start_time": "2023-02-10T21:12:40.031Z"
   },
   {
    "duration": 6,
    "start_time": "2023-02-10T21:12:40.192Z"
   },
   {
    "duration": 138,
    "start_time": "2023-02-10T21:12:40.199Z"
   },
   {
    "duration": 16,
    "start_time": "2023-02-10T21:12:40.339Z"
   },
   {
    "duration": 17,
    "start_time": "2023-02-10T21:12:40.356Z"
   },
   {
    "duration": 8,
    "start_time": "2023-02-10T21:12:40.375Z"
   },
   {
    "duration": 9,
    "start_time": "2023-02-10T21:12:40.385Z"
   },
   {
    "duration": 366,
    "start_time": "2023-02-10T21:13:08.323Z"
   },
   {
    "duration": 404,
    "start_time": "2023-02-10T21:13:22.717Z"
   },
   {
    "duration": 384,
    "start_time": "2023-02-10T21:14:23.311Z"
   },
   {
    "duration": 559,
    "start_time": "2023-02-10T21:14:37.804Z"
   },
   {
    "duration": 122,
    "start_time": "2023-02-10T21:14:54.367Z"
   },
   {
    "duration": 463,
    "start_time": "2023-02-10T21:14:57.779Z"
   },
   {
    "duration": 453,
    "start_time": "2023-02-10T21:15:14.322Z"
   },
   {
    "duration": 435,
    "start_time": "2023-02-10T21:15:23.450Z"
   },
   {
    "duration": 536,
    "start_time": "2023-02-10T21:15:44.365Z"
   },
   {
    "duration": 406,
    "start_time": "2023-02-10T21:15:52.919Z"
   },
   {
    "duration": 510,
    "start_time": "2023-02-10T21:16:13.098Z"
   },
   {
    "duration": 265,
    "start_time": "2023-02-10T21:16:58.168Z"
   },
   {
    "duration": 265,
    "start_time": "2023-02-10T21:17:09.759Z"
   },
   {
    "duration": 528,
    "start_time": "2023-02-10T21:17:31.817Z"
   },
   {
    "duration": 366,
    "start_time": "2023-02-10T21:18:02.067Z"
   },
   {
    "duration": 356,
    "start_time": "2023-02-10T21:18:14.579Z"
   },
   {
    "duration": 365,
    "start_time": "2023-02-10T21:18:22.590Z"
   },
   {
    "duration": 300,
    "start_time": "2023-02-10T21:18:42.855Z"
   },
   {
    "duration": 324,
    "start_time": "2023-02-10T21:18:53.833Z"
   },
   {
    "duration": 484,
    "start_time": "2023-02-10T21:19:18.084Z"
   },
   {
    "duration": 303,
    "start_time": "2023-02-10T21:19:34.986Z"
   },
   {
    "duration": 283,
    "start_time": "2023-02-10T21:20:07.015Z"
   },
   {
    "duration": 251,
    "start_time": "2023-02-10T21:20:19.656Z"
   },
   {
    "duration": 272,
    "start_time": "2023-02-10T21:20:24.064Z"
   },
   {
    "duration": 248,
    "start_time": "2023-02-10T21:20:38.430Z"
   },
   {
    "duration": 243,
    "start_time": "2023-02-10T21:20:47.166Z"
   },
   {
    "duration": 280,
    "start_time": "2023-02-10T21:20:52.330Z"
   },
   {
    "duration": 248,
    "start_time": "2023-02-10T21:20:59.224Z"
   },
   {
    "duration": 303,
    "start_time": "2023-02-10T21:21:04.530Z"
   },
   {
    "duration": 437,
    "start_time": "2023-02-10T21:21:20.686Z"
   },
   {
    "duration": 1320,
    "start_time": "2023-02-11T17:43:14.984Z"
   },
   {
    "duration": 77,
    "start_time": "2023-02-11T17:43:16.306Z"
   },
   {
    "duration": 12,
    "start_time": "2023-02-11T17:43:16.384Z"
   },
   {
    "duration": 3,
    "start_time": "2023-02-11T17:43:16.397Z"
   },
   {
    "duration": 39,
    "start_time": "2023-02-11T17:43:16.402Z"
   },
   {
    "duration": 10,
    "start_time": "2023-02-11T17:43:16.443Z"
   },
   {
    "duration": 9,
    "start_time": "2023-02-11T17:43:16.454Z"
   },
   {
    "duration": 27,
    "start_time": "2023-02-11T17:43:16.464Z"
   },
   {
    "duration": 33,
    "start_time": "2023-02-11T17:43:16.509Z"
   },
   {
    "duration": 12,
    "start_time": "2023-02-11T17:43:16.544Z"
   },
   {
    "duration": 6,
    "start_time": "2023-02-11T17:43:16.558Z"
   },
   {
    "duration": 9,
    "start_time": "2023-02-11T17:43:16.565Z"
   },
   {
    "duration": 6,
    "start_time": "2023-02-11T17:43:16.575Z"
   },
   {
    "duration": 27,
    "start_time": "2023-02-11T17:43:16.584Z"
   },
   {
    "duration": 6,
    "start_time": "2023-02-11T17:43:16.613Z"
   },
   {
    "duration": 4,
    "start_time": "2023-02-11T17:43:16.620Z"
   },
   {
    "duration": 97,
    "start_time": "2023-02-11T17:43:16.625Z"
   },
   {
    "duration": 107,
    "start_time": "2023-02-11T17:43:16.724Z"
   },
   {
    "duration": 291,
    "start_time": "2023-02-11T17:43:16.833Z"
   },
   {
    "duration": 38,
    "start_time": "2023-02-11T17:43:17.126Z"
   },
   {
    "duration": 363,
    "start_time": "2023-02-11T17:43:17.166Z"
   },
   {
    "duration": 6,
    "start_time": "2023-02-11T17:43:17.531Z"
   },
   {
    "duration": 8,
    "start_time": "2023-02-11T17:43:17.539Z"
   },
   {
    "duration": 256,
    "start_time": "2023-02-11T17:43:17.549Z"
   },
   {
    "duration": 375,
    "start_time": "2023-02-11T17:43:17.807Z"
   },
   {
    "duration": 247,
    "start_time": "2023-02-11T17:43:18.184Z"
   },
   {
    "duration": 227,
    "start_time": "2023-02-11T17:43:18.432Z"
   },
   {
    "duration": 15,
    "start_time": "2023-02-11T17:43:18.660Z"
   },
   {
    "duration": 119,
    "start_time": "2023-02-11T17:43:18.676Z"
   },
   {
    "duration": 153,
    "start_time": "2023-02-11T17:43:18.796Z"
   },
   {
    "duration": 6,
    "start_time": "2023-02-11T17:43:18.950Z"
   },
   {
    "duration": 135,
    "start_time": "2023-02-11T17:43:18.958Z"
   },
   {
    "duration": 7,
    "start_time": "2023-02-11T17:43:19.095Z"
   },
   {
    "duration": 11,
    "start_time": "2023-02-11T17:43:19.103Z"
   },
   {
    "duration": 7,
    "start_time": "2023-02-11T17:43:19.115Z"
   },
   {
    "duration": 6,
    "start_time": "2023-02-11T17:43:19.124Z"
   },
   {
    "duration": 1322,
    "start_time": "2023-02-12T14:39:47.156Z"
   },
   {
    "duration": 165,
    "start_time": "2023-02-12T14:39:48.481Z"
   },
   {
    "duration": 15,
    "start_time": "2023-02-12T14:39:48.647Z"
   },
   {
    "duration": 5,
    "start_time": "2023-02-12T14:39:48.664Z"
   },
   {
    "duration": 44,
    "start_time": "2023-02-12T14:39:48.671Z"
   },
   {
    "duration": 13,
    "start_time": "2023-02-12T14:39:48.716Z"
   },
   {
    "duration": 11,
    "start_time": "2023-02-12T14:39:48.731Z"
   },
   {
    "duration": 35,
    "start_time": "2023-02-12T14:39:48.743Z"
   },
   {
    "duration": 80,
    "start_time": "2023-02-12T14:39:48.780Z"
   },
   {
    "duration": 19,
    "start_time": "2023-02-12T14:39:48.862Z"
   },
   {
    "duration": 8,
    "start_time": "2023-02-12T14:39:48.883Z"
   },
   {
    "duration": 29,
    "start_time": "2023-02-12T14:39:48.892Z"
   },
   {
    "duration": 4,
    "start_time": "2023-02-12T14:39:48.923Z"
   },
   {
    "duration": 18,
    "start_time": "2023-02-12T14:39:48.930Z"
   },
   {
    "duration": 10,
    "start_time": "2023-02-12T14:39:48.950Z"
   },
   {
    "duration": 5,
    "start_time": "2023-02-12T14:39:48.962Z"
   },
   {
    "duration": 113,
    "start_time": "2023-02-12T14:39:48.969Z"
   },
   {
    "duration": 87,
    "start_time": "2023-02-12T14:39:49.084Z"
   },
   {
    "duration": 311,
    "start_time": "2023-02-12T14:39:49.172Z"
   },
   {
    "duration": 153,
    "start_time": "2023-02-12T14:39:49.485Z"
   },
   {
    "duration": 418,
    "start_time": "2023-02-12T14:39:49.640Z"
   },
   {
    "duration": 6,
    "start_time": "2023-02-12T14:39:50.060Z"
   },
   {
    "duration": 8,
    "start_time": "2023-02-12T14:39:50.067Z"
   },
   {
    "duration": 283,
    "start_time": "2023-02-12T14:39:50.077Z"
   },
   {
    "duration": 365,
    "start_time": "2023-02-12T14:39:50.362Z"
   },
   {
    "duration": 269,
    "start_time": "2023-02-12T14:39:50.728Z"
   },
   {
    "duration": 256,
    "start_time": "2023-02-12T14:39:50.999Z"
   },
   {
    "duration": 15,
    "start_time": "2023-02-12T14:39:51.257Z"
   },
   {
    "duration": 247,
    "start_time": "2023-02-12T14:39:51.274Z"
   },
   {
    "duration": 163,
    "start_time": "2023-02-12T14:39:51.522Z"
   },
   {
    "duration": 5,
    "start_time": "2023-02-12T14:39:51.687Z"
   },
   {
    "duration": 135,
    "start_time": "2023-02-12T14:39:51.694Z"
   },
   {
    "duration": 8,
    "start_time": "2023-02-12T14:39:51.831Z"
   },
   {
    "duration": 9,
    "start_time": "2023-02-12T14:39:51.840Z"
   },
   {
    "duration": 9,
    "start_time": "2023-02-12T14:39:51.850Z"
   },
   {
    "duration": 11,
    "start_time": "2023-02-12T14:39:51.860Z"
   },
   {
    "duration": 122,
    "start_time": "2023-02-12T14:39:51.872Z"
   },
   {
    "duration": 15,
    "start_time": "2023-02-12T14:40:55.208Z"
   },
   {
    "duration": 12,
    "start_time": "2023-02-12T14:41:09.622Z"
   },
   {
    "duration": 13,
    "start_time": "2023-02-12T14:41:23.428Z"
   },
   {
    "duration": 176,
    "start_time": "2023-02-12T14:42:28.078Z"
   }
  ],
  "kernelspec": {
   "display_name": "Python 3 (ipykernel)",
   "language": "python",
   "name": "python3"
  },
  "language_info": {
   "codemirror_mode": {
    "name": "ipython",
    "version": 3
   },
   "file_extension": ".py",
   "mimetype": "text/x-python",
   "name": "python",
   "nbconvert_exporter": "python",
   "pygments_lexer": "ipython3",
   "version": "3.10.8"
  },
  "toc": {
   "base_numbering": 1,
   "nav_menu": {},
   "number_sections": true,
   "sideBar": true,
   "skip_h1_title": true,
   "title_cell": "Table of Contents",
   "title_sidebar": "Contents",
   "toc_cell": false,
   "toc_position": {},
   "toc_section_display": true,
   "toc_window_display": false
  }
 },
 "nbformat": 4,
 "nbformat_minor": 5
}
