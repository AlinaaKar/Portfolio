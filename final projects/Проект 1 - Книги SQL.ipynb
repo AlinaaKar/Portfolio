{
 "cells": [
  {
   "cell_type": "markdown",
   "id": "a40250d1",
   "metadata": {},
   "source": [
    "### Задача исследования\n",
    "\n",
    "Необходимо проанализировать базу данных и выяснить:\n",
    "\n",
    "* сколько книг вышло после 1 января 2000 года;\n",
    "* количество обзоров и среднюю оценку (для каждой книги);\n",
    "* издательство, которое выпустило наибольшее число книг толще 50 страниц;\n",
    "* автора с самой высокой средней оценкой книг;\n",
    "* среднее количество обзоров от пользователей, которые поставили больше 50 оценок.\n",
    "\n",
    "### Цель исследования\n",
    "\n",
    "Ответы на вопросы выше нацелены на формирование ценностного предложения для нового продукта - сервиса для чтения книг по подписке. Ценностное предложение поможет определить ряд преимуществ, которые потребители получат при покупке продукта.\n",
    "\n",
    "### Датасет\n",
    "\n",
    "* books - содержит данные о книгах;\n",
    "* authors - содержит данные об авторах;\n",
    "* publishers - содержит данные об издательствах;\n",
    "* ratings - содержит данные о пользовательских оценках книг;\n",
    "* reviews - содержит данные о пользовательских обзорах на книги."
   ]
  },
  {
   "cell_type": "code",
   "execution_count": 1,
   "id": "596ed29c",
   "metadata": {},
   "outputs": [],
   "source": [
    "# импортируем библиотеки\n",
    "\n",
    "import pandas as pd\n",
    "from sqlalchemy import create_engine"
   ]
  },
  {
   "cell_type": "code",
   "execution_count": 2,
   "id": "13393a79",
   "metadata": {},
   "outputs": [],
   "source": [
    "# устанавливаем параметры\n",
    "\n",
    "db_config = {'user': '', # имя пользователя\n",
    "    'pwd': '', # пароль\n",
    "    'host': '',\n",
    "    'port': , # порт подключения\n",
    "    'db': ''} # название базы данных\n",
    "connection_string = 'postgresql://{}:{}@{}:{}/{}'.format(db_config['user'],\n",
    "    db_config['pwd'],\n",
    "    db_config['host'],\n",
    "    db_config['port'],\n",
    "    db_config['db'])\n",
    " \n",
    "# сохраняем коннектор\n",
    "engine = create_engine(connection_string, connect_args={'sslmode':'require'}) "
   ]
  },
  {
   "cell_type": "code",
   "execution_count": 3,
   "id": "59b1a37d",
   "metadata": {},
   "outputs": [],
   "source": [
    "#выведем таблицу books\n",
    "\n",
    "query = '''SELECT *\n",
    "           FROM books\n",
    "        '''"
   ]
  },
  {
   "cell_type": "code",
   "execution_count": 4,
   "id": "673caf49",
   "metadata": {},
   "outputs": [
    {
     "data": {
      "text/html": [
       "<div>\n",
       "<style scoped>\n",
       "    .dataframe tbody tr th:only-of-type {\n",
       "        vertical-align: middle;\n",
       "    }\n",
       "\n",
       "    .dataframe tbody tr th {\n",
       "        vertical-align: top;\n",
       "    }\n",
       "\n",
       "    .dataframe thead th {\n",
       "        text-align: right;\n",
       "    }\n",
       "</style>\n",
       "<table border=\"1\" class=\"dataframe\">\n",
       "  <thead>\n",
       "    <tr style=\"text-align: right;\">\n",
       "      <th></th>\n",
       "      <th>book_id</th>\n",
       "      <th>author_id</th>\n",
       "      <th>title</th>\n",
       "      <th>num_pages</th>\n",
       "      <th>publication_date</th>\n",
       "      <th>publisher_id</th>\n",
       "    </tr>\n",
       "  </thead>\n",
       "  <tbody>\n",
       "    <tr>\n",
       "      <th>0</th>\n",
       "      <td>1</td>\n",
       "      <td>546</td>\n",
       "      <td>'Salem's Lot</td>\n",
       "      <td>594</td>\n",
       "      <td>2005-11-01</td>\n",
       "      <td>93</td>\n",
       "    </tr>\n",
       "    <tr>\n",
       "      <th>1</th>\n",
       "      <td>2</td>\n",
       "      <td>465</td>\n",
       "      <td>1 000 Places to See Before You Die</td>\n",
       "      <td>992</td>\n",
       "      <td>2003-05-22</td>\n",
       "      <td>336</td>\n",
       "    </tr>\n",
       "    <tr>\n",
       "      <th>2</th>\n",
       "      <td>3</td>\n",
       "      <td>407</td>\n",
       "      <td>13 Little Blue Envelopes (Little Blue Envelope...</td>\n",
       "      <td>322</td>\n",
       "      <td>2010-12-21</td>\n",
       "      <td>135</td>\n",
       "    </tr>\n",
       "    <tr>\n",
       "      <th>3</th>\n",
       "      <td>4</td>\n",
       "      <td>82</td>\n",
       "      <td>1491: New Revelations of the Americas Before C...</td>\n",
       "      <td>541</td>\n",
       "      <td>2006-10-10</td>\n",
       "      <td>309</td>\n",
       "    </tr>\n",
       "    <tr>\n",
       "      <th>4</th>\n",
       "      <td>5</td>\n",
       "      <td>125</td>\n",
       "      <td>1776</td>\n",
       "      <td>386</td>\n",
       "      <td>2006-07-04</td>\n",
       "      <td>268</td>\n",
       "    </tr>\n",
       "  </tbody>\n",
       "</table>\n",
       "</div>"
      ],
      "text/plain": [
       "   book_id  author_id                                              title  \\\n",
       "0        1        546                                       'Salem's Lot   \n",
       "1        2        465                 1 000 Places to See Before You Die   \n",
       "2        3        407  13 Little Blue Envelopes (Little Blue Envelope...   \n",
       "3        4         82  1491: New Revelations of the Americas Before C...   \n",
       "4        5        125                                               1776   \n",
       "\n",
       "   num_pages publication_date  publisher_id  \n",
       "0        594       2005-11-01            93  \n",
       "1        992       2003-05-22           336  \n",
       "2        322       2010-12-21           135  \n",
       "3        541       2006-10-10           309  \n",
       "4        386       2006-07-04           268  "
      ]
     },
     "execution_count": 4,
     "metadata": {},
     "output_type": "execute_result"
    }
   ],
   "source": [
    "books = pd.io.sql.read_sql(query, con = engine) \n",
    "\n",
    "books.head()"
   ]
  },
  {
   "cell_type": "code",
   "execution_count": 5,
   "id": "12e64b4a",
   "metadata": {},
   "outputs": [],
   "source": [
    "#выведем таблицу authors\n",
    "\n",
    "query = '''SELECT *\n",
    "           FROM authors\n",
    "           LIMIT 5\n",
    "        '''"
   ]
  },
  {
   "cell_type": "code",
   "execution_count": 6,
   "id": "0ce1733f",
   "metadata": {},
   "outputs": [
    {
     "data": {
      "text/html": [
       "<div>\n",
       "<style scoped>\n",
       "    .dataframe tbody tr th:only-of-type {\n",
       "        vertical-align: middle;\n",
       "    }\n",
       "\n",
       "    .dataframe tbody tr th {\n",
       "        vertical-align: top;\n",
       "    }\n",
       "\n",
       "    .dataframe thead th {\n",
       "        text-align: right;\n",
       "    }\n",
       "</style>\n",
       "<table border=\"1\" class=\"dataframe\">\n",
       "  <thead>\n",
       "    <tr style=\"text-align: right;\">\n",
       "      <th></th>\n",
       "      <th>author_id</th>\n",
       "      <th>author</th>\n",
       "    </tr>\n",
       "  </thead>\n",
       "  <tbody>\n",
       "    <tr>\n",
       "      <th>0</th>\n",
       "      <td>1</td>\n",
       "      <td>A.S. Byatt</td>\n",
       "    </tr>\n",
       "    <tr>\n",
       "      <th>1</th>\n",
       "      <td>2</td>\n",
       "      <td>Aesop/Laura Harris/Laura Gibbs</td>\n",
       "    </tr>\n",
       "    <tr>\n",
       "      <th>2</th>\n",
       "      <td>3</td>\n",
       "      <td>Agatha Christie</td>\n",
       "    </tr>\n",
       "    <tr>\n",
       "      <th>3</th>\n",
       "      <td>4</td>\n",
       "      <td>Alan Brennert</td>\n",
       "    </tr>\n",
       "    <tr>\n",
       "      <th>4</th>\n",
       "      <td>5</td>\n",
       "      <td>Alan Moore/David   Lloyd</td>\n",
       "    </tr>\n",
       "  </tbody>\n",
       "</table>\n",
       "</div>"
      ],
      "text/plain": [
       "   author_id                          author\n",
       "0          1                      A.S. Byatt\n",
       "1          2  Aesop/Laura Harris/Laura Gibbs\n",
       "2          3                 Agatha Christie\n",
       "3          4                   Alan Brennert\n",
       "4          5        Alan Moore/David   Lloyd"
      ]
     },
     "execution_count": 6,
     "metadata": {},
     "output_type": "execute_result"
    }
   ],
   "source": [
    "authors = pd.io.sql.read_sql(query, con = engine) \n",
    "\n",
    "authors"
   ]
  },
  {
   "cell_type": "code",
   "execution_count": 7,
   "id": "2d38feda",
   "metadata": {},
   "outputs": [],
   "source": [
    "#выведем таблицу publishers\n",
    "\n",
    "query = '''SELECT *\n",
    "           FROM publishers\n",
    "           LIMIT 5\n",
    "        '''"
   ]
  },
  {
   "cell_type": "code",
   "execution_count": 8,
   "id": "2cdb052c",
   "metadata": {},
   "outputs": [
    {
     "data": {
      "text/html": [
       "<div>\n",
       "<style scoped>\n",
       "    .dataframe tbody tr th:only-of-type {\n",
       "        vertical-align: middle;\n",
       "    }\n",
       "\n",
       "    .dataframe tbody tr th {\n",
       "        vertical-align: top;\n",
       "    }\n",
       "\n",
       "    .dataframe thead th {\n",
       "        text-align: right;\n",
       "    }\n",
       "</style>\n",
       "<table border=\"1\" class=\"dataframe\">\n",
       "  <thead>\n",
       "    <tr style=\"text-align: right;\">\n",
       "      <th></th>\n",
       "      <th>publisher_id</th>\n",
       "      <th>publisher</th>\n",
       "    </tr>\n",
       "  </thead>\n",
       "  <tbody>\n",
       "    <tr>\n",
       "      <th>0</th>\n",
       "      <td>1</td>\n",
       "      <td>Ace</td>\n",
       "    </tr>\n",
       "    <tr>\n",
       "      <th>1</th>\n",
       "      <td>2</td>\n",
       "      <td>Ace Book</td>\n",
       "    </tr>\n",
       "    <tr>\n",
       "      <th>2</th>\n",
       "      <td>3</td>\n",
       "      <td>Ace Books</td>\n",
       "    </tr>\n",
       "    <tr>\n",
       "      <th>3</th>\n",
       "      <td>4</td>\n",
       "      <td>Ace Hardcover</td>\n",
       "    </tr>\n",
       "    <tr>\n",
       "      <th>4</th>\n",
       "      <td>5</td>\n",
       "      <td>Addison Wesley Publishing Company</td>\n",
       "    </tr>\n",
       "  </tbody>\n",
       "</table>\n",
       "</div>"
      ],
      "text/plain": [
       "   publisher_id                          publisher\n",
       "0             1                                Ace\n",
       "1             2                           Ace Book\n",
       "2             3                          Ace Books\n",
       "3             4                      Ace Hardcover\n",
       "4             5  Addison Wesley Publishing Company"
      ]
     },
     "execution_count": 8,
     "metadata": {},
     "output_type": "execute_result"
    }
   ],
   "source": [
    "publishers = pd.io.sql.read_sql(query, con = engine) \n",
    "\n",
    "publishers"
   ]
  },
  {
   "cell_type": "code",
   "execution_count": 9,
   "id": "96343cfe",
   "metadata": {},
   "outputs": [],
   "source": [
    "#выведем таблицу ratings\n",
    "\n",
    "query = '''SELECT *\n",
    "           FROM ratings\n",
    "           LIMIT 5\n",
    "        '''"
   ]
  },
  {
   "cell_type": "code",
   "execution_count": 10,
   "id": "2ec4b247",
   "metadata": {},
   "outputs": [
    {
     "data": {
      "text/html": [
       "<div>\n",
       "<style scoped>\n",
       "    .dataframe tbody tr th:only-of-type {\n",
       "        vertical-align: middle;\n",
       "    }\n",
       "\n",
       "    .dataframe tbody tr th {\n",
       "        vertical-align: top;\n",
       "    }\n",
       "\n",
       "    .dataframe thead th {\n",
       "        text-align: right;\n",
       "    }\n",
       "</style>\n",
       "<table border=\"1\" class=\"dataframe\">\n",
       "  <thead>\n",
       "    <tr style=\"text-align: right;\">\n",
       "      <th></th>\n",
       "      <th>rating_id</th>\n",
       "      <th>book_id</th>\n",
       "      <th>username</th>\n",
       "      <th>rating</th>\n",
       "    </tr>\n",
       "  </thead>\n",
       "  <tbody>\n",
       "    <tr>\n",
       "      <th>0</th>\n",
       "      <td>1</td>\n",
       "      <td>1</td>\n",
       "      <td>ryanfranco</td>\n",
       "      <td>4</td>\n",
       "    </tr>\n",
       "    <tr>\n",
       "      <th>1</th>\n",
       "      <td>2</td>\n",
       "      <td>1</td>\n",
       "      <td>grantpatricia</td>\n",
       "      <td>2</td>\n",
       "    </tr>\n",
       "    <tr>\n",
       "      <th>2</th>\n",
       "      <td>3</td>\n",
       "      <td>1</td>\n",
       "      <td>brandtandrea</td>\n",
       "      <td>5</td>\n",
       "    </tr>\n",
       "    <tr>\n",
       "      <th>3</th>\n",
       "      <td>4</td>\n",
       "      <td>2</td>\n",
       "      <td>lorichen</td>\n",
       "      <td>3</td>\n",
       "    </tr>\n",
       "    <tr>\n",
       "      <th>4</th>\n",
       "      <td>5</td>\n",
       "      <td>2</td>\n",
       "      <td>mariokeller</td>\n",
       "      <td>2</td>\n",
       "    </tr>\n",
       "  </tbody>\n",
       "</table>\n",
       "</div>"
      ],
      "text/plain": [
       "   rating_id  book_id       username  rating\n",
       "0          1        1     ryanfranco       4\n",
       "1          2        1  grantpatricia       2\n",
       "2          3        1   brandtandrea       5\n",
       "3          4        2       lorichen       3\n",
       "4          5        2    mariokeller       2"
      ]
     },
     "execution_count": 10,
     "metadata": {},
     "output_type": "execute_result"
    }
   ],
   "source": [
    "ratings = pd.io.sql.read_sql(query, con = engine) \n",
    "\n",
    "ratings"
   ]
  },
  {
   "cell_type": "code",
   "execution_count": 11,
   "id": "bd42873a",
   "metadata": {},
   "outputs": [],
   "source": [
    "#выведем таблицу reviews\n",
    "\n",
    "query = '''SELECT *\n",
    "           FROM reviews\n",
    "           LIMIT 5\n",
    "        '''"
   ]
  },
  {
   "cell_type": "code",
   "execution_count": 12,
   "id": "ef859614",
   "metadata": {},
   "outputs": [
    {
     "data": {
      "text/html": [
       "<div>\n",
       "<style scoped>\n",
       "    .dataframe tbody tr th:only-of-type {\n",
       "        vertical-align: middle;\n",
       "    }\n",
       "\n",
       "    .dataframe tbody tr th {\n",
       "        vertical-align: top;\n",
       "    }\n",
       "\n",
       "    .dataframe thead th {\n",
       "        text-align: right;\n",
       "    }\n",
       "</style>\n",
       "<table border=\"1\" class=\"dataframe\">\n",
       "  <thead>\n",
       "    <tr style=\"text-align: right;\">\n",
       "      <th></th>\n",
       "      <th>review_id</th>\n",
       "      <th>book_id</th>\n",
       "      <th>username</th>\n",
       "      <th>text</th>\n",
       "    </tr>\n",
       "  </thead>\n",
       "  <tbody>\n",
       "    <tr>\n",
       "      <th>0</th>\n",
       "      <td>1</td>\n",
       "      <td>1</td>\n",
       "      <td>brandtandrea</td>\n",
       "      <td>Mention society tell send professor analysis. ...</td>\n",
       "    </tr>\n",
       "    <tr>\n",
       "      <th>1</th>\n",
       "      <td>2</td>\n",
       "      <td>1</td>\n",
       "      <td>ryanfranco</td>\n",
       "      <td>Foot glass pretty audience hit themselves. Amo...</td>\n",
       "    </tr>\n",
       "    <tr>\n",
       "      <th>2</th>\n",
       "      <td>3</td>\n",
       "      <td>2</td>\n",
       "      <td>lorichen</td>\n",
       "      <td>Listen treat keep worry. Miss husband tax but ...</td>\n",
       "    </tr>\n",
       "    <tr>\n",
       "      <th>3</th>\n",
       "      <td>4</td>\n",
       "      <td>3</td>\n",
       "      <td>johnsonamanda</td>\n",
       "      <td>Finally month interesting blue could nature cu...</td>\n",
       "    </tr>\n",
       "    <tr>\n",
       "      <th>4</th>\n",
       "      <td>5</td>\n",
       "      <td>3</td>\n",
       "      <td>scotttamara</td>\n",
       "      <td>Nation purpose heavy give wait song will. List...</td>\n",
       "    </tr>\n",
       "  </tbody>\n",
       "</table>\n",
       "</div>"
      ],
      "text/plain": [
       "   review_id  book_id       username  \\\n",
       "0          1        1   brandtandrea   \n",
       "1          2        1     ryanfranco   \n",
       "2          3        2       lorichen   \n",
       "3          4        3  johnsonamanda   \n",
       "4          5        3    scotttamara   \n",
       "\n",
       "                                                text  \n",
       "0  Mention society tell send professor analysis. ...  \n",
       "1  Foot glass pretty audience hit themselves. Amo...  \n",
       "2  Listen treat keep worry. Miss husband tax but ...  \n",
       "3  Finally month interesting blue could nature cu...  \n",
       "4  Nation purpose heavy give wait song will. List...  "
      ]
     },
     "execution_count": 12,
     "metadata": {},
     "output_type": "execute_result"
    }
   ],
   "source": [
    "reviews = pd.io.sql.read_sql(query, con = engine) \n",
    "\n",
    "reviews"
   ]
  },
  {
   "cell_type": "markdown",
   "id": "f66dc57e",
   "metadata": {},
   "source": [
    "### Подгрузили датасеты, видим, что связь с базой есть и все таблицы считались."
   ]
  },
  {
   "cell_type": "markdown",
   "id": "41bf0376",
   "metadata": {},
   "source": [
    "#### Посчитайте, сколько книг вышло после 1 января 2000 года;"
   ]
  },
  {
   "cell_type": "code",
   "execution_count": 13,
   "id": "09e6435e",
   "metadata": {},
   "outputs": [],
   "source": [
    "query = '''SELECT COUNT(title)\n",
    "           FROM books\n",
    "           WHERE publication_date > '2000-01-01'           \n",
    "        '''"
   ]
  },
  {
   "cell_type": "code",
   "execution_count": 14,
   "id": "299aab3e",
   "metadata": {},
   "outputs": [
    {
     "data": {
      "text/html": [
       "<div>\n",
       "<style scoped>\n",
       "    .dataframe tbody tr th:only-of-type {\n",
       "        vertical-align: middle;\n",
       "    }\n",
       "\n",
       "    .dataframe tbody tr th {\n",
       "        vertical-align: top;\n",
       "    }\n",
       "\n",
       "    .dataframe thead th {\n",
       "        text-align: right;\n",
       "    }\n",
       "</style>\n",
       "<table border=\"1\" class=\"dataframe\">\n",
       "  <thead>\n",
       "    <tr style=\"text-align: right;\">\n",
       "      <th></th>\n",
       "      <th>count</th>\n",
       "    </tr>\n",
       "  </thead>\n",
       "  <tbody>\n",
       "    <tr>\n",
       "      <th>0</th>\n",
       "      <td>819</td>\n",
       "    </tr>\n",
       "  </tbody>\n",
       "</table>\n",
       "</div>"
      ],
      "text/plain": [
       "   count\n",
       "0    819"
      ]
     },
     "execution_count": 14,
     "metadata": {},
     "output_type": "execute_result"
    }
   ],
   "source": [
    "pd.io.sql.read_sql(query, con = engine) "
   ]
  },
  {
   "cell_type": "markdown",
   "id": "cd783a6e",
   "metadata": {},
   "source": [
    "**С 1 января 2000 года вышло 819 книг.**"
   ]
  },
  {
   "cell_type": "markdown",
   "id": "538e0072",
   "metadata": {},
   "source": [
    "#### Для каждой книги посчитайте количество обзоров и среднюю оценку;"
   ]
  },
  {
   "cell_type": "code",
   "execution_count": 28,
   "id": "d40b23e5",
   "metadata": {},
   "outputs": [],
   "source": [
    "query = '''SELECT avg_rating.book_id,\n",
    "                  avg_rating.title,\n",
    "                  COUNT(r.review_id),\n",
    "                  avg_rating.avg\n",
    "           FROM (\n",
    "                 SELECT b.book_id,\n",
    "                 b.title,\n",
    "                 AVG(r.rating)       \n",
    "                 FROM ratings AS r\n",
    "                 LEFT JOIN books AS b ON r.book_id = b.book_id\n",
    "                 GROUP BY b.book_id\n",
    "                 ) AS avg_rating\n",
    "           LEFT JOIN reviews AS r ON r.book_id = avg_rating.book_id\n",
    "           GROUP BY 1,\n",
    "                    2,\n",
    "                    4     \n",
    "        '''"
   ]
  },
  {
   "cell_type": "code",
   "execution_count": 29,
   "id": "47739465",
   "metadata": {},
   "outputs": [
    {
     "data": {
      "text/html": [
       "<div>\n",
       "<style scoped>\n",
       "    .dataframe tbody tr th:only-of-type {\n",
       "        vertical-align: middle;\n",
       "    }\n",
       "\n",
       "    .dataframe tbody tr th {\n",
       "        vertical-align: top;\n",
       "    }\n",
       "\n",
       "    .dataframe thead th {\n",
       "        text-align: right;\n",
       "    }\n",
       "</style>\n",
       "<table border=\"1\" class=\"dataframe\">\n",
       "  <thead>\n",
       "    <tr style=\"text-align: right;\">\n",
       "      <th></th>\n",
       "      <th>book_id</th>\n",
       "      <th>title</th>\n",
       "      <th>count</th>\n",
       "      <th>avg</th>\n",
       "    </tr>\n",
       "  </thead>\n",
       "  <tbody>\n",
       "    <tr>\n",
       "      <th>0</th>\n",
       "      <td>200</td>\n",
       "      <td>Dreamcatcher</td>\n",
       "      <td>3</td>\n",
       "      <td>2.800000</td>\n",
       "    </tr>\n",
       "    <tr>\n",
       "      <th>1</th>\n",
       "      <td>593</td>\n",
       "      <td>Sputnik Sweetheart</td>\n",
       "      <td>3</td>\n",
       "      <td>3.666667</td>\n",
       "    </tr>\n",
       "    <tr>\n",
       "      <th>2</th>\n",
       "      <td>735</td>\n",
       "      <td>The God Delusion</td>\n",
       "      <td>4</td>\n",
       "      <td>4.000000</td>\n",
       "    </tr>\n",
       "    <tr>\n",
       "      <th>3</th>\n",
       "      <td>570</td>\n",
       "      <td>Silent Spring</td>\n",
       "      <td>2</td>\n",
       "      <td>3.000000</td>\n",
       "    </tr>\n",
       "    <tr>\n",
       "      <th>4</th>\n",
       "      <td>604</td>\n",
       "      <td>Surely You're Joking  Mr. Feynman!: Adventures...</td>\n",
       "      <td>3</td>\n",
       "      <td>4.250000</td>\n",
       "    </tr>\n",
       "    <tr>\n",
       "      <th>...</th>\n",
       "      <td>...</td>\n",
       "      <td>...</td>\n",
       "      <td>...</td>\n",
       "      <td>...</td>\n",
       "    </tr>\n",
       "    <tr>\n",
       "      <th>995</th>\n",
       "      <td>70</td>\n",
       "      <td>American Gods (American Gods  #1)</td>\n",
       "      <td>5</td>\n",
       "      <td>4.000000</td>\n",
       "    </tr>\n",
       "    <tr>\n",
       "      <th>996</th>\n",
       "      <td>488</td>\n",
       "      <td>Of Mice and Men</td>\n",
       "      <td>5</td>\n",
       "      <td>3.622951</td>\n",
       "    </tr>\n",
       "    <tr>\n",
       "      <th>997</th>\n",
       "      <td>886</td>\n",
       "      <td>The Tombs of Atuan (Earthsea Cycle  #2)</td>\n",
       "      <td>3</td>\n",
       "      <td>4.666667</td>\n",
       "    </tr>\n",
       "    <tr>\n",
       "      <th>998</th>\n",
       "      <td>881</td>\n",
       "      <td>The Tenth Circle</td>\n",
       "      <td>4</td>\n",
       "      <td>3.500000</td>\n",
       "    </tr>\n",
       "    <tr>\n",
       "      <th>999</th>\n",
       "      <td>983</td>\n",
       "      <td>Wild at Heart: Discovering the Secret of a Man...</td>\n",
       "      <td>2</td>\n",
       "      <td>2.500000</td>\n",
       "    </tr>\n",
       "  </tbody>\n",
       "</table>\n",
       "<p>1000 rows × 4 columns</p>\n",
       "</div>"
      ],
      "text/plain": [
       "     book_id                                              title  count  \\\n",
       "0        200                                       Dreamcatcher      3   \n",
       "1        593                                 Sputnik Sweetheart      3   \n",
       "2        735                                   The God Delusion      4   \n",
       "3        570                                      Silent Spring      2   \n",
       "4        604  Surely You're Joking  Mr. Feynman!: Adventures...      3   \n",
       "..       ...                                                ...    ...   \n",
       "995       70                  American Gods (American Gods  #1)      5   \n",
       "996      488                                    Of Mice and Men      5   \n",
       "997      886            The Tombs of Atuan (Earthsea Cycle  #2)      3   \n",
       "998      881                                   The Tenth Circle      4   \n",
       "999      983  Wild at Heart: Discovering the Secret of a Man...      2   \n",
       "\n",
       "          avg  \n",
       "0    2.800000  \n",
       "1    3.666667  \n",
       "2    4.000000  \n",
       "3    3.000000  \n",
       "4    4.250000  \n",
       "..        ...  \n",
       "995  4.000000  \n",
       "996  3.622951  \n",
       "997  4.666667  \n",
       "998  3.500000  \n",
       "999  2.500000  \n",
       "\n",
       "[1000 rows x 4 columns]"
      ]
     },
     "execution_count": 29,
     "metadata": {},
     "output_type": "execute_result"
    }
   ],
   "source": [
    "pd.io.sql.read_sql(query, con = engine) "
   ]
  },
  {
   "cell_type": "markdown",
   "id": "7b523959",
   "metadata": {},
   "source": [
    "**Построили таблицу с количеством обзоров и средней оценкой каждой книги. Наибольшее количество обзоров получили:**\n",
    "\n",
    "* Twilight (Twilight #1) - 7 обзоров, при этом средняя оценка книги - 3,66;\n",
    "* The Da Vinci Code (Robert Langdon #2) - 6 обзоров, при этом средняя оценка книги - 3,83;\n",
    "* The Road - 6 обзоров, при этом средняя оценка книги - 3,77;\n",
    "\n",
    "**Наивысшие оценки имеют книги с маленьким количеством оценок - всего 2 или 3 оценки на книгу, например Pop Goes the Weasel (Alex Cross #5 или The Ghost Map).**\n",
    "\n",
    "**При этом самые низкие рейтинги получили также книги с маленьким количеством оценок - всего 2 или 3 на книгу, например, Harvesting the Heart, которая имеет средний рейтинг 1,5 при 2 оценках.**\n",
    "\n",
    "**Всего было поставлего 2 793 оценок, средняя оценка всех книг - 3,92**"
   ]
  },
  {
   "cell_type": "code",
   "execution_count": 17,
   "id": "64a82144",
   "metadata": {},
   "outputs": [
    {
     "data": {
      "text/plain": [
       "5"
      ]
     },
     "execution_count": 17,
     "metadata": {},
     "output_type": "execute_result"
    }
   ],
   "source": [
    "reviews['review_id'].count()"
   ]
  },
  {
   "cell_type": "markdown",
   "id": "aca747f9",
   "metadata": {},
   "source": [
    " "
   ]
  },
  {
   "cell_type": "markdown",
   "id": "23d62811",
   "metadata": {},
   "source": [
    "#### Определите издательство, которое выпустило наибольшее число книг толще 50 страниц — так вы исключите из анализа брошюры;"
   ]
  },
  {
   "cell_type": "code",
   "execution_count": 18,
   "id": "1106ddf5",
   "metadata": {},
   "outputs": [],
   "source": [
    "query = '''SELECT p.publisher  \n",
    "           FROM books AS b\n",
    "           JOIN publishers AS p ON b.publisher_id = p.publisher_id\n",
    "           WHERE b.num_pages > 50\n",
    "           GROUP BY p.publisher_id\n",
    "           ORDER BY COUNT(b.book_id) DESC\n",
    "           LIMIT 1\n",
    "        '''"
   ]
  },
  {
   "cell_type": "code",
   "execution_count": 19,
   "id": "f30cfdc1",
   "metadata": {},
   "outputs": [
    {
     "data": {
      "text/html": [
       "<div>\n",
       "<style scoped>\n",
       "    .dataframe tbody tr th:only-of-type {\n",
       "        vertical-align: middle;\n",
       "    }\n",
       "\n",
       "    .dataframe tbody tr th {\n",
       "        vertical-align: top;\n",
       "    }\n",
       "\n",
       "    .dataframe thead th {\n",
       "        text-align: right;\n",
       "    }\n",
       "</style>\n",
       "<table border=\"1\" class=\"dataframe\">\n",
       "  <thead>\n",
       "    <tr style=\"text-align: right;\">\n",
       "      <th></th>\n",
       "      <th>publisher</th>\n",
       "    </tr>\n",
       "  </thead>\n",
       "  <tbody>\n",
       "    <tr>\n",
       "      <th>0</th>\n",
       "      <td>Penguin Books</td>\n",
       "    </tr>\n",
       "  </tbody>\n",
       "</table>\n",
       "</div>"
      ],
      "text/plain": [
       "       publisher\n",
       "0  Penguin Books"
      ]
     },
     "execution_count": 19,
     "metadata": {},
     "output_type": "execute_result"
    }
   ],
   "source": [
    "pd.io.sql.read_sql(query, con = engine) "
   ]
  },
  {
   "cell_type": "markdown",
   "id": "332525d1",
   "metadata": {},
   "source": [
    "**Наибольшее количество книг выпустило издательство Penguin Books - 42 книги более 50 страниц каждая**\n",
    "\n",
    "**А меньше всего - Dial Books - только 1 книга**"
   ]
  },
  {
   "cell_type": "markdown",
   "id": "fe926465",
   "metadata": {},
   "source": [
    " "
   ]
  },
  {
   "cell_type": "markdown",
   "id": "93f9d0e6",
   "metadata": {},
   "source": [
    "#### Определите автора с самой высокой средней оценкой книг — учитывайте только книги с 50 и более оценками;"
   ]
  },
  {
   "cell_type": "code",
   "execution_count": 20,
   "id": "b93fa524",
   "metadata": {},
   "outputs": [],
   "source": [
    "query = '''SELECT a.author,\n",
    "                  AVG(r.rating)\n",
    "           FROM books AS b\n",
    "           LEFT JOIN ratings AS r ON  b.book_id = r.book_id\n",
    "           LEFT JOIN authors AS a ON  b.author_id = a.author_id\n",
    "           WHERE b.book_id IN (\n",
    "                               SELECT book_id\n",
    "                               FROM ratings\n",
    "                               GROUP BY book_id\n",
    "                               HAVING COUNT(rating_id) >= 50\n",
    "                               )\n",
    "           GROUP BY a.author\n",
    "           ORDER BY avg(r.rating) DESC\n",
    "           LIMIT 1\n",
    "        '''"
   ]
  },
  {
   "cell_type": "code",
   "execution_count": 21,
   "id": "ae12df3c",
   "metadata": {},
   "outputs": [
    {
     "data": {
      "text/html": [
       "<div>\n",
       "<style scoped>\n",
       "    .dataframe tbody tr th:only-of-type {\n",
       "        vertical-align: middle;\n",
       "    }\n",
       "\n",
       "    .dataframe tbody tr th {\n",
       "        vertical-align: top;\n",
       "    }\n",
       "\n",
       "    .dataframe thead th {\n",
       "        text-align: right;\n",
       "    }\n",
       "</style>\n",
       "<table border=\"1\" class=\"dataframe\">\n",
       "  <thead>\n",
       "    <tr style=\"text-align: right;\">\n",
       "      <th></th>\n",
       "      <th>author</th>\n",
       "      <th>avg</th>\n",
       "    </tr>\n",
       "  </thead>\n",
       "  <tbody>\n",
       "    <tr>\n",
       "      <th>0</th>\n",
       "      <td>J.K. Rowling/Mary GrandPré</td>\n",
       "      <td>4.287097</td>\n",
       "    </tr>\n",
       "  </tbody>\n",
       "</table>\n",
       "</div>"
      ],
      "text/plain": [
       "                       author       avg\n",
       "0  J.K. Rowling/Mary GrandPré  4.287097"
      ]
     },
     "execution_count": 21,
     "metadata": {},
     "output_type": "execute_result"
    }
   ],
   "source": [
    "pd.io.sql.read_sql(query, con = engine) "
   ]
  },
  {
   "cell_type": "markdown",
   "id": "09f08b34",
   "metadata": {},
   "source": [
    "**J.K. Rowling и Mary GrandPré создают книги с самым высоким средним рейтингом - 4.29**\n",
    "\n",
    "**А вот John Steinbeck не такой успешный - его книги в среднем имеют рейтинг 3.62**"
   ]
  },
  {
   "cell_type": "markdown",
   "id": "79b14163",
   "metadata": {},
   "source": [
    "#### Посчитайте среднее количество обзоров от пользователей, которые поставили больше 50 оценок."
   ]
  },
  {
   "cell_type": "code",
   "execution_count": 22,
   "id": "70d6b9e3",
   "metadata": {},
   "outputs": [],
   "source": [
    "query = '''SELECT AVG(cnt)\n",
    "           FROM (\n",
    "                 SELECT COUNT(review_id)\n",
    "                 FROM reviews\n",
    "                 WHERE username in (\n",
    "                              SELECT username\n",
    "                              FROM ratings\n",
    "                              GROUP BY username\n",
    "                              HAVING COUNT(rating_id) > 50\n",
    "                              )\n",
    "                 GROUP BY username) AS cnt_rew(cnt) \n",
    "        '''"
   ]
  },
  {
   "cell_type": "code",
   "execution_count": 23,
   "id": "994ab657",
   "metadata": {},
   "outputs": [
    {
     "data": {
      "text/html": [
       "<div>\n",
       "<style scoped>\n",
       "    .dataframe tbody tr th:only-of-type {\n",
       "        vertical-align: middle;\n",
       "    }\n",
       "\n",
       "    .dataframe tbody tr th {\n",
       "        vertical-align: top;\n",
       "    }\n",
       "\n",
       "    .dataframe thead th {\n",
       "        text-align: right;\n",
       "    }\n",
       "</style>\n",
       "<table border=\"1\" class=\"dataframe\">\n",
       "  <thead>\n",
       "    <tr style=\"text-align: right;\">\n",
       "      <th></th>\n",
       "      <th>avg</th>\n",
       "    </tr>\n",
       "  </thead>\n",
       "  <tbody>\n",
       "    <tr>\n",
       "      <th>0</th>\n",
       "      <td>24.333333</td>\n",
       "    </tr>\n",
       "  </tbody>\n",
       "</table>\n",
       "</div>"
      ],
      "text/plain": [
       "         avg\n",
       "0  24.333333"
      ]
     },
     "execution_count": 23,
     "metadata": {},
     "output_type": "execute_result"
    }
   ],
   "source": [
    "pd.io.sql.read_sql(query, con = engine) "
   ]
  },
  {
   "cell_type": "markdown",
   "id": "e2e07f1d",
   "metadata": {},
   "source": [
    "**В среднем пользователи, которые поставили более 50 оценок, оставляют примерно 24 обзора, то есть примерно половину от всех оценок.**\n",
    "\n",
    "**Эти пользователи с более чем 50 оценок - jennifermiller (53), martinadam(56), paul88(56), richard89(55), sfitzgerald(55) и xdavis(51)**"
   ]
  },
  {
   "cell_type": "markdown",
   "id": "8889acfc",
   "metadata": {},
   "source": [
    "### Выводы\n",
    "\n"
   ]
  },
  {
   "cell_type": "markdown",
   "id": "75d9ae9a",
   "metadata": {},
   "source": [
    "Приобретенный сервис имеет следующие характеристики:\n",
    "    \n",
    "С 1 января 2000 года вышло 819 книг.\n",
    "\n",
    "Построили таблицу с количеством обзоров и средней оценкой каждой книги. Наибольшее количество обзоров получили:\n",
    "\n",
    "* Twilight (Twilight #1) - 7 обзоров, при этом средняя оценка книги - 3,66;\n",
    "* The Da Vinci Code (Robert Langdon #2) - 6 обзоров, при этом средняя оценка книги - 3,83;\n",
    "* The Road - 6 обзоров, при этом средняя оценка книги - 3,77;\n",
    "\n",
    "Наивысшие оценки имеют книги с маленьким количеством оценок - всего 2 или 3 оценки на книгу, например Pop Goes the Weasel (Alex Cross #5 или The Ghost Map).\n",
    "\n",
    "При этом самые низкие рейтинги получили также книги с маленьким количеством оценок - всего 2 или 3 на книгу, например, Harvesting the Heart, которая имеет средний рейтинг 1,5 при 2 оценках.\n",
    "\n",
    "**Всего было поставлего 2 793 оценок, средняя оценка всех книг - 3,92**\n",
    "\n",
    "Наибольшее количество книг выпустило издательство Penguin Books - 42 книги более 50 страниц каждая. А меньше всего - Dial Books - только 1 книга.\n",
    "\n",
    "J.K. Rowling и Mary GrandPré создают книги с самым высоким средним рейтингом - 4.29. А вот John Steinbeck не такой успешный - его книги в среднем имеют рейтинг 3.62.\n",
    "\n",
    "В среднем пользователи, которые поставили более 50 оценок, оставляют примерно 24 обзора, то есть примерно половину от всех оценок. Эти пользователи с более чем 50 оценок - jennifermiller (53), martinadam(56), paul88(56), richard89(55), sfitzgerald(55) и xdavis(51).\n",
    "\n",
    "#### Цель исследования\n",
    "\n",
    "В целом ценностное предложение можно сформулировать следующим образом: с помощью подписочной системы пользователь приобретает возможность прочитать популярные (и любимые - судя по рейтигам) книги, оставить оценку книге и отзыв о прочтении. Вы также сможете прочитать отзывы других пользователей и посмотреть оценки книг."
   ]
  }
 ],
 "metadata": {
  "ExecuteTimeLog": [
   {
    "duration": 587,
    "start_time": "2023-02-21T07:16:15.513Z"
   },
   {
    "duration": 12714,
    "start_time": "2023-02-21T07:16:16.102Z"
   },
   {
    "duration": 2,
    "start_time": "2023-02-21T07:16:28.818Z"
   },
   {
    "duration": 72,
    "start_time": "2023-02-21T07:16:28.823Z"
   },
   {
    "duration": 3,
    "start_time": "2023-02-21T07:16:28.897Z"
   },
   {
    "duration": 25,
    "start_time": "2023-02-21T07:16:28.902Z"
   },
   {
    "duration": 7,
    "start_time": "2023-02-21T07:16:28.929Z"
   },
   {
    "duration": 71,
    "start_time": "2023-02-21T07:16:28.938Z"
   },
   {
    "duration": 3,
    "start_time": "2023-02-21T07:16:29.011Z"
   },
   {
    "duration": 34,
    "start_time": "2023-02-21T07:16:29.017Z"
   },
   {
    "duration": 6,
    "start_time": "2023-02-21T07:16:29.052Z"
   },
   {
    "duration": 21,
    "start_time": "2023-02-21T07:16:29.059Z"
   },
   {
    "duration": 3,
    "start_time": "2023-02-21T07:16:29.081Z"
   },
   {
    "duration": 34,
    "start_time": "2023-02-21T07:16:29.085Z"
   },
   {
    "duration": 3,
    "start_time": "2023-02-21T07:16:29.121Z"
   },
   {
    "duration": 29,
    "start_time": "2023-02-21T07:16:29.126Z"
   },
   {
    "duration": 2,
    "start_time": "2023-02-21T07:16:29.157Z"
   },
   {
    "duration": 23,
    "start_time": "2023-02-21T07:16:29.161Z"
   },
   {
    "duration": 7,
    "start_time": "2023-02-21T07:16:29.192Z"
   },
   {
    "duration": 32,
    "start_time": "2023-02-21T07:16:29.204Z"
   },
   {
    "duration": 3,
    "start_time": "2023-02-21T07:16:29.237Z"
   },
   {
    "duration": 19,
    "start_time": "2023-02-21T07:16:29.242Z"
   },
   {
    "duration": 527,
    "start_time": "2023-02-21T07:19:54.856Z"
   },
   {
    "duration": 13753,
    "start_time": "2023-02-21T07:19:55.385Z"
   },
   {
    "duration": 3,
    "start_time": "2023-02-21T07:20:09.140Z"
   },
   {
    "duration": 104,
    "start_time": "2023-02-21T07:20:09.144Z"
   },
   {
    "duration": 3,
    "start_time": "2023-02-21T07:20:09.250Z"
   },
   {
    "duration": 28,
    "start_time": "2023-02-21T07:20:09.254Z"
   },
   {
    "duration": 6,
    "start_time": "2023-02-21T07:20:09.284Z"
   },
   {
    "duration": 53,
    "start_time": "2023-02-21T07:20:09.293Z"
   },
   {
    "duration": 3,
    "start_time": "2023-02-21T07:20:09.348Z"
   },
   {
    "duration": 99,
    "start_time": "2023-02-21T07:20:09.353Z"
   },
   {
    "duration": 25,
    "start_time": "2023-02-21T07:20:09.454Z"
   },
   {
    "duration": 57,
    "start_time": "2023-02-21T07:20:09.481Z"
   },
   {
    "duration": 2,
    "start_time": "2023-02-21T07:20:09.540Z"
   },
   {
    "duration": 16,
    "start_time": "2023-02-21T07:20:09.544Z"
   },
   {
    "duration": 4,
    "start_time": "2023-02-21T07:20:09.561Z"
   },
   {
    "duration": 52,
    "start_time": "2023-02-21T07:20:09.567Z"
   },
   {
    "duration": 4,
    "start_time": "2023-02-21T07:20:09.621Z"
   },
   {
    "duration": 28,
    "start_time": "2023-02-21T07:20:09.627Z"
   },
   {
    "duration": 10,
    "start_time": "2023-02-21T07:20:09.657Z"
   },
   {
    "duration": 48,
    "start_time": "2023-02-21T07:20:09.671Z"
   },
   {
    "duration": 5,
    "start_time": "2023-02-21T07:20:09.721Z"
   },
   {
    "duration": 44,
    "start_time": "2023-02-21T07:20:09.729Z"
   },
   {
    "duration": 8,
    "start_time": "2023-02-21T17:27:33.832Z"
   },
   {
    "duration": 47,
    "start_time": "2023-02-21T17:27:34.296Z"
   },
   {
    "duration": 496,
    "start_time": "2023-02-21T17:27:39.102Z"
   },
   {
    "duration": 8047,
    "start_time": "2023-02-21T17:27:39.600Z"
   },
   {
    "duration": 3,
    "start_time": "2023-02-21T17:27:47.649Z"
   },
   {
    "duration": 321,
    "start_time": "2023-02-21T17:27:47.653Z"
   },
   {
    "duration": 2,
    "start_time": "2023-02-21T17:27:47.977Z"
   },
   {
    "duration": 106,
    "start_time": "2023-02-21T17:27:47.981Z"
   },
   {
    "duration": 2,
    "start_time": "2023-02-21T17:27:48.089Z"
   },
   {
    "duration": 92,
    "start_time": "2023-02-21T17:27:48.093Z"
   },
   {
    "duration": 2,
    "start_time": "2023-02-21T17:27:48.187Z"
   },
   {
    "duration": 110,
    "start_time": "2023-02-21T17:27:48.191Z"
   },
   {
    "duration": 2,
    "start_time": "2023-02-21T17:27:48.303Z"
   },
   {
    "duration": 102,
    "start_time": "2023-02-21T17:27:48.307Z"
   },
   {
    "duration": 3,
    "start_time": "2023-02-21T17:27:48.411Z"
   },
   {
    "duration": 84,
    "start_time": "2023-02-21T17:27:48.418Z"
   },
   {
    "duration": 3,
    "start_time": "2023-02-21T17:27:53.977Z"
   },
   {
    "duration": 10309,
    "start_time": "2023-02-21T17:27:54.737Z"
   },
   {
    "duration": 3,
    "start_time": "2023-02-21T17:28:27.870Z"
   },
   {
    "duration": 111,
    "start_time": "2023-02-21T17:28:28.379Z"
   },
   {
    "duration": 2,
    "start_time": "2023-02-21T17:29:05.442Z"
   },
   {
    "duration": 108,
    "start_time": "2023-02-21T17:29:05.949Z"
   },
   {
    "duration": 3,
    "start_time": "2023-02-21T17:31:04.013Z"
   },
   {
    "duration": 108,
    "start_time": "2023-02-21T17:31:04.177Z"
   },
   {
    "duration": 11,
    "start_time": "2023-02-21T17:31:48.742Z"
   },
   {
    "duration": 5,
    "start_time": "2023-02-21T17:31:56.398Z"
   },
   {
    "duration": 3,
    "start_time": "2023-02-21T17:39:54.479Z"
   },
   {
    "duration": 4,
    "start_time": "2023-02-21T17:39:55.086Z"
   },
   {
    "duration": 80,
    "start_time": "2023-02-21T17:40:08.012Z"
   },
   {
    "duration": 3,
    "start_time": "2023-02-21T17:40:19.931Z"
   },
   {
    "duration": 81,
    "start_time": "2023-02-21T17:40:20.335Z"
   },
   {
    "duration": 3,
    "start_time": "2023-02-21T17:40:28.843Z"
   },
   {
    "duration": 107,
    "start_time": "2023-02-21T17:40:29.190Z"
   },
   {
    "duration": 2,
    "start_time": "2023-02-21T17:40:50.216Z"
   },
   {
    "duration": 79,
    "start_time": "2023-02-21T17:40:50.763Z"
   },
   {
    "duration": 5,
    "start_time": "2023-02-21T17:41:00.367Z"
   },
   {
    "duration": 4,
    "start_time": "2023-02-21T17:41:12.071Z"
   },
   {
    "duration": 4,
    "start_time": "2023-02-21T17:41:16.035Z"
   },
   {
    "duration": 3,
    "start_time": "2023-02-21T17:41:30.022Z"
   },
   {
    "duration": 80,
    "start_time": "2023-02-21T17:41:31.196Z"
   },
   {
    "duration": 3,
    "start_time": "2023-02-21T17:41:44.793Z"
   },
   {
    "duration": 113,
    "start_time": "2023-02-21T17:41:45.560Z"
   },
   {
    "duration": 3,
    "start_time": "2023-02-21T17:43:02.030Z"
   },
   {
    "duration": 171,
    "start_time": "2023-02-21T17:43:02.422Z"
   },
   {
    "duration": 3,
    "start_time": "2023-02-21T17:43:17.466Z"
   },
   {
    "duration": 110,
    "start_time": "2023-02-21T17:43:18.017Z"
   },
   {
    "duration": 3,
    "start_time": "2023-02-21T17:44:01.001Z"
   },
   {
    "duration": 116,
    "start_time": "2023-02-21T17:44:01.440Z"
   },
   {
    "duration": 3,
    "start_time": "2023-02-21T17:45:24.263Z"
   },
   {
    "duration": 78,
    "start_time": "2023-02-21T17:45:24.983Z"
   },
   {
    "duration": 11,
    "start_time": "2023-02-21T17:46:09.743Z"
   },
   {
    "duration": 22,
    "start_time": "2023-02-21T17:47:04.681Z"
   },
   {
    "duration": 10,
    "start_time": "2023-02-21T17:47:38.451Z"
   },
   {
    "duration": 12,
    "start_time": "2023-02-21T17:47:42.809Z"
   },
   {
    "duration": 11,
    "start_time": "2023-02-21T17:47:50.407Z"
   },
   {
    "duration": 3,
    "start_time": "2023-02-21T17:48:47.782Z"
   },
   {
    "duration": 179,
    "start_time": "2023-02-21T17:48:48.210Z"
   },
   {
    "duration": 3,
    "start_time": "2023-02-21T17:48:56.196Z"
   },
   {
    "duration": 167,
    "start_time": "2023-02-21T17:48:56.532Z"
   },
   {
    "duration": 3,
    "start_time": "2023-02-21T17:49:17.915Z"
   },
   {
    "duration": 114,
    "start_time": "2023-02-21T17:49:19.218Z"
   },
   {
    "duration": 11,
    "start_time": "2023-02-21T17:49:33.570Z"
   },
   {
    "duration": 22,
    "start_time": "2023-02-21T17:49:45.430Z"
   },
   {
    "duration": 4,
    "start_time": "2023-02-21T17:53:46.643Z"
   },
   {
    "duration": 180,
    "start_time": "2023-02-21T17:53:47.155Z"
   },
   {
    "duration": 3,
    "start_time": "2023-02-21T17:53:51.897Z"
   },
   {
    "duration": 118,
    "start_time": "2023-02-21T17:53:52.452Z"
   },
   {
    "duration": 13,
    "start_time": "2023-02-21T17:54:53.900Z"
   },
   {
    "duration": 76,
    "start_time": "2023-02-21T17:55:08.791Z"
   },
   {
    "duration": 19,
    "start_time": "2023-02-21T17:55:12.460Z"
   },
   {
    "duration": 25,
    "start_time": "2023-02-21T17:55:20.720Z"
   },
   {
    "duration": 15,
    "start_time": "2023-02-21T17:55:31.077Z"
   },
   {
    "duration": 15,
    "start_time": "2023-02-21T17:56:01.280Z"
   },
   {
    "duration": 2,
    "start_time": "2023-02-21T18:01:26.227Z"
   },
   {
    "duration": 165,
    "start_time": "2023-02-21T18:01:26.700Z"
   },
   {
    "duration": 2,
    "start_time": "2023-02-21T18:01:33.883Z"
   },
   {
    "duration": 180,
    "start_time": "2023-02-21T18:01:34.981Z"
   },
   {
    "duration": 3,
    "start_time": "2023-02-21T18:01:46.591Z"
   },
   {
    "duration": 151,
    "start_time": "2023-02-21T18:01:46.896Z"
   },
   {
    "duration": 3,
    "start_time": "2023-02-21T18:02:10.109Z"
   },
   {
    "duration": 152,
    "start_time": "2023-02-21T18:02:10.472Z"
   },
   {
    "duration": 2,
    "start_time": "2023-02-21T18:02:21.602Z"
   },
   {
    "duration": 110,
    "start_time": "2023-02-21T18:02:22.337Z"
   },
   {
    "duration": 2,
    "start_time": "2023-02-21T18:02:28.907Z"
   },
   {
    "duration": 105,
    "start_time": "2023-02-21T18:02:29.800Z"
   },
   {
    "duration": 3,
    "start_time": "2023-02-21T18:03:18.656Z"
   },
   {
    "duration": 163,
    "start_time": "2023-02-21T18:03:18.979Z"
   },
   {
    "duration": 3,
    "start_time": "2023-02-21T18:03:50.829Z"
   },
   {
    "duration": 163,
    "start_time": "2023-02-21T18:03:51.360Z"
   },
   {
    "duration": 2,
    "start_time": "2023-02-21T18:04:08.589Z"
   },
   {
    "duration": 77,
    "start_time": "2023-02-21T18:04:09.139Z"
   },
   {
    "duration": 4,
    "start_time": "2023-02-21T18:04:26.400Z"
   },
   {
    "duration": 107,
    "start_time": "2023-02-21T18:04:26.796Z"
   },
   {
    "duration": 2,
    "start_time": "2023-02-21T18:05:51.483Z"
   },
   {
    "duration": 104,
    "start_time": "2023-02-21T18:05:51.828Z"
   },
   {
    "duration": 13,
    "start_time": "2023-02-21T18:06:23.417Z"
   },
   {
    "duration": 4,
    "start_time": "2023-02-21T18:06:31.059Z"
   },
   {
    "duration": 3,
    "start_time": "2023-02-21T18:09:12.101Z"
   },
   {
    "duration": 86,
    "start_time": "2023-02-21T18:09:12.489Z"
   },
   {
    "duration": 3,
    "start_time": "2023-02-21T18:10:48.036Z"
   },
   {
    "duration": 71,
    "start_time": "2023-02-21T18:10:48.472Z"
   },
   {
    "duration": 73,
    "start_time": "2023-02-21T18:10:51.025Z"
   },
   {
    "duration": 2,
    "start_time": "2023-02-21T18:10:56.874Z"
   },
   {
    "duration": 77,
    "start_time": "2023-02-21T18:10:57.345Z"
   },
   {
    "duration": 79,
    "start_time": "2023-02-21T18:11:01.405Z"
   },
   {
    "duration": 3,
    "start_time": "2023-02-21T18:11:04.994Z"
   },
   {
    "duration": 74,
    "start_time": "2023-02-21T18:11:07.902Z"
   },
   {
    "duration": 2,
    "start_time": "2023-02-21T18:11:10.416Z"
   },
   {
    "duration": 74,
    "start_time": "2023-02-21T18:11:13.026Z"
   },
   {
    "duration": 487,
    "start_time": "2023-02-21T18:20:46.176Z"
   },
   {
    "duration": 7550,
    "start_time": "2023-02-21T18:20:46.665Z"
   },
   {
    "duration": 3,
    "start_time": "2023-02-21T18:20:54.217Z"
   },
   {
    "duration": 282,
    "start_time": "2023-02-21T18:20:54.222Z"
   },
   {
    "duration": 2,
    "start_time": "2023-02-21T18:20:54.506Z"
   },
   {
    "duration": 75,
    "start_time": "2023-02-21T18:20:54.510Z"
   },
   {
    "duration": 2,
    "start_time": "2023-02-21T18:20:54.587Z"
   },
   {
    "duration": 76,
    "start_time": "2023-02-21T18:20:54.590Z"
   },
   {
    "duration": 2,
    "start_time": "2023-02-21T18:20:54.668Z"
   },
   {
    "duration": 73,
    "start_time": "2023-02-21T18:20:54.673Z"
   },
   {
    "duration": 2,
    "start_time": "2023-02-21T18:20:54.748Z"
   },
   {
    "duration": 76,
    "start_time": "2023-02-21T18:20:54.752Z"
   },
   {
    "duration": 3,
    "start_time": "2023-02-21T18:20:54.830Z"
   },
   {
    "duration": 78,
    "start_time": "2023-02-21T18:20:54.834Z"
   },
   {
    "duration": 4,
    "start_time": "2023-02-21T18:20:54.913Z"
   },
   {
    "duration": 106,
    "start_time": "2023-02-21T18:20:54.918Z"
   },
   {
    "duration": 4,
    "start_time": "2023-02-21T18:20:55.026Z"
   },
   {
    "duration": 13,
    "start_time": "2023-02-21T18:20:55.031Z"
   },
   {
    "duration": 98,
    "start_time": "2023-02-21T18:20:55.045Z"
   },
   {
    "duration": 3,
    "start_time": "2023-02-21T18:20:55.144Z"
   },
   {
    "duration": 80,
    "start_time": "2023-02-21T18:20:55.149Z"
   },
   {
    "duration": 3,
    "start_time": "2023-02-21T18:20:55.230Z"
   },
   {
    "duration": 103,
    "start_time": "2023-02-21T18:20:55.235Z"
   },
   {
    "duration": 3,
    "start_time": "2023-02-21T18:21:18.647Z"
   },
   {
    "duration": 106,
    "start_time": "2023-02-21T18:21:18.992Z"
   },
   {
    "duration": 3,
    "start_time": "2023-02-21T18:21:28.186Z"
   },
   {
    "duration": 106,
    "start_time": "2023-02-21T18:21:28.608Z"
   },
   {
    "duration": 3,
    "start_time": "2023-02-21T18:21:34.885Z"
   },
   {
    "duration": 106,
    "start_time": "2023-02-21T18:21:35.289Z"
   }
  ],
  "kernelspec": {
   "display_name": "Python 3 (ipykernel)",
   "language": "python",
   "name": "python3"
  },
  "language_info": {
   "codemirror_mode": {
    "name": "ipython",
    "version": 3
   },
   "file_extension": ".py",
   "mimetype": "text/x-python",
   "name": "python",
   "nbconvert_exporter": "python",
   "pygments_lexer": "ipython3",
   "version": "3.10.8"
  },
  "toc": {
   "base_numbering": 1,
   "nav_menu": {},
   "number_sections": true,
   "sideBar": true,
   "skip_h1_title": true,
   "title_cell": "Table of Contents",
   "title_sidebar": "Contents",
   "toc_cell": false,
   "toc_position": {},
   "toc_section_display": true,
   "toc_window_display": false
  }
 },
 "nbformat": 4,
 "nbformat_minor": 5
}
