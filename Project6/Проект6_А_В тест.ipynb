{
 "cells": [
  {
   "cell_type": "markdown",
   "id": "7de48704",
   "metadata": {},
   "source": [
    "### Задание\n",
    "\n",
    "Первая часть: необходимо приоритезировать гипотезы с помощью фреймворков ICE, RICE, а также определить, как изменились результаты после изменения фреймворка\n",
    "\n",
    "Вторая часть: необходимо рассмотреть результаты проведения А/В теста: предобработать данные, интерпретировать результаты и принять решение о продолжении теста\n",
    "\n",
    "Для решения задач выше были предложены 3 датасета: \n",
    "* датасет с описанием гипотез (hypothesis.csv);\n",
    "* датасет с описанием заказов, которые совершили пользователи - участники А/В теста (orders.csv);\n",
    "* датасет с описанием количества участников А/В теста (visitors.csv)\n"
   ]
  },
  {
   "cell_type": "code",
   "execution_count": 3,
   "id": "e221160f",
   "metadata": {},
   "outputs": [],
   "source": [
    "#подгружаем библиотеки\n",
    "\n",
    "import pandas as pd\n",
    "import datetime as dt\n",
    "import scipy.stats as stats\n",
    "import numpy as np\n",
    "import matplotlib.pyplot as plt\n",
    "from pandas.plotting import register_matplotlib_converters\n",
    "import warnings\n",
    "\n",
    "# конвертеры, которые позволяют использовать типы pandas в matplotlib  \n",
    "register_matplotlib_converters()"
   ]
  },
  {
   "cell_type": "markdown",
   "id": "f8fda8fa",
   "metadata": {},
   "source": [
    "### Часть 1: приоритезация гипотез"
   ]
  },
  {
   "cell_type": "code",
   "execution_count": 53,
   "id": "ef1974a7",
   "metadata": {},
   "outputs": [
    {
     "data": {
      "text/html": [
       "<div>\n",
       "<style scoped>\n",
       "    .dataframe tbody tr th:only-of-type {\n",
       "        vertical-align: middle;\n",
       "    }\n",
       "\n",
       "    .dataframe tbody tr th {\n",
       "        vertical-align: top;\n",
       "    }\n",
       "\n",
       "    .dataframe thead th {\n",
       "        text-align: right;\n",
       "    }\n",
       "</style>\n",
       "<table border=\"1\" class=\"dataframe\">\n",
       "  <thead>\n",
       "    <tr style=\"text-align: right;\">\n",
       "      <th></th>\n",
       "      <th>Hypothesis</th>\n",
       "      <th>Reach</th>\n",
       "      <th>Impact</th>\n",
       "      <th>Confidence</th>\n",
       "      <th>Efforts</th>\n",
       "    </tr>\n",
       "  </thead>\n",
       "  <tbody>\n",
       "    <tr>\n",
       "      <th>0</th>\n",
       "      <td>Добавить два новых канала привлечения трафика,...</td>\n",
       "      <td>3</td>\n",
       "      <td>10</td>\n",
       "      <td>8</td>\n",
       "      <td>6</td>\n",
       "    </tr>\n",
       "    <tr>\n",
       "      <th>1</th>\n",
       "      <td>Запустить собственную службу доставки, что сок...</td>\n",
       "      <td>2</td>\n",
       "      <td>5</td>\n",
       "      <td>4</td>\n",
       "      <td>10</td>\n",
       "    </tr>\n",
       "    <tr>\n",
       "      <th>2</th>\n",
       "      <td>Добавить блоки рекомендаций товаров на сайт ин...</td>\n",
       "      <td>8</td>\n",
       "      <td>3</td>\n",
       "      <td>7</td>\n",
       "      <td>3</td>\n",
       "    </tr>\n",
       "    <tr>\n",
       "      <th>3</th>\n",
       "      <td>Изменить структура категорий, что увеличит кон...</td>\n",
       "      <td>8</td>\n",
       "      <td>3</td>\n",
       "      <td>3</td>\n",
       "      <td>8</td>\n",
       "    </tr>\n",
       "    <tr>\n",
       "      <th>4</th>\n",
       "      <td>Изменить цвет фона главной страницы, чтобы уве...</td>\n",
       "      <td>3</td>\n",
       "      <td>1</td>\n",
       "      <td>1</td>\n",
       "      <td>1</td>\n",
       "    </tr>\n",
       "  </tbody>\n",
       "</table>\n",
       "</div>"
      ],
      "text/plain": [
       "                                          Hypothesis  Reach  Impact  \\\n",
       "0  Добавить два новых канала привлечения трафика,...      3      10   \n",
       "1  Запустить собственную службу доставки, что сок...      2       5   \n",
       "2  Добавить блоки рекомендаций товаров на сайт ин...      8       3   \n",
       "3  Изменить структура категорий, что увеличит кон...      8       3   \n",
       "4  Изменить цвет фона главной страницы, чтобы уве...      3       1   \n",
       "\n",
       "   Confidence  Efforts  \n",
       "0           8        6  \n",
       "1           4       10  \n",
       "2           7        3  \n",
       "3           3        8  \n",
       "4           1        1  "
      ]
     },
     "metadata": {},
     "output_type": "display_data"
    },
    {
     "data": {
      "text/plain": [
       "array(['Добавить два новых канала привлечения трафика, что позволит привлекать на 30% больше пользователей',\n",
       "       'Запустить собственную службу доставки, что сократит срок доставки заказов',\n",
       "       'Добавить блоки рекомендаций товаров на сайт интернет магазина, чтобы повысить конверсию и средний чек заказа',\n",
       "       'Изменить структура категорий, что увеличит конверсию, т.к. пользователи быстрее найдут нужный товар',\n",
       "       'Изменить цвет фона главной страницы, чтобы увеличить вовлеченность пользователей',\n",
       "       'Добавить страницу отзывов клиентов о магазине, что позволит увеличить количество заказов',\n",
       "       'Показать на главной странице баннеры с актуальными акциями и распродажами, чтобы увеличить конверсию',\n",
       "       'Добавить форму подписки на все основные страницы, чтобы собрать базу клиентов для email-рассылок',\n",
       "       'Запустить акцию, дающую скидку на товар в день рождения'],\n",
       "      dtype=object)"
      ]
     },
     "execution_count": 53,
     "metadata": {},
     "output_type": "execute_result"
    }
   ],
   "source": [
    "#подгружаем данные\n",
    "\n",
    "try:\n",
    "    data_hypothesis = pd.read_csv(\"~/Desktop/projects/hypothesis.csv\")\n",
    "except:\n",
    "    data_hypothesis = pd.read_csv(\"/datasets/hypothesis.csv\")\n",
    "\n",
    "display(data_hypothesis.head())\n",
    "\n",
    "data_hypothesis['Hypothesis'].unique()"
   ]
  },
  {
   "cell_type": "code",
   "execution_count": 5,
   "id": "85a07e08",
   "metadata": {},
   "outputs": [
    {
     "name": "stdout",
     "output_type": "stream",
     "text": [
      "<class 'pandas.core.frame.DataFrame'>\n",
      "RangeIndex: 9 entries, 0 to 8\n",
      "Data columns (total 5 columns):\n",
      " #   Column      Non-Null Count  Dtype \n",
      "---  ------      --------------  ----- \n",
      " 0   Hypothesis  9 non-null      object\n",
      " 1   Reach       9 non-null      int64 \n",
      " 2   Impact      9 non-null      int64 \n",
      " 3   Confidence  9 non-null      int64 \n",
      " 4   Efforts     9 non-null      int64 \n",
      "dtypes: int64(4), object(1)\n",
      "memory usage: 488.0+ bytes\n"
     ]
    }
   ],
   "source": [
    "#проверим данные на наличие пустых значений, тип данных\n",
    "\n",
    "data_hypothesis.info()"
   ]
  },
  {
   "cell_type": "markdown",
   "id": "b919608b",
   "metadata": {},
   "source": [
    "В датасете 9 гипотез, оценки имеют тип данных int64 - целочисленные значения, пустые значения отсутствуют"
   ]
  },
  {
   "cell_type": "code",
   "execution_count": 54,
   "id": "833ff4a4",
   "metadata": {},
   "outputs": [
    {
     "data": {
      "text/html": [
       "<div>\n",
       "<style scoped>\n",
       "    .dataframe tbody tr th:only-of-type {\n",
       "        vertical-align: middle;\n",
       "    }\n",
       "\n",
       "    .dataframe tbody tr th {\n",
       "        vertical-align: top;\n",
       "    }\n",
       "\n",
       "    .dataframe thead th {\n",
       "        text-align: right;\n",
       "    }\n",
       "</style>\n",
       "<table border=\"1\" class=\"dataframe\">\n",
       "  <thead>\n",
       "    <tr style=\"text-align: right;\">\n",
       "      <th></th>\n",
       "      <th>Hypothesis</th>\n",
       "      <th>Reach</th>\n",
       "      <th>Impact</th>\n",
       "      <th>Confidence</th>\n",
       "      <th>Efforts</th>\n",
       "      <th>ICE</th>\n",
       "    </tr>\n",
       "  </thead>\n",
       "  <tbody>\n",
       "    <tr>\n",
       "      <th>8</th>\n",
       "      <td>Запустить акцию, дающую скидку на товар в день...</td>\n",
       "      <td>1</td>\n",
       "      <td>9</td>\n",
       "      <td>9</td>\n",
       "      <td>5</td>\n",
       "      <td>16.20</td>\n",
       "    </tr>\n",
       "    <tr>\n",
       "      <th>0</th>\n",
       "      <td>Добавить два новых канала привлечения трафика,...</td>\n",
       "      <td>3</td>\n",
       "      <td>10</td>\n",
       "      <td>8</td>\n",
       "      <td>6</td>\n",
       "      <td>13.33</td>\n",
       "    </tr>\n",
       "    <tr>\n",
       "      <th>7</th>\n",
       "      <td>Добавить форму подписки на все основные страни...</td>\n",
       "      <td>10</td>\n",
       "      <td>7</td>\n",
       "      <td>8</td>\n",
       "      <td>5</td>\n",
       "      <td>11.20</td>\n",
       "    </tr>\n",
       "    <tr>\n",
       "      <th>6</th>\n",
       "      <td>Показать на главной странице баннеры с актуаль...</td>\n",
       "      <td>5</td>\n",
       "      <td>3</td>\n",
       "      <td>8</td>\n",
       "      <td>3</td>\n",
       "      <td>8.00</td>\n",
       "    </tr>\n",
       "    <tr>\n",
       "      <th>2</th>\n",
       "      <td>Добавить блоки рекомендаций товаров на сайт ин...</td>\n",
       "      <td>8</td>\n",
       "      <td>3</td>\n",
       "      <td>7</td>\n",
       "      <td>3</td>\n",
       "      <td>7.00</td>\n",
       "    </tr>\n",
       "  </tbody>\n",
       "</table>\n",
       "</div>"
      ],
      "text/plain": [
       "                                          Hypothesis  Reach  Impact  \\\n",
       "8  Запустить акцию, дающую скидку на товар в день...      1       9   \n",
       "0  Добавить два новых канала привлечения трафика,...      3      10   \n",
       "7  Добавить форму подписки на все основные страни...     10       7   \n",
       "6  Показать на главной странице баннеры с актуаль...      5       3   \n",
       "2  Добавить блоки рекомендаций товаров на сайт ин...      8       3   \n",
       "\n",
       "   Confidence  Efforts    ICE  \n",
       "8           9        5  16.20  \n",
       "0           8        6  13.33  \n",
       "7           8        5  11.20  \n",
       "6           8        3   8.00  \n",
       "2           7        3   7.00  "
      ]
     },
     "execution_count": 54,
     "metadata": {},
     "output_type": "execute_result"
    }
   ],
   "source": [
    "#приоритезируем гипотезы с помощью фреймворка ICE:\n",
    "\n",
    "data_hypothesis['ICE'] = round(data_hypothesis['Impact'] * data_hypothesis['Confidence'] / data_hypothesis['Efforts'],2)\n",
    "\n",
    "data_hypothesis.sort_values(by = 'ICE', ascending = False).head()"
   ]
  },
  {
   "cell_type": "markdown",
   "id": "aacfb94c",
   "metadata": {},
   "source": [
    "Среди всех гипотез приоритет по фреймворку ICE получают гипотезы под номером 9, 1 и 8 (индексы гипотез соответственно - 8, 0, 7)."
   ]
  },
  {
   "cell_type": "code",
   "execution_count": 7,
   "id": "c21dce59",
   "metadata": {},
   "outputs": [
    {
     "data": {
      "text/html": [
       "<div>\n",
       "<style scoped>\n",
       "    .dataframe tbody tr th:only-of-type {\n",
       "        vertical-align: middle;\n",
       "    }\n",
       "\n",
       "    .dataframe tbody tr th {\n",
       "        vertical-align: top;\n",
       "    }\n",
       "\n",
       "    .dataframe thead th {\n",
       "        text-align: right;\n",
       "    }\n",
       "</style>\n",
       "<table border=\"1\" class=\"dataframe\">\n",
       "  <thead>\n",
       "    <tr style=\"text-align: right;\">\n",
       "      <th></th>\n",
       "      <th>Hypothesis</th>\n",
       "      <th>Reach</th>\n",
       "      <th>Impact</th>\n",
       "      <th>Confidence</th>\n",
       "      <th>Efforts</th>\n",
       "      <th>ICE</th>\n",
       "      <th>RICE</th>\n",
       "    </tr>\n",
       "  </thead>\n",
       "  <tbody>\n",
       "    <tr>\n",
       "      <th>7</th>\n",
       "      <td>Добавить форму подписки на все основные страни...</td>\n",
       "      <td>10</td>\n",
       "      <td>7</td>\n",
       "      <td>8</td>\n",
       "      <td>5</td>\n",
       "      <td>11.200000</td>\n",
       "      <td>112.0</td>\n",
       "    </tr>\n",
       "    <tr>\n",
       "      <th>2</th>\n",
       "      <td>Добавить блоки рекомендаций товаров на сайт ин...</td>\n",
       "      <td>8</td>\n",
       "      <td>3</td>\n",
       "      <td>7</td>\n",
       "      <td>3</td>\n",
       "      <td>7.000000</td>\n",
       "      <td>56.0</td>\n",
       "    </tr>\n",
       "    <tr>\n",
       "      <th>0</th>\n",
       "      <td>Добавить два новых канала привлечения трафика,...</td>\n",
       "      <td>3</td>\n",
       "      <td>10</td>\n",
       "      <td>8</td>\n",
       "      <td>6</td>\n",
       "      <td>13.333333</td>\n",
       "      <td>40.0</td>\n",
       "    </tr>\n",
       "    <tr>\n",
       "      <th>6</th>\n",
       "      <td>Показать на главной странице баннеры с актуаль...</td>\n",
       "      <td>5</td>\n",
       "      <td>3</td>\n",
       "      <td>8</td>\n",
       "      <td>3</td>\n",
       "      <td>8.000000</td>\n",
       "      <td>40.0</td>\n",
       "    </tr>\n",
       "    <tr>\n",
       "      <th>8</th>\n",
       "      <td>Запустить акцию, дающую скидку на товар в день...</td>\n",
       "      <td>1</td>\n",
       "      <td>9</td>\n",
       "      <td>9</td>\n",
       "      <td>5</td>\n",
       "      <td>16.200000</td>\n",
       "      <td>16.2</td>\n",
       "    </tr>\n",
       "  </tbody>\n",
       "</table>\n",
       "</div>"
      ],
      "text/plain": [
       "                                          Hypothesis  Reach  Impact  \\\n",
       "7  Добавить форму подписки на все основные страни...     10       7   \n",
       "2  Добавить блоки рекомендаций товаров на сайт ин...      8       3   \n",
       "0  Добавить два новых канала привлечения трафика,...      3      10   \n",
       "6  Показать на главной странице баннеры с актуаль...      5       3   \n",
       "8  Запустить акцию, дающую скидку на товар в день...      1       9   \n",
       "\n",
       "   Confidence  Efforts        ICE   RICE  \n",
       "7           8        5  11.200000  112.0  \n",
       "2           7        3   7.000000   56.0  \n",
       "0           8        6  13.333333   40.0  \n",
       "6           8        3   8.000000   40.0  \n",
       "8           9        5  16.200000   16.2  "
      ]
     },
     "execution_count": 7,
     "metadata": {},
     "output_type": "execute_result"
    }
   ],
   "source": [
    "#приоритезируем гипотезы с помощью фреймворка RICE:\n",
    "\n",
    "data_hypothesis['RICE'] = data_hypothesis['Reach'] * data_hypothesis['Impact'] * data_hypothesis['Confidence'] / data_hypothesis['Efforts']\n",
    "\n",
    "data_hypothesis.sort_values(by = 'RICE', ascending = False).head()"
   ]
  },
  {
   "cell_type": "markdown",
   "id": "b72b2789",
   "metadata": {},
   "source": [
    "Среди всех гипотез приоритет по фреймворку RICE получают гипотезы под номером 8, 3 и 1 (индексы гипотез соответственно - 7, 2, 0)."
   ]
  },
  {
   "cell_type": "markdown",
   "id": "2181ba49",
   "metadata": {},
   "source": [
    "После того, как к приоритезации гипотез был добавлен пункт **достижимость**, приоритезация гипотез изменилась: \n",
    "    9я гипотеза переместилась с 1 позиции на 5ю (потому что достижимость этой гипотезы имеет наименьшую оценку - 1). \n",
    "    \n",
    "Более высокий приоритет получили гипотезы, которые по оценке более достижимы:\n",
    "* 8я гипотеза с оценкой 10, \n",
    "* 3я гипотеза с оценкой 8. \n",
    "    \n",
    "В тройке лидеров осталась первая гипотеза - она имеет высокие оценки по влиянию и уверенности в оценках "
   ]
  },
  {
   "cell_type": "code",
   "execution_count": 8,
   "id": "33a32686",
   "metadata": {},
   "outputs": [
    {
     "data": {
      "text/plain": [
       "array(['Добавить два новых канала привлечения трафика, что позволит привлекать на 30% больше пользователей',\n",
       "       'Запустить собственную службу доставки, что сократит срок доставки заказов',\n",
       "       'Добавить блоки рекомендаций товаров на сайт интернет магазина, чтобы повысить конверсию и средний чек заказа',\n",
       "       'Изменить структура категорий, что увеличит конверсию, т.к. пользователи быстрее найдут нужный товар',\n",
       "       'Изменить цвет фона главной страницы, чтобы увеличить вовлеченность пользователей',\n",
       "       'Добавить страницу отзывов клиентов о магазине, что позволит увеличить количество заказов',\n",
       "       'Показать на главной странице баннеры с актуальными акциями и распродажами, чтобы увеличить конверсию',\n",
       "       'Добавить форму подписки на все основные страницы, чтобы собрать базу клиентов для email-рассылок',\n",
       "       'Запустить акцию, дающую скидку на товар в день рождения'],\n",
       "      dtype=object)"
      ]
     },
     "execution_count": 8,
     "metadata": {},
     "output_type": "execute_result"
    }
   ],
   "source": [
    "data_hypothesis['Hypothesis'].unique()"
   ]
  },
  {
   "cell_type": "markdown",
   "id": "a6d09c3f",
   "metadata": {},
   "source": [
    "### Выводы:\n",
    "\n",
    "В датасете 9 гипотез, оценки имеют тип данных int64 - целочисленные значения, пустые значения отсутствуют\n",
    "\n",
    "По результатам применения фреймворков RICE приоритетными считаются гипотезы (по порядку):\n",
    "* Добавить форму подписки на все основные страницы, чтобы собрать базу клиентов для email-рассылок (гипотеза 8);\n",
    "* Добавить блоки рекомендаций товаров на сайт интернет магазина, чтобы повысить конверсию и средний чек заказа (гипотеза 3);\n",
    "* Добавить два новых канала привлечения трафика, что позволит привлекать на 30% больше пользователей (гипотеза 1).\n",
    "\n",
    "По результатам применения фреймворков ICE приоритетными считаются гипотезы (по порядку):\n",
    "* Запустить акцию, дающую скидку на товар в день рождения (гипотеза 9)\n",
    "* гипотеза 1 (выше);\n",
    "* гипотеза 8 (выше).\n",
    "\n",
    "На итоговый список приоритетных гипотез оказал влияние показатель достижимости (R)."
   ]
  },
  {
   "cell_type": "markdown",
   "id": "3ec7d64f",
   "metadata": {},
   "source": [
    "### Часть 2: A/B тестирование"
   ]
  },
  {
   "cell_type": "code",
   "execution_count": 9,
   "id": "c65bc2b1",
   "metadata": {},
   "outputs": [
    {
     "data": {
      "text/html": [
       "<div>\n",
       "<style scoped>\n",
       "    .dataframe tbody tr th:only-of-type {\n",
       "        vertical-align: middle;\n",
       "    }\n",
       "\n",
       "    .dataframe tbody tr th {\n",
       "        vertical-align: top;\n",
       "    }\n",
       "\n",
       "    .dataframe thead th {\n",
       "        text-align: right;\n",
       "    }\n",
       "</style>\n",
       "<table border=\"1\" class=\"dataframe\">\n",
       "  <thead>\n",
       "    <tr style=\"text-align: right;\">\n",
       "      <th></th>\n",
       "      <th>transactionId</th>\n",
       "      <th>visitorId</th>\n",
       "      <th>date</th>\n",
       "      <th>revenue</th>\n",
       "      <th>group</th>\n",
       "    </tr>\n",
       "  </thead>\n",
       "  <tbody>\n",
       "    <tr>\n",
       "      <th>0</th>\n",
       "      <td>3667963787</td>\n",
       "      <td>3312258926</td>\n",
       "      <td>2019-08-15</td>\n",
       "      <td>1650</td>\n",
       "      <td>B</td>\n",
       "    </tr>\n",
       "    <tr>\n",
       "      <th>1</th>\n",
       "      <td>2804400009</td>\n",
       "      <td>3642806036</td>\n",
       "      <td>2019-08-15</td>\n",
       "      <td>730</td>\n",
       "      <td>B</td>\n",
       "    </tr>\n",
       "    <tr>\n",
       "      <th>2</th>\n",
       "      <td>2961555356</td>\n",
       "      <td>4069496402</td>\n",
       "      <td>2019-08-15</td>\n",
       "      <td>400</td>\n",
       "      <td>A</td>\n",
       "    </tr>\n",
       "    <tr>\n",
       "      <th>3</th>\n",
       "      <td>3797467345</td>\n",
       "      <td>1196621759</td>\n",
       "      <td>2019-08-15</td>\n",
       "      <td>9759</td>\n",
       "      <td>B</td>\n",
       "    </tr>\n",
       "    <tr>\n",
       "      <th>4</th>\n",
       "      <td>2282983706</td>\n",
       "      <td>2322279887</td>\n",
       "      <td>2019-08-15</td>\n",
       "      <td>2308</td>\n",
       "      <td>B</td>\n",
       "    </tr>\n",
       "  </tbody>\n",
       "</table>\n",
       "</div>"
      ],
      "text/plain": [
       "   transactionId   visitorId        date  revenue group\n",
       "0     3667963787  3312258926  2019-08-15     1650     B\n",
       "1     2804400009  3642806036  2019-08-15      730     B\n",
       "2     2961555356  4069496402  2019-08-15      400     A\n",
       "3     3797467345  1196621759  2019-08-15     9759     B\n",
       "4     2282983706  2322279887  2019-08-15     2308     B"
      ]
     },
     "metadata": {},
     "output_type": "display_data"
    },
    {
     "data": {
      "text/html": [
       "<div>\n",
       "<style scoped>\n",
       "    .dataframe tbody tr th:only-of-type {\n",
       "        vertical-align: middle;\n",
       "    }\n",
       "\n",
       "    .dataframe tbody tr th {\n",
       "        vertical-align: top;\n",
       "    }\n",
       "\n",
       "    .dataframe thead th {\n",
       "        text-align: right;\n",
       "    }\n",
       "</style>\n",
       "<table border=\"1\" class=\"dataframe\">\n",
       "  <thead>\n",
       "    <tr style=\"text-align: right;\">\n",
       "      <th></th>\n",
       "      <th>date</th>\n",
       "      <th>group</th>\n",
       "      <th>visitors</th>\n",
       "    </tr>\n",
       "  </thead>\n",
       "  <tbody>\n",
       "    <tr>\n",
       "      <th>0</th>\n",
       "      <td>2019-08-01</td>\n",
       "      <td>A</td>\n",
       "      <td>719</td>\n",
       "    </tr>\n",
       "    <tr>\n",
       "      <th>1</th>\n",
       "      <td>2019-08-02</td>\n",
       "      <td>A</td>\n",
       "      <td>619</td>\n",
       "    </tr>\n",
       "    <tr>\n",
       "      <th>2</th>\n",
       "      <td>2019-08-03</td>\n",
       "      <td>A</td>\n",
       "      <td>507</td>\n",
       "    </tr>\n",
       "    <tr>\n",
       "      <th>3</th>\n",
       "      <td>2019-08-04</td>\n",
       "      <td>A</td>\n",
       "      <td>717</td>\n",
       "    </tr>\n",
       "    <tr>\n",
       "      <th>4</th>\n",
       "      <td>2019-08-05</td>\n",
       "      <td>A</td>\n",
       "      <td>756</td>\n",
       "    </tr>\n",
       "  </tbody>\n",
       "</table>\n",
       "</div>"
      ],
      "text/plain": [
       "         date group  visitors\n",
       "0  2019-08-01     A       719\n",
       "1  2019-08-02     A       619\n",
       "2  2019-08-03     A       507\n",
       "3  2019-08-04     A       717\n",
       "4  2019-08-05     A       756"
      ]
     },
     "metadata": {},
     "output_type": "display_data"
    }
   ],
   "source": [
    "#подгружаем данные\n",
    "\n",
    "try:\n",
    "    orders = pd.read_csv(\"~/Desktop/projects/orders.csv\")\n",
    "except:\n",
    "    orders = pd.read_csv(\"/datasets/orders.csv\")\n",
    "\n",
    "try:\n",
    "    visitors = pd.read_csv(\"~/Desktop/projects/visitors.csv\")\n",
    "except:\n",
    "    visitors = pd.read_csv(\"/datasets/visitors.csv\")    \n",
    "    \n",
    "display(orders.head(), visitors.head())"
   ]
  },
  {
   "cell_type": "code",
   "execution_count": 10,
   "id": "81da9259",
   "metadata": {},
   "outputs": [
    {
     "name": "stdout",
     "output_type": "stream",
     "text": [
      "<class 'pandas.core.frame.DataFrame'>\n",
      "RangeIndex: 1197 entries, 0 to 1196\n",
      "Data columns (total 5 columns):\n",
      " #   Column         Non-Null Count  Dtype \n",
      "---  ------         --------------  ----- \n",
      " 0   transactionId  1197 non-null   int64 \n",
      " 1   visitorId      1197 non-null   int64 \n",
      " 2   date           1197 non-null   object\n",
      " 3   revenue        1197 non-null   int64 \n",
      " 4   group          1197 non-null   object\n",
      "dtypes: int64(3), object(2)\n",
      "memory usage: 46.9+ KB\n"
     ]
    }
   ],
   "source": [
    "#предобработка данных и инфо о данных - orders\n",
    "\n",
    "orders.info()"
   ]
  },
  {
   "cell_type": "markdown",
   "id": "ba47d16e",
   "metadata": {},
   "source": [
    "Датасет содержит 1 197 строк и 5 столбцов. Данные по ID транзакциям, ID пользователям и сумме выручки - целочисленные значения (int64), дата и обозначение группы - тип строки.\n",
    "Пустых значений нет. Дублирующие строки отсутствуют"
   ]
  },
  {
   "cell_type": "code",
   "execution_count": 11,
   "id": "0ffd0741",
   "metadata": {},
   "outputs": [
    {
     "data": {
      "text/plain": [
       "0"
      ]
     },
     "execution_count": 11,
     "metadata": {},
     "output_type": "execute_result"
    }
   ],
   "source": [
    "# проверка на дубликаты\n",
    "\n",
    "orders.duplicated().sum()"
   ]
  },
  {
   "cell_type": "code",
   "execution_count": 12,
   "id": "0f2607da",
   "metadata": {},
   "outputs": [
    {
     "name": "stdout",
     "output_type": "stream",
     "text": [
      "<class 'pandas.core.frame.DataFrame'>\n",
      "RangeIndex: 62 entries, 0 to 61\n",
      "Data columns (total 3 columns):\n",
      " #   Column    Non-Null Count  Dtype \n",
      "---  ------    --------------  ----- \n",
      " 0   date      62 non-null     object\n",
      " 1   group     62 non-null     object\n",
      " 2   visitors  62 non-null     int64 \n",
      "dtypes: int64(1), object(2)\n",
      "memory usage: 1.6+ KB\n"
     ]
    }
   ],
   "source": [
    "#предобработка данных и инфо о данных - visitors\n",
    "\n",
    "visitors.info()"
   ]
  },
  {
   "cell_type": "markdown",
   "id": "7f258fe6",
   "metadata": {},
   "source": [
    "Датасет содержит 62 строки и 3 столбца. Данные по дате и обозначении группы - тип строки. Количество пользователей - целочисленное значение (int64).\n",
    "Пустых значений нет. Дублирующие строки отсутствуют"
   ]
  },
  {
   "cell_type": "code",
   "execution_count": 13,
   "id": "9b867a2c",
   "metadata": {},
   "outputs": [
    {
     "data": {
      "text/plain": [
       "0"
      ]
     },
     "execution_count": 13,
     "metadata": {},
     "output_type": "execute_result"
    }
   ],
   "source": [
    "# проверка на дубликаты\n",
    "\n",
    "visitors.duplicated().sum()"
   ]
  },
  {
   "cell_type": "code",
   "execution_count": 14,
   "id": "be23d12a",
   "metadata": {},
   "outputs": [],
   "source": [
    "#преобразуем данные по дате\n",
    "\n",
    "orders['date'] = orders['date'].map(\n",
    "    lambda x: dt.datetime.strptime(x, '%Y-%m-%d')\n",
    ")\n",
    "\n",
    "visitors['date'] = visitors['date'].map(\n",
    "    lambda x: dt.datetime.strptime(x, '%Y-%m-%d')\n",
    ")"
   ]
  },
  {
   "cell_type": "code",
   "execution_count": 15,
   "id": "b40a35b8",
   "metadata": {},
   "outputs": [
    {
     "name": "stdout",
     "output_type": "stream",
     "text": [
      "<class 'pandas.core.frame.DataFrame'>\n",
      "RangeIndex: 1197 entries, 0 to 1196\n",
      "Data columns (total 5 columns):\n",
      " #   Column         Non-Null Count  Dtype         \n",
      "---  ------         --------------  -----         \n",
      " 0   transactionId  1197 non-null   int64         \n",
      " 1   visitorId      1197 non-null   int64         \n",
      " 2   date           1197 non-null   datetime64[ns]\n",
      " 3   revenue        1197 non-null   int64         \n",
      " 4   group          1197 non-null   object        \n",
      "dtypes: datetime64[ns](1), int64(3), object(1)\n",
      "memory usage: 46.9+ KB\n"
     ]
    }
   ],
   "source": [
    "#преобразовали даты под тип datetime64[ns]\n",
    "\n",
    "orders.info()"
   ]
  },
  {
   "cell_type": "code",
   "execution_count": 16,
   "id": "0536043b",
   "metadata": {},
   "outputs": [
    {
     "name": "stdout",
     "output_type": "stream",
     "text": [
      "<class 'pandas.core.frame.DataFrame'>\n",
      "RangeIndex: 62 entries, 0 to 61\n",
      "Data columns (total 3 columns):\n",
      " #   Column    Non-Null Count  Dtype         \n",
      "---  ------    --------------  -----         \n",
      " 0   date      62 non-null     datetime64[ns]\n",
      " 1   group     62 non-null     object        \n",
      " 2   visitors  62 non-null     int64         \n",
      "dtypes: datetime64[ns](1), int64(1), object(1)\n",
      "memory usage: 1.6+ KB\n"
     ]
    }
   ],
   "source": [
    "#преобразовали даты под тип datetime64[ns]\n",
    "\n",
    "visitors.info()"
   ]
  },
  {
   "cell_type": "code",
   "execution_count": 17,
   "id": "6ce4232d",
   "metadata": {},
   "outputs": [
    {
     "data": {
      "text/plain": [
       "array([   8300375,  199603092,  232979603,  237748145,  276558944,\n",
       "        351125977,  393266494,  457167155,  471551937,  477780734,\n",
       "        818047933,  963407295, 1230306981, 1294878855, 1316129916,\n",
       "       1333886533, 1404934699, 1602967004, 1614305549, 1648269707,\n",
       "       1668030113, 1738359350, 1801183820, 1959144690, 2038680547,\n",
       "       2044997962, 2378935119, 2458001652, 2579882178, 2587333274,\n",
       "       2600415354, 2654030115, 2686716486, 2712142231, 2716752286,\n",
       "       2780786433, 2927087541, 2949041841, 2954449915, 3062433592,\n",
       "       3202540741, 3234906277, 3656415546, 3717692402, 3766097110,\n",
       "       3803269165, 3891541246, 3941795274, 3951559397, 3957174400,\n",
       "       3963646447, 3972127743, 3984495233, 4069496402, 4120364173,\n",
       "       4186807279, 4256040402, 4266935830])"
      ]
     },
     "execution_count": 17,
     "metadata": {},
     "output_type": "execute_result"
    }
   ],
   "source": [
    "#выясним, есть ли пользователи, которые попали в группу А и в группу В\n",
    "\n",
    "users_dublicated = np.intersect1d(orders.query('group == \"A\"')['visitorId'].unique(), orders.query('group == \"B\"')['visitorId'].unique())\n",
    "\n",
    "users_dublicated"
   ]
  },
  {
   "cell_type": "markdown",
   "id": "93ce15f6",
   "metadata": {},
   "source": [
    "У нас появились 58 пользователей, которые попали и в группу А, и в группу В. Отчистим датасет от этих пользователей"
   ]
  },
  {
   "cell_type": "code",
   "execution_count": 18,
   "id": "b25d2999",
   "metadata": {},
   "outputs": [
    {
     "name": "stdout",
     "output_type": "stream",
     "text": [
      "<class 'pandas.core.frame.DataFrame'>\n",
      "Int64Index: 1016 entries, 0 to 1196\n",
      "Data columns (total 5 columns):\n",
      " #   Column         Non-Null Count  Dtype         \n",
      "---  ------         --------------  -----         \n",
      " 0   transactionId  1016 non-null   int64         \n",
      " 1   visitorId      1016 non-null   int64         \n",
      " 2   date           1016 non-null   datetime64[ns]\n",
      " 3   revenue        1016 non-null   int64         \n",
      " 4   group          1016 non-null   object        \n",
      "dtypes: datetime64[ns](1), int64(3), object(1)\n",
      "memory usage: 47.6+ KB\n"
     ]
    }
   ],
   "source": [
    "orders = orders[np.logical_not(orders['visitorId'].isin(users_dublicated))]\n",
    "orders.info()"
   ]
  },
  {
   "cell_type": "markdown",
   "id": "c518b338",
   "metadata": {},
   "source": [
    "Датасет содержит 1 016 строк и 5 столбцов. Данные по ID транзакциям, ID пользователям и сумме выручки - целочисленные значения (int64), дата - datetime, обозначение группы - тип строки. Пустых значений нет. Дублирующие строки отсутствуют"
   ]
  },
  {
   "cell_type": "markdown",
   "id": "ec6c326b",
   "metadata": {},
   "source": [
    "#### Постройте график кумулятивной выручки по группам. Сделайте выводы и предположения."
   ]
  },
  {
   "cell_type": "code",
   "execution_count": 19,
   "id": "12dbb202",
   "metadata": {},
   "outputs": [],
   "source": [
    "#датафрейм datesGroups содержит уникальные пары значений 'date' и 'group' из таблицы orders. \n",
    "#Избавились от дубликатов методом drop_duplicates()\n",
    "\n",
    "datesGroups = orders[['date', 'group']].drop_duplicates()"
   ]
  },
  {
   "cell_type": "code",
   "execution_count": 20,
   "id": "a8516f6d",
   "metadata": {},
   "outputs": [],
   "source": [
    "#Объявили переменную ordersAggregated, содержащую дату, группу A/B-теста, число уникальных заказов в группе теста \n",
    "#по указанную дату включительно, число уникальных пользователей, совершивших хотя бы 1 заказ в группе теста по указанную дату \n",
    "#включительно, суммарную выручку заказов в группе теста по указанную дату включительно.\n",
    "\n",
    "ordersAggregated = datesGroups.apply(lambda x: orders[np.logical_and(orders['date'] <= x['date'], orders['group'] == x['group'])].agg({'date' : 'max', 'group' : 'max', 'transactionId' : 'nunique', 'visitorId' : 'nunique', 'revenue' : 'sum'}), axis=1).sort_values(by=['date','group'])\n",
    "\n",
    "#Объявили переменную visitorsAggregated, содержащую дату, группу A/B-теста, количество уникальных посетителей в группе \n",
    "# теста по указанную дату включительно.\n",
    "\n",
    "visitorsAggregated = datesGroups.apply(lambda x: visitors[np.logical_and(visitors['date'] <= x['date'], visitors['group'] == x['group'])].agg({'date' : 'max', 'group' : 'max', 'visitors' : 'sum'}), axis=1).sort_values(by=['date','group'])\n"
   ]
  },
  {
   "cell_type": "code",
   "execution_count": 21,
   "id": "4de85784",
   "metadata": {},
   "outputs": [
    {
     "name": "stdout",
     "output_type": "stream",
     "text": [
      "        date group  orders  buyers  revenue  visitors\n",
      "0 2019-08-01     A      23      19   142779       719\n",
      "1 2019-08-01     B      17      17    59758       713\n",
      "2 2019-08-02     A      42      36   234381      1338\n",
      "3 2019-08-02     B      40      39   221801      1294\n",
      "4 2019-08-03     A      66      60   346854      1845\n"
     ]
    }
   ],
   "source": [
    "# Определили переменную cumulativeData, объединив ordersAggregated и visitorsAggregated. Присвоили имена столбцам, вывели \n",
    "# датасет на экран\n",
    "\n",
    "cumulativeData = ordersAggregated.merge(visitorsAggregated, left_on=['date', 'group'], right_on=['date', 'group'])\n",
    "\n",
    "cumulativeData.columns = ['date', 'group', 'orders', 'buyers', 'revenue', 'visitors']\n",
    "\n",
    "print(cumulativeData.head())"
   ]
  },
  {
   "cell_type": "code",
   "execution_count": 22,
   "id": "2affbcbc",
   "metadata": {},
   "outputs": [],
   "source": [
    "# Объявили переменные cumulativeRevenueA и cumulativeRevenueB, \n",
    "# в которых сохранили данные о датах, выручке и числе заказов в группах A и B\n",
    "\n",
    "cumulativeRevenueA = cumulativeData[cumulativeData['group'] == 'A'][['date', 'revenue', 'orders']]\n",
    "\n",
    "cumulativeRevenueB = cumulativeData[cumulativeData['group'] == 'B'][['date', 'revenue', 'orders']]"
   ]
  },
  {
   "cell_type": "code",
   "execution_count": 55,
   "id": "d9ca9dd1",
   "metadata": {},
   "outputs": [
    {
     "data": {
      "image/png": "[encoded data removed]",
      "text/plain": [
       "<Figure size 432x288 with 1 Axes>"
      ]
     },
     "metadata": {
      "needs_background": "light"
     },
     "output_type": "display_data"
    }
   ],
   "source": [
    "# Построили графики кумулятивной выручки по дням по группам.\n",
    "\n",
    "plt.plot(cumulativeRevenueA['date'], cumulativeRevenueA['revenue'], label='A')\n",
    "plt.plot(cumulativeRevenueB['date'], cumulativeRevenueB['revenue'], label='B')\n",
    "\n",
    "plt.legend()\n",
    "plt.title('Кумулятивная выручка по дням по группам')\n",
    "plt.xticks(rotation=45)\n",
    "plt.ylabel('сумма выручки');"
   ]
  },
  {
   "cell_type": "markdown",
   "id": "d3fab220",
   "metadata": {},
   "source": [
    "В течение всего наблюдаемого времени выручка по группе В превышала показатели выручки группы А. Выручка растет по группам А и В в течение всего теста. \n",
    "Наблюдается значительный рост выручки в промежутке с 17 августа по 21 августа. - возможно влияние аномальных значений."
   ]
  },
  {
   "cell_type": "markdown",
   "id": "2944b1cb",
   "metadata": {},
   "source": [
    "#### Постройте график кумулятивного среднего чека по группам. Сделайте выводы и предположения."
   ]
  },
  {
   "cell_type": "code",
   "execution_count": 56,
   "id": "264d2bc1",
   "metadata": {},
   "outputs": [
    {
     "data": {
      "image/png": "[encoded data removed]",
      "text/plain": [
       "<Figure size 432x288 with 1 Axes>"
      ]
     },
     "metadata": {
      "needs_background": "light"
     },
     "output_type": "display_data"
    }
   ],
   "source": [
    "# Построили графики кумулятивного среднего чека по дням по группам.\n",
    "\n",
    "plt.plot(cumulativeRevenueA['date'], cumulativeRevenueA['revenue']/cumulativeRevenueA['orders'], label = 'A')\n",
    "\n",
    "plt.plot(cumulativeRevenueB['date'], cumulativeRevenueB['revenue']/cumulativeRevenueB['orders'], label = 'B')\n",
    "\n",
    "plt.legend()\n",
    "plt.title('Кумулятивный средний чек по дням по группам')\n",
    "plt.xticks(rotation=45)\n",
    "plt.ylabel('средний чек');"
   ]
  },
  {
   "cell_type": "markdown",
   "id": "3cc4424a",
   "metadata": {},
   "source": [
    "Ближе к концу теста средний чек становится более плавным (стабилизируется по группам). В течение рассматриваемого периода средний чек по группе В в основном превышает средний чек по группе А (кроме начала теста - 1 августа и 13 августа (возможно влияние аномального заказа в группе А). По графику среднего чека также прослеживается влияние аномального заказа в группе В с 17 по 21 августа). Далее будет рассмотрено влияние аномальных значений на результативность теста."
   ]
  },
  {
   "cell_type": "markdown",
   "id": "58360621",
   "metadata": {},
   "source": [
    "#### Постройте график относительного изменения кумулятивного среднего чека группы B к группе A. Сделайте выводы и предположения."
   ]
  },
  {
   "cell_type": "code",
   "execution_count": 25,
   "id": "2acaffc6",
   "metadata": {},
   "outputs": [
    {
     "data": {
      "image/png": "[encoded data removed]",
      "text/plain": [
       "<Figure size 432x288 with 1 Axes>"
      ]
     },
     "metadata": {
      "needs_background": "light"
     },
     "output_type": "display_data"
    }
   ],
   "source": [
    "#Объединили таблицы cumulativeRevenueA и cumulativeRevenueB. \n",
    "# Сохранили в переменной mergedCumulativeRevenue.\n",
    "\n",
    "mergedCumulativeRevenue = cumulativeRevenueA.merge(cumulativeRevenueB, left_on = ['date'], right_on = ['date'], how = 'left', suffixes=['A', 'B'])\n",
    "\n",
    "plt.plot(mergedCumulativeRevenue['date'], (mergedCumulativeRevenue['revenueB']/mergedCumulativeRevenue['ordersB'])/(mergedCumulativeRevenue['revenueA']/mergedCumulativeRevenue['ordersA'])-1)\n",
    "\n",
    "plt.axhline(y=0, color='black', linestyle='--')\n",
    "plt.title('Относительное изменение кумулятивного среднего чека группы B к группе A')\n",
    "plt.xticks(rotation=45);"
   ]
  },
  {
   "cell_type": "markdown",
   "id": "d25a296e",
   "metadata": {},
   "source": [
    "В целом как и было замечено ранее - кумулятивный средний чек в основном превышает показатели чека группы А, кроме некоторых скачков в начале теста и в середине теста - на лицо влиятие аномальных заказов как в группе А, так и в группе В."
   ]
  },
  {
   "cell_type": "markdown",
   "id": "ad3ba419",
   "metadata": {},
   "source": [
    "#### Постройте график кумулятивного среднего количества заказов на посетителя по группам. Сделайте выводы и предположения."
   ]
  },
  {
   "cell_type": "code",
   "execution_count": 26,
   "id": "f90eb023",
   "metadata": {},
   "outputs": [
    {
     "data": {
      "image/png": "[encoded data removed]",
      "text/plain": [
       "<Figure size 432x288 with 1 Axes>"
      ]
     },
     "metadata": {
      "needs_background": "light"
     },
     "output_type": "display_data"
    }
   ],
   "source": [
    "# считаем кумулятивную конверсию\n",
    "cumulativeData['conversion'] = cumulativeData['orders']/cumulativeData['visitors']\n",
    "\n",
    "# отделяем данные по группе A\n",
    "cumulativeDataA = cumulativeData[cumulativeData['group']=='A']\n",
    "\n",
    "# отделяем данные по группе B\n",
    "cumulativeDataB = cumulativeData[cumulativeData['group']=='B']\n",
    "\n",
    "# строим графики\n",
    "plt.plot(cumulativeDataA['date'], cumulativeDataA['conversion'], label='A')\n",
    "plt.plot(cumulativeDataB['date'], cumulativeDataB['conversion'], label='B')\n",
    "plt.legend()\n",
    "plt.title('Кумулятивное среднее количество заказов на посетителя по группам')\n",
    "plt.xticks(rotation=45);"
   ]
  },
  {
   "cell_type": "markdown",
   "id": "32086d20",
   "metadata": {},
   "source": [
    "Динамика по группам за первые дни теста была достаточно однонаправлена, однако после 5 августа конверсия группы В вырвалась вперёд и зафиксировалась относительно значений 0,28 - 0,31, а конверсия группы А просела и также зафиксировалась относительно значений 0,025 по 0,027."
   ]
  },
  {
   "cell_type": "markdown",
   "id": "a746b8f0",
   "metadata": {},
   "source": [
    "#### Постройте график относительного изменения кумулятивного среднего количества заказов на посетителя группы B к группе A. Сделайте выводы и предположения."
   ]
  },
  {
   "cell_type": "code",
   "execution_count": 27,
   "id": "38c8a6dd",
   "metadata": {},
   "outputs": [
    {
     "data": {
      "image/png": "[encoded data removed]",
      "text/plain": [
       "<Figure size 432x288 with 1 Axes>"
      ]
     },
     "metadata": {
      "needs_background": "light"
     },
     "output_type": "display_data"
    }
   ],
   "source": [
    "#Объедининим таблицы cumulativeDataA и cumulativeDataB, объявим переменную mergedCumulativeConversions\n",
    "mergedCumulativeConversions = cumulativeDataA[['date','conversion']].merge(cumulativeDataB[['date','conversion']], left_on = 'date', right_on = 'date', how = 'left', suffixes=['A', 'B'])\n",
    "\n",
    "# строим графики\n",
    "plt.plot(mergedCumulativeConversions['date'], mergedCumulativeConversions['conversionB']/mergedCumulativeConversions['conversionA']-1, label=\"Относительный прирост конверсии группы B относительно группы A\")\n",
    "\n",
    "plt.axhline(y=0, color='black', linestyle='--')\n",
    "plt.axhline(y=0.15, color='grey', linestyle='--')\n",
    "plt.title('Изменение кумулятивного среднего количества заказов на посетителя группы B к группе A')\n",
    "plt.xticks(rotation=45);"
   ]
  },
  {
   "cell_type": "markdown",
   "id": "c71839b8",
   "metadata": {},
   "source": [
    "Почти с самого начала группа В лидирует по конверсии: становится лучше с 5 августа по 17 августа, и затем принимает более плавные значения вокруг значений от 0,12 до 0,17. Данный график включает влияние выбросов - возможно пик 17 августа уйдет и конверсия станет более плавной и стабилизируется вокруг какого-то значения"
   ]
  },
  {
   "cell_type": "markdown",
   "id": "0c6654ba",
   "metadata": {},
   "source": [
    "#### Постройте точечный график количества заказов по пользователям. Сделайте выводы и предположения."
   ]
  },
  {
   "cell_type": "code",
   "execution_count": 28,
   "id": "4f174ca4",
   "metadata": {},
   "outputs": [
    {
     "data": {
      "text/html": [
       "<div>\n",
       "<style scoped>\n",
       "    .dataframe tbody tr th:only-of-type {\n",
       "        vertical-align: middle;\n",
       "    }\n",
       "\n",
       "    .dataframe tbody tr th {\n",
       "        vertical-align: top;\n",
       "    }\n",
       "\n",
       "    .dataframe thead th {\n",
       "        text-align: right;\n",
       "    }\n",
       "</style>\n",
       "<table border=\"1\" class=\"dataframe\">\n",
       "  <thead>\n",
       "    <tr style=\"text-align: right;\">\n",
       "      <th></th>\n",
       "      <th>visitorId</th>\n",
       "      <th>orders</th>\n",
       "    </tr>\n",
       "  </thead>\n",
       "  <tbody>\n",
       "    <tr>\n",
       "      <th>908</th>\n",
       "      <td>3967698036</td>\n",
       "      <td>3</td>\n",
       "    </tr>\n",
       "    <tr>\n",
       "      <th>55</th>\n",
       "      <td>249864742</td>\n",
       "      <td>3</td>\n",
       "    </tr>\n",
       "    <tr>\n",
       "      <th>478</th>\n",
       "      <td>2108163459</td>\n",
       "      <td>3</td>\n",
       "    </tr>\n",
       "    <tr>\n",
       "      <th>687</th>\n",
       "      <td>2988190573</td>\n",
       "      <td>3</td>\n",
       "    </tr>\n",
       "    <tr>\n",
       "      <th>890</th>\n",
       "      <td>3908431265</td>\n",
       "      <td>3</td>\n",
       "    </tr>\n",
       "    <tr>\n",
       "      <th>138</th>\n",
       "      <td>611059232</td>\n",
       "      <td>3</td>\n",
       "    </tr>\n",
       "    <tr>\n",
       "      <th>632</th>\n",
       "      <td>2742574263</td>\n",
       "      <td>3</td>\n",
       "    </tr>\n",
       "    <tr>\n",
       "      <th>157</th>\n",
       "      <td>678354126</td>\n",
       "      <td>2</td>\n",
       "    </tr>\n",
       "    <tr>\n",
       "      <th>323</th>\n",
       "      <td>1404560065</td>\n",
       "      <td>2</td>\n",
       "    </tr>\n",
       "    <tr>\n",
       "      <th>452</th>\n",
       "      <td>1985475298</td>\n",
       "      <td>2</td>\n",
       "    </tr>\n",
       "  </tbody>\n",
       "</table>\n",
       "</div>"
      ],
      "text/plain": [
       "      visitorId  orders\n",
       "908  3967698036       3\n",
       "55    249864742       3\n",
       "478  2108163459       3\n",
       "687  2988190573       3\n",
       "890  3908431265       3\n",
       "138   611059232       3\n",
       "632  2742574263       3\n",
       "157   678354126       2\n",
       "323  1404560065       2\n",
       "452  1985475298       2"
      ]
     },
     "metadata": {},
     "output_type": "display_data"
    },
    {
     "data": {
      "image/png": "[encoded data removed]",
      "text/plain": [
       "<Figure size 432x288 with 1 Axes>"
      ]
     },
     "metadata": {
      "needs_background": "light"
     },
     "output_type": "display_data"
    }
   ],
   "source": [
    "#сгруппируем количество заказов по ID пользователя\n",
    "ordersByUsers = (\n",
    "    orders.groupby('visitorId', as_index=False)\n",
    "    .agg({'transactionId': 'nunique'})\n",
    ")\n",
    "#объявим наименования столцов\n",
    "ordersByUsers.columns = ['visitorId', 'orders']\n",
    "\n",
    "#выведем 10 пользователей, которые сделали больше всего заказов\n",
    "display(ordersByUsers.sort_values(by='orders', ascending=False).head(10))\n",
    "\n",
    "# серия из чисел от 0 до количества наблюдений в ordersByUsers\n",
    "x_values = pd.Series(range(0, len(ordersByUsers)))\n",
    "\n",
    "#строим график\n",
    "plt.scatter(x_values, ordersByUsers['orders'])\n",
    "plt.title('Количество заказов по пользователям')\n",
    "plt.xticks(rotation=45);"
   ]
  },
  {
   "cell_type": "markdown",
   "id": "955d013b",
   "metadata": {},
   "source": [
    "На графике можно выделить преобладающую долю пользователей, сделавших 1 заказ. Количество тех, кто сделал 2 заказа уже меньше, но пока не понятно, выбросы ли это или нет. С помощью расчетов персенлилей мы определим количество заказов, характерных для большинства пользователей (95%, 99% пользователей)"
   ]
  },
  {
   "cell_type": "markdown",
   "id": "ef7e51c9",
   "metadata": {},
   "source": [
    "#### Посчитайте 95-й и 99-й перцентили количества заказов на пользователя. Выберите границу для определения аномальных пользователей."
   ]
  },
  {
   "cell_type": "code",
   "execution_count": 29,
   "id": "bc82dce5",
   "metadata": {},
   "outputs": [
    {
     "name": "stdout",
     "output_type": "stream",
     "text": [
      "[1. 2.]\n"
     ]
    }
   ],
   "source": [
    "#с помощью метода np.percentile найдем 95-й и 99-й перцентили:\n",
    "\n",
    "print(np.percentile(ordersByUsers['orders'], [95, 99]))"
   ]
  },
  {
   "cell_type": "markdown",
   "id": "a88ac7b7",
   "metadata": {},
   "source": [
    "Все таки для большинства пользователей количество заказов не превышает 1: 95% пользователей. Определим границу аномальных пользователей, сделавших 2 и более заказов"
   ]
  },
  {
   "cell_type": "markdown",
   "id": "da832185",
   "metadata": {},
   "source": [
    "#### Постройте точечный график стоимостей заказов. Сделайте выводы и предположения."
   ]
  },
  {
   "cell_type": "code",
   "execution_count": 30,
   "id": "b72b29c9",
   "metadata": {},
   "outputs": [
    {
     "name": "stdout",
     "output_type": "stream",
     "text": [
      "      transactionId   visitorId       date  revenue group\n",
      "425       590470918  1920142716 2019-08-19  1294500     B\n",
      "1196     3936777065  2108080724 2019-08-15   202740     B\n",
      "1136      666610489  1307669133 2019-08-13    92550     A\n",
      "744      3668308183   888512513 2019-08-27    86620     B\n",
      "743      3603576309  4133034833 2019-08-09    67990     A\n",
      "1103     1348774318  1164614297 2019-08-12    66350     A\n",
      "1099      316924019   148427295 2019-08-12    65710     A\n",
      "949      1347999392   887908475 2019-08-21    60450     A\n",
      "940      2420050534  4003628586 2019-08-08    58550     B\n",
      "131      3163614039  2254586615 2019-08-22    53904     A\n"
     ]
    },
    {
     "data": {
      "image/png": "[encoded data removed]",
      "text/plain": [
       "<Figure size 432x288 with 1 Axes>"
      ]
     },
     "metadata": {
      "needs_background": "light"
     },
     "output_type": "display_data"
    }
   ],
   "source": [
    "#сгруппируем количество заказов по ID пользователя\n",
    "print(orders.sort_values(by='revenue', ascending=False).head(10))\n",
    "\n",
    "x_values = pd.Series(range(0, len(orders['revenue'])))\n",
    "\n",
    "#строим график\n",
    "plt.scatter(x_values, orders['revenue'])\n",
    "plt.title('Выручка по заказам')\n",
    "plt.xticks(rotation=45);"
   ]
  },
  {
   "cell_type": "markdown",
   "id": "f0e72a2d",
   "metadata": {},
   "source": [
    "На графике видно, что большинство заказов не превышает 100 000 д.е., все остальное - выбросы. С помощью персентилей определим, какое значение выручки характерно для большинства пользователей."
   ]
  },
  {
   "cell_type": "markdown",
   "id": "c4e3d7b8",
   "metadata": {},
   "source": [
    "#### Посчитайте 95-й и 99-й перцентили стоимости заказов. Выберите границу для определения аномальных заказов."
   ]
  },
  {
   "cell_type": "code",
   "execution_count": 31,
   "id": "e53a552c",
   "metadata": {},
   "outputs": [
    {
     "name": "stdout",
     "output_type": "stream",
     "text": [
      "[26785. 53904.]\n"
     ]
    }
   ],
   "source": [
    "#с помощью метода np.percentile найдем 95-й и 99-й перцентили:\n",
    "\n",
    "print(np.percentile(orders['revenue'], [95, 99]))"
   ]
  },
  {
   "cell_type": "markdown",
   "id": "4f34b575",
   "metadata": {},
   "source": [
    "Для большинства пользователей размер заказа не превышает 27 тыс д.е., в связи с чем возьмем в качестве границы аномальных значений выручку в размере 27 тыс д.е."
   ]
  },
  {
   "cell_type": "markdown",
   "id": "d48442ae",
   "metadata": {},
   "source": [
    "#### Посчитайте статистическую значимость различий в среднем количестве заказов на посетителя между группами по «сырым» данным. Сделайте выводы и предположения."
   ]
  },
  {
   "cell_type": "markdown",
   "id": "60dd1875",
   "metadata": {},
   "source": [
    "Сформулируем гипотезы. \n",
    "\n",
    "**Нулевая:** различий в среднем количестве заказов между группами нет. \n",
    "\n",
    "**Альтернативная:** различия в среднем между группами есть."
   ]
  },
  {
   "cell_type": "code",
   "execution_count": 32,
   "id": "8e963c91",
   "metadata": {},
   "outputs": [],
   "source": [
    "#сгруппируем пользователей группы А по дням\n",
    "visitorsADaily = visitors[visitors['group'] == 'A'][['date', 'visitors']]\n",
    "\n",
    "#обьявим наименование колонок\n",
    "visitorsADaily.columns = ['date', 'visitorsPerDateA']\n",
    "\n",
    "#посчитаем кумулятивное значение по пользователям группы А\n",
    "visitorsACummulative = visitorsADaily.apply(\n",
    "    lambda x: visitorsADaily[visitorsADaily['date'] <= x['date']].agg(\n",
    "        {'date': 'max', 'visitorsPerDateA': 'sum'}\n",
    "    ),\n",
    "    axis=1,\n",
    ")\n",
    "\n",
    "#обьявим наименование колонок\n",
    "visitorsACummulative.columns = ['date', 'visitorsCummulativeA']"
   ]
  },
  {
   "cell_type": "code",
   "execution_count": 33,
   "id": "156d2d3a",
   "metadata": {},
   "outputs": [],
   "source": [
    "#сгруппируем пользователей группы B по дням\n",
    "visitorsBDaily = visitors[visitors['group'] == 'B'][['date', 'visitors']]\n",
    "\n",
    "#обьявим наименование колонок\n",
    "visitorsBDaily.columns = ['date', 'visitorsPerDateB']\n",
    "\n",
    "#посчитаем кумулятивное значение по пользователям группы B\n",
    "visitorsBCummulative = visitorsBDaily.apply(\n",
    "    lambda x: visitorsBDaily[visitorsBDaily['date'] <= x['date']].agg(\n",
    "        {'date': 'max', 'visitorsPerDateB': 'sum'}\n",
    "    ),\n",
    "    axis=1,\n",
    ")\n",
    "\n",
    "#обьявим наименование колонок\n",
    "visitorsBCummulative.columns = ['date', 'visitorsCummulativeB']"
   ]
  },
  {
   "cell_type": "code",
   "execution_count": 34,
   "id": "ed0a3c53",
   "metadata": {},
   "outputs": [],
   "source": [
    "#группируем данные по заказам по группе А по дате\n",
    "ordersADaily = (\n",
    "    orders[orders['group'] == 'A'][['date', 'transactionId', 'visitorId', 'revenue']]\n",
    "    .groupby('date', as_index=False)\n",
    "    .agg({'transactionId': pd.Series.nunique, 'revenue': 'sum'})\n",
    ")\n",
    "\n",
    "#обьявим наименование колонок\n",
    "ordersADaily.columns = ['date', 'ordersPerDateA', 'revenuePerDateA']\n",
    "\n",
    "#посчитаем кумулятивное значение по пользователям группы А\n",
    "ordersACummulative = ordersADaily.apply(\n",
    "    lambda x: ordersADaily[ordersADaily['date'] <= x['date']].agg(\n",
    "        {'date': 'max', 'ordersPerDateA': 'sum', 'revenuePerDateA': 'sum'}\n",
    "    ),\n",
    "    axis=1,\n",
    ").sort_values(by=['date'])\n",
    "\n",
    "#обьявим наименование колонок\n",
    "ordersACummulative.columns = [\n",
    "    'date',\n",
    "    'ordersCummulativeA',\n",
    "    'revenueCummulativeA',\n",
    "]"
   ]
  },
  {
   "cell_type": "code",
   "execution_count": 35,
   "id": "c3557e74",
   "metadata": {},
   "outputs": [],
   "source": [
    "#группируем данные по заказам по группе B по дате\n",
    "ordersBDaily = (\n",
    "    orders[orders['group'] == 'B'][['date', 'transactionId', 'visitorId', 'revenue']]\n",
    "    .groupby('date', as_index=False)\n",
    "    .agg({'transactionId': pd.Series.nunique, 'revenue': 'sum'})\n",
    ")\n",
    "\n",
    "#обьявим наименование колонок\n",
    "ordersBDaily.columns = ['date', 'ordersPerDateB', 'revenuePerDateB']\n",
    "\n",
    "#посчитаем кумулятивное значение по пользователям группы B\n",
    "ordersBCummulative = ordersBDaily.apply(\n",
    "    lambda x: ordersBDaily[ordersBDaily['date'] <= x['date']].agg(\n",
    "        {'date': 'max', 'ordersPerDateB': 'sum', 'revenuePerDateB': 'sum'}\n",
    "    ),\n",
    "    axis=1,\n",
    ").sort_values(by=['date'])\n",
    "\n",
    "#обьявим наименование колонок\n",
    "ordersBCummulative.columns = [\n",
    "    'date',\n",
    "    'ordersCummulativeB',\n",
    "    'revenueCummulativeB',\n",
    "]"
   ]
  },
  {
   "cell_type": "code",
   "execution_count": 36,
   "id": "bf05d039",
   "metadata": {},
   "outputs": [
    {
     "data": {
      "text/html": [
       "<div>\n",
       "<style scoped>\n",
       "    .dataframe tbody tr th:only-of-type {\n",
       "        vertical-align: middle;\n",
       "    }\n",
       "\n",
       "    .dataframe tbody tr th {\n",
       "        vertical-align: top;\n",
       "    }\n",
       "\n",
       "    .dataframe thead th {\n",
       "        text-align: right;\n",
       "    }\n",
       "</style>\n",
       "<table border=\"1\" class=\"dataframe\">\n",
       "  <thead>\n",
       "    <tr style=\"text-align: right;\">\n",
       "      <th></th>\n",
       "      <th>date</th>\n",
       "      <th>ordersPerDateA</th>\n",
       "      <th>revenuePerDateA</th>\n",
       "      <th>ordersPerDateB</th>\n",
       "      <th>revenuePerDateB</th>\n",
       "      <th>ordersCummulativeA</th>\n",
       "      <th>revenueCummulativeA</th>\n",
       "      <th>ordersCummulativeB</th>\n",
       "      <th>revenueCummulativeB</th>\n",
       "      <th>visitorsPerDateA</th>\n",
       "      <th>visitorsPerDateB</th>\n",
       "      <th>visitorsCummulativeA</th>\n",
       "      <th>visitorsCummulativeB</th>\n",
       "    </tr>\n",
       "  </thead>\n",
       "  <tbody>\n",
       "    <tr>\n",
       "      <th>0</th>\n",
       "      <td>2019-08-01</td>\n",
       "      <td>23</td>\n",
       "      <td>142779</td>\n",
       "      <td>17</td>\n",
       "      <td>59758</td>\n",
       "      <td>23</td>\n",
       "      <td>142779</td>\n",
       "      <td>17</td>\n",
       "      <td>59758</td>\n",
       "      <td>719</td>\n",
       "      <td>713</td>\n",
       "      <td>719</td>\n",
       "      <td>713</td>\n",
       "    </tr>\n",
       "    <tr>\n",
       "      <th>1</th>\n",
       "      <td>2019-08-02</td>\n",
       "      <td>19</td>\n",
       "      <td>91602</td>\n",
       "      <td>23</td>\n",
       "      <td>162043</td>\n",
       "      <td>42</td>\n",
       "      <td>234381</td>\n",
       "      <td>40</td>\n",
       "      <td>221801</td>\n",
       "      <td>619</td>\n",
       "      <td>581</td>\n",
       "      <td>1338</td>\n",
       "      <td>1294</td>\n",
       "    </tr>\n",
       "    <tr>\n",
       "      <th>2</th>\n",
       "      <td>2019-08-03</td>\n",
       "      <td>24</td>\n",
       "      <td>112473</td>\n",
       "      <td>14</td>\n",
       "      <td>67049</td>\n",
       "      <td>66</td>\n",
       "      <td>346854</td>\n",
       "      <td>54</td>\n",
       "      <td>288850</td>\n",
       "      <td>507</td>\n",
       "      <td>509</td>\n",
       "      <td>1845</td>\n",
       "      <td>1803</td>\n",
       "    </tr>\n",
       "    <tr>\n",
       "      <th>3</th>\n",
       "      <td>2019-08-04</td>\n",
       "      <td>11</td>\n",
       "      <td>41176</td>\n",
       "      <td>14</td>\n",
       "      <td>96890</td>\n",
       "      <td>77</td>\n",
       "      <td>388030</td>\n",
       "      <td>68</td>\n",
       "      <td>385740</td>\n",
       "      <td>717</td>\n",
       "      <td>770</td>\n",
       "      <td>2562</td>\n",
       "      <td>2573</td>\n",
       "    </tr>\n",
       "    <tr>\n",
       "      <th>4</th>\n",
       "      <td>2019-08-05</td>\n",
       "      <td>22</td>\n",
       "      <td>86383</td>\n",
       "      <td>21</td>\n",
       "      <td>89908</td>\n",
       "      <td>99</td>\n",
       "      <td>474413</td>\n",
       "      <td>89</td>\n",
       "      <td>475648</td>\n",
       "      <td>756</td>\n",
       "      <td>707</td>\n",
       "      <td>3318</td>\n",
       "      <td>3280</td>\n",
       "    </tr>\n",
       "  </tbody>\n",
       "</table>\n",
       "</div>"
      ],
      "text/plain": [
       "        date  ordersPerDateA  revenuePerDateA  ordersPerDateB  \\\n",
       "0 2019-08-01              23           142779              17   \n",
       "1 2019-08-02              19            91602              23   \n",
       "2 2019-08-03              24           112473              14   \n",
       "3 2019-08-04              11            41176              14   \n",
       "4 2019-08-05              22            86383              21   \n",
       "\n",
       "   revenuePerDateB  ordersCummulativeA  revenueCummulativeA  \\\n",
       "0            59758                  23               142779   \n",
       "1           162043                  42               234381   \n",
       "2            67049                  66               346854   \n",
       "3            96890                  77               388030   \n",
       "4            89908                  99               474413   \n",
       "\n",
       "   ordersCummulativeB  revenueCummulativeB  visitorsPerDateA  \\\n",
       "0                  17                59758               719   \n",
       "1                  40               221801               619   \n",
       "2                  54               288850               507   \n",
       "3                  68               385740               717   \n",
       "4                  89               475648               756   \n",
       "\n",
       "   visitorsPerDateB  visitorsCummulativeA  visitorsCummulativeB  \n",
       "0               713                   719                   713  \n",
       "1               581                  1338                  1294  \n",
       "2               509                  1845                  1803  \n",
       "3               770                  2562                  2573  \n",
       "4               707                  3318                  3280  "
      ]
     },
     "metadata": {},
     "output_type": "display_data"
    }
   ],
   "source": [
    "#объединим заказы по группе А по дням (ordersADaily), заказы по группе В по дням (ordersBDaily), кумулятивные значения по \n",
    "#заказам по дням для групп А и В(ordersACummulative и ordersBCummulative), пользователей по дням для групп А и В \n",
    "#(visitorsADaily и visitorsBDaily) и кумулятивное количество пользователей по группам А и В (visitorsACummulative и \n",
    "# visitorsBCummulative)\n",
    "\n",
    "data_merged = (\n",
    "    ordersADaily.merge(\n",
    "        ordersBDaily, left_on='date', right_on='date', how='left'\n",
    "    )\n",
    "    .merge(ordersACummulative, left_on='date', right_on='date', how='left')\n",
    "    .merge(ordersBCummulative, left_on='date', right_on='date', how='left')\n",
    "    .merge(visitorsADaily, left_on='date', right_on='date', how='left')\n",
    "    .merge(visitorsBDaily, left_on='date', right_on='date', how='left')\n",
    "    .merge(visitorsACummulative, left_on='date', right_on='date', how='left')\n",
    "    .merge(visitorsBCummulative, left_on='date', right_on='date', how='left')\n",
    ")\n",
    "\n",
    "display(data_merged.head(5))"
   ]
  },
  {
   "cell_type": "code",
   "execution_count": 37,
   "id": "e1a0160e",
   "metadata": {},
   "outputs": [],
   "source": [
    "# объявим переменные ordersByUsersA для пользователей группы А, где для пользователей, совершивших хотя бы 1 заказ, \n",
    "# будет указано число заказов\n",
    "ordersByUsersA = (\n",
    "    orders[orders['group'] == 'A']\n",
    "    .groupby('visitorId', as_index = False)\n",
    "    .agg({'transactionId': pd.Series.nunique}))\n",
    "\n",
    "#обьявим наименование колонок\n",
    "ordersByUsersA.columns = ['visitorId', 'orders']"
   ]
  },
  {
   "cell_type": "code",
   "execution_count": 38,
   "id": "a90858ea",
   "metadata": {},
   "outputs": [],
   "source": [
    "# объявим переменные ordersByUsersB для пользователей группы B, где для пользователей, совершивших хотя бы 1 заказ, \n",
    "# будет указано число заказов\n",
    "ordersByUsersB = (\n",
    "    orders[orders['group'] == 'B']\n",
    "    .groupby('visitorId', as_index = False)\n",
    "    .agg({'transactionId': pd.Series.nunique}))\n",
    "\n",
    "#обьявим наименование колонок\n",
    "ordersByUsersB.columns = ['visitorId', 'orders']"
   ]
  },
  {
   "cell_type": "code",
   "execution_count": 39,
   "id": "7ce0a0e4",
   "metadata": {},
   "outputs": [],
   "source": [
    "#Объявим переменные sampleA и sampleB, в которых пользователям с заказами будет соответствовать число заказов пользователя. \n",
    "#А пользователям без заказов — нули.\n",
    "\n",
    "sampleA = pd.concat([ordersByUsersA['orders'], pd.Series(0, index = np.arange(data_merged['visitorsPerDateA'].sum() - len(ordersByUsersA['orders'])), name = 'orders')], axis = 0)\n",
    "\n",
    "sampleB = pd.concat([ordersByUsersB['orders'], pd.Series(0, index = np.arange(data_merged['visitorsPerDateB'].sum() - len(ordersByUsersB['orders'])), name = 'orders')], axis = 0)"
   ]
  },
  {
   "cell_type": "code",
   "execution_count": 63,
   "id": "ec9c3d80",
   "metadata": {},
   "outputs": [
    {
     "name": "stdout",
     "output_type": "stream",
     "text": [
      "0.01102\n",
      "p-value меньше критического значения, отклоняем нулевую гипотезу: статистическая значимость достигнута и сегмент В лучше А\n"
     ]
    }
   ],
   "source": [
    "# Посчитаем статистическую значимость различия среднего количества заказов по результатам теста. Применим для этого\n",
    "#тест Манна-Уитни. Выведем p-value для сравнения среднего между группами. Округлите p-value до 5 знаков после запятой.\n",
    "\n",
    "alpha = 0.05\n",
    "\n",
    "print(\"{0:.5f}\".format(stats.mannwhitneyu(sampleA, sampleB)[1]))\n",
    "\n",
    "if stats.mannwhitneyu(sampleA, sampleB)[1] < alpha:\n",
    "    print('p-value меньше критического значения, отклоняем нулевую гипотезу: статистическая значимость достигнута и сегмент В лучше А')\n",
    "else:\n",
    "    print('p-value больше критического значения, не отклоняем нулевую гипотезу: статистическая значимость не достигнута')"
   ]
  },
  {
   "cell_type": "code",
   "execution_count": 41,
   "id": "097282b8",
   "metadata": {},
   "outputs": [
    {
     "name": "stdout",
     "output_type": "stream",
     "text": [
      "0.160\n"
     ]
    }
   ],
   "source": [
    "#Вычислим и выведем относительное различие в среднем между группами. Округлим до 3 знаков после запятой.\n",
    "print(\"{0:.3f}\".format(sampleB.mean() / sampleA.mean() - 1))"
   ]
  },
  {
   "cell_type": "markdown",
   "id": "3958c787",
   "metadata": {},
   "source": [
    "Относительный выигрыш сегмента В относительно А составил 16%.\n",
    "\n",
    "По \"сырым\" данным статистическая значимость достигнута и сегмент В лучше А по количеству заказов на посетителя"
   ]
  },
  {
   "cell_type": "markdown",
   "id": "87b78fd5",
   "metadata": {},
   "source": [
    "#### Посчитайте статистическую значимость различий в среднем чеке заказа между группами по «сырым» данным. Сделайте выводы и предположения."
   ]
  },
  {
   "cell_type": "markdown",
   "id": "3cea5a85",
   "metadata": {},
   "source": [
    "Сформулируем гипотезы.\n",
    "\n",
    "**Нулевая:** различий в среднем чеке между группами нет.\n",
    "\n",
    "**Альтернативная:** различия в среднем между группами есть."
   ]
  },
  {
   "cell_type": "code",
   "execution_count": 58,
   "id": "7f79f057",
   "metadata": {},
   "outputs": [
    {
     "name": "stdout",
     "output_type": "stream",
     "text": [
      "0.829\n",
      "p-value больше критического значения, не отклоняем нулевую гипотезу: статистическая значимость не достигнута\n"
     ]
    }
   ],
   "source": [
    "alpha = 0.05\n",
    "\n",
    "p_value = stats.mannwhitneyu(orders[orders['group']=='A']['revenue'], orders[orders['group']=='B']['revenue'])[1]\n",
    "\n",
    "print('{0:.3f}'.format(p_value)) \n",
    "\n",
    "if p_value < alpha:\n",
    "    print('p-value меньше критического значения, отклоняем нулевую гипотезу: статистическая значимость достигнута и сегмент В лучше А')\n",
    "else:\n",
    "    print('p-value больше критического значения, не отклоняем нулевую гипотезу: статистическая значимость не достигнута')"
   ]
  },
  {
   "cell_type": "code",
   "execution_count": 43,
   "id": "1ebed492",
   "metadata": {},
   "outputs": [
    {
     "name": "stdout",
     "output_type": "stream",
     "text": [
      "0.287\n"
     ]
    }
   ],
   "source": [
    "print('{0:.3f}'.format(orders[orders['group']=='B']['revenue'].mean()/orders[orders['group']=='A']['revenue'].mean()-1))"
   ]
  },
  {
   "cell_type": "markdown",
   "id": "885fc666",
   "metadata": {},
   "source": [
    "Несмотря на высокий уровень превышения среднего чека группы В по сравнению с группой А, статистическая значимость не достигнута и различий в среднем чеке между группами нет."
   ]
  },
  {
   "cell_type": "markdown",
   "id": "0d3eaaef",
   "metadata": {},
   "source": [
    "#### Посчитайте статистическую значимость различий в среднем количестве заказов на посетителя между группами по «очищенным» данным. Сделайте выводы и предположения."
   ]
  },
  {
   "cell_type": "markdown",
   "id": "7f49f104",
   "metadata": {},
   "source": [
    "Сформулируем гипотезы.\n",
    "\n",
    "**Нулевая:** различий в среднем количестве заказов на посетителя между группами по «очищенным» данным нет.\n",
    "\n",
    "**Альтернативная:** различия в среднем между группами есть."
   ]
  },
  {
   "cell_type": "markdown",
   "id": "a80e2e47",
   "metadata": {},
   "source": [
    "Ранее было выбраны границы аномальных пользователей, сделавших 2 и более заказов и аномальные значения выручки в размере 27 тыс д.е.\n",
    "Проверим, сколько % пользователей соотвествуют этим аномальным границам."
   ]
  },
  {
   "cell_type": "code",
   "execution_count": 59,
   "id": "186a4750",
   "metadata": {},
   "outputs": [
    {
     "name": "stdout",
     "output_type": "stream",
     "text": [
      "86\n",
      "8.84\n"
     ]
    }
   ],
   "source": [
    "order_max = 2\n",
    "revenue_max = 27000\n",
    "\n",
    "usersWithManyOrders = pd.concat(\n",
    "    [\n",
    "        ordersByUsersA[ordersByUsersA['orders'] >= order_max]['visitorId'],\n",
    "        ordersByUsersB[ordersByUsersB['orders'] >= order_max]['visitorId'],\n",
    "    ],\n",
    "    axis = 0,\n",
    ")\n",
    "\n",
    "usersWithExpensiveOrders = orders[orders['revenue'] > revenue_max]['visitorId']\n",
    "\n",
    "abnormalUsers = (\n",
    "    pd.concat([usersWithManyOrders, usersWithExpensiveOrders], axis = 0)\n",
    "    .drop_duplicates()\n",
    "    .sort_values()\n",
    ")\n",
    "\n",
    "print(abnormalUsers.count())\n",
    "print(round(abnormalUsers.count()*100/len(orders['visitorId'].unique()),2))"
   ]
  },
  {
   "cell_type": "markdown",
   "id": "b7ca6d7a",
   "metadata": {},
   "source": [
    "Всего 86 пользователей или 9% всех пользователей попадают под аномальные границы, можем исключить их из анализа"
   ]
  },
  {
   "cell_type": "code",
   "execution_count": 45,
   "id": "007c8c16",
   "metadata": {},
   "outputs": [],
   "source": [
    "#объявим переменную sampleAFiltered, в которых сохраним очищенные данные о заказах группы А — не включая аномальных пользователей.\n",
    "\n",
    "sampleAFiltered = pd.concat(\n",
    "    [\n",
    "        ordersByUsersA[\n",
    "            np.logical_not(ordersByUsersA['visitorId'].isin(abnormalUsers))\n",
    "        ]['orders'],\n",
    "        pd.Series(\n",
    "            0,\n",
    "            index = np.arange(\n",
    "                data_merged['visitorsPerDateA'].sum() - len(ordersByUsersA['orders'])\n",
    "            ),\n",
    "            name = 'orders',\n",
    "        ),\n",
    "    ],\n",
    "    axis = 0,\n",
    ")"
   ]
  },
  {
   "cell_type": "code",
   "execution_count": 46,
   "id": "89b0881f",
   "metadata": {},
   "outputs": [],
   "source": [
    "#объявим переменную sampleВFiltered, в которых сохраним очищенные данные о заказах группы B — не включая аномальных пользователей.\n",
    "\n",
    "sampleBFiltered = pd.concat(\n",
    "    [\n",
    "        ordersByUsersB[\n",
    "            np.logical_not(ordersByUsersB['visitorId'].isin(abnormalUsers))\n",
    "        ]['orders'],\n",
    "        pd.Series(\n",
    "            0,\n",
    "            index = np.arange(\n",
    "                data_merged['visitorsPerDateB'].sum() - len(ordersByUsersB['orders'])\n",
    "            ),\n",
    "            name = 'orders',\n",
    "        ),\n",
    "    ],\n",
    "    axis = 0,\n",
    ")"
   ]
  },
  {
   "cell_type": "code",
   "execution_count": 60,
   "id": "3f33e5e3",
   "metadata": {},
   "outputs": [
    {
     "name": "stdout",
     "output_type": "stream",
     "text": [
      "0.01593\n",
      "p-value меньше критического значения, отклоняем нулевую гипотезу: статистическая значимость достигнута и сегмент В лучше А\n"
     ]
    }
   ],
   "source": [
    "#выведем p-value для сравнения среднего между очищенными группами. Округлим p-value до пяти знаков после запятой. \n",
    "alpha = 0.05\n",
    "\n",
    "print('{0:.5f}'.format(stats.mannwhitneyu(sampleAFiltered, sampleBFiltered)[1]))\n",
    "\n",
    "if stats.mannwhitneyu(sampleAFiltered, sampleBFiltered)[1] < alpha:\n",
    "    print('p-value меньше критического значения, отклоняем нулевую гипотезу: статистическая значимость достигнута и сегмент В лучше А')\n",
    "else:\n",
    "    print('p-value больше критического значения, не отклоняем нулевую гипотезу: статистическая значимость не достигнута')"
   ]
  },
  {
   "cell_type": "code",
   "execution_count": 48,
   "id": "155aadfc",
   "metadata": {},
   "outputs": [
    {
     "name": "stdout",
     "output_type": "stream",
     "text": [
      "0.174\n"
     ]
    }
   ],
   "source": [
    "print('{0:.3f}'.format(sampleBFiltered.mean()/sampleAFiltered.mean()-1)) "
   ]
  },
  {
   "cell_type": "markdown",
   "id": "d12ae4f7",
   "metadata": {},
   "source": [
    "Прирост среднего количества заказов группы В относительно группы А составляет 17,4%"
   ]
  },
  {
   "cell_type": "markdown",
   "id": "6534efb9",
   "metadata": {},
   "source": [
    "#### Посчитайте статистическую значимость различий в среднем чеке заказа между группами по «очищенным» данным. Сделайте выводы и предположения."
   ]
  },
  {
   "cell_type": "markdown",
   "id": "7eeef752",
   "metadata": {},
   "source": [
    "Сформулируем гипотезы.\n",
    "\n",
    "**Нулевая:** различий в среднем чеке заказа между группами по «очищенным» данным нет.\n",
    "\n",
    "**Альтернативная:** различия в среднем между группами есть."
   ]
  },
  {
   "cell_type": "code",
   "execution_count": 61,
   "id": "18b4cb69",
   "metadata": {},
   "outputs": [
    {
     "name": "stdout",
     "output_type": "stream",
     "text": [
      "0.727\n",
      "p-value больше критического значения, не отклоняем нулевую гипотезу: статистическая значимость не достигнута\n"
     ]
    }
   ],
   "source": [
    "alpha = 0.05\n",
    "\n",
    "p_value = stats.mannwhitneyu(\n",
    "            orders[\n",
    "                np.logical_and(orders['group'] == 'A', np.logical_not(orders['visitorId'].isin(abnormalUsers)),\n",
    "                              )\n",
    "            ]['revenue'],\n",
    "        orders[\n",
    "            np.logical_and(\n",
    "                orders['group'] == 'B',\n",
    "                np.logical_not(orders['visitorId'].isin(abnormalUsers)),\n",
    "            )\n",
    "        ]['revenue'],\n",
    "        )[1]\n",
    "\n",
    "print('{0:.3f}'.format(p_value))\n",
    "\n",
    "if p_value < alpha:\n",
    "    print('p-value меньше критического значения, отклоняем нулевую гипотезу: статистическая значимость достигнута и сегмент В лучше А')\n",
    "else:\n",
    "    print('p-value больше критического значения, не отклоняем нулевую гипотезу: статистическая значимость не достигнута')"
   ]
  },
  {
   "cell_type": "code",
   "execution_count": 50,
   "id": "f5fdc19e",
   "metadata": {},
   "outputs": [
    {
     "name": "stdout",
     "output_type": "stream",
     "text": [
      "-0.034\n"
     ]
    }
   ],
   "source": [
    "print(\n",
    "    \"{0:.3f}\".format(\n",
    "        orders[\n",
    "            np.logical_and(\n",
    "                orders['group'] == 'B',\n",
    "                np.logical_not(orders['visitorId'].isin(abnormalUsers)),\n",
    "            )\n",
    "        ]['revenue'].mean()\n",
    "        / orders[\n",
    "            np.logical_and(\n",
    "                orders['group'] == 'A',\n",
    "                np.logical_not(orders['visitorId'].isin(abnormalUsers)),\n",
    "            )\n",
    "        ]['revenue'].mean()\n",
    "        - 1\n",
    "    )\n",
    ")"
   ]
  },
  {
   "cell_type": "markdown",
   "id": "279b34da",
   "metadata": {},
   "source": [
    "Прирост среднего чека при удалении аномальных пользователей группы В дал отрицательный результат: группа А лучше показывает себя, чем группа В"
   ]
  },
  {
   "cell_type": "markdown",
   "id": "63f1cee0",
   "metadata": {},
   "source": [
    "### Выводы:\n",
    "\n",
    "В рамках части 2 было предложено рассмотреть А/В тестирование гипотезы, оказавшей влияние на выручку и количество заказов.\n",
    "Для данной задачи было представлено 2 датасета:\n",
    "\n",
    "* датасет с описанием заказов, которые совершили пользователи - участники А/В теста (orders.csv);\n",
    "* датасет с описанием количества участников А/В теста (visitors.csv)\n",
    "\n",
    "*Шаг 1: были подгружены данные и сделана предобработка данных:\n",
    "* Датасет \"orders\" содержит 1 197 строк и 5 столбцов. Данные по ID транзакциям, ID пользователям и сумме выручки - целочисленные значения (int64), дата и обозначение группы - тип строки. Пустых значений нет. Дублирующие строки отсутствуют\n",
    "\n",
    "* Датасет \"visitors.csv\" содержит 62 строки и 3 столбца. Данные по дате и обозначении группы - тип строки. Количество пользователей - целочисленное значение (int64). Пустых значений нет. Дублирующие строки отсутствуют\n",
    "\n",
    "* преобразовали даты под тип datetime64[ns]\n",
    "* выяснили, есть ли пользователи, которые попали в группу А и в группу В: отчистили датасет от 58 пользователей, попавших в обе группы\n",
    "\n",
    "Итоговый датасет \"orders\" 1 016 строк и 5 столбцов. Данные по ID транзакциям, ID пользователям и сумме выручки - целочисленные значения (int64), дата - datetime, обозначение группы - тип строки. Пустых значений нет. Дублирующие строки отсутствуют.\n",
    "\n",
    "*Шаг 2: обзор результатов А/В тестирование с использованием графиков.\n",
    "\n",
    "* был построен график кумулятивной выручки по группам А и В. В течение всего наблюдаемого времени выручка по группе В превышала показатели выручки группы А. Выручка растет по группам А и В в течение всего теста. Наблюдается значительный рост выручки в промежутке с 17 августа по 21 августа. - возможно влияние аномальных значений.\n",
    "\n",
    "* был построен график кумулятивного среднего чека. Ближе к концу теста средний чек становится более плавным (стабилизируется по группам). В течение рассматриваемого периода средний чек по группе В в основном превышает средний чек по группе А (кроме начала теста - 1 августа и 13 августа (возможно влияние аномального заказа в группе А). По графику среднего чека также прослеживается влияние аномального заказа в группе В с 17 по 21 августа). Далее будет рассмотрено влияние аномальных значений на результативность теста.\n",
    "\n",
    "* был построен график относительного изменения кумулятивного среднего количества заказов на посетителя группы B к группе A. Почти с самого начала группа В лидирует по конверсии: становится лучше с 5 августа по 17 августа, и затем принимает более плавные значения вокруг значений от 0,12 до 0,17. Данный график включает влияние выбросов - возможно пик 17 августа уйдет и конверсия станет более плавной и стабилизируется вокруг какого-то значения\n",
    "\n",
    "* был построен точечный график количества заказов по пользователям. На графике можно выделить преобладающую долю пользователей, сделавших 1 заказ. Количество тех, кто сделал 2 заказа уже меньше С помощью расчета перцентилей было определено, что для большинства пользователей количество заказов не превышает 1: 95% пользователей. Определим границу аномальных пользователей, сделавших 2 и более заказов.\n",
    "\n",
    "* был построен точечный график стоимостей заказов. На графике видно, что большинство заказов не превышает 100 000 д.е., все остальное - выбросы. С помощью персентилей определили, что характерно для большинства пользователей размер заказа не превышает 27 тыс д.е., в связи с чем возьмем в качестве границы аномальных значений выручку в размере 27 тыс д.е.\n",
    "\n",
    "*Шаг 3: статистическая проверка гипотез по \"сырым\" данным\n",
    "\n",
    "Были выдвинуты следующие гипотезы:\n",
    "\n",
    "**#1**\n",
    "\n",
    "**Нулевая:** различий в среднем количестве заказов между группами нет.\n",
    "\n",
    "**Альтернативная:** различия в среднем между группами есть.\n",
    "\n",
    "Сравнив p-value с критическим уровнем значимости (0.05), нулевую гипотезу отклоняем. Есть статистическая разница между средним количеством заказов по группам. По \"сырым\" данным статистическая значимость достигнута и сегмент В лучше А по количеству заказов на посетителя на 16%.\n",
    "\n",
    "**#2**\n",
    "\n",
    "**Нулевая:** различий в среднем чеке между группами нет.\n",
    "\n",
    "**Альтернативная:** различия в среднем между группами есть.\n",
    "\n",
    "Сравнив p-value с критическим уровнем значимости (0.05), p-value больше критического значения, не отклоняем нулевую гипотезу: различий в среднем чеке между группами нет. Несмотря на высокий уровень превышения среднего чека группы В по сравнению с группой А (на 29%), статистическая значимость не достигнута.\n",
    "\n",
    "*Шаг 4: статистическая проверка гипотез по отчищенным данным\n",
    "\n",
    "Ранее было выбраны границы аномальных пользователей, сделавших 2 и более заказов и аномальные значения выручки в размере 27 тыс д.е. \n",
    "\n",
    "% пользователей, соотвествующий этим аномальным границам - 9% или 86 человек.\n",
    "\n",
    "Были выдвинуты следующие гипотезы:\n",
    "\n",
    "**#1**\n",
    "\n",
    "**Нулевая:** различий в среднем количестве заказов на посетителя между группами по «очищенным» данным нет.\n",
    "\n",
    "**Альтернативная:** различия в среднем между группами есть.\n",
    "\n",
    "Сравнив p-value с критическим уровнем значимости (0.05), нулевую гипотезу отклоняем. Есть статистическая разница между средним количеством заказов по группам. По очищенным данным статистическая значимость достигнута и сегмент В лучше А по количеству заказов на посетителя на 17,4%.\n",
    "\n",
    "**#2**\n",
    "\n",
    "**Нулевая:** различий в среднем чеке заказа между группами по «очищенным» данным нет.\n",
    "\n",
    "**Альтернативная:** различия в среднем между группами есть.\n",
    "\n",
    "Cравнив p-value с критическим уровнем значимости (0.05), p-value больше критического значения, не отклоняем нулевую гипотезу: различий в среднем чеке между группами нет. Прирост среднего чека при удалении аномальных пользователей группы В дал отрицательный результат: группа А лучше показывает себя, чем группа В\n",
    "\n",
    "**В результате теста удалось подтвердить увеличение количества заказов в группе В по отношению к группе А, однако не удалось подтвердить рост среднего чека по группе В относительно группы А. В связи с тем, что по графикам данные по среднему чеку и конверсии стремятся к стабильному значению (практически стабилизировались), тест можно останосить и признать успешным в части проверки увеличения количества заказов**"
   ]
  }
 ],
 "metadata": {
  "ExecuteTimeLog": [
   {
    "duration": 86,
    "start_time": "2022-12-12T15:43:35.846Z"
   },
   {
    "duration": 1343,
    "start_time": "2022-12-12T15:43:51.185Z"
   },
   {
    "duration": 4,
    "start_time": "2022-12-12T15:43:55.050Z"
   },
   {
    "duration": 106,
    "start_time": "2022-12-12T15:43:55.056Z"
   },
   {
    "duration": 10,
    "start_time": "2022-12-12T15:43:55.164Z"
   },
   {
    "duration": 20,
    "start_time": "2022-12-12T15:43:55.176Z"
   },
   {
    "duration": 19,
    "start_time": "2022-12-12T15:43:55.198Z"
   },
   {
    "duration": 15,
    "start_time": "2022-12-12T15:43:55.219Z"
   },
   {
    "duration": 167,
    "start_time": "2022-12-12T15:43:55.236Z"
   },
   {
    "duration": 9,
    "start_time": "2022-12-12T15:43:55.404Z"
   },
   {
    "duration": 16,
    "start_time": "2022-12-12T15:43:55.415Z"
   },
   {
    "duration": 15,
    "start_time": "2022-12-12T15:43:55.433Z"
   },
   {
    "duration": 10,
    "start_time": "2022-12-12T15:43:55.449Z"
   },
   {
    "duration": 20,
    "start_time": "2022-12-12T15:43:55.461Z"
   },
   {
    "duration": 13,
    "start_time": "2022-12-12T15:43:55.483Z"
   },
   {
    "duration": 13,
    "start_time": "2022-12-12T15:43:55.498Z"
   },
   {
    "duration": 18,
    "start_time": "2022-12-12T15:43:55.512Z"
   },
   {
    "duration": 15,
    "start_time": "2022-12-12T15:43:55.531Z"
   },
   {
    "duration": 7,
    "start_time": "2022-12-12T15:43:55.548Z"
   },
   {
    "duration": 281,
    "start_time": "2022-12-12T15:43:55.556Z"
   },
   {
    "duration": 9,
    "start_time": "2022-12-12T15:43:55.838Z"
   },
   {
    "duration": 19,
    "start_time": "2022-12-12T15:43:55.848Z"
   },
   {
    "duration": 266,
    "start_time": "2022-12-12T15:43:55.869Z"
   },
   {
    "duration": 179,
    "start_time": "2022-12-12T15:43:56.136Z"
   },
   {
    "duration": 281,
    "start_time": "2022-12-12T15:43:56.316Z"
   },
   {
    "duration": 185,
    "start_time": "2022-12-12T15:43:56.600Z"
   },
   {
    "duration": 312,
    "start_time": "2022-12-12T15:43:56.786Z"
   },
   {
    "duration": 148,
    "start_time": "2022-12-12T15:43:57.100Z"
   },
   {
    "duration": 4,
    "start_time": "2022-12-12T15:43:57.250Z"
   },
   {
    "duration": 131,
    "start_time": "2022-12-12T15:43:57.256Z"
   },
   {
    "duration": 4,
    "start_time": "2022-12-12T15:43:57.388Z"
   },
   {
    "duration": 47,
    "start_time": "2022-12-12T15:43:57.393Z"
   },
   {
    "duration": 72,
    "start_time": "2022-12-12T15:43:57.442Z"
   },
   {
    "duration": 55,
    "start_time": "2022-12-12T15:43:57.516Z"
   },
   {
    "duration": 56,
    "start_time": "2022-12-12T15:43:57.578Z"
   },
   {
    "duration": 42,
    "start_time": "2022-12-12T15:43:57.636Z"
   },
   {
    "duration": 58,
    "start_time": "2022-12-12T15:43:57.679Z"
   },
   {
    "duration": 76,
    "start_time": "2022-12-12T15:43:57.739Z"
   },
   {
    "duration": 5,
    "start_time": "2022-12-12T15:43:57.817Z"
   },
   {
    "duration": 51,
    "start_time": "2022-12-12T15:43:57.823Z"
   },
   {
    "duration": 3,
    "start_time": "2022-12-12T15:43:57.876Z"
   },
   {
    "duration": 14,
    "start_time": "2022-12-12T15:43:57.880Z"
   },
   {
    "duration": 10,
    "start_time": "2022-12-12T15:43:57.895Z"
   },
   {
    "duration": 10,
    "start_time": "2022-12-12T15:43:57.907Z"
   },
   {
    "duration": 9,
    "start_time": "2022-12-12T15:43:57.918Z"
   },
   {
    "duration": 8,
    "start_time": "2022-12-12T15:43:57.929Z"
   },
   {
    "duration": 60,
    "start_time": "2022-12-12T15:43:57.939Z"
   },
   {
    "duration": 3,
    "start_time": "2022-12-12T15:43:58.001Z"
   },
   {
    "duration": 14,
    "start_time": "2022-12-12T15:43:58.005Z"
   },
   {
    "duration": 14,
    "start_time": "2022-12-12T15:43:58.020Z"
   },
   {
    "duration": 32,
    "start_time": "2022-12-12T15:44:28.599Z"
   },
   {
    "duration": 32,
    "start_time": "2022-12-12T15:44:35.116Z"
   },
   {
    "duration": 36,
    "start_time": "2022-12-12T15:44:41.450Z"
   },
   {
    "duration": 11,
    "start_time": "2022-12-12T15:46:01.374Z"
   },
   {
    "duration": 184,
    "start_time": "2022-12-12T15:50:44.282Z"
   },
   {
    "duration": 180,
    "start_time": "2022-12-12T15:51:54.223Z"
   },
   {
    "duration": 74,
    "start_time": "2022-12-12T15:52:34.250Z"
   },
   {
    "duration": 9,
    "start_time": "2022-12-12T15:53:23.422Z"
   },
   {
    "duration": 9,
    "start_time": "2022-12-12T15:56:12.223Z"
   },
   {
    "duration": 37,
    "start_time": "2022-12-12T15:57:57.911Z"
   },
   {
    "duration": 11,
    "start_time": "2022-12-12T15:58:10.919Z"
   },
   {
    "duration": 95,
    "start_time": "2022-12-12T15:58:54.845Z"
   },
   {
    "duration": 37,
    "start_time": "2022-12-12T16:01:04.474Z"
   },
   {
    "duration": 86,
    "start_time": "2022-12-12T16:08:00.617Z"
   }
  ],
  "kernelspec": {
   "display_name": "Python 3 (ipykernel)",
   "language": "python",
   "name": "python3"
  },
  "language_info": {
   "codemirror_mode": {
    "name": "ipython",
    "version": 3
   },
   "file_extension": ".py",
   "mimetype": "text/x-python",
   "name": "python",
   "nbconvert_exporter": "python",
   "pygments_lexer": "ipython3",
   "version": "3.10.8"
  },
  "toc": {
   "base_numbering": 1,
   "nav_menu": {},
   "number_sections": true,
   "sideBar": true,
   "skip_h1_title": true,
   "title_cell": "Table of Contents",
   "title_sidebar": "Contents",
   "toc_cell": false,
   "toc_position": {},
   "toc_section_display": true,
   "toc_window_display": false
  }
 },
 "nbformat": 4,
 "nbformat_minor": 5
}
