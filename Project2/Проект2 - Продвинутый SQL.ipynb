{
 "cells": [
  {
   "cell_type": "markdown",
   "id": "e674a4bf",
   "metadata": {},
   "source": [
    "## Задание\n",
    "\n",
    "С помощью базы данных StackOverflow — сервиса вопросов и ответов о программировании - сделать различные выгрузки"
   ]
  },
  {
   "cell_type": "code",
   "execution_count": null,
   "id": "ef346518",
   "metadata": {},
   "outputs": [],
   "source": [
    "# задание 1\n",
    "# Найдите количество вопросов, которые набрали больше 300 очков или как минимум 100 раз были добавлены в «Закладки».\n",
    "\n",
    "SELECT COUNT(*)\n",
    "FROM stackoverflow.posts \n",
    "WHERE post_type_id = 1\n",
    "AND (score > 300 \n",
    "OR favorites_count >= 100)\n",
    " "
   ]
  },
  {
   "cell_type": "code",
   "execution_count": null,
   "id": "20ae6f6e",
   "metadata": {},
   "outputs": [],
   "source": [
    "# задание 2\n",
    "# Сколько в среднем в день задавали вопросов с 1 по 18 ноября 2008 включительно? Результат округлите до целого числа.\n",
    "\n",
    "WITH selection AS (\n",
    "    SELECT creation_date::date AS dt,\n",
    "           COUNT(id) AS cnt\n",
    "FROM stackoverflow.posts\n",
    "WHERE creation_date::date BETWEEN '2008-11-01' AND '2008-11-18'\n",
    "AND post_type_id = 1    \n",
    "GROUP BY 1)\n",
    "\n",
    "SELECT ROUND(AVG(cnt))\n",
    "FROM selection\n"
   ]
  },
  {
   "cell_type": "code",
   "execution_count": null,
   "id": "44f5829f",
   "metadata": {},
   "outputs": [],
   "source": [
    "# задание 3\n",
    "# Сколько пользователей получили значки сразу в день регистрации? Выведите количество уникальных пользователей.\n",
    "\n",
    "SELECT COUNT( DISTINCT b.user_id)\n",
    "FROM stackoverflow.badges AS b\n",
    "JOIN stackoverflow.users AS u ON u.id = b.user_id\n",
    "WHERE b.creation_date::date = u.creation_date::date"
   ]
  },
  {
   "cell_type": "code",
   "execution_count": null,
   "id": "cd7b011b",
   "metadata": {},
   "outputs": [],
   "source": [
    "# задание 4\n",
    "# Сколько уникальных постов пользователя с именем Joel Coehoorn получили хотя бы один голос?\n",
    "\n",
    "SELECT COUNT(DISTINCT p.id)\n",
    "FROM stackoverflow.posts AS p\n",
    "JOIN stackoverflow.votes AS v ON p.id = v.post_id\n",
    "WHERE p.user_id IN (\n",
    "SELECT id\n",
    "FROM stackoverflow.users\n",
    "WHERE display_name = 'Joel Coehoorn')"
   ]
  },
  {
   "cell_type": "code",
   "execution_count": null,
   "id": "c2065981",
   "metadata": {},
   "outputs": [],
   "source": [
    "# задание 5\n",
    "# Выгрузите все поля таблицы vote_types. Добавьте к таблице поле rank, в которое войдут номера записей в обратном порядке. Таблица должна быть отсортирована по полю id.\n",
    "\n",
    "SELECT *,\n",
    "       RANK() OVER (ORDER BY id DESC)\n",
    "FROM stackoverflow.vote_types\n",
    "ORDER BY 1"
   ]
  },
  {
   "cell_type": "code",
   "execution_count": null,
   "id": "be7bcf83",
   "metadata": {},
   "outputs": [],
   "source": [
    "# задание 6\n",
    "# Отберите 10 пользователей, которые поставили больше всего голосов типа Close. Отобразите таблицу из двух полей: идентификатором пользователя и количеством голосов. Отсортируйте данные сначала по убыванию количества голосов, потом по убыванию значения идентификатора пользователя.\n",
    "\n",
    "SELECT DISTINCT user_id,\n",
    "       COUNT(id) \n",
    "FROM stackoverflow.votes\n",
    "WHERE vote_type_id IN (SELECT id\n",
    "FROM stackoverflow.vote_types\n",
    "WHERE name = 'Close')\n",
    "GROUP BY 1\n",
    "ORDER BY 2 DESC,\n",
    "         1 DESC\n",
    "LIMIT 10 "
   ]
  },
  {
   "cell_type": "code",
   "execution_count": null,
   "id": "d4bcd2aa",
   "metadata": {},
   "outputs": [],
   "source": [
    "# задание 7\n",
    "# Отберите 10 пользователей по количеству значков, полученных в период с 15 ноября по 15 декабря 2008 года включительно. Отобразите несколько полей:\n",
    "# *идентификатор пользователя;\n",
    "# *число значков;\n",
    "# *место в рейтинге — чем больше значков, тем выше рейтинг.\n",
    "#Пользователям, которые набрали одинаковое количество значков, присвойте одно и то же место в рейтинге.\n",
    "#Отсортируйте записи по количеству значков по убыванию, а затем по возрастанию значения идентификатора пользователя.\n",
    "\n",
    "WITH selection AS (SELECT DISTINCT user_id,\n",
    "       COUNT(id) OVER (PARTITION BY user_id) AS cnt\n",
    "FROM stackoverflow.badges\n",
    "WHERE creation_date::date BETWEEN '2008-11-15' AND '2008-12-15'\n",
    "ORDER BY 2 DESC,\n",
    "         1\n",
    "LIMIT 10)\n",
    "  \n",
    "SELECT *,\n",
    "       DENSE_RANK() OVER (ORDER BY cnt DESC)\n",
    "FROM selection"
   ]
  },
  {
   "cell_type": "code",
   "execution_count": null,
   "id": "ff7050bf",
   "metadata": {},
   "outputs": [],
   "source": [
    "# задание 8\n",
    "# Сколько в среднем очков получает пост каждого пользователя? Сформируйте таблицу из следующих полей: заголовок поста; идентификатор пользователя; число очков поста; среднее число очков пользователя за пост, округлённое до целого числа.\n",
    "#Не учитывайте посты без заголовка, а также те, что набрали ноль очков.\n",
    "\n",
    "SELECT title,\n",
    "       user_id,\n",
    "       score,\n",
    "       ROUND(AVG(score) OVER (PARTITION BY user_id))\n",
    "FROM stackoverflow.posts\n",
    "WHERE title IS NOT NULL\n",
    "AND score != 0"
   ]
  },
  {
   "cell_type": "code",
   "execution_count": null,
   "id": "268619e9",
   "metadata": {},
   "outputs": [],
   "source": [
    "# задание 9\n",
    "# Отобразите заголовки постов, которые были написаны пользователями, получившими более 1000 значков. Посты без заголовков не должны попасть в список.\n",
    "\n",
    "SELECT title\n",
    "FROM stackoverflow.posts\n",
    "WHERE user_id IN\n",
    "    (SELECT user_id\n",
    "    FROM stackoverflow.badges\n",
    "    GROUP BY 1\n",
    "    HAVING COUNT(id) > 1000)\n",
    "AND title IS NOT NULL \n"
   ]
  },
  {
   "cell_type": "code",
   "execution_count": null,
   "id": "416e127e",
   "metadata": {},
   "outputs": [],
   "source": [
    "# задание 10\n",
    "# Напишите запрос, который выгрузит данные о пользователях из США (англ. United States). Разделите пользователей на три группы в зависимости от количества просмотров их профилей:\n",
    "# пользователям с числом просмотров больше либо равным 350 присвойте группу 1;\n",
    "# пользователям с числом просмотров меньше 350, но больше либо равно 100 — группу 2;\n",
    "# пользователям с числом просмотров меньше 100 — группу 3.\n",
    "# Отобразите в итоговой таблице идентификатор пользователя, количество просмотров профиля и группу. Пользователи с нулевым количеством просмотров не должны войти в итоговую таблицу.\n",
    "\n",
    "SELECT id,\n",
    "       views,\n",
    "       CASE\n",
    "           WHEN views >= 350 THEN 1\n",
    "           WHEN views < 100 THEN 3\n",
    "           ELSE 2\n",
    "       END\n",
    "FROM stackoverflow.users\n",
    "WHERE location LIKE '%United States%' AND views != 0"
   ]
  },
  {
   "cell_type": "code",
   "execution_count": null,
   "id": "f979828f",
   "metadata": {},
   "outputs": [],
   "source": [
    "# задание 11\n",
    "# Дополните предыдущий запрос. Отобразите лидеров каждой группы — пользователей, которые набрали максимальное число просмотров в своей группе. Выведите поля с идентификатором пользователя, группой и количеством просмотров. Отсортируйте таблицу по убыванию просмотров, а затем по возрастанию значения идентификатора.\n",
    "\n",
    "WITH selection AS (SELECT id,\n",
    "       views,\n",
    "       CASE\n",
    "           WHEN views >= 350 THEN 1\n",
    "           WHEN views < 100 THEN 3\n",
    "           ELSE 2\n",
    "       END AS group_123\n",
    "FROM stackoverflow.users\n",
    "WHERE location LIKE '%United States%' AND views != 0),\n",
    "max_by_group AS \n",
    "    (SELECT group_123,\n",
    "            MAX(views)\n",
    "     FROM selection\n",
    "     GROUP BY 1) \n",
    "\n",
    "SELECT selection.id,\n",
    "       max_by_group.group_123,\n",
    "       max_by_group.max\n",
    "FROM selection \n",
    "JOIN max_by_group ON selection.views = max_by_group.max\n",
    "ORDER BY 3 DESC,\n",
    "         1 "
   ]
  },
  {
   "cell_type": "code",
   "execution_count": null,
   "id": "d7e9858d",
   "metadata": {},
   "outputs": [],
   "source": [
    "# задание 12\n",
    "# Посчитайте ежедневный прирост новых пользователей в ноябре 2008 года. Сформируйте таблицу с полями: номер дня; число пользователей, зарегистрированных в этот день; сумму пользователей с накоплением.\n",
    "\n",
    "WITH selection AS (SELECT DISTINCT EXTRACT(DAY FROM creation_date::date) dt,\n",
    "                          COUNT(id) OVER (PARTITION BY EXTRACT(DAY FROM creation_date::date)) AS cnt\n",
    "                   FROM stackoverflow.users\n",
    "                   WHERE EXTRACT(MONTH FROM creation_date::date) = 11\n",
    "                   AND EXTRACT(YEAR FROM creation_date::date) = 2008\n",
    "                  )\n",
    "\n",
    "SELECT *,\n",
    "       SUM(cnt) OVER (ORDER BY dt) \n",
    "FROM selection\n"
   ]
  },
  {
   "cell_type": "code",
   "execution_count": null,
   "id": "cc54a502",
   "metadata": {},
   "outputs": [],
   "source": [
    "# задание 13\n",
    "#  Для каждого пользователя, который написал хотя бы один пост, найдите интервал между регистрацией и временем создания первого поста. Отобразите: идентификатор пользователя; разницу во времени между регистрацией и первым постом.\n",
    "\n",
    "WITH date_first_post AS (SELECT user_id,\n",
    "                                MIN(creation_date) dt\n",
    "                         FROM stackoverflow.posts\n",
    "                         GROUP BY 1\n",
    "                        )\n",
    "\n",
    "SELECT date_first_post.user_id,\n",
    "       date_first_post.dt - u.creation_date\n",
    "FROM date_first_post\n",
    "JOIN stackoverflow.users AS u ON u.id = date_first_post.user_id"
   ]
  },
  {
   "cell_type": "code",
   "execution_count": null,
   "id": "af61c6e3",
   "metadata": {},
   "outputs": [],
   "source": [
    "#задание 14\n",
    "# Выведите общую сумму просмотров постов за каждый месяц 2008 года. Если данных за какой-либо месяц в базе нет, такой месяц можно пропустить. Результат отсортируйте по убыванию общего количества просмотров.\n",
    "\n",
    "SELECT DISTINCT DATE_TRUNC('month', creation_date)::date dt,\n",
    "       SUM(views_count) OVER (PARTITION BY DATE_TRUNC('month', creation_date)::date) \n",
    "FROM stackoverflow.posts \n",
    "ORDER BY 2 DESC\n"
   ]
  },
  {
   "cell_type": "code",
   "execution_count": 1,
   "id": "d379a908",
   "metadata": {},
   "outputs": [],
   "source": [
    "#задание 15\n",
    "#Выведите имена самых активных пользователей, которые в первый месяц после регистрации (включая день регистрации) дали больше 100 ответов. Вопросы, которые задавали пользователи, не учитывайте. Для каждого имени пользователя выведите количество уникальных значений user_id. Отсортируйте результат по полю с именами в лексикографическом порядке.\n",
    "\n",
    "SELECT u.display_name,\n",
    "       COUNT(DISTINCT p.user_id)\n",
    "FROM stackoverflow.posts AS p\n",
    "JOIN stackoverflow.users AS u ON u.id = p.user_id\n",
    "WHERE p.post_type_id = 2 \n",
    "AND DATE_TRUNC('day', p.creation_date) <= DATE_TRUNC('day', u.creation_date) + INTERVAL '1 month'\n",
    "AND DATE_TRUNC('day', p.creation_date) >= DATE_TRUNC('day', u.creation_date)\n",
    "GROUP BY 1\n",
    "HAVING COUNT(p.id) > 100     \n",
    "ORDER BY 1"
   ]
  },
  {
   "cell_type": "code",
   "execution_count": null,
   "id": "519fd1f9",
   "metadata": {},
   "outputs": [],
   "source": [
    "# задание 16\n",
    "#Выведите количество постов за 2008 год по месяцам. Отберите посты от пользователей, которые зарегистрировались в сентябре 2008 года и сделали хотя бы один пост в декабре того же года. Отсортируйте таблицу по значению месяца по убыванию.\n",
    "\n",
    "SELECT DATE_TRUNC('month', creation_date)::date,\n",
    "       COUNT(*) \n",
    "FROM stackoverflow.posts\n",
    "WHERE user_id IN \n",
    "(SELECT DISTINCT u.id\n",
    "FROM stackoverflow.users AS u\n",
    "JOIN stackoverflow.posts AS p ON u.id = p.user_id\n",
    "WHERE DATE_TRUNC('month', u.creation_date)::date = '2008-09-01'\n",
    "AND DATE_TRUNC('month', p.creation_date)::date = '2008-12-01')\n",
    "GROUP BY 1\n",
    "ORDER BY 1 DESC\n"
   ]
  },
  {
   "cell_type": "code",
   "execution_count": null,
   "id": "80d76cd3",
   "metadata": {},
   "outputs": [],
   "source": [
    "#задание 17\n",
    "# Используя данные о постах, выведите несколько полей: идентификатор пользователя, который написал пост; дата создания поста; количество просмотров у текущего поста; сумму просмотров постов автора с накоплением.\n",
    "# Данные в таблице должны быть отсортированы по возрастанию идентификаторов пользователей, а данные об одном и том же пользователе — по возрастанию даты создания поста.\n",
    "\n",
    "SELECT user_id,\n",
    "       creation_date,\n",
    "       views_count,\n",
    "       SUM(views_count) OVER (PARTITION BY user_id ORDER BY creation_date) \n",
    "FROM stackoverflow.posts\n",
    "ORDER BY 1"
   ]
  },
  {
   "cell_type": "code",
   "execution_count": null,
   "id": "5e3acc35",
   "metadata": {},
   "outputs": [],
   "source": [
    "#задание 18\n",
    "# Сколько в среднем дней в период с 1 по 7 декабря 2008 года включительно пользователи взаимодействовали с платформой? Для каждого пользователя отберите дни, в которые он или она опубликовали хотя бы один пост. Нужно получить одно целое число — не забудьте округлить результат.\n",
    "\n",
    "WITH selection AS (SELECT user_id,\n",
    "       COUNT(DISTINCT creation_date::date) AS cnt\n",
    "FROM stackoverflow.posts\n",
    "WHERE creation_date::date BETWEEN '2008-12-01' AND '2008-12-07'\n",
    "GROUP BY 1)\n",
    "\n",
    "SELECT ROUND(AVG(cnt))\n",
    "FROM selection"
   ]
  },
  {
   "cell_type": "code",
   "execution_count": null,
   "id": "4eedec48",
   "metadata": {},
   "outputs": [],
   "source": [
    "#задание 19\n",
    "# На сколько процентов менялось количество постов ежемесячно с 1 сентября по 31 декабря 2008 года? Отобразите таблицу со следующими полями:\n",
    "# номер месяца;\n",
    "# количество постов за месяц;\n",
    "# процент, который показывает, насколько изменилось количество постов в текущем месяце по сравнению с предыдущим.\n",
    "# Если постов стало меньше, значение процента должно быть отрицательным, если больше — положительным. Округлите значение процента до двух знаков после запятой.\n",
    "\n",
    "WITH selection AS \n",
    "(SELECT EXTRACT(month FROM creation_date) AS dt,\n",
    "       COUNT(id) AS cnt\n",
    "FROM stackoverflow.posts\n",
    "WHERE EXTRACT(month FROM creation_date) IN (9, 10, 11, 12) \n",
    "GROUP BY 1\n",
    ")\n",
    "\n",
    "SELECT *,\n",
    "       ROUND((cnt::numeric/LAG(cnt) OVER (ORDER BY dt)-1)*100,2)\n",
    "FROM selection    "
   ]
  },
  {
   "cell_type": "code",
   "execution_count": null,
   "id": "8197ee72",
   "metadata": {},
   "outputs": [],
   "source": [
    "#задание 20\n",
    "#Выгрузите данные активности пользователя, который опубликовал больше всего постов за всё время. Выведите данные за октябрь 2008 года в таком виде:\n",
    "# номер недели;\n",
    "# дата и время последнего поста, опубликованного на этой неделе.\n",
    "\n",
    "WITH selection AS (SELECT EXTRACT('week' FROM creation_date) AS week,\n",
    "       creation_date \n",
    "FROM stackoverflow.posts\n",
    "WHERE user_id in (SELECT user_id\n",
    "FROM stackoverflow.posts\n",
    "GROUP BY 1\n",
    "ORDER BY COUNT(id) DESC\n",
    "LIMIT 1)\n",
    "AND DATE_TRUNC('month', creation_date)::date = '2008-10-01'\n",
    "ORDER BY 1,\n",
    "         2)\n",
    "\n",
    "SELECT DISTINCT week,\n",
    "       LAST_VALUE(creation_date) OVER (PARTITION BY week ORDER BY EXTRACT('week' FROM creation_date)) \n",
    "FROM selection "
   ]
  }
 ],
 "metadata": {
  "kernelspec": {
   "display_name": "Python 3 (ipykernel)",
   "language": "python",
   "name": "python3"
  },
  "language_info": {
   "codemirror_mode": {
    "name": "ipython",
    "version": 3
   },
   "file_extension": ".py",
   "mimetype": "text/x-python",
   "name": "python",
   "nbconvert_exporter": "python",
   "pygments_lexer": "ipython3",
   "version": "3.10.8"
  }
 },
 "nbformat": 4,
 "nbformat_minor": 5
}
