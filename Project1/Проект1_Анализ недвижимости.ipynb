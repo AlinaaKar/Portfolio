{
 "cells": [
  {
   "cell_type": "markdown",
   "id": "039047c9",
   "metadata": {},
   "source": [
    "Добрый день!\n",
    " \n",
    "### Задание\n",
    "В качетсве проекта было предложено рассмотреть данные сервиса Яндекс Недвижимость — архив объявлений за несколько лет о продаже квартир в Санкт-Петербурге и соседних населённых пунктах.\n",
    "\n",
    "Задача данного проекта — выполнить предобработку данных и изучить их, чтобы найти интересные особенности и зависимости, которые существуют на рынке недвижимости."
   ]
  },
  {
   "cell_type": "markdown",
   "id": "56a67398",
   "metadata": {},
   "source": [
    "## Шаг 1. Общая информация о датасете"
   ]
  },
  {
   "cell_type": "code",
   "execution_count": 142,
   "id": "ab95541c",
   "metadata": {},
   "outputs": [],
   "source": [
    "#Устанавливаем библиотеки для работы\n",
    "\n",
    "import pandas as pd\n",
    "import matplotlib.pyplot as plt \n",
    "import warnings\n",
    "\n",
    "warnings.filterwarnings(\"ignore\")"
   ]
  },
  {
   "cell_type": "code",
   "execution_count": 143,
   "id": "1d582b8d",
   "metadata": {},
   "outputs": [
    {
     "data": {
      "text/html": [
       "<div>\n",
       "<style scoped>\n",
       "    .dataframe tbody tr th:only-of-type {\n",
       "        vertical-align: middle;\n",
       "    }\n",
       "\n",
       "    .dataframe tbody tr th {\n",
       "        vertical-align: top;\n",
       "    }\n",
       "\n",
       "    .dataframe thead th {\n",
       "        text-align: right;\n",
       "    }\n",
       "</style>\n",
       "<table border=\"1\" class=\"dataframe\">\n",
       "  <thead>\n",
       "    <tr style=\"text-align: right;\">\n",
       "      <th></th>\n",
       "      <th>total_images</th>\n",
       "      <th>last_price</th>\n",
       "      <th>total_area</th>\n",
       "      <th>first_day_exposition</th>\n",
       "      <th>rooms</th>\n",
       "      <th>ceiling_height</th>\n",
       "      <th>floors_total</th>\n",
       "      <th>living_area</th>\n",
       "      <th>floor</th>\n",
       "      <th>is_apartment</th>\n",
       "      <th>...</th>\n",
       "      <th>kitchen_area</th>\n",
       "      <th>balcony</th>\n",
       "      <th>locality_name</th>\n",
       "      <th>airports_nearest</th>\n",
       "      <th>cityCenters_nearest</th>\n",
       "      <th>parks_around3000</th>\n",
       "      <th>parks_nearest</th>\n",
       "      <th>ponds_around3000</th>\n",
       "      <th>ponds_nearest</th>\n",
       "      <th>days_exposition</th>\n",
       "    </tr>\n",
       "  </thead>\n",
       "  <tbody>\n",
       "    <tr>\n",
       "      <th>0</th>\n",
       "      <td>20</td>\n",
       "      <td>13000000.0</td>\n",
       "      <td>108.0</td>\n",
       "      <td>2019-03-07T00:00:00</td>\n",
       "      <td>3</td>\n",
       "      <td>2.70</td>\n",
       "      <td>16.0</td>\n",
       "      <td>51.0</td>\n",
       "      <td>8</td>\n",
       "      <td>NaN</td>\n",
       "      <td>...</td>\n",
       "      <td>25.0</td>\n",
       "      <td>NaN</td>\n",
       "      <td>Санкт-Петербург</td>\n",
       "      <td>18863.0</td>\n",
       "      <td>16028.0</td>\n",
       "      <td>1.0</td>\n",
       "      <td>482.0</td>\n",
       "      <td>2.0</td>\n",
       "      <td>755.0</td>\n",
       "      <td>NaN</td>\n",
       "    </tr>\n",
       "    <tr>\n",
       "      <th>1</th>\n",
       "      <td>7</td>\n",
       "      <td>3350000.0</td>\n",
       "      <td>40.4</td>\n",
       "      <td>2018-12-04T00:00:00</td>\n",
       "      <td>1</td>\n",
       "      <td>NaN</td>\n",
       "      <td>11.0</td>\n",
       "      <td>18.6</td>\n",
       "      <td>1</td>\n",
       "      <td>NaN</td>\n",
       "      <td>...</td>\n",
       "      <td>11.0</td>\n",
       "      <td>2.0</td>\n",
       "      <td>посёлок Шушары</td>\n",
       "      <td>12817.0</td>\n",
       "      <td>18603.0</td>\n",
       "      <td>0.0</td>\n",
       "      <td>NaN</td>\n",
       "      <td>0.0</td>\n",
       "      <td>NaN</td>\n",
       "      <td>81.0</td>\n",
       "    </tr>\n",
       "    <tr>\n",
       "      <th>2</th>\n",
       "      <td>10</td>\n",
       "      <td>5196000.0</td>\n",
       "      <td>56.0</td>\n",
       "      <td>2015-08-20T00:00:00</td>\n",
       "      <td>2</td>\n",
       "      <td>NaN</td>\n",
       "      <td>5.0</td>\n",
       "      <td>34.3</td>\n",
       "      <td>4</td>\n",
       "      <td>NaN</td>\n",
       "      <td>...</td>\n",
       "      <td>8.3</td>\n",
       "      <td>0.0</td>\n",
       "      <td>Санкт-Петербург</td>\n",
       "      <td>21741.0</td>\n",
       "      <td>13933.0</td>\n",
       "      <td>1.0</td>\n",
       "      <td>90.0</td>\n",
       "      <td>2.0</td>\n",
       "      <td>574.0</td>\n",
       "      <td>558.0</td>\n",
       "    </tr>\n",
       "    <tr>\n",
       "      <th>3</th>\n",
       "      <td>0</td>\n",
       "      <td>64900000.0</td>\n",
       "      <td>159.0</td>\n",
       "      <td>2015-07-24T00:00:00</td>\n",
       "      <td>3</td>\n",
       "      <td>NaN</td>\n",
       "      <td>14.0</td>\n",
       "      <td>NaN</td>\n",
       "      <td>9</td>\n",
       "      <td>NaN</td>\n",
       "      <td>...</td>\n",
       "      <td>NaN</td>\n",
       "      <td>0.0</td>\n",
       "      <td>Санкт-Петербург</td>\n",
       "      <td>28098.0</td>\n",
       "      <td>6800.0</td>\n",
       "      <td>2.0</td>\n",
       "      <td>84.0</td>\n",
       "      <td>3.0</td>\n",
       "      <td>234.0</td>\n",
       "      <td>424.0</td>\n",
       "    </tr>\n",
       "    <tr>\n",
       "      <th>4</th>\n",
       "      <td>2</td>\n",
       "      <td>10000000.0</td>\n",
       "      <td>100.0</td>\n",
       "      <td>2018-06-19T00:00:00</td>\n",
       "      <td>2</td>\n",
       "      <td>3.03</td>\n",
       "      <td>14.0</td>\n",
       "      <td>32.0</td>\n",
       "      <td>13</td>\n",
       "      <td>NaN</td>\n",
       "      <td>...</td>\n",
       "      <td>41.0</td>\n",
       "      <td>NaN</td>\n",
       "      <td>Санкт-Петербург</td>\n",
       "      <td>31856.0</td>\n",
       "      <td>8098.0</td>\n",
       "      <td>2.0</td>\n",
       "      <td>112.0</td>\n",
       "      <td>1.0</td>\n",
       "      <td>48.0</td>\n",
       "      <td>121.0</td>\n",
       "    </tr>\n",
       "  </tbody>\n",
       "</table>\n",
       "<p>5 rows × 22 columns</p>\n",
       "</div>"
      ],
      "text/plain": [
       "   total_images  last_price  total_area first_day_exposition  rooms  \\\n",
       "0            20  13000000.0       108.0  2019-03-07T00:00:00      3   \n",
       "1             7   3350000.0        40.4  2018-12-04T00:00:00      1   \n",
       "2            10   5196000.0        56.0  2015-08-20T00:00:00      2   \n",
       "3             0  64900000.0       159.0  2015-07-24T00:00:00      3   \n",
       "4             2  10000000.0       100.0  2018-06-19T00:00:00      2   \n",
       "\n",
       "   ceiling_height  floors_total  living_area  floor is_apartment  ...  \\\n",
       "0            2.70          16.0         51.0      8          NaN  ...   \n",
       "1             NaN          11.0         18.6      1          NaN  ...   \n",
       "2             NaN           5.0         34.3      4          NaN  ...   \n",
       "3             NaN          14.0          NaN      9          NaN  ...   \n",
       "4            3.03          14.0         32.0     13          NaN  ...   \n",
       "\n",
       "   kitchen_area  balcony    locality_name  airports_nearest  \\\n",
       "0          25.0      NaN  Санкт-Петербург           18863.0   \n",
       "1          11.0      2.0   посёлок Шушары           12817.0   \n",
       "2           8.3      0.0  Санкт-Петербург           21741.0   \n",
       "3           NaN      0.0  Санкт-Петербург           28098.0   \n",
       "4          41.0      NaN  Санкт-Петербург           31856.0   \n",
       "\n",
       "  cityCenters_nearest  parks_around3000  parks_nearest  ponds_around3000  \\\n",
       "0             16028.0               1.0          482.0               2.0   \n",
       "1             18603.0               0.0            NaN               0.0   \n",
       "2             13933.0               1.0           90.0               2.0   \n",
       "3              6800.0               2.0           84.0               3.0   \n",
       "4              8098.0               2.0          112.0               1.0   \n",
       "\n",
       "   ponds_nearest  days_exposition  \n",
       "0          755.0              NaN  \n",
       "1            NaN             81.0  \n",
       "2          574.0            558.0  \n",
       "3          234.0            424.0  \n",
       "4           48.0            121.0  \n",
       "\n",
       "[5 rows x 22 columns]"
      ]
     },
     "execution_count": 143,
     "metadata": {},
     "output_type": "execute_result"
    }
   ],
   "source": [
    "#подгружаем данные в систему\n",
    "\n",
    "data = pd.read_csv('/datasets/real_estate_data.csv', sep = '\\t')\n",
    "data.head()"
   ]
  },
  {
   "cell_type": "code",
   "execution_count": 144,
   "id": "da773b34",
   "metadata": {},
   "outputs": [
    {
     "name": "stdout",
     "output_type": "stream",
     "text": [
      "<class 'pandas.core.frame.DataFrame'>\n",
      "RangeIndex: 23699 entries, 0 to 23698\n",
      "Data columns (total 22 columns):\n",
      " #   Column                Non-Null Count  Dtype  \n",
      "---  ------                --------------  -----  \n",
      " 0   total_images          23699 non-null  int64  \n",
      " 1   last_price            23699 non-null  float64\n",
      " 2   total_area            23699 non-null  float64\n",
      " 3   first_day_exposition  23699 non-null  object \n",
      " 4   rooms                 23699 non-null  int64  \n",
      " 5   ceiling_height        14504 non-null  float64\n",
      " 6   floors_total          23613 non-null  float64\n",
      " 7   living_area           21796 non-null  float64\n",
      " 8   floor                 23699 non-null  int64  \n",
      " 9   is_apartment          2775 non-null   object \n",
      " 10  studio                23699 non-null  bool   \n",
      " 11  open_plan             23699 non-null  bool   \n",
      " 12  kitchen_area          21421 non-null  float64\n",
      " 13  balcony               12180 non-null  float64\n",
      " 14  locality_name         23650 non-null  object \n",
      " 15  airports_nearest      18157 non-null  float64\n",
      " 16  cityCenters_nearest   18180 non-null  float64\n",
      " 17  parks_around3000      18181 non-null  float64\n",
      " 18  parks_nearest         8079 non-null   float64\n",
      " 19  ponds_around3000      18181 non-null  float64\n",
      " 20  ponds_nearest         9110 non-null   float64\n",
      " 21  days_exposition       20518 non-null  float64\n",
      "dtypes: bool(2), float64(14), int64(3), object(3)\n",
      "memory usage: 3.7+ MB\n"
     ]
    }
   ],
   "source": [
    "#изучим данные с помощью метода info\n",
    "\n",
    "data.info()"
   ]
  },
  {
   "cell_type": "markdown",
   "id": "b5c5fa25",
   "metadata": {},
   "source": [
    "Данные переданы в формате CSV. Разделитель, который был использован в файле - \"\\t\"\n",
    "\n",
    "Датасет содержит 23 699 строк и 22 колонки. \n",
    "\n",
    "Данные содержат пропущенные значения. Более подробнее о них рассмотрим ниже. \n",
    "\n",
    "Данные представлены различными типами: присутствуют столбцы с целыми, вещественными числами, строками, булевыми значениями. "
   ]
  },
  {
   "cell_type": "code",
   "execution_count": 145,
   "id": "4493b33d",
   "metadata": {},
   "outputs": [
    {
     "data": {
      "text/plain": [
       "array([[<AxesSubplot:title={'center':'total_images'}>,\n",
       "        <AxesSubplot:title={'center':'last_price'}>,\n",
       "        <AxesSubplot:title={'center':'total_area'}>,\n",
       "        <AxesSubplot:title={'center':'rooms'}>],\n",
       "       [<AxesSubplot:title={'center':'ceiling_height'}>,\n",
       "        <AxesSubplot:title={'center':'floors_total'}>,\n",
       "        <AxesSubplot:title={'center':'living_area'}>,\n",
       "        <AxesSubplot:title={'center':'floor'}>],\n",
       "       [<AxesSubplot:title={'center':'kitchen_area'}>,\n",
       "        <AxesSubplot:title={'center':'balcony'}>,\n",
       "        <AxesSubplot:title={'center':'airports_nearest'}>,\n",
       "        <AxesSubplot:title={'center':'cityCenters_nearest'}>],\n",
       "       [<AxesSubplot:title={'center':'parks_around3000'}>,\n",
       "        <AxesSubplot:title={'center':'parks_nearest'}>,\n",
       "        <AxesSubplot:title={'center':'ponds_around3000'}>,\n",
       "        <AxesSubplot:title={'center':'ponds_nearest'}>],\n",
       "       [<AxesSubplot:title={'center':'days_exposition'}>, <AxesSubplot:>,\n",
       "        <AxesSubplot:>, <AxesSubplot:>]], dtype=object)"
      ]
     },
     "execution_count": 145,
     "metadata": {},
     "output_type": "execute_result"
    },
    {
     "data": {
      "image/png": "[encoded data removed]",
      "text/plain": [
       "<Figure size 1080x1440 with 20 Axes>"
      ]
     },
     "metadata": {
      "needs_background": "light"
     },
     "output_type": "display_data"
    }
   ],
   "source": [
    "#построим гистограмму для всех столбцов датафрейма\n",
    "\n",
    "data.hist(figsize=(15, 20))"
   ]
  },
  {
   "cell_type": "code",
   "execution_count": 146,
   "id": "015236c0",
   "metadata": {},
   "outputs": [
    {
     "data": {
      "text/plain": [
       "0"
      ]
     },
     "execution_count": 146,
     "metadata": {},
     "output_type": "execute_result"
    }
   ],
   "source": [
    "#количество явных дубликатов - 0\n",
    "data.duplicated().sum()"
   ]
  },
  {
   "cell_type": "markdown",
   "id": "fa267427",
   "metadata": {},
   "source": [
    "На первый взгляд о данных по диаграммам сложно сделать какие-то выводы: различаются данные по типу значений (числа, строки). \n",
    "\n",
    "На графиках видно столбцы, распределение данных по которым близко к Пуасонновскому: число фотографий (total_images), число комнат (rooms), количество этажей в доме, жилая площадь, растояние до центра города, расстояние до ближайшего парка, расстояние до ближайшего водоёма, сколько дней было размещено объявление (от публикации до снятия). \n",
    "\n",
    "Наблюдаются пики по диаграммам:\n",
    "* наибольшее количество обявлений содержит примерно 10 фотографий\n",
    "* цена на момент снятия с публикации наибольшего количества обявлений составляла не более 100 000 000 \n",
    "* общая площадь квартиры в квадратных метрах в основном не превышает 100 кв.м.\n",
    "* в основном в квартире не более 3 комнат\n",
    "* большинство квартир имеет высоту потолков менее 10 метров\n",
    "* всего этажей в доме в основном менее 20\n",
    "* жилая площадь в основном менее 50 кв. м.\n",
    "* наибольшее количество квартир находится на этажах менее 10 \n",
    "* площадь кухни в основном - менее 15 кв.м.\n",
    "* в основном количество балконов - менее 2\n",
    "* удаленность от аэропорта в основном примерно 20000 метров\n",
    "* удаленность от центра города в основном - менее 20000 метров\n",
    "* парки в радиусе 3 км в основном отсутствуют\n",
    "* расстояние до ближайшего парка в основном примерно 500м (данное наблюдение вызывает вопросы)\n",
    "* водоемы в радиусе 3 км в основном отсутствуют\n",
    "* расстояние до ближайшего водоема в основном примерно 500м (данное наблюдение вызывает вопросы)\n",
    "* в основном количество после размещения объявления - менее 250"
   ]
  },
  {
   "cell_type": "markdown",
   "id": "1f918741",
   "metadata": {},
   "source": [
    "## Шаг 2. Предобработка данных\n",
    "Далее будет проведена предобработка данных:\n",
    "* будут рассмотрены и преобразованы типы данных, используемых в датасете\n",
    "* будут удалены явные и неяные дубликаты\n",
    "* будут устранены отстуствующие значения"
   ]
  },
  {
   "cell_type": "code",
   "execution_count": 147,
   "id": "1e74854a",
   "metadata": {},
   "outputs": [
    {
     "data": {
      "text/plain": [
       "total_images                0\n",
       "last_price                  0\n",
       "total_area                  0\n",
       "first_day_exposition        0\n",
       "rooms                       0\n",
       "ceiling_height           9195\n",
       "floors_total               86\n",
       "living_area              1903\n",
       "floor                       0\n",
       "is_apartment            20924\n",
       "studio                      0\n",
       "open_plan                   0\n",
       "kitchen_area             2278\n",
       "balcony                 11519\n",
       "locality_name              49\n",
       "airports_nearest         5542\n",
       "cityCenters_nearest      5519\n",
       "parks_around3000         5518\n",
       "parks_nearest           15620\n",
       "ponds_around3000         5518\n",
       "ponds_nearest           14589\n",
       "days_exposition          3181\n",
       "dtype: int64"
      ]
     },
     "execution_count": 147,
     "metadata": {},
     "output_type": "execute_result"
    }
   ],
   "source": [
    "#определяем пропуски в данных\n",
    "\n",
    "data.isna().sum()"
   ]
  },
  {
   "cell_type": "markdown",
   "id": "ef70696a",
   "metadata": {},
   "source": [
    "В данных пропущены значения в следуюших столбцах:\n",
    "* высота потолков (скорее всего человеческий фактов - люди редко при выставлении объявления на продажу указывают высоту потолков. Данные по высоте потолков в основном стабильны и не должны превышать 5м., то есть нахождение средней по всем квартирам даст примерное число для заполнения пропусков (так как нет сильных выбросов). Для дальнейшей работы можно высоту потолков заполнить средним или медианным значением. \n",
    "\n",
    "* количество этажей в доме (скорее всего человеческий фактор - человек может не знать общую высоту дома, если дом многоэтажный). Данные могут содержать выбросы (если дом - высотное здание), поэтому для данного случая пропуски можно заполнить медианным значением\n",
    "\n",
    "* жилая площать (скорее всего человеческий фактор - человек может не знать конкретно жилую площадь квартиры). Для дальнейшей работы можно жилую площадь заполнить медианным значением. \n",
    "\n",
    "* апартаменты - скорее всего пропущенные значения - это не апартаменты, поэтому пропуски можно заполнить False\n",
    "\n",
    "* площадь кухни в квадратных метрах - комментарий аналогичен жилой площади\n",
    "\n",
    "* количество балконов - скорее всего пропущенные значения - это отсутствие балконов, поэтому пропуски можно заполнить 0\n",
    "\n",
    "* отсутствие заполненного названия населенного пункта - возможно также человеческий фактор (данные оказались незаполнены при формировании объявления или населенный пункт остутствует). Пропуски заполнить невозможно\n",
    "\n",
    "* расстояние до центра и до аэропорта - возможно причина также в человеческом факторе (заполняющий не знает, каково расстояние до центра города (скорее всего до центра Санкт-Петербурга) или данный фактор не оказывает влияние на формирование цены квартиры, поэтому попросту был пропущен (например, для домика в деревне или прочего удаленного объекта)). Если расстояние указывается автоматически с использованием Карт, то возможно человек указал в адресе несуществующий адрес, поэтому система не смогла найти объект на карте. Возможно также отсутсвие центра города/аэропорта - то есть населенный пункт - деревня или село.   \n",
    "\n",
    "* количество парков и прудов на расстоянии не более 3 км, удаленность от объекта до парка/пруда. - скорее всего парков или прудов в населенном пункте нет. Если расстояние указывается автоматически с использованием Карт, то возможно человек указал в адресе несуществующий адрес, поэтому система не смогла найти объект на карте.  \n",
    "\n",
    "* days_exposition - пропуск этих данных не связан с заполнением данных вручную, в отличие от факторов выше, поэтому с этой проблемой можно обратиться к разработчикам, предоставившим данные. Для целей задачи заполним данные медианным значением\n",
    "\n",
    "\n"
   ]
  },
  {
   "cell_type": "code",
   "execution_count": 148,
   "id": "34b22aca",
   "metadata": {},
   "outputs": [
    {
     "data": {
      "text/plain": [
       "0        2019-03-07T00:00:00\n",
       "1        2018-12-04T00:00:00\n",
       "2        2015-08-20T00:00:00\n",
       "3        2015-07-24T00:00:00\n",
       "4        2018-06-19T00:00:00\n",
       "                ...         \n",
       "23694    2017-03-21T00:00:00\n",
       "23695    2018-01-15T00:00:00\n",
       "23696    2018-02-11T00:00:00\n",
       "23697    2017-03-28T00:00:00\n",
       "23698    2017-07-21T00:00:00\n",
       "Name: first_day_exposition, Length: 23699, dtype: object"
      ]
     },
     "execution_count": 148,
     "metadata": {},
     "output_type": "execute_result"
    }
   ],
   "source": [
    "data['first_day_exposition']"
   ]
  },
  {
   "cell_type": "code",
   "execution_count": 149,
   "id": "dff611dd",
   "metadata": {},
   "outputs": [],
   "source": [
    "#меняем тип данных для корректного устранения дубликатов\n",
    "\n",
    "data['ceiling_height'] = data['ceiling_height'].astype('float')\n",
    "data['living_area'] = data['living_area'].astype('float')"
   ]
  },
  {
   "cell_type": "code",
   "execution_count": 150,
   "id": "5c76e2f2",
   "metadata": {},
   "outputs": [],
   "source": [
    "#преобразуем тип данных дата, округляем до дня\n",
    "data['first_day_exposition'] = pd.to_datetime(data['first_day_exposition'], format = '%Y-%m-%dT%H:%M:%S')\n",
    "data['first_day_exposition']=data['first_day_exposition'].dt.round('1D') "
   ]
  },
  {
   "cell_type": "code",
   "execution_count": 151,
   "id": "72de91ec",
   "metadata": {},
   "outputs": [],
   "source": [
    "data['floors_total'] = data['floors_total'].fillna(data['floor'])"
   ]
  },
  {
   "cell_type": "code",
   "execution_count": 152,
   "id": "10923919",
   "metadata": {},
   "outputs": [],
   "source": [
    "data['year'] = pd.DatetimeIndex(data['first_day_exposition']).year"
   ]
  },
  {
   "cell_type": "code",
   "execution_count": 153,
   "id": "e5959a16",
   "metadata": {},
   "outputs": [
    {
     "data": {
      "text/plain": [
       "year\n",
       "2019    1796\n",
       "2018     959\n",
       "2017     271\n",
       "2015      70\n",
       "2016      67\n",
       "2014      18\n",
       "dtype: int64"
      ]
     },
     "execution_count": 153,
     "metadata": {},
     "output_type": "execute_result"
    }
   ],
   "source": [
    "data[data['days_exposition'].isna()].value_counts('year')"
   ]
  },
  {
   "cell_type": "markdown",
   "id": "dbf7817e",
   "metadata": {},
   "source": [
    "Основная часть пропусков - данные 2019 года.  Возможно наличие пропусов означает то, что квартиры еще не проданы и висят в объявлении. Тогда пропуски заполнять не будем. "
   ]
  },
  {
   "cell_type": "code",
   "execution_count": 154,
   "id": "bc324335",
   "metadata": {},
   "outputs": [],
   "source": [
    "data = data.drop(columns = 'year')"
   ]
  },
  {
   "cell_type": "code",
   "execution_count": 155,
   "id": "e65b2423",
   "metadata": {},
   "outputs": [],
   "source": [
    "#заполняем пропуски\n",
    "\n",
    "col_name = ['ceiling_height', 'living_area', 'kitchen_area', ]\n",
    "\n",
    "for item in col_name:\n",
    "    data[item] = data[item].fillna(data[item].median())\n",
    "\n",
    "#добавляем в пропуски данные об объектах, которые не являются апартаментами\n",
    "data['is_apartment'] = data['is_apartment'].fillna(False)\n",
    "\n",
    "#добавляем в пропуски данные об объектах, у которых отсутствует балкон (и меняем тип данных)\n",
    "data['balcony'] = data['balcony'].fillna(0)\n",
    "data['balcony'] = data['balcony'].astype('int')\n",
    "\n",
    "#добавляем в данные, в которых нет указания на название населенного пункта фразой \"нет населенного пункта\"\n",
    "data['locality_name'] = data['locality_name'].fillna('нет населенного пункта')\n",
    "\n",
    "#убираем неявные дубликаты\n",
    "data['locality_name'] = data['locality_name'].replace('ё', 'e', regex = True)\n",
    "data['locality_name'] = data['locality_name'].replace('поселок городского типа', 'поселок', regex = True)\n",
    "data['locality_name'] = data['locality_name'].replace('деревня Кудрово', 'Кудрово', regex = True)\n",
    "data['locality_name'] = data['locality_name'].replace('поселок Мурино', 'Мурино', regex = True)\n",
    "data['locality_name'] = data['locality_name'].str.lower()"
   ]
  },
  {
   "cell_type": "code",
   "execution_count": 156,
   "id": "a5d5fd57",
   "metadata": {},
   "outputs": [
    {
     "data": {
      "text/plain": [
       "total_images                0\n",
       "last_price                  0\n",
       "total_area                  0\n",
       "first_day_exposition        0\n",
       "rooms                       0\n",
       "ceiling_height              0\n",
       "floors_total                0\n",
       "living_area                 0\n",
       "floor                       0\n",
       "is_apartment                0\n",
       "studio                      0\n",
       "open_plan                   0\n",
       "kitchen_area                0\n",
       "balcony                     0\n",
       "locality_name               0\n",
       "airports_nearest         5542\n",
       "cityCenters_nearest      5519\n",
       "parks_around3000         5518\n",
       "parks_nearest           15620\n",
       "ponds_around3000         5518\n",
       "ponds_nearest           14589\n",
       "days_exposition          3181\n",
       "dtype: int64"
      ]
     },
     "execution_count": 156,
     "metadata": {},
     "output_type": "execute_result"
    }
   ],
   "source": [
    "data.isna().sum()"
   ]
  },
  {
   "cell_type": "code",
   "execution_count": 157,
   "id": "48bae66f",
   "metadata": {},
   "outputs": [
    {
     "name": "stdout",
     "output_type": "stream",
     "text": [
      "0.005406780739138732\n"
     ]
    }
   ],
   "source": [
    "# изучим данные о парках, прудах, аэропортах и центра города: 'parks_around3000', 'parks_nearest', 'ponds_around3000', 'ponds_nearest',\n",
    "#'airports_nearest', 'cityCenters_nearest\n",
    "\n",
    "#почему нет аэропортов?\n",
    "number_nan_airp_Spb = len(data[data['airports_nearest'].isna()].query('locality_name == \"санкт-петербург\"'))\n",
    "\n",
    "#оказывается, в объявлениях в Санкт-Петербурге тоже не указан аэропорт, хотя он там есть. Сколько % всего от данных по объектам в Спб не указан аэропорт\n",
    "\n",
    "data_spb = data[data['locality_name'] == 'санкт-петербург']\n",
    "\n",
    "print(number_nan_airp_Spb/len(data_spb))\n",
    "#менее 1% пустых значений. Предположим, что отсутствие аэропорта связано в основном с отсутствием аэропорта."
   ]
  },
  {
   "cell_type": "code",
   "execution_count": 158,
   "id": "507fa421",
   "metadata": {},
   "outputs": [
    {
     "name": "stdout",
     "output_type": "stream",
     "text": [
      "0.003880160295146619\n"
     ]
    }
   ],
   "source": [
    "#почему нет центра города?\n",
    "number_nan_city_Cent_Spb = len(data[data['cityCenters_nearest'].isna()].query('locality_name == \"санкт-петербург\"'))\n",
    "\n",
    "#оказывается, в объявлениях в Санкт-Петербурге тоже не указан центр города, хотя он там есть. Сколько % всего от данных по объектам в Спб не указан центр города?\n",
    "\n",
    "print(number_nan_city_Cent_Spb/len(data_spb))\n",
    "\n",
    "#менее 1% пустых значений. Предположим, что отсутствие центра города связано в основном с отсутствием города как такового (речь идет о деревнях, поселках и тд)."
   ]
  },
  {
   "cell_type": "code",
   "execution_count": 159,
   "id": "b1572473",
   "metadata": {},
   "outputs": [
    {
     "data": {
      "text/plain": [
       "54784.0"
      ]
     },
     "execution_count": 159,
     "metadata": {},
     "output_type": "execute_result"
    }
   ],
   "source": [
    "data[data['locality_name'] == \"санкт-петербург\"]['airports_nearest'].max()"
   ]
  },
  {
   "cell_type": "markdown",
   "id": "385e46a0",
   "metadata": {},
   "source": [
    "так как все остальные населенные пункты не содержат информацию о наличии аэропорта или указания на центр города, предлагаю оставить их пустыми. \n",
    "\n",
    "так как Аэропорт находится не в центре города, и скорее всего близлежащие поселки будут ближе к аэропорту, чем объекты, расположенные ближе к центру города. \n",
    "\n",
    "так же и с центром города - из-за того, что город не имеет идельную форму, удаленность от центра города может быть ближе, чем до самой крайней точки города "
   ]
  },
  {
   "cell_type": "code",
   "execution_count": 160,
   "id": "bab1c42c",
   "metadata": {},
   "outputs": [
    {
     "data": {
      "text/plain": [
       "333"
      ]
     },
     "execution_count": 160,
     "metadata": {},
     "output_type": "execute_result"
    }
   ],
   "source": [
    "data.groupby('locality_name')['airports_nearest'].mean().sort_values(ascending = False)\n",
    "\n",
    "#из 328 населенных пунктов указание на расстояние до аэропорта имеет только 28\n",
    "\n",
    "data.groupby('locality_name')['cityCenters_nearest'].mean().sort_values(ascending = False).isna().sum()\n",
    "\n",
    "#из 328 населенных пунктов указание на расстояние до центра города имеет только 28\n",
    "\n",
    "#заполнить недостающие данные с помощью среднего значения по поселку невозможно.\n",
    "#предлагаю оставить геоданные пустыми "
   ]
  },
  {
   "cell_type": "code",
   "execution_count": 161,
   "id": "487d6d49",
   "metadata": {},
   "outputs": [],
   "source": [
    "#неявные дубликаты были устранены ранее в столбце \"locality_name\""
   ]
  },
  {
   "cell_type": "code",
   "execution_count": 162,
   "id": "98c0f610",
   "metadata": {},
   "outputs": [
    {
     "data": {
      "text/plain": [
       "count    23699.000000\n",
       "mean         9.858475\n",
       "std          5.682529\n",
       "min          0.000000\n",
       "25%          6.000000\n",
       "50%          9.000000\n",
       "75%         14.000000\n",
       "max         50.000000\n",
       "Name: total_images, dtype: float64"
      ]
     },
     "execution_count": 162,
     "metadata": {},
     "output_type": "execute_result"
    }
   ],
   "source": [
    "#рассмотрим аномальные значения по столбцам\n",
    "data['total_images'].describe()\n",
    "\n",
    "#вполне возможно, что на одном объекте есть более 50 фотографий, хотя в среднем фотографий примерно 10"
   ]
  },
  {
   "cell_type": "code",
   "execution_count": 163,
   "id": "1aa60d0f",
   "metadata": {},
   "outputs": [
    {
     "data": {
      "text/plain": [
       "count    2.369900e+04\n",
       "mean     6.541549e+06\n",
       "std      1.088701e+07\n",
       "min      1.219000e+04\n",
       "25%      3.400000e+06\n",
       "50%      4.650000e+06\n",
       "75%      6.800000e+06\n",
       "max      7.630000e+08\n",
       "Name: last_price, dtype: float64"
      ]
     },
     "execution_count": 163,
     "metadata": {},
     "output_type": "execute_result"
    }
   ],
   "source": [
    "#рассмотрим аномальные значения по столбцам\n",
    "data['last_price'].describe()\n",
    "\n",
    "#вполне возможно, что на объект стоит более 70 000 000 руб, хотя в среднем объекты стоят более 6 000 000 руб."
   ]
  },
  {
   "cell_type": "code",
   "execution_count": 164,
   "id": "759ce5f3",
   "metadata": {},
   "outputs": [
    {
     "data": {
      "text/plain": [
       "count    23699.000000\n",
       "mean        60.348651\n",
       "std         35.654083\n",
       "min         12.000000\n",
       "25%         40.000000\n",
       "50%         52.000000\n",
       "75%         69.900000\n",
       "max        900.000000\n",
       "Name: total_area, dtype: float64"
      ]
     },
     "execution_count": 164,
     "metadata": {},
     "output_type": "execute_result"
    }
   ],
   "source": [
    "#рассмотрим аномальные значения по столбцам\n",
    "data['total_area'].describe()\n",
    "\n",
    "#вполне возможно, что на общая площадь объекта состаляет 900 кв.м., хотя в среднем объекты имеют 60 кв м площади"
   ]
  },
  {
   "cell_type": "code",
   "execution_count": 165,
   "id": "c7c831e5",
   "metadata": {},
   "outputs": [
    {
     "data": {
      "text/plain": [
       "<AxesSubplot:>"
      ]
     },
     "execution_count": 165,
     "metadata": {},
     "output_type": "execute_result"
    },
    {
     "data": {
      "image/png": "[encoded data removed]",
      "text/plain": [
       "<Figure size 432x288 with 1 Axes>"
      ]
     },
     "metadata": {
      "needs_background": "light"
     },
     "output_type": "display_data"
    }
   ],
   "source": [
    "#так как в дальнейшем нам понадобится изучить корреляцию общей площади и цены за кв. м., рассмотрим выбросы в данном столбце\n",
    "\n",
    "plt.ylim(0, 120)\n",
    "data.boxplot('total_area')"
   ]
  },
  {
   "cell_type": "markdown",
   "id": "ab5df0bf",
   "metadata": {},
   "source": [
    "Все что выше 117 - выбросы, избавимся от них"
   ]
  },
  {
   "cell_type": "code",
   "execution_count": 166,
   "id": "f7c7602d",
   "metadata": {},
   "outputs": [
    {
     "data": {
      "text/html": [
       "<div>\n",
       "<style scoped>\n",
       "    .dataframe tbody tr th:only-of-type {\n",
       "        vertical-align: middle;\n",
       "    }\n",
       "\n",
       "    .dataframe tbody tr th {\n",
       "        vertical-align: top;\n",
       "    }\n",
       "\n",
       "    .dataframe thead th {\n",
       "        text-align: right;\n",
       "    }\n",
       "</style>\n",
       "<table border=\"1\" class=\"dataframe\">\n",
       "  <thead>\n",
       "    <tr style=\"text-align: right;\">\n",
       "      <th></th>\n",
       "      <th>total_images</th>\n",
       "      <th>last_price</th>\n",
       "      <th>total_area</th>\n",
       "      <th>first_day_exposition</th>\n",
       "      <th>rooms</th>\n",
       "      <th>ceiling_height</th>\n",
       "      <th>floors_total</th>\n",
       "      <th>living_area</th>\n",
       "      <th>floor</th>\n",
       "      <th>is_apartment</th>\n",
       "      <th>...</th>\n",
       "      <th>kitchen_area</th>\n",
       "      <th>balcony</th>\n",
       "      <th>locality_name</th>\n",
       "      <th>airports_nearest</th>\n",
       "      <th>cityCenters_nearest</th>\n",
       "      <th>parks_around3000</th>\n",
       "      <th>parks_nearest</th>\n",
       "      <th>ponds_around3000</th>\n",
       "      <th>ponds_nearest</th>\n",
       "      <th>days_exposition</th>\n",
       "    </tr>\n",
       "  </thead>\n",
       "  <tbody>\n",
       "    <tr>\n",
       "      <th>0</th>\n",
       "      <td>20</td>\n",
       "      <td>13000000.0</td>\n",
       "      <td>108.00</td>\n",
       "      <td>2019-03-07</td>\n",
       "      <td>3</td>\n",
       "      <td>2.70</td>\n",
       "      <td>16.0</td>\n",
       "      <td>51.0</td>\n",
       "      <td>8</td>\n",
       "      <td>False</td>\n",
       "      <td>...</td>\n",
       "      <td>25.0</td>\n",
       "      <td>0</td>\n",
       "      <td>санкт-петербург</td>\n",
       "      <td>18863.0</td>\n",
       "      <td>16028.0</td>\n",
       "      <td>1.0</td>\n",
       "      <td>482.0</td>\n",
       "      <td>2.0</td>\n",
       "      <td>755.0</td>\n",
       "      <td>NaN</td>\n",
       "    </tr>\n",
       "    <tr>\n",
       "      <th>1</th>\n",
       "      <td>7</td>\n",
       "      <td>3350000.0</td>\n",
       "      <td>40.40</td>\n",
       "      <td>2018-12-04</td>\n",
       "      <td>1</td>\n",
       "      <td>2.65</td>\n",
       "      <td>11.0</td>\n",
       "      <td>18.6</td>\n",
       "      <td>1</td>\n",
       "      <td>False</td>\n",
       "      <td>...</td>\n",
       "      <td>11.0</td>\n",
       "      <td>2</td>\n",
       "      <td>посeлок шушары</td>\n",
       "      <td>12817.0</td>\n",
       "      <td>18603.0</td>\n",
       "      <td>0.0</td>\n",
       "      <td>NaN</td>\n",
       "      <td>0.0</td>\n",
       "      <td>NaN</td>\n",
       "      <td>81.0</td>\n",
       "    </tr>\n",
       "    <tr>\n",
       "      <th>2</th>\n",
       "      <td>10</td>\n",
       "      <td>5196000.0</td>\n",
       "      <td>56.00</td>\n",
       "      <td>2015-08-20</td>\n",
       "      <td>2</td>\n",
       "      <td>2.65</td>\n",
       "      <td>5.0</td>\n",
       "      <td>34.3</td>\n",
       "      <td>4</td>\n",
       "      <td>False</td>\n",
       "      <td>...</td>\n",
       "      <td>8.3</td>\n",
       "      <td>0</td>\n",
       "      <td>санкт-петербург</td>\n",
       "      <td>21741.0</td>\n",
       "      <td>13933.0</td>\n",
       "      <td>1.0</td>\n",
       "      <td>90.0</td>\n",
       "      <td>2.0</td>\n",
       "      <td>574.0</td>\n",
       "      <td>558.0</td>\n",
       "    </tr>\n",
       "    <tr>\n",
       "      <th>4</th>\n",
       "      <td>2</td>\n",
       "      <td>10000000.0</td>\n",
       "      <td>100.00</td>\n",
       "      <td>2018-06-19</td>\n",
       "      <td>2</td>\n",
       "      <td>3.03</td>\n",
       "      <td>14.0</td>\n",
       "      <td>32.0</td>\n",
       "      <td>13</td>\n",
       "      <td>False</td>\n",
       "      <td>...</td>\n",
       "      <td>41.0</td>\n",
       "      <td>0</td>\n",
       "      <td>санкт-петербург</td>\n",
       "      <td>31856.0</td>\n",
       "      <td>8098.0</td>\n",
       "      <td>2.0</td>\n",
       "      <td>112.0</td>\n",
       "      <td>1.0</td>\n",
       "      <td>48.0</td>\n",
       "      <td>121.0</td>\n",
       "    </tr>\n",
       "    <tr>\n",
       "      <th>5</th>\n",
       "      <td>10</td>\n",
       "      <td>2890000.0</td>\n",
       "      <td>30.40</td>\n",
       "      <td>2018-09-10</td>\n",
       "      <td>1</td>\n",
       "      <td>2.65</td>\n",
       "      <td>12.0</td>\n",
       "      <td>14.4</td>\n",
       "      <td>5</td>\n",
       "      <td>False</td>\n",
       "      <td>...</td>\n",
       "      <td>9.1</td>\n",
       "      <td>0</td>\n",
       "      <td>городской посeлок янино-1</td>\n",
       "      <td>NaN</td>\n",
       "      <td>NaN</td>\n",
       "      <td>NaN</td>\n",
       "      <td>NaN</td>\n",
       "      <td>NaN</td>\n",
       "      <td>NaN</td>\n",
       "      <td>55.0</td>\n",
       "    </tr>\n",
       "    <tr>\n",
       "      <th>...</th>\n",
       "      <td>...</td>\n",
       "      <td>...</td>\n",
       "      <td>...</td>\n",
       "      <td>...</td>\n",
       "      <td>...</td>\n",
       "      <td>...</td>\n",
       "      <td>...</td>\n",
       "      <td>...</td>\n",
       "      <td>...</td>\n",
       "      <td>...</td>\n",
       "      <td>...</td>\n",
       "      <td>...</td>\n",
       "      <td>...</td>\n",
       "      <td>...</td>\n",
       "      <td>...</td>\n",
       "      <td>...</td>\n",
       "      <td>...</td>\n",
       "      <td>...</td>\n",
       "      <td>...</td>\n",
       "      <td>...</td>\n",
       "      <td>...</td>\n",
       "    </tr>\n",
       "    <tr>\n",
       "      <th>23693</th>\n",
       "      <td>9</td>\n",
       "      <td>4600000.0</td>\n",
       "      <td>62.40</td>\n",
       "      <td>2016-08-05</td>\n",
       "      <td>3</td>\n",
       "      <td>2.60</td>\n",
       "      <td>9.0</td>\n",
       "      <td>40.0</td>\n",
       "      <td>8</td>\n",
       "      <td>False</td>\n",
       "      <td>...</td>\n",
       "      <td>8.0</td>\n",
       "      <td>0</td>\n",
       "      <td>петергоф</td>\n",
       "      <td>45602.0</td>\n",
       "      <td>34104.0</td>\n",
       "      <td>1.0</td>\n",
       "      <td>352.0</td>\n",
       "      <td>1.0</td>\n",
       "      <td>675.0</td>\n",
       "      <td>239.0</td>\n",
       "    </tr>\n",
       "    <tr>\n",
       "      <th>23695</th>\n",
       "      <td>14</td>\n",
       "      <td>3100000.0</td>\n",
       "      <td>59.00</td>\n",
       "      <td>2018-01-15</td>\n",
       "      <td>3</td>\n",
       "      <td>2.65</td>\n",
       "      <td>5.0</td>\n",
       "      <td>38.0</td>\n",
       "      <td>4</td>\n",
       "      <td>False</td>\n",
       "      <td>...</td>\n",
       "      <td>8.5</td>\n",
       "      <td>0</td>\n",
       "      <td>тосно</td>\n",
       "      <td>NaN</td>\n",
       "      <td>NaN</td>\n",
       "      <td>NaN</td>\n",
       "      <td>NaN</td>\n",
       "      <td>NaN</td>\n",
       "      <td>NaN</td>\n",
       "      <td>45.0</td>\n",
       "    </tr>\n",
       "    <tr>\n",
       "      <th>23696</th>\n",
       "      <td>18</td>\n",
       "      <td>2500000.0</td>\n",
       "      <td>56.70</td>\n",
       "      <td>2018-02-11</td>\n",
       "      <td>2</td>\n",
       "      <td>2.65</td>\n",
       "      <td>3.0</td>\n",
       "      <td>29.7</td>\n",
       "      <td>1</td>\n",
       "      <td>False</td>\n",
       "      <td>...</td>\n",
       "      <td>9.1</td>\n",
       "      <td>0</td>\n",
       "      <td>село рождествено</td>\n",
       "      <td>NaN</td>\n",
       "      <td>NaN</td>\n",
       "      <td>NaN</td>\n",
       "      <td>NaN</td>\n",
       "      <td>NaN</td>\n",
       "      <td>NaN</td>\n",
       "      <td>NaN</td>\n",
       "    </tr>\n",
       "    <tr>\n",
       "      <th>23697</th>\n",
       "      <td>13</td>\n",
       "      <td>11475000.0</td>\n",
       "      <td>76.75</td>\n",
       "      <td>2017-03-28</td>\n",
       "      <td>2</td>\n",
       "      <td>3.00</td>\n",
       "      <td>17.0</td>\n",
       "      <td>30.0</td>\n",
       "      <td>12</td>\n",
       "      <td>False</td>\n",
       "      <td>...</td>\n",
       "      <td>23.3</td>\n",
       "      <td>2</td>\n",
       "      <td>санкт-петербург</td>\n",
       "      <td>39140.0</td>\n",
       "      <td>10364.0</td>\n",
       "      <td>2.0</td>\n",
       "      <td>173.0</td>\n",
       "      <td>3.0</td>\n",
       "      <td>196.0</td>\n",
       "      <td>602.0</td>\n",
       "    </tr>\n",
       "    <tr>\n",
       "      <th>23698</th>\n",
       "      <td>4</td>\n",
       "      <td>1350000.0</td>\n",
       "      <td>32.30</td>\n",
       "      <td>2017-07-21</td>\n",
       "      <td>1</td>\n",
       "      <td>2.50</td>\n",
       "      <td>5.0</td>\n",
       "      <td>12.3</td>\n",
       "      <td>1</td>\n",
       "      <td>False</td>\n",
       "      <td>...</td>\n",
       "      <td>9.0</td>\n",
       "      <td>0</td>\n",
       "      <td>поселок новый учхоз</td>\n",
       "      <td>NaN</td>\n",
       "      <td>NaN</td>\n",
       "      <td>NaN</td>\n",
       "      <td>NaN</td>\n",
       "      <td>NaN</td>\n",
       "      <td>NaN</td>\n",
       "      <td>NaN</td>\n",
       "    </tr>\n",
       "  </tbody>\n",
       "</table>\n",
       "<p>22540 rows × 22 columns</p>\n",
       "</div>"
      ],
      "text/plain": [
       "       total_images  last_price  total_area first_day_exposition  rooms  \\\n",
       "0                20  13000000.0      108.00           2019-03-07      3   \n",
       "1                 7   3350000.0       40.40           2018-12-04      1   \n",
       "2                10   5196000.0       56.00           2015-08-20      2   \n",
       "4                 2  10000000.0      100.00           2018-06-19      2   \n",
       "5                10   2890000.0       30.40           2018-09-10      1   \n",
       "...             ...         ...         ...                  ...    ...   \n",
       "23693             9   4600000.0       62.40           2016-08-05      3   \n",
       "23695            14   3100000.0       59.00           2018-01-15      3   \n",
       "23696            18   2500000.0       56.70           2018-02-11      2   \n",
       "23697            13  11475000.0       76.75           2017-03-28      2   \n",
       "23698             4   1350000.0       32.30           2017-07-21      1   \n",
       "\n",
       "       ceiling_height  floors_total  living_area  floor  is_apartment  ...  \\\n",
       "0                2.70          16.0         51.0      8         False  ...   \n",
       "1                2.65          11.0         18.6      1         False  ...   \n",
       "2                2.65           5.0         34.3      4         False  ...   \n",
       "4                3.03          14.0         32.0     13         False  ...   \n",
       "5                2.65          12.0         14.4      5         False  ...   \n",
       "...               ...           ...          ...    ...           ...  ...   \n",
       "23693            2.60           9.0         40.0      8         False  ...   \n",
       "23695            2.65           5.0         38.0      4         False  ...   \n",
       "23696            2.65           3.0         29.7      1         False  ...   \n",
       "23697            3.00          17.0         30.0     12         False  ...   \n",
       "23698            2.50           5.0         12.3      1         False  ...   \n",
       "\n",
       "       kitchen_area  balcony              locality_name  airports_nearest  \\\n",
       "0              25.0        0            санкт-петербург           18863.0   \n",
       "1              11.0        2             посeлок шушары           12817.0   \n",
       "2               8.3        0            санкт-петербург           21741.0   \n",
       "4              41.0        0            санкт-петербург           31856.0   \n",
       "5               9.1        0  городской посeлок янино-1               NaN   \n",
       "...             ...      ...                        ...               ...   \n",
       "23693           8.0        0                   петергоф           45602.0   \n",
       "23695           8.5        0                      тосно               NaN   \n",
       "23696           9.1        0           село рождествено               NaN   \n",
       "23697          23.3        2            санкт-петербург           39140.0   \n",
       "23698           9.0        0        поселок новый учхоз               NaN   \n",
       "\n",
       "      cityCenters_nearest  parks_around3000  parks_nearest  ponds_around3000  \\\n",
       "0                 16028.0               1.0          482.0               2.0   \n",
       "1                 18603.0               0.0            NaN               0.0   \n",
       "2                 13933.0               1.0           90.0               2.0   \n",
       "4                  8098.0               2.0          112.0               1.0   \n",
       "5                     NaN               NaN            NaN               NaN   \n",
       "...                   ...               ...            ...               ...   \n",
       "23693             34104.0               1.0          352.0               1.0   \n",
       "23695                 NaN               NaN            NaN               NaN   \n",
       "23696                 NaN               NaN            NaN               NaN   \n",
       "23697             10364.0               2.0          173.0               3.0   \n",
       "23698                 NaN               NaN            NaN               NaN   \n",
       "\n",
       "       ponds_nearest  days_exposition  \n",
       "0              755.0              NaN  \n",
       "1                NaN             81.0  \n",
       "2              574.0            558.0  \n",
       "4               48.0            121.0  \n",
       "5                NaN             55.0  \n",
       "...              ...              ...  \n",
       "23693          675.0            239.0  \n",
       "23695            NaN             45.0  \n",
       "23696            NaN              NaN  \n",
       "23697          196.0            602.0  \n",
       "23698            NaN              NaN  \n",
       "\n",
       "[22540 rows x 22 columns]"
      ]
     },
     "execution_count": 166,
     "metadata": {},
     "output_type": "execute_result"
    }
   ],
   "source": [
    "data_clear = data.query('total_area <= 117')\n",
    "data_clear"
   ]
  },
  {
   "cell_type": "code",
   "execution_count": 167,
   "id": "feecd3b9",
   "metadata": {},
   "outputs": [
    {
     "data": {
      "text/plain": [
       "count    23699.000000\n",
       "mean         2.070636\n",
       "std          1.078405\n",
       "min          0.000000\n",
       "25%          1.000000\n",
       "50%          2.000000\n",
       "75%          3.000000\n",
       "max         19.000000\n",
       "Name: rooms, dtype: float64"
      ]
     },
     "execution_count": 167,
     "metadata": {},
     "output_type": "execute_result"
    }
   ],
   "source": [
    "#рассмотрим аномальные значения по столбцам\n",
    "data['rooms'].describe()\n",
    "\n",
    "#вполне возможно, что на количество комнат составляет 19, а вот 0 комнат в помещении - это странно. Если только это не техническое помещение или студия.\n",
    "#В среднем объекты имеют 2 комнаты."
   ]
  },
  {
   "cell_type": "code",
   "execution_count": 168,
   "id": "56ad98ab",
   "metadata": {},
   "outputs": [
    {
     "data": {
      "text/plain": [
       "count    23699.000000\n",
       "mean         2.724358\n",
       "std          0.988298\n",
       "min          1.000000\n",
       "25%          2.600000\n",
       "50%          2.650000\n",
       "75%          2.700000\n",
       "max        100.000000\n",
       "Name: ceiling_height, dtype: float64"
      ]
     },
     "execution_count": 168,
     "metadata": {},
     "output_type": "execute_result"
    }
   ],
   "source": [
    "#рассмотрим аномальные значения по столбцам\n",
    "data['ceiling_height'].describe()\n",
    "\n",
    "#высота потолка 100 метров - слишком много. \n",
    "#высота потолков 1 метр - тоже странное значение. "
   ]
  },
  {
   "cell_type": "code",
   "execution_count": 169,
   "id": "3ac93217",
   "metadata": {},
   "outputs": [
    {
     "data": {
      "text/plain": [
       "11"
      ]
     },
     "execution_count": 169,
     "metadata": {},
     "output_type": "execute_result"
    }
   ],
   "source": [
    "#рассмотрим количество объектом со слишком высоким потолком - всего 11 объектов\n",
    "\n",
    "len(data.query('ceiling_height > 10')['ceiling_height'].unique())"
   ]
  },
  {
   "cell_type": "code",
   "execution_count": 170,
   "id": "a159a4c1",
   "metadata": {},
   "outputs": [],
   "source": [
    "#убираем аномальные значения - делим высоту потолков, которые выше 10 метров, на 10:\n",
    "\n",
    "for item in range(len(data['ceiling_height'])):\n",
    "    if data.loc[item, 'ceiling_height'] > 10:\n",
    "        data.loc[item, 'ceiling_height'] /= 10 "
   ]
  },
  {
   "cell_type": "code",
   "execution_count": 171,
   "id": "6114caf2",
   "metadata": {},
   "outputs": [
    {
     "data": {
      "text/plain": [
       "count    23699.000000\n",
       "mean         2.697798\n",
       "std          0.237643\n",
       "min          1.000000\n",
       "25%          2.600000\n",
       "50%          2.650000\n",
       "75%          2.700000\n",
       "max         10.000000\n",
       "Name: ceiling_height, dtype: float64"
      ]
     },
     "execution_count": 171,
     "metadata": {},
     "output_type": "execute_result"
    }
   ],
   "source": [
    "#проверяем - аномально высоких значений нет\n",
    "\n",
    "data['ceiling_height'].describe()"
   ]
  },
  {
   "cell_type": "code",
   "execution_count": 172,
   "id": "50a8bd69",
   "metadata": {},
   "outputs": [
    {
     "data": {
      "text/plain": [
       "count    23699.000000\n",
       "mean        10.671463\n",
       "std          6.595802\n",
       "min          1.000000\n",
       "25%          5.000000\n",
       "50%          9.000000\n",
       "75%         16.000000\n",
       "max         60.000000\n",
       "Name: floors_total, dtype: float64"
      ]
     },
     "execution_count": 172,
     "metadata": {},
     "output_type": "execute_result"
    }
   ],
   "source": [
    "#рассмотрим аномальные значения по столбцам\n",
    "\n",
    "data['floors_total'].describe()\n",
    "\n",
    "#в основном в доме 10 этажей, а бывает и 60 этажей. Минимальное значение 1 - все ок  "
   ]
  },
  {
   "cell_type": "code",
   "execution_count": 173,
   "id": "a7aed810",
   "metadata": {},
   "outputs": [
    {
     "data": {
      "text/plain": [
       "count    23699.000000\n",
       "mean        34.099892\n",
       "std         21.162096\n",
       "min          2.000000\n",
       "25%         19.000000\n",
       "50%         30.000000\n",
       "75%         41.100000\n",
       "max        409.700000\n",
       "Name: living_area, dtype: float64"
      ]
     },
     "execution_count": 173,
     "metadata": {},
     "output_type": "execute_result"
    }
   ],
   "source": [
    "#рассмотрим аномальные значения по столбцам\n",
    "\n",
    "data['living_area'].describe()\n",
    "\n",
    "#в основном в доме 21 кв. м. жилой площади, а бывает и 409 кв. м.  "
   ]
  },
  {
   "cell_type": "code",
   "execution_count": 174,
   "id": "4963833a",
   "metadata": {},
   "outputs": [
    {
     "data": {
      "text/plain": [
       "<AxesSubplot:>"
      ]
     },
     "execution_count": 174,
     "metadata": {},
     "output_type": "execute_result"
    },
    {
     "data": {
      "image/png": "[encoded data removed]",
      "text/plain": [
       "<Figure size 432x288 with 1 Axes>"
      ]
     },
     "metadata": {
      "needs_background": "light"
     },
     "output_type": "display_data"
    }
   ],
   "source": [
    "#так как в дальнейшем нам понадобится изучить корреляцию жилой площади и цены за кв. м., рассмотрим выбросы в данном столбце\n",
    "\n",
    "plt.ylim(0, 120)\n",
    "data.boxplot('living_area')"
   ]
  },
  {
   "cell_type": "markdown",
   "id": "fbfc29c5",
   "metadata": {},
   "source": [
    "все, что выше 75 - выбросы, уберем их"
   ]
  },
  {
   "cell_type": "code",
   "execution_count": 175,
   "id": "6a7d1979",
   "metadata": {},
   "outputs": [
    {
     "data": {
      "text/html": [
       "<div>\n",
       "<style scoped>\n",
       "    .dataframe tbody tr th:only-of-type {\n",
       "        vertical-align: middle;\n",
       "    }\n",
       "\n",
       "    .dataframe tbody tr th {\n",
       "        vertical-align: top;\n",
       "    }\n",
       "\n",
       "    .dataframe thead th {\n",
       "        text-align: right;\n",
       "    }\n",
       "</style>\n",
       "<table border=\"1\" class=\"dataframe\">\n",
       "  <thead>\n",
       "    <tr style=\"text-align: right;\">\n",
       "      <th></th>\n",
       "      <th>total_images</th>\n",
       "      <th>last_price</th>\n",
       "      <th>total_area</th>\n",
       "      <th>first_day_exposition</th>\n",
       "      <th>rooms</th>\n",
       "      <th>ceiling_height</th>\n",
       "      <th>floors_total</th>\n",
       "      <th>living_area</th>\n",
       "      <th>floor</th>\n",
       "      <th>is_apartment</th>\n",
       "      <th>...</th>\n",
       "      <th>kitchen_area</th>\n",
       "      <th>balcony</th>\n",
       "      <th>locality_name</th>\n",
       "      <th>airports_nearest</th>\n",
       "      <th>cityCenters_nearest</th>\n",
       "      <th>parks_around3000</th>\n",
       "      <th>parks_nearest</th>\n",
       "      <th>ponds_around3000</th>\n",
       "      <th>ponds_nearest</th>\n",
       "      <th>days_exposition</th>\n",
       "    </tr>\n",
       "  </thead>\n",
       "  <tbody>\n",
       "    <tr>\n",
       "      <th>0</th>\n",
       "      <td>20</td>\n",
       "      <td>13000000.0</td>\n",
       "      <td>108.00</td>\n",
       "      <td>2019-03-07</td>\n",
       "      <td>3</td>\n",
       "      <td>2.70</td>\n",
       "      <td>16.0</td>\n",
       "      <td>51.0</td>\n",
       "      <td>8</td>\n",
       "      <td>False</td>\n",
       "      <td>...</td>\n",
       "      <td>25.0</td>\n",
       "      <td>0</td>\n",
       "      <td>санкт-петербург</td>\n",
       "      <td>18863.0</td>\n",
       "      <td>16028.0</td>\n",
       "      <td>1.0</td>\n",
       "      <td>482.0</td>\n",
       "      <td>2.0</td>\n",
       "      <td>755.0</td>\n",
       "      <td>NaN</td>\n",
       "    </tr>\n",
       "    <tr>\n",
       "      <th>1</th>\n",
       "      <td>7</td>\n",
       "      <td>3350000.0</td>\n",
       "      <td>40.40</td>\n",
       "      <td>2018-12-04</td>\n",
       "      <td>1</td>\n",
       "      <td>2.65</td>\n",
       "      <td>11.0</td>\n",
       "      <td>18.6</td>\n",
       "      <td>1</td>\n",
       "      <td>False</td>\n",
       "      <td>...</td>\n",
       "      <td>11.0</td>\n",
       "      <td>2</td>\n",
       "      <td>посeлок шушары</td>\n",
       "      <td>12817.0</td>\n",
       "      <td>18603.0</td>\n",
       "      <td>0.0</td>\n",
       "      <td>NaN</td>\n",
       "      <td>0.0</td>\n",
       "      <td>NaN</td>\n",
       "      <td>81.0</td>\n",
       "    </tr>\n",
       "    <tr>\n",
       "      <th>2</th>\n",
       "      <td>10</td>\n",
       "      <td>5196000.0</td>\n",
       "      <td>56.00</td>\n",
       "      <td>2015-08-20</td>\n",
       "      <td>2</td>\n",
       "      <td>2.65</td>\n",
       "      <td>5.0</td>\n",
       "      <td>34.3</td>\n",
       "      <td>4</td>\n",
       "      <td>False</td>\n",
       "      <td>...</td>\n",
       "      <td>8.3</td>\n",
       "      <td>0</td>\n",
       "      <td>санкт-петербург</td>\n",
       "      <td>21741.0</td>\n",
       "      <td>13933.0</td>\n",
       "      <td>1.0</td>\n",
       "      <td>90.0</td>\n",
       "      <td>2.0</td>\n",
       "      <td>574.0</td>\n",
       "      <td>558.0</td>\n",
       "    </tr>\n",
       "    <tr>\n",
       "      <th>4</th>\n",
       "      <td>2</td>\n",
       "      <td>10000000.0</td>\n",
       "      <td>100.00</td>\n",
       "      <td>2018-06-19</td>\n",
       "      <td>2</td>\n",
       "      <td>3.03</td>\n",
       "      <td>14.0</td>\n",
       "      <td>32.0</td>\n",
       "      <td>13</td>\n",
       "      <td>False</td>\n",
       "      <td>...</td>\n",
       "      <td>41.0</td>\n",
       "      <td>0</td>\n",
       "      <td>санкт-петербург</td>\n",
       "      <td>31856.0</td>\n",
       "      <td>8098.0</td>\n",
       "      <td>2.0</td>\n",
       "      <td>112.0</td>\n",
       "      <td>1.0</td>\n",
       "      <td>48.0</td>\n",
       "      <td>121.0</td>\n",
       "    </tr>\n",
       "    <tr>\n",
       "      <th>5</th>\n",
       "      <td>10</td>\n",
       "      <td>2890000.0</td>\n",
       "      <td>30.40</td>\n",
       "      <td>2018-09-10</td>\n",
       "      <td>1</td>\n",
       "      <td>2.65</td>\n",
       "      <td>12.0</td>\n",
       "      <td>14.4</td>\n",
       "      <td>5</td>\n",
       "      <td>False</td>\n",
       "      <td>...</td>\n",
       "      <td>9.1</td>\n",
       "      <td>0</td>\n",
       "      <td>городской посeлок янино-1</td>\n",
       "      <td>NaN</td>\n",
       "      <td>NaN</td>\n",
       "      <td>NaN</td>\n",
       "      <td>NaN</td>\n",
       "      <td>NaN</td>\n",
       "      <td>NaN</td>\n",
       "      <td>55.0</td>\n",
       "    </tr>\n",
       "    <tr>\n",
       "      <th>...</th>\n",
       "      <td>...</td>\n",
       "      <td>...</td>\n",
       "      <td>...</td>\n",
       "      <td>...</td>\n",
       "      <td>...</td>\n",
       "      <td>...</td>\n",
       "      <td>...</td>\n",
       "      <td>...</td>\n",
       "      <td>...</td>\n",
       "      <td>...</td>\n",
       "      <td>...</td>\n",
       "      <td>...</td>\n",
       "      <td>...</td>\n",
       "      <td>...</td>\n",
       "      <td>...</td>\n",
       "      <td>...</td>\n",
       "      <td>...</td>\n",
       "      <td>...</td>\n",
       "      <td>...</td>\n",
       "      <td>...</td>\n",
       "      <td>...</td>\n",
       "    </tr>\n",
       "    <tr>\n",
       "      <th>23693</th>\n",
       "      <td>9</td>\n",
       "      <td>4600000.0</td>\n",
       "      <td>62.40</td>\n",
       "      <td>2016-08-05</td>\n",
       "      <td>3</td>\n",
       "      <td>2.60</td>\n",
       "      <td>9.0</td>\n",
       "      <td>40.0</td>\n",
       "      <td>8</td>\n",
       "      <td>False</td>\n",
       "      <td>...</td>\n",
       "      <td>8.0</td>\n",
       "      <td>0</td>\n",
       "      <td>петергоф</td>\n",
       "      <td>45602.0</td>\n",
       "      <td>34104.0</td>\n",
       "      <td>1.0</td>\n",
       "      <td>352.0</td>\n",
       "      <td>1.0</td>\n",
       "      <td>675.0</td>\n",
       "      <td>239.0</td>\n",
       "    </tr>\n",
       "    <tr>\n",
       "      <th>23695</th>\n",
       "      <td>14</td>\n",
       "      <td>3100000.0</td>\n",
       "      <td>59.00</td>\n",
       "      <td>2018-01-15</td>\n",
       "      <td>3</td>\n",
       "      <td>2.65</td>\n",
       "      <td>5.0</td>\n",
       "      <td>38.0</td>\n",
       "      <td>4</td>\n",
       "      <td>False</td>\n",
       "      <td>...</td>\n",
       "      <td>8.5</td>\n",
       "      <td>0</td>\n",
       "      <td>тосно</td>\n",
       "      <td>NaN</td>\n",
       "      <td>NaN</td>\n",
       "      <td>NaN</td>\n",
       "      <td>NaN</td>\n",
       "      <td>NaN</td>\n",
       "      <td>NaN</td>\n",
       "      <td>45.0</td>\n",
       "    </tr>\n",
       "    <tr>\n",
       "      <th>23696</th>\n",
       "      <td>18</td>\n",
       "      <td>2500000.0</td>\n",
       "      <td>56.70</td>\n",
       "      <td>2018-02-11</td>\n",
       "      <td>2</td>\n",
       "      <td>2.65</td>\n",
       "      <td>3.0</td>\n",
       "      <td>29.7</td>\n",
       "      <td>1</td>\n",
       "      <td>False</td>\n",
       "      <td>...</td>\n",
       "      <td>9.1</td>\n",
       "      <td>0</td>\n",
       "      <td>село рождествено</td>\n",
       "      <td>NaN</td>\n",
       "      <td>NaN</td>\n",
       "      <td>NaN</td>\n",
       "      <td>NaN</td>\n",
       "      <td>NaN</td>\n",
       "      <td>NaN</td>\n",
       "      <td>NaN</td>\n",
       "    </tr>\n",
       "    <tr>\n",
       "      <th>23697</th>\n",
       "      <td>13</td>\n",
       "      <td>11475000.0</td>\n",
       "      <td>76.75</td>\n",
       "      <td>2017-03-28</td>\n",
       "      <td>2</td>\n",
       "      <td>3.00</td>\n",
       "      <td>17.0</td>\n",
       "      <td>30.0</td>\n",
       "      <td>12</td>\n",
       "      <td>False</td>\n",
       "      <td>...</td>\n",
       "      <td>23.3</td>\n",
       "      <td>2</td>\n",
       "      <td>санкт-петербург</td>\n",
       "      <td>39140.0</td>\n",
       "      <td>10364.0</td>\n",
       "      <td>2.0</td>\n",
       "      <td>173.0</td>\n",
       "      <td>3.0</td>\n",
       "      <td>196.0</td>\n",
       "      <td>602.0</td>\n",
       "    </tr>\n",
       "    <tr>\n",
       "      <th>23698</th>\n",
       "      <td>4</td>\n",
       "      <td>1350000.0</td>\n",
       "      <td>32.30</td>\n",
       "      <td>2017-07-21</td>\n",
       "      <td>1</td>\n",
       "      <td>2.50</td>\n",
       "      <td>5.0</td>\n",
       "      <td>12.3</td>\n",
       "      <td>1</td>\n",
       "      <td>False</td>\n",
       "      <td>...</td>\n",
       "      <td>9.0</td>\n",
       "      <td>0</td>\n",
       "      <td>поселок новый учхоз</td>\n",
       "      <td>NaN</td>\n",
       "      <td>NaN</td>\n",
       "      <td>NaN</td>\n",
       "      <td>NaN</td>\n",
       "      <td>NaN</td>\n",
       "      <td>NaN</td>\n",
       "      <td>NaN</td>\n",
       "    </tr>\n",
       "  </tbody>\n",
       "</table>\n",
       "<p>22426 rows × 22 columns</p>\n",
       "</div>"
      ],
      "text/plain": [
       "       total_images  last_price  total_area first_day_exposition  rooms  \\\n",
       "0                20  13000000.0      108.00           2019-03-07      3   \n",
       "1                 7   3350000.0       40.40           2018-12-04      1   \n",
       "2                10   5196000.0       56.00           2015-08-20      2   \n",
       "4                 2  10000000.0      100.00           2018-06-19      2   \n",
       "5                10   2890000.0       30.40           2018-09-10      1   \n",
       "...             ...         ...         ...                  ...    ...   \n",
       "23693             9   4600000.0       62.40           2016-08-05      3   \n",
       "23695            14   3100000.0       59.00           2018-01-15      3   \n",
       "23696            18   2500000.0       56.70           2018-02-11      2   \n",
       "23697            13  11475000.0       76.75           2017-03-28      2   \n",
       "23698             4   1350000.0       32.30           2017-07-21      1   \n",
       "\n",
       "       ceiling_height  floors_total  living_area  floor  is_apartment  ...  \\\n",
       "0                2.70          16.0         51.0      8         False  ...   \n",
       "1                2.65          11.0         18.6      1         False  ...   \n",
       "2                2.65           5.0         34.3      4         False  ...   \n",
       "4                3.03          14.0         32.0     13         False  ...   \n",
       "5                2.65          12.0         14.4      5         False  ...   \n",
       "...               ...           ...          ...    ...           ...  ...   \n",
       "23693            2.60           9.0         40.0      8         False  ...   \n",
       "23695            2.65           5.0         38.0      4         False  ...   \n",
       "23696            2.65           3.0         29.7      1         False  ...   \n",
       "23697            3.00          17.0         30.0     12         False  ...   \n",
       "23698            2.50           5.0         12.3      1         False  ...   \n",
       "\n",
       "       kitchen_area  balcony              locality_name  airports_nearest  \\\n",
       "0              25.0        0            санкт-петербург           18863.0   \n",
       "1              11.0        2             посeлок шушары           12817.0   \n",
       "2               8.3        0            санкт-петербург           21741.0   \n",
       "4              41.0        0            санкт-петербург           31856.0   \n",
       "5               9.1        0  городской посeлок янино-1               NaN   \n",
       "...             ...      ...                        ...               ...   \n",
       "23693           8.0        0                   петергоф           45602.0   \n",
       "23695           8.5        0                      тосно               NaN   \n",
       "23696           9.1        0           село рождествено               NaN   \n",
       "23697          23.3        2            санкт-петербург           39140.0   \n",
       "23698           9.0        0        поселок новый учхоз               NaN   \n",
       "\n",
       "      cityCenters_nearest  parks_around3000  parks_nearest  ponds_around3000  \\\n",
       "0                 16028.0               1.0          482.0               2.0   \n",
       "1                 18603.0               0.0            NaN               0.0   \n",
       "2                 13933.0               1.0           90.0               2.0   \n",
       "4                  8098.0               2.0          112.0               1.0   \n",
       "5                     NaN               NaN            NaN               NaN   \n",
       "...                   ...               ...            ...               ...   \n",
       "23693             34104.0               1.0          352.0               1.0   \n",
       "23695                 NaN               NaN            NaN               NaN   \n",
       "23696                 NaN               NaN            NaN               NaN   \n",
       "23697             10364.0               2.0          173.0               3.0   \n",
       "23698                 NaN               NaN            NaN               NaN   \n",
       "\n",
       "       ponds_nearest  days_exposition  \n",
       "0              755.0              NaN  \n",
       "1                NaN             81.0  \n",
       "2              574.0            558.0  \n",
       "4               48.0            121.0  \n",
       "5                NaN             55.0  \n",
       "...              ...              ...  \n",
       "23693          675.0            239.0  \n",
       "23695            NaN             45.0  \n",
       "23696            NaN              NaN  \n",
       "23697          196.0            602.0  \n",
       "23698            NaN              NaN  \n",
       "\n",
       "[22426 rows x 22 columns]"
      ]
     },
     "execution_count": 175,
     "metadata": {},
     "output_type": "execute_result"
    }
   ],
   "source": [
    "data_clear = data_clear.query('living_area < 75')\n",
    "data_clear"
   ]
  },
  {
   "cell_type": "code",
   "execution_count": 176,
   "id": "e6a84307",
   "metadata": {},
   "outputs": [
    {
     "data": {
      "text/plain": [
       "count    23699.000000\n",
       "mean         5.892358\n",
       "std          4.885249\n",
       "min          1.000000\n",
       "25%          2.000000\n",
       "50%          4.000000\n",
       "75%          8.000000\n",
       "max         33.000000\n",
       "Name: floor, dtype: float64"
      ]
     },
     "execution_count": 176,
     "metadata": {},
     "output_type": "execute_result"
    }
   ],
   "source": [
    "#рассмотрим аномальные значения по столбцам\n",
    "\n",
    "data['floor'].describe()\n",
    "\n",
    "#в основном объекты располагаются на высоте 5 этажа, аномальных значений нет"
   ]
  },
  {
   "cell_type": "code",
   "execution_count": 177,
   "id": "bb5b2759",
   "metadata": {},
   "outputs": [
    {
     "data": {
      "text/plain": [
       "count    23699.000000\n",
       "mean        10.428526\n",
       "std          5.631126\n",
       "min          1.300000\n",
       "25%          7.400000\n",
       "50%          9.100000\n",
       "75%         11.440000\n",
       "max        112.000000\n",
       "Name: kitchen_area, dtype: float64"
      ]
     },
     "execution_count": 177,
     "metadata": {},
     "output_type": "execute_result"
    }
   ],
   "source": [
    "#рассмотрим аномальные значения по столбцам\n",
    "\n",
    "data['kitchen_area'].describe()\n",
    "\n",
    "#в основном в доме 21 кв. м. площади кухни, а бывает и 112 кв. м.  "
   ]
  },
  {
   "cell_type": "code",
   "execution_count": 178,
   "id": "d8616b28",
   "metadata": {},
   "outputs": [
    {
     "data": {
      "text/plain": [
       "<AxesSubplot:>"
      ]
     },
     "execution_count": 178,
     "metadata": {},
     "output_type": "execute_result"
    },
    {
     "data": {
      "image/png": "[encoded data removed]",
      "text/plain": [
       "<Figure size 432x288 with 1 Axes>"
      ]
     },
     "metadata": {
      "needs_background": "light"
     },
     "output_type": "display_data"
    }
   ],
   "source": [
    "#так как в дальнейшем нам понадобится изучить корреляцию жилой площади и цены за кв. м., рассмотрим выбросы в данном столбце\n",
    "\n",
    "plt.ylim(0, 20)\n",
    "data.boxplot('kitchen_area')"
   ]
  },
  {
   "cell_type": "markdown",
   "id": "cf604c89",
   "metadata": {},
   "source": [
    "все, что выше 17,5 - выбросы, избавимся от них"
   ]
  },
  {
   "cell_type": "code",
   "execution_count": 179,
   "id": "e074fb50",
   "metadata": {},
   "outputs": [
    {
     "data": {
      "text/html": [
       "<div>\n",
       "<style scoped>\n",
       "    .dataframe tbody tr th:only-of-type {\n",
       "        vertical-align: middle;\n",
       "    }\n",
       "\n",
       "    .dataframe tbody tr th {\n",
       "        vertical-align: top;\n",
       "    }\n",
       "\n",
       "    .dataframe thead th {\n",
       "        text-align: right;\n",
       "    }\n",
       "</style>\n",
       "<table border=\"1\" class=\"dataframe\">\n",
       "  <thead>\n",
       "    <tr style=\"text-align: right;\">\n",
       "      <th></th>\n",
       "      <th>total_images</th>\n",
       "      <th>last_price</th>\n",
       "      <th>total_area</th>\n",
       "      <th>first_day_exposition</th>\n",
       "      <th>rooms</th>\n",
       "      <th>ceiling_height</th>\n",
       "      <th>floors_total</th>\n",
       "      <th>living_area</th>\n",
       "      <th>floor</th>\n",
       "      <th>is_apartment</th>\n",
       "      <th>...</th>\n",
       "      <th>kitchen_area</th>\n",
       "      <th>balcony</th>\n",
       "      <th>locality_name</th>\n",
       "      <th>airports_nearest</th>\n",
       "      <th>cityCenters_nearest</th>\n",
       "      <th>parks_around3000</th>\n",
       "      <th>parks_nearest</th>\n",
       "      <th>ponds_around3000</th>\n",
       "      <th>ponds_nearest</th>\n",
       "      <th>days_exposition</th>\n",
       "    </tr>\n",
       "  </thead>\n",
       "  <tbody>\n",
       "    <tr>\n",
       "      <th>1</th>\n",
       "      <td>7</td>\n",
       "      <td>3350000.0</td>\n",
       "      <td>40.40</td>\n",
       "      <td>2018-12-04</td>\n",
       "      <td>1</td>\n",
       "      <td>2.65</td>\n",
       "      <td>11.0</td>\n",
       "      <td>18.60</td>\n",
       "      <td>1</td>\n",
       "      <td>False</td>\n",
       "      <td>...</td>\n",
       "      <td>11.00</td>\n",
       "      <td>2</td>\n",
       "      <td>посeлок шушары</td>\n",
       "      <td>12817.0</td>\n",
       "      <td>18603.0</td>\n",
       "      <td>0.0</td>\n",
       "      <td>NaN</td>\n",
       "      <td>0.0</td>\n",
       "      <td>NaN</td>\n",
       "      <td>81.0</td>\n",
       "    </tr>\n",
       "    <tr>\n",
       "      <th>2</th>\n",
       "      <td>10</td>\n",
       "      <td>5196000.0</td>\n",
       "      <td>56.00</td>\n",
       "      <td>2015-08-20</td>\n",
       "      <td>2</td>\n",
       "      <td>2.65</td>\n",
       "      <td>5.0</td>\n",
       "      <td>34.30</td>\n",
       "      <td>4</td>\n",
       "      <td>False</td>\n",
       "      <td>...</td>\n",
       "      <td>8.30</td>\n",
       "      <td>0</td>\n",
       "      <td>санкт-петербург</td>\n",
       "      <td>21741.0</td>\n",
       "      <td>13933.0</td>\n",
       "      <td>1.0</td>\n",
       "      <td>90.0</td>\n",
       "      <td>2.0</td>\n",
       "      <td>574.0</td>\n",
       "      <td>558.0</td>\n",
       "    </tr>\n",
       "    <tr>\n",
       "      <th>5</th>\n",
       "      <td>10</td>\n",
       "      <td>2890000.0</td>\n",
       "      <td>30.40</td>\n",
       "      <td>2018-09-10</td>\n",
       "      <td>1</td>\n",
       "      <td>2.65</td>\n",
       "      <td>12.0</td>\n",
       "      <td>14.40</td>\n",
       "      <td>5</td>\n",
       "      <td>False</td>\n",
       "      <td>...</td>\n",
       "      <td>9.10</td>\n",
       "      <td>0</td>\n",
       "      <td>городской посeлок янино-1</td>\n",
       "      <td>NaN</td>\n",
       "      <td>NaN</td>\n",
       "      <td>NaN</td>\n",
       "      <td>NaN</td>\n",
       "      <td>NaN</td>\n",
       "      <td>NaN</td>\n",
       "      <td>55.0</td>\n",
       "    </tr>\n",
       "    <tr>\n",
       "      <th>6</th>\n",
       "      <td>6</td>\n",
       "      <td>3700000.0</td>\n",
       "      <td>37.30</td>\n",
       "      <td>2017-11-02</td>\n",
       "      <td>1</td>\n",
       "      <td>2.65</td>\n",
       "      <td>26.0</td>\n",
       "      <td>10.60</td>\n",
       "      <td>6</td>\n",
       "      <td>False</td>\n",
       "      <td>...</td>\n",
       "      <td>14.40</td>\n",
       "      <td>1</td>\n",
       "      <td>посeлок парголово</td>\n",
       "      <td>52996.0</td>\n",
       "      <td>19143.0</td>\n",
       "      <td>0.0</td>\n",
       "      <td>NaN</td>\n",
       "      <td>0.0</td>\n",
       "      <td>NaN</td>\n",
       "      <td>155.0</td>\n",
       "    </tr>\n",
       "    <tr>\n",
       "      <th>8</th>\n",
       "      <td>20</td>\n",
       "      <td>2900000.0</td>\n",
       "      <td>33.16</td>\n",
       "      <td>2018-05-23</td>\n",
       "      <td>1</td>\n",
       "      <td>2.65</td>\n",
       "      <td>27.0</td>\n",
       "      <td>15.43</td>\n",
       "      <td>26</td>\n",
       "      <td>False</td>\n",
       "      <td>...</td>\n",
       "      <td>8.81</td>\n",
       "      <td>0</td>\n",
       "      <td>посeлок мурино</td>\n",
       "      <td>NaN</td>\n",
       "      <td>NaN</td>\n",
       "      <td>NaN</td>\n",
       "      <td>NaN</td>\n",
       "      <td>NaN</td>\n",
       "      <td>NaN</td>\n",
       "      <td>189.0</td>\n",
       "    </tr>\n",
       "    <tr>\n",
       "      <th>...</th>\n",
       "      <td>...</td>\n",
       "      <td>...</td>\n",
       "      <td>...</td>\n",
       "      <td>...</td>\n",
       "      <td>...</td>\n",
       "      <td>...</td>\n",
       "      <td>...</td>\n",
       "      <td>...</td>\n",
       "      <td>...</td>\n",
       "      <td>...</td>\n",
       "      <td>...</td>\n",
       "      <td>...</td>\n",
       "      <td>...</td>\n",
       "      <td>...</td>\n",
       "      <td>...</td>\n",
       "      <td>...</td>\n",
       "      <td>...</td>\n",
       "      <td>...</td>\n",
       "      <td>...</td>\n",
       "      <td>...</td>\n",
       "      <td>...</td>\n",
       "    </tr>\n",
       "    <tr>\n",
       "      <th>23692</th>\n",
       "      <td>2</td>\n",
       "      <td>1350000.0</td>\n",
       "      <td>30.00</td>\n",
       "      <td>2017-07-07</td>\n",
       "      <td>1</td>\n",
       "      <td>2.65</td>\n",
       "      <td>5.0</td>\n",
       "      <td>17.50</td>\n",
       "      <td>4</td>\n",
       "      <td>False</td>\n",
       "      <td>...</td>\n",
       "      <td>6.00</td>\n",
       "      <td>0</td>\n",
       "      <td>тихвин</td>\n",
       "      <td>NaN</td>\n",
       "      <td>NaN</td>\n",
       "      <td>NaN</td>\n",
       "      <td>NaN</td>\n",
       "      <td>NaN</td>\n",
       "      <td>NaN</td>\n",
       "      <td>413.0</td>\n",
       "    </tr>\n",
       "    <tr>\n",
       "      <th>23693</th>\n",
       "      <td>9</td>\n",
       "      <td>4600000.0</td>\n",
       "      <td>62.40</td>\n",
       "      <td>2016-08-05</td>\n",
       "      <td>3</td>\n",
       "      <td>2.60</td>\n",
       "      <td>9.0</td>\n",
       "      <td>40.00</td>\n",
       "      <td>8</td>\n",
       "      <td>False</td>\n",
       "      <td>...</td>\n",
       "      <td>8.00</td>\n",
       "      <td>0</td>\n",
       "      <td>петергоф</td>\n",
       "      <td>45602.0</td>\n",
       "      <td>34104.0</td>\n",
       "      <td>1.0</td>\n",
       "      <td>352.0</td>\n",
       "      <td>1.0</td>\n",
       "      <td>675.0</td>\n",
       "      <td>239.0</td>\n",
       "    </tr>\n",
       "    <tr>\n",
       "      <th>23695</th>\n",
       "      <td>14</td>\n",
       "      <td>3100000.0</td>\n",
       "      <td>59.00</td>\n",
       "      <td>2018-01-15</td>\n",
       "      <td>3</td>\n",
       "      <td>2.65</td>\n",
       "      <td>5.0</td>\n",
       "      <td>38.00</td>\n",
       "      <td>4</td>\n",
       "      <td>False</td>\n",
       "      <td>...</td>\n",
       "      <td>8.50</td>\n",
       "      <td>0</td>\n",
       "      <td>тосно</td>\n",
       "      <td>NaN</td>\n",
       "      <td>NaN</td>\n",
       "      <td>NaN</td>\n",
       "      <td>NaN</td>\n",
       "      <td>NaN</td>\n",
       "      <td>NaN</td>\n",
       "      <td>45.0</td>\n",
       "    </tr>\n",
       "    <tr>\n",
       "      <th>23696</th>\n",
       "      <td>18</td>\n",
       "      <td>2500000.0</td>\n",
       "      <td>56.70</td>\n",
       "      <td>2018-02-11</td>\n",
       "      <td>2</td>\n",
       "      <td>2.65</td>\n",
       "      <td>3.0</td>\n",
       "      <td>29.70</td>\n",
       "      <td>1</td>\n",
       "      <td>False</td>\n",
       "      <td>...</td>\n",
       "      <td>9.10</td>\n",
       "      <td>0</td>\n",
       "      <td>село рождествено</td>\n",
       "      <td>NaN</td>\n",
       "      <td>NaN</td>\n",
       "      <td>NaN</td>\n",
       "      <td>NaN</td>\n",
       "      <td>NaN</td>\n",
       "      <td>NaN</td>\n",
       "      <td>NaN</td>\n",
       "    </tr>\n",
       "    <tr>\n",
       "      <th>23698</th>\n",
       "      <td>4</td>\n",
       "      <td>1350000.0</td>\n",
       "      <td>32.30</td>\n",
       "      <td>2017-07-21</td>\n",
       "      <td>1</td>\n",
       "      <td>2.50</td>\n",
       "      <td>5.0</td>\n",
       "      <td>12.30</td>\n",
       "      <td>1</td>\n",
       "      <td>False</td>\n",
       "      <td>...</td>\n",
       "      <td>9.00</td>\n",
       "      <td>0</td>\n",
       "      <td>поселок новый учхоз</td>\n",
       "      <td>NaN</td>\n",
       "      <td>NaN</td>\n",
       "      <td>NaN</td>\n",
       "      <td>NaN</td>\n",
       "      <td>NaN</td>\n",
       "      <td>NaN</td>\n",
       "      <td>NaN</td>\n",
       "    </tr>\n",
       "  </tbody>\n",
       "</table>\n",
       "<p>21448 rows × 22 columns</p>\n",
       "</div>"
      ],
      "text/plain": [
       "       total_images  last_price  total_area first_day_exposition  rooms  \\\n",
       "1                 7   3350000.0       40.40           2018-12-04      1   \n",
       "2                10   5196000.0       56.00           2015-08-20      2   \n",
       "5                10   2890000.0       30.40           2018-09-10      1   \n",
       "6                 6   3700000.0       37.30           2017-11-02      1   \n",
       "8                20   2900000.0       33.16           2018-05-23      1   \n",
       "...             ...         ...         ...                  ...    ...   \n",
       "23692             2   1350000.0       30.00           2017-07-07      1   \n",
       "23693             9   4600000.0       62.40           2016-08-05      3   \n",
       "23695            14   3100000.0       59.00           2018-01-15      3   \n",
       "23696            18   2500000.0       56.70           2018-02-11      2   \n",
       "23698             4   1350000.0       32.30           2017-07-21      1   \n",
       "\n",
       "       ceiling_height  floors_total  living_area  floor  is_apartment  ...  \\\n",
       "1                2.65          11.0        18.60      1         False  ...   \n",
       "2                2.65           5.0        34.30      4         False  ...   \n",
       "5                2.65          12.0        14.40      5         False  ...   \n",
       "6                2.65          26.0        10.60      6         False  ...   \n",
       "8                2.65          27.0        15.43     26         False  ...   \n",
       "...               ...           ...          ...    ...           ...  ...   \n",
       "23692            2.65           5.0        17.50      4         False  ...   \n",
       "23693            2.60           9.0        40.00      8         False  ...   \n",
       "23695            2.65           5.0        38.00      4         False  ...   \n",
       "23696            2.65           3.0        29.70      1         False  ...   \n",
       "23698            2.50           5.0        12.30      1         False  ...   \n",
       "\n",
       "       kitchen_area  balcony              locality_name  airports_nearest  \\\n",
       "1             11.00        2             посeлок шушары           12817.0   \n",
       "2              8.30        0            санкт-петербург           21741.0   \n",
       "5              9.10        0  городской посeлок янино-1               NaN   \n",
       "6             14.40        1          посeлок парголово           52996.0   \n",
       "8              8.81        0             посeлок мурино               NaN   \n",
       "...             ...      ...                        ...               ...   \n",
       "23692          6.00        0                     тихвин               NaN   \n",
       "23693          8.00        0                   петергоф           45602.0   \n",
       "23695          8.50        0                      тосно               NaN   \n",
       "23696          9.10        0           село рождествено               NaN   \n",
       "23698          9.00        0        поселок новый учхоз               NaN   \n",
       "\n",
       "      cityCenters_nearest  parks_around3000  parks_nearest  ponds_around3000  \\\n",
       "1                 18603.0               0.0            NaN               0.0   \n",
       "2                 13933.0               1.0           90.0               2.0   \n",
       "5                     NaN               NaN            NaN               NaN   \n",
       "6                 19143.0               0.0            NaN               0.0   \n",
       "8                     NaN               NaN            NaN               NaN   \n",
       "...                   ...               ...            ...               ...   \n",
       "23692                 NaN               NaN            NaN               NaN   \n",
       "23693             34104.0               1.0          352.0               1.0   \n",
       "23695                 NaN               NaN            NaN               NaN   \n",
       "23696                 NaN               NaN            NaN               NaN   \n",
       "23698                 NaN               NaN            NaN               NaN   \n",
       "\n",
       "       ponds_nearest  days_exposition  \n",
       "1                NaN             81.0  \n",
       "2              574.0            558.0  \n",
       "5                NaN             55.0  \n",
       "6                NaN            155.0  \n",
       "8                NaN            189.0  \n",
       "...              ...              ...  \n",
       "23692            NaN            413.0  \n",
       "23693          675.0            239.0  \n",
       "23695            NaN             45.0  \n",
       "23696            NaN              NaN  \n",
       "23698            NaN              NaN  \n",
       "\n",
       "[21448 rows x 22 columns]"
      ]
     },
     "execution_count": 179,
     "metadata": {},
     "output_type": "execute_result"
    }
   ],
   "source": [
    "data_clear = data_clear.query('kitchen_area < 17.5')\n",
    "data_clear"
   ]
  },
  {
   "cell_type": "code",
   "execution_count": 180,
   "id": "65595284",
   "metadata": {},
   "outputs": [
    {
     "data": {
      "text/plain": [
       "count    18157.000000\n",
       "mean     28793.672193\n",
       "std      12630.880622\n",
       "min          0.000000\n",
       "25%      18585.000000\n",
       "50%      26726.000000\n",
       "75%      37273.000000\n",
       "max      84869.000000\n",
       "Name: airports_nearest, dtype: float64"
      ]
     },
     "execution_count": 180,
     "metadata": {},
     "output_type": "execute_result"
    }
   ],
   "source": [
    "#рассмотрим аномальные значения по столбцам\n",
    "\n",
    "data['airports_nearest'].describe()\n",
    "\n",
    "#в основном объекты расположены на расстоянии 29 км от аэропорта, но бывает и в 3 раза больше - 85 км"
   ]
  },
  {
   "cell_type": "code",
   "execution_count": 181,
   "id": "86674ed9",
   "metadata": {},
   "outputs": [
    {
     "data": {
      "text/plain": [
       "count    18180.000000\n",
       "mean     14191.277833\n",
       "std       8608.386210\n",
       "min        181.000000\n",
       "25%       9238.000000\n",
       "50%      13098.500000\n",
       "75%      16293.000000\n",
       "max      65968.000000\n",
       "Name: cityCenters_nearest, dtype: float64"
      ]
     },
     "execution_count": 181,
     "metadata": {},
     "output_type": "execute_result"
    }
   ],
   "source": [
    "#рассмотрим аномальные значения по столбцам\n",
    "\n",
    "data['cityCenters_nearest'].describe()\n",
    "\n",
    "#в основном объекты расположены на расстоянии 14 км от центра города, но бывает и в 5 раз больше - 66 км"
   ]
  },
  {
   "cell_type": "code",
   "execution_count": 182,
   "id": "281f61cf",
   "metadata": {},
   "outputs": [
    {
     "data": {
      "text/plain": [
       "0.007004514958437065"
      ]
     },
     "execution_count": 182,
     "metadata": {},
     "output_type": "execute_result"
    }
   ],
   "source": [
    "#рассмотрим аномальные значения по столбцам\n",
    "\n",
    "data['days_exposition'].describe()\n",
    "\n",
    "#в основном объявления держатся на сайте жо продажи 169 дней, но бывает и в 10 раз больше - 1580\n",
    "\n",
    "len(data[data['days_exposition'] > 365])/len(data) #12% объявлений продаются более года\n",
    "\n",
    "len(data[data['days_exposition'] > 365*2])/len(data) #3% объявлений продаются более года\n",
    "\n",
    "len(data[data['days_exposition'] > 365*3])/len(data) #1% объявлений продаются более года - скоррее всего люди забывают снять объявления с сайта "
   ]
  },
  {
   "cell_type": "code",
   "execution_count": 183,
   "id": "8543b20a",
   "metadata": {},
   "outputs": [
    {
     "name": "stdout",
     "output_type": "stream",
     "text": [
      "Было отброшено  9.5 % выборки\n"
     ]
    }
   ],
   "source": [
    "pers = (1 - len(data_clear)/len(data)) * 100\n",
    "print('Было отброшено ', round(pers, 2), '% выборки')"
   ]
  },
  {
   "cell_type": "markdown",
   "id": "ef2c63d6",
   "metadata": {},
   "source": [
    "### Выводы\n",
    "\n",
    "Таким образом, мы предобработали данные следующим образом:\n",
    "\n",
    "Преобразование типов данных:\n",
    "* для тех столбцов, которые содержат числовые значения, но имели тип данных object, был преобразован тип данных на float\n",
    "* для булевых данных был определен формат bool\n",
    "* для столбца с датой был выбран формат данных типа дата. \n",
    "\n",
    "Работа с дубликатами:\n",
    "* дублирующих строк не обнаружено\n",
    "* неявные дубликаты были устранены в столбце с наименованием населенных пунктов: вместо \"посёлок\" на \"поселок\", вместо \"посёлок городского типа\" на \"поселок\" и тд. \n",
    "\n",
    "Работа с пустыми значениями:\n",
    "* были заменены пустые значения на медианные в столбцах с числовыми значениями. \n",
    "* пропуски в стобцах с булевыми значения были заменены на false или 0 (в связи с тем, что пропуски объявнены значением по умолчанию)\n",
    "* пропуски названии населенных пунктов заменены на \"нет населенного пункта\"\n",
    "* пропуски с количеством этажей были заполнены значением этажа квартиры\n",
    "* пропуски с количеством дней продажи оставлены в связи с тем, что квартиры еще не проданы\n",
    "* пропуски в геоданных оставлены в связи с большой долей пропущенных значений, в том числе необходима более подробная информация по населенным пунктам лен области. \n",
    "\n",
    "Работа с аномальными значениями:\n",
    "* аномально большие значения обнаружены в столбце с высотой потолков - высота более 10 метров заменена на значение высоты потолка/10\n",
    "* были отчищены данные от выбросов по количественным признакам: жилая площадь, площадь кухни, общая площать. Остальные данные (количества комнат; этажа, на котором расположена квартира (первый, последний, другой); даты размещения (день недели, месяц, год) являются категориальными, поэтому их не вычищала.\n",
    "\n"
   ]
  },
  {
   "cell_type": "markdown",
   "id": "757e1f31",
   "metadata": {},
   "source": [
    "## Шаг 3. Добавление новой информации"
   ]
  },
  {
   "cell_type": "code",
   "execution_count": 184,
   "id": "3f5ad28d",
   "metadata": {},
   "outputs": [
    {
     "data": {
      "text/html": [
       "<div>\n",
       "<style scoped>\n",
       "    .dataframe tbody tr th:only-of-type {\n",
       "        vertical-align: middle;\n",
       "    }\n",
       "\n",
       "    .dataframe tbody tr th {\n",
       "        vertical-align: top;\n",
       "    }\n",
       "\n",
       "    .dataframe thead th {\n",
       "        text-align: right;\n",
       "    }\n",
       "</style>\n",
       "<table border=\"1\" class=\"dataframe\">\n",
       "  <thead>\n",
       "    <tr style=\"text-align: right;\">\n",
       "      <th></th>\n",
       "      <th>total_images</th>\n",
       "      <th>last_price</th>\n",
       "      <th>total_area</th>\n",
       "      <th>first_day_exposition</th>\n",
       "      <th>rooms</th>\n",
       "      <th>ceiling_height</th>\n",
       "      <th>floors_total</th>\n",
       "      <th>living_area</th>\n",
       "      <th>floor</th>\n",
       "      <th>is_apartment</th>\n",
       "      <th>...</th>\n",
       "      <th>balcony</th>\n",
       "      <th>locality_name</th>\n",
       "      <th>airports_nearest</th>\n",
       "      <th>cityCenters_nearest</th>\n",
       "      <th>parks_around3000</th>\n",
       "      <th>parks_nearest</th>\n",
       "      <th>ponds_around3000</th>\n",
       "      <th>ponds_nearest</th>\n",
       "      <th>days_exposition</th>\n",
       "      <th>price_for_sq_m</th>\n",
       "    </tr>\n",
       "  </thead>\n",
       "  <tbody>\n",
       "    <tr>\n",
       "      <th>1</th>\n",
       "      <td>7</td>\n",
       "      <td>3350000.0</td>\n",
       "      <td>40.40</td>\n",
       "      <td>2018-12-04</td>\n",
       "      <td>1</td>\n",
       "      <td>2.65</td>\n",
       "      <td>11.0</td>\n",
       "      <td>18.60</td>\n",
       "      <td>1</td>\n",
       "      <td>False</td>\n",
       "      <td>...</td>\n",
       "      <td>2</td>\n",
       "      <td>посeлок шушары</td>\n",
       "      <td>12817.0</td>\n",
       "      <td>18603.0</td>\n",
       "      <td>0.0</td>\n",
       "      <td>NaN</td>\n",
       "      <td>0.0</td>\n",
       "      <td>NaN</td>\n",
       "      <td>81.0</td>\n",
       "      <td>82920.792079</td>\n",
       "    </tr>\n",
       "    <tr>\n",
       "      <th>2</th>\n",
       "      <td>10</td>\n",
       "      <td>5196000.0</td>\n",
       "      <td>56.00</td>\n",
       "      <td>2015-08-20</td>\n",
       "      <td>2</td>\n",
       "      <td>2.65</td>\n",
       "      <td>5.0</td>\n",
       "      <td>34.30</td>\n",
       "      <td>4</td>\n",
       "      <td>False</td>\n",
       "      <td>...</td>\n",
       "      <td>0</td>\n",
       "      <td>санкт-петербург</td>\n",
       "      <td>21741.0</td>\n",
       "      <td>13933.0</td>\n",
       "      <td>1.0</td>\n",
       "      <td>90.0</td>\n",
       "      <td>2.0</td>\n",
       "      <td>574.0</td>\n",
       "      <td>558.0</td>\n",
       "      <td>92785.714286</td>\n",
       "    </tr>\n",
       "    <tr>\n",
       "      <th>5</th>\n",
       "      <td>10</td>\n",
       "      <td>2890000.0</td>\n",
       "      <td>30.40</td>\n",
       "      <td>2018-09-10</td>\n",
       "      <td>1</td>\n",
       "      <td>2.65</td>\n",
       "      <td>12.0</td>\n",
       "      <td>14.40</td>\n",
       "      <td>5</td>\n",
       "      <td>False</td>\n",
       "      <td>...</td>\n",
       "      <td>0</td>\n",
       "      <td>городской посeлок янино-1</td>\n",
       "      <td>NaN</td>\n",
       "      <td>NaN</td>\n",
       "      <td>NaN</td>\n",
       "      <td>NaN</td>\n",
       "      <td>NaN</td>\n",
       "      <td>NaN</td>\n",
       "      <td>55.0</td>\n",
       "      <td>95065.789474</td>\n",
       "    </tr>\n",
       "    <tr>\n",
       "      <th>6</th>\n",
       "      <td>6</td>\n",
       "      <td>3700000.0</td>\n",
       "      <td>37.30</td>\n",
       "      <td>2017-11-02</td>\n",
       "      <td>1</td>\n",
       "      <td>2.65</td>\n",
       "      <td>26.0</td>\n",
       "      <td>10.60</td>\n",
       "      <td>6</td>\n",
       "      <td>False</td>\n",
       "      <td>...</td>\n",
       "      <td>1</td>\n",
       "      <td>посeлок парголово</td>\n",
       "      <td>52996.0</td>\n",
       "      <td>19143.0</td>\n",
       "      <td>0.0</td>\n",
       "      <td>NaN</td>\n",
       "      <td>0.0</td>\n",
       "      <td>NaN</td>\n",
       "      <td>155.0</td>\n",
       "      <td>99195.710456</td>\n",
       "    </tr>\n",
       "    <tr>\n",
       "      <th>8</th>\n",
       "      <td>20</td>\n",
       "      <td>2900000.0</td>\n",
       "      <td>33.16</td>\n",
       "      <td>2018-05-23</td>\n",
       "      <td>1</td>\n",
       "      <td>2.65</td>\n",
       "      <td>27.0</td>\n",
       "      <td>15.43</td>\n",
       "      <td>26</td>\n",
       "      <td>False</td>\n",
       "      <td>...</td>\n",
       "      <td>0</td>\n",
       "      <td>посeлок мурино</td>\n",
       "      <td>NaN</td>\n",
       "      <td>NaN</td>\n",
       "      <td>NaN</td>\n",
       "      <td>NaN</td>\n",
       "      <td>NaN</td>\n",
       "      <td>NaN</td>\n",
       "      <td>189.0</td>\n",
       "      <td>87454.764777</td>\n",
       "    </tr>\n",
       "  </tbody>\n",
       "</table>\n",
       "<p>5 rows × 23 columns</p>\n",
       "</div>"
      ],
      "text/plain": [
       "   total_images  last_price  total_area first_day_exposition  rooms  \\\n",
       "1             7   3350000.0       40.40           2018-12-04      1   \n",
       "2            10   5196000.0       56.00           2015-08-20      2   \n",
       "5            10   2890000.0       30.40           2018-09-10      1   \n",
       "6             6   3700000.0       37.30           2017-11-02      1   \n",
       "8            20   2900000.0       33.16           2018-05-23      1   \n",
       "\n",
       "   ceiling_height  floors_total  living_area  floor  is_apartment  ...  \\\n",
       "1            2.65          11.0        18.60      1         False  ...   \n",
       "2            2.65           5.0        34.30      4         False  ...   \n",
       "5            2.65          12.0        14.40      5         False  ...   \n",
       "6            2.65          26.0        10.60      6         False  ...   \n",
       "8            2.65          27.0        15.43     26         False  ...   \n",
       "\n",
       "   balcony              locality_name  airports_nearest  cityCenters_nearest  \\\n",
       "1        2             посeлок шушары           12817.0              18603.0   \n",
       "2        0            санкт-петербург           21741.0              13933.0   \n",
       "5        0  городской посeлок янино-1               NaN                  NaN   \n",
       "6        1          посeлок парголово           52996.0              19143.0   \n",
       "8        0             посeлок мурино               NaN                  NaN   \n",
       "\n",
       "  parks_around3000  parks_nearest  ponds_around3000  ponds_nearest  \\\n",
       "1              0.0            NaN               0.0            NaN   \n",
       "2              1.0           90.0               2.0          574.0   \n",
       "5              NaN            NaN               NaN            NaN   \n",
       "6              0.0            NaN               0.0            NaN   \n",
       "8              NaN            NaN               NaN            NaN   \n",
       "\n",
       "   days_exposition  price_for_sq_m  \n",
       "1             81.0    82920.792079  \n",
       "2            558.0    92785.714286  \n",
       "5             55.0    95065.789474  \n",
       "6            155.0    99195.710456  \n",
       "8            189.0    87454.764777  \n",
       "\n",
       "[5 rows x 23 columns]"
      ]
     },
     "execution_count": 184,
     "metadata": {},
     "output_type": "execute_result"
    }
   ],
   "source": [
    "#добавление столбца цена одного квадратного метра\n",
    "\n",
    "data_clear['price_for_sq_m'] = data_clear['last_price']/data_clear['total_area']\n",
    "\n",
    "data_clear.head()"
   ]
  },
  {
   "cell_type": "code",
   "execution_count": 185,
   "id": "ff69786b",
   "metadata": {},
   "outputs": [
    {
     "data": {
      "text/html": [
       "<div>\n",
       "<style scoped>\n",
       "    .dataframe tbody tr th:only-of-type {\n",
       "        vertical-align: middle;\n",
       "    }\n",
       "\n",
       "    .dataframe tbody tr th {\n",
       "        vertical-align: top;\n",
       "    }\n",
       "\n",
       "    .dataframe thead th {\n",
       "        text-align: right;\n",
       "    }\n",
       "</style>\n",
       "<table border=\"1\" class=\"dataframe\">\n",
       "  <thead>\n",
       "    <tr style=\"text-align: right;\">\n",
       "      <th></th>\n",
       "      <th>total_images</th>\n",
       "      <th>last_price</th>\n",
       "      <th>total_area</th>\n",
       "      <th>first_day_exposition</th>\n",
       "      <th>rooms</th>\n",
       "      <th>ceiling_height</th>\n",
       "      <th>floors_total</th>\n",
       "      <th>living_area</th>\n",
       "      <th>floor</th>\n",
       "      <th>is_apartment</th>\n",
       "      <th>...</th>\n",
       "      <th>locality_name</th>\n",
       "      <th>airports_nearest</th>\n",
       "      <th>cityCenters_nearest</th>\n",
       "      <th>parks_around3000</th>\n",
       "      <th>parks_nearest</th>\n",
       "      <th>ponds_around3000</th>\n",
       "      <th>ponds_nearest</th>\n",
       "      <th>days_exposition</th>\n",
       "      <th>price_for_sq_m</th>\n",
       "      <th>day_of_public</th>\n",
       "    </tr>\n",
       "  </thead>\n",
       "  <tbody>\n",
       "    <tr>\n",
       "      <th>1</th>\n",
       "      <td>7</td>\n",
       "      <td>3350000.0</td>\n",
       "      <td>40.40</td>\n",
       "      <td>2018-12-04</td>\n",
       "      <td>1</td>\n",
       "      <td>2.65</td>\n",
       "      <td>11.0</td>\n",
       "      <td>18.60</td>\n",
       "      <td>1</td>\n",
       "      <td>False</td>\n",
       "      <td>...</td>\n",
       "      <td>посeлок шушары</td>\n",
       "      <td>12817.0</td>\n",
       "      <td>18603.0</td>\n",
       "      <td>0.0</td>\n",
       "      <td>NaN</td>\n",
       "      <td>0.0</td>\n",
       "      <td>NaN</td>\n",
       "      <td>81.0</td>\n",
       "      <td>82920.792079</td>\n",
       "      <td>2</td>\n",
       "    </tr>\n",
       "    <tr>\n",
       "      <th>2</th>\n",
       "      <td>10</td>\n",
       "      <td>5196000.0</td>\n",
       "      <td>56.00</td>\n",
       "      <td>2015-08-20</td>\n",
       "      <td>2</td>\n",
       "      <td>2.65</td>\n",
       "      <td>5.0</td>\n",
       "      <td>34.30</td>\n",
       "      <td>4</td>\n",
       "      <td>False</td>\n",
       "      <td>...</td>\n",
       "      <td>санкт-петербург</td>\n",
       "      <td>21741.0</td>\n",
       "      <td>13933.0</td>\n",
       "      <td>1.0</td>\n",
       "      <td>90.0</td>\n",
       "      <td>2.0</td>\n",
       "      <td>574.0</td>\n",
       "      <td>558.0</td>\n",
       "      <td>92785.714286</td>\n",
       "      <td>4</td>\n",
       "    </tr>\n",
       "    <tr>\n",
       "      <th>5</th>\n",
       "      <td>10</td>\n",
       "      <td>2890000.0</td>\n",
       "      <td>30.40</td>\n",
       "      <td>2018-09-10</td>\n",
       "      <td>1</td>\n",
       "      <td>2.65</td>\n",
       "      <td>12.0</td>\n",
       "      <td>14.40</td>\n",
       "      <td>5</td>\n",
       "      <td>False</td>\n",
       "      <td>...</td>\n",
       "      <td>городской посeлок янино-1</td>\n",
       "      <td>NaN</td>\n",
       "      <td>NaN</td>\n",
       "      <td>NaN</td>\n",
       "      <td>NaN</td>\n",
       "      <td>NaN</td>\n",
       "      <td>NaN</td>\n",
       "      <td>55.0</td>\n",
       "      <td>95065.789474</td>\n",
       "      <td>1</td>\n",
       "    </tr>\n",
       "    <tr>\n",
       "      <th>6</th>\n",
       "      <td>6</td>\n",
       "      <td>3700000.0</td>\n",
       "      <td>37.30</td>\n",
       "      <td>2017-11-02</td>\n",
       "      <td>1</td>\n",
       "      <td>2.65</td>\n",
       "      <td>26.0</td>\n",
       "      <td>10.60</td>\n",
       "      <td>6</td>\n",
       "      <td>False</td>\n",
       "      <td>...</td>\n",
       "      <td>посeлок парголово</td>\n",
       "      <td>52996.0</td>\n",
       "      <td>19143.0</td>\n",
       "      <td>0.0</td>\n",
       "      <td>NaN</td>\n",
       "      <td>0.0</td>\n",
       "      <td>NaN</td>\n",
       "      <td>155.0</td>\n",
       "      <td>99195.710456</td>\n",
       "      <td>4</td>\n",
       "    </tr>\n",
       "    <tr>\n",
       "      <th>8</th>\n",
       "      <td>20</td>\n",
       "      <td>2900000.0</td>\n",
       "      <td>33.16</td>\n",
       "      <td>2018-05-23</td>\n",
       "      <td>1</td>\n",
       "      <td>2.65</td>\n",
       "      <td>27.0</td>\n",
       "      <td>15.43</td>\n",
       "      <td>26</td>\n",
       "      <td>False</td>\n",
       "      <td>...</td>\n",
       "      <td>посeлок мурино</td>\n",
       "      <td>NaN</td>\n",
       "      <td>NaN</td>\n",
       "      <td>NaN</td>\n",
       "      <td>NaN</td>\n",
       "      <td>NaN</td>\n",
       "      <td>NaN</td>\n",
       "      <td>189.0</td>\n",
       "      <td>87454.764777</td>\n",
       "      <td>3</td>\n",
       "    </tr>\n",
       "  </tbody>\n",
       "</table>\n",
       "<p>5 rows × 24 columns</p>\n",
       "</div>"
      ],
      "text/plain": [
       "   total_images  last_price  total_area first_day_exposition  rooms  \\\n",
       "1             7   3350000.0       40.40           2018-12-04      1   \n",
       "2            10   5196000.0       56.00           2015-08-20      2   \n",
       "5            10   2890000.0       30.40           2018-09-10      1   \n",
       "6             6   3700000.0       37.30           2017-11-02      1   \n",
       "8            20   2900000.0       33.16           2018-05-23      1   \n",
       "\n",
       "   ceiling_height  floors_total  living_area  floor  is_apartment  ...  \\\n",
       "1            2.65          11.0        18.60      1         False  ...   \n",
       "2            2.65           5.0        34.30      4         False  ...   \n",
       "5            2.65          12.0        14.40      5         False  ...   \n",
       "6            2.65          26.0        10.60      6         False  ...   \n",
       "8            2.65          27.0        15.43     26         False  ...   \n",
       "\n",
       "               locality_name  airports_nearest  cityCenters_nearest  \\\n",
       "1             посeлок шушары           12817.0              18603.0   \n",
       "2            санкт-петербург           21741.0              13933.0   \n",
       "5  городской посeлок янино-1               NaN                  NaN   \n",
       "6          посeлок парголово           52996.0              19143.0   \n",
       "8             посeлок мурино               NaN                  NaN   \n",
       "\n",
       "   parks_around3000 parks_nearest  ponds_around3000  ponds_nearest  \\\n",
       "1               0.0           NaN               0.0            NaN   \n",
       "2               1.0          90.0               2.0          574.0   \n",
       "5               NaN           NaN               NaN            NaN   \n",
       "6               0.0           NaN               0.0            NaN   \n",
       "8               NaN           NaN               NaN            NaN   \n",
       "\n",
       "   days_exposition  price_for_sq_m  day_of_public  \n",
       "1             81.0    82920.792079              2  \n",
       "2            558.0    92785.714286              4  \n",
       "5             55.0    95065.789474              1  \n",
       "6            155.0    99195.710456              4  \n",
       "8            189.0    87454.764777              3  \n",
       "\n",
       "[5 rows x 24 columns]"
      ]
     },
     "execution_count": 185,
     "metadata": {},
     "output_type": "execute_result"
    }
   ],
   "source": [
    "#добавление столбца день недели публикации объявления (0 — понедельник, 1 — вторник и так далее)\n",
    "\n",
    "data_clear['day_of_public'] = data_clear['first_day_exposition'].dt.weekday+1\n",
    "\n",
    "data_clear.head()"
   ]
  },
  {
   "cell_type": "code",
   "execution_count": 186,
   "id": "d7087d3a",
   "metadata": {},
   "outputs": [
    {
     "data": {
      "text/html": [
       "<div>\n",
       "<style scoped>\n",
       "    .dataframe tbody tr th:only-of-type {\n",
       "        vertical-align: middle;\n",
       "    }\n",
       "\n",
       "    .dataframe tbody tr th {\n",
       "        vertical-align: top;\n",
       "    }\n",
       "\n",
       "    .dataframe thead th {\n",
       "        text-align: right;\n",
       "    }\n",
       "</style>\n",
       "<table border=\"1\" class=\"dataframe\">\n",
       "  <thead>\n",
       "    <tr style=\"text-align: right;\">\n",
       "      <th></th>\n",
       "      <th>total_images</th>\n",
       "      <th>last_price</th>\n",
       "      <th>total_area</th>\n",
       "      <th>first_day_exposition</th>\n",
       "      <th>rooms</th>\n",
       "      <th>ceiling_height</th>\n",
       "      <th>floors_total</th>\n",
       "      <th>living_area</th>\n",
       "      <th>floor</th>\n",
       "      <th>is_apartment</th>\n",
       "      <th>...</th>\n",
       "      <th>airports_nearest</th>\n",
       "      <th>cityCenters_nearest</th>\n",
       "      <th>parks_around3000</th>\n",
       "      <th>parks_nearest</th>\n",
       "      <th>ponds_around3000</th>\n",
       "      <th>ponds_nearest</th>\n",
       "      <th>days_exposition</th>\n",
       "      <th>price_for_sq_m</th>\n",
       "      <th>day_of_public</th>\n",
       "      <th>month_of_public</th>\n",
       "    </tr>\n",
       "  </thead>\n",
       "  <tbody>\n",
       "    <tr>\n",
       "      <th>1</th>\n",
       "      <td>7</td>\n",
       "      <td>3350000.0</td>\n",
       "      <td>40.40</td>\n",
       "      <td>2018-12-04</td>\n",
       "      <td>1</td>\n",
       "      <td>2.65</td>\n",
       "      <td>11.0</td>\n",
       "      <td>18.60</td>\n",
       "      <td>1</td>\n",
       "      <td>False</td>\n",
       "      <td>...</td>\n",
       "      <td>12817.0</td>\n",
       "      <td>18603.0</td>\n",
       "      <td>0.0</td>\n",
       "      <td>NaN</td>\n",
       "      <td>0.0</td>\n",
       "      <td>NaN</td>\n",
       "      <td>81.0</td>\n",
       "      <td>82920.792079</td>\n",
       "      <td>2</td>\n",
       "      <td>12</td>\n",
       "    </tr>\n",
       "    <tr>\n",
       "      <th>2</th>\n",
       "      <td>10</td>\n",
       "      <td>5196000.0</td>\n",
       "      <td>56.00</td>\n",
       "      <td>2015-08-20</td>\n",
       "      <td>2</td>\n",
       "      <td>2.65</td>\n",
       "      <td>5.0</td>\n",
       "      <td>34.30</td>\n",
       "      <td>4</td>\n",
       "      <td>False</td>\n",
       "      <td>...</td>\n",
       "      <td>21741.0</td>\n",
       "      <td>13933.0</td>\n",
       "      <td>1.0</td>\n",
       "      <td>90.0</td>\n",
       "      <td>2.0</td>\n",
       "      <td>574.0</td>\n",
       "      <td>558.0</td>\n",
       "      <td>92785.714286</td>\n",
       "      <td>4</td>\n",
       "      <td>8</td>\n",
       "    </tr>\n",
       "    <tr>\n",
       "      <th>5</th>\n",
       "      <td>10</td>\n",
       "      <td>2890000.0</td>\n",
       "      <td>30.40</td>\n",
       "      <td>2018-09-10</td>\n",
       "      <td>1</td>\n",
       "      <td>2.65</td>\n",
       "      <td>12.0</td>\n",
       "      <td>14.40</td>\n",
       "      <td>5</td>\n",
       "      <td>False</td>\n",
       "      <td>...</td>\n",
       "      <td>NaN</td>\n",
       "      <td>NaN</td>\n",
       "      <td>NaN</td>\n",
       "      <td>NaN</td>\n",
       "      <td>NaN</td>\n",
       "      <td>NaN</td>\n",
       "      <td>55.0</td>\n",
       "      <td>95065.789474</td>\n",
       "      <td>1</td>\n",
       "      <td>9</td>\n",
       "    </tr>\n",
       "    <tr>\n",
       "      <th>6</th>\n",
       "      <td>6</td>\n",
       "      <td>3700000.0</td>\n",
       "      <td>37.30</td>\n",
       "      <td>2017-11-02</td>\n",
       "      <td>1</td>\n",
       "      <td>2.65</td>\n",
       "      <td>26.0</td>\n",
       "      <td>10.60</td>\n",
       "      <td>6</td>\n",
       "      <td>False</td>\n",
       "      <td>...</td>\n",
       "      <td>52996.0</td>\n",
       "      <td>19143.0</td>\n",
       "      <td>0.0</td>\n",
       "      <td>NaN</td>\n",
       "      <td>0.0</td>\n",
       "      <td>NaN</td>\n",
       "      <td>155.0</td>\n",
       "      <td>99195.710456</td>\n",
       "      <td>4</td>\n",
       "      <td>11</td>\n",
       "    </tr>\n",
       "    <tr>\n",
       "      <th>8</th>\n",
       "      <td>20</td>\n",
       "      <td>2900000.0</td>\n",
       "      <td>33.16</td>\n",
       "      <td>2018-05-23</td>\n",
       "      <td>1</td>\n",
       "      <td>2.65</td>\n",
       "      <td>27.0</td>\n",
       "      <td>15.43</td>\n",
       "      <td>26</td>\n",
       "      <td>False</td>\n",
       "      <td>...</td>\n",
       "      <td>NaN</td>\n",
       "      <td>NaN</td>\n",
       "      <td>NaN</td>\n",
       "      <td>NaN</td>\n",
       "      <td>NaN</td>\n",
       "      <td>NaN</td>\n",
       "      <td>189.0</td>\n",
       "      <td>87454.764777</td>\n",
       "      <td>3</td>\n",
       "      <td>5</td>\n",
       "    </tr>\n",
       "  </tbody>\n",
       "</table>\n",
       "<p>5 rows × 25 columns</p>\n",
       "</div>"
      ],
      "text/plain": [
       "   total_images  last_price  total_area first_day_exposition  rooms  \\\n",
       "1             7   3350000.0       40.40           2018-12-04      1   \n",
       "2            10   5196000.0       56.00           2015-08-20      2   \n",
       "5            10   2890000.0       30.40           2018-09-10      1   \n",
       "6             6   3700000.0       37.30           2017-11-02      1   \n",
       "8            20   2900000.0       33.16           2018-05-23      1   \n",
       "\n",
       "   ceiling_height  floors_total  living_area  floor  is_apartment  ...  \\\n",
       "1            2.65          11.0        18.60      1         False  ...   \n",
       "2            2.65           5.0        34.30      4         False  ...   \n",
       "5            2.65          12.0        14.40      5         False  ...   \n",
       "6            2.65          26.0        10.60      6         False  ...   \n",
       "8            2.65          27.0        15.43     26         False  ...   \n",
       "\n",
       "   airports_nearest  cityCenters_nearest  parks_around3000  parks_nearest  \\\n",
       "1           12817.0              18603.0               0.0            NaN   \n",
       "2           21741.0              13933.0               1.0           90.0   \n",
       "5               NaN                  NaN               NaN            NaN   \n",
       "6           52996.0              19143.0               0.0            NaN   \n",
       "8               NaN                  NaN               NaN            NaN   \n",
       "\n",
       "  ponds_around3000  ponds_nearest  days_exposition  price_for_sq_m  \\\n",
       "1              0.0            NaN             81.0    82920.792079   \n",
       "2              2.0          574.0            558.0    92785.714286   \n",
       "5              NaN            NaN             55.0    95065.789474   \n",
       "6              0.0            NaN            155.0    99195.710456   \n",
       "8              NaN            NaN            189.0    87454.764777   \n",
       "\n",
       "   day_of_public  month_of_public  \n",
       "1              2               12  \n",
       "2              4                8  \n",
       "5              1                9  \n",
       "6              4               11  \n",
       "8              3                5  \n",
       "\n",
       "[5 rows x 25 columns]"
      ]
     },
     "execution_count": 186,
     "metadata": {},
     "output_type": "execute_result"
    }
   ],
   "source": [
    "#добавление столбца месяц публикации объявления\n",
    "\n",
    "data_clear['month_of_public'] = pd.DatetimeIndex(data_clear['first_day_exposition']).month\n",
    "\n",
    "data_clear.head()"
   ]
  },
  {
   "cell_type": "code",
   "execution_count": 187,
   "id": "e246872f",
   "metadata": {},
   "outputs": [
    {
     "data": {
      "text/html": [
       "<div>\n",
       "<style scoped>\n",
       "    .dataframe tbody tr th:only-of-type {\n",
       "        vertical-align: middle;\n",
       "    }\n",
       "\n",
       "    .dataframe tbody tr th {\n",
       "        vertical-align: top;\n",
       "    }\n",
       "\n",
       "    .dataframe thead th {\n",
       "        text-align: right;\n",
       "    }\n",
       "</style>\n",
       "<table border=\"1\" class=\"dataframe\">\n",
       "  <thead>\n",
       "    <tr style=\"text-align: right;\">\n",
       "      <th></th>\n",
       "      <th>total_images</th>\n",
       "      <th>last_price</th>\n",
       "      <th>total_area</th>\n",
       "      <th>first_day_exposition</th>\n",
       "      <th>rooms</th>\n",
       "      <th>ceiling_height</th>\n",
       "      <th>floors_total</th>\n",
       "      <th>living_area</th>\n",
       "      <th>floor</th>\n",
       "      <th>is_apartment</th>\n",
       "      <th>...</th>\n",
       "      <th>cityCenters_nearest</th>\n",
       "      <th>parks_around3000</th>\n",
       "      <th>parks_nearest</th>\n",
       "      <th>ponds_around3000</th>\n",
       "      <th>ponds_nearest</th>\n",
       "      <th>days_exposition</th>\n",
       "      <th>price_for_sq_m</th>\n",
       "      <th>day_of_public</th>\n",
       "      <th>month_of_public</th>\n",
       "      <th>year_of_public</th>\n",
       "    </tr>\n",
       "  </thead>\n",
       "  <tbody>\n",
       "    <tr>\n",
       "      <th>1</th>\n",
       "      <td>7</td>\n",
       "      <td>3350000.0</td>\n",
       "      <td>40.40</td>\n",
       "      <td>2018-12-04</td>\n",
       "      <td>1</td>\n",
       "      <td>2.65</td>\n",
       "      <td>11.0</td>\n",
       "      <td>18.60</td>\n",
       "      <td>1</td>\n",
       "      <td>False</td>\n",
       "      <td>...</td>\n",
       "      <td>18603.0</td>\n",
       "      <td>0.0</td>\n",
       "      <td>NaN</td>\n",
       "      <td>0.0</td>\n",
       "      <td>NaN</td>\n",
       "      <td>81.0</td>\n",
       "      <td>82920.792079</td>\n",
       "      <td>2</td>\n",
       "      <td>12</td>\n",
       "      <td>2018</td>\n",
       "    </tr>\n",
       "    <tr>\n",
       "      <th>2</th>\n",
       "      <td>10</td>\n",
       "      <td>5196000.0</td>\n",
       "      <td>56.00</td>\n",
       "      <td>2015-08-20</td>\n",
       "      <td>2</td>\n",
       "      <td>2.65</td>\n",
       "      <td>5.0</td>\n",
       "      <td>34.30</td>\n",
       "      <td>4</td>\n",
       "      <td>False</td>\n",
       "      <td>...</td>\n",
       "      <td>13933.0</td>\n",
       "      <td>1.0</td>\n",
       "      <td>90.0</td>\n",
       "      <td>2.0</td>\n",
       "      <td>574.0</td>\n",
       "      <td>558.0</td>\n",
       "      <td>92785.714286</td>\n",
       "      <td>4</td>\n",
       "      <td>8</td>\n",
       "      <td>2015</td>\n",
       "    </tr>\n",
       "    <tr>\n",
       "      <th>5</th>\n",
       "      <td>10</td>\n",
       "      <td>2890000.0</td>\n",
       "      <td>30.40</td>\n",
       "      <td>2018-09-10</td>\n",
       "      <td>1</td>\n",
       "      <td>2.65</td>\n",
       "      <td>12.0</td>\n",
       "      <td>14.40</td>\n",
       "      <td>5</td>\n",
       "      <td>False</td>\n",
       "      <td>...</td>\n",
       "      <td>NaN</td>\n",
       "      <td>NaN</td>\n",
       "      <td>NaN</td>\n",
       "      <td>NaN</td>\n",
       "      <td>NaN</td>\n",
       "      <td>55.0</td>\n",
       "      <td>95065.789474</td>\n",
       "      <td>1</td>\n",
       "      <td>9</td>\n",
       "      <td>2018</td>\n",
       "    </tr>\n",
       "    <tr>\n",
       "      <th>6</th>\n",
       "      <td>6</td>\n",
       "      <td>3700000.0</td>\n",
       "      <td>37.30</td>\n",
       "      <td>2017-11-02</td>\n",
       "      <td>1</td>\n",
       "      <td>2.65</td>\n",
       "      <td>26.0</td>\n",
       "      <td>10.60</td>\n",
       "      <td>6</td>\n",
       "      <td>False</td>\n",
       "      <td>...</td>\n",
       "      <td>19143.0</td>\n",
       "      <td>0.0</td>\n",
       "      <td>NaN</td>\n",
       "      <td>0.0</td>\n",
       "      <td>NaN</td>\n",
       "      <td>155.0</td>\n",
       "      <td>99195.710456</td>\n",
       "      <td>4</td>\n",
       "      <td>11</td>\n",
       "      <td>2017</td>\n",
       "    </tr>\n",
       "    <tr>\n",
       "      <th>8</th>\n",
       "      <td>20</td>\n",
       "      <td>2900000.0</td>\n",
       "      <td>33.16</td>\n",
       "      <td>2018-05-23</td>\n",
       "      <td>1</td>\n",
       "      <td>2.65</td>\n",
       "      <td>27.0</td>\n",
       "      <td>15.43</td>\n",
       "      <td>26</td>\n",
       "      <td>False</td>\n",
       "      <td>...</td>\n",
       "      <td>NaN</td>\n",
       "      <td>NaN</td>\n",
       "      <td>NaN</td>\n",
       "      <td>NaN</td>\n",
       "      <td>NaN</td>\n",
       "      <td>189.0</td>\n",
       "      <td>87454.764777</td>\n",
       "      <td>3</td>\n",
       "      <td>5</td>\n",
       "      <td>2018</td>\n",
       "    </tr>\n",
       "  </tbody>\n",
       "</table>\n",
       "<p>5 rows × 26 columns</p>\n",
       "</div>"
      ],
      "text/plain": [
       "   total_images  last_price  total_area first_day_exposition  rooms  \\\n",
       "1             7   3350000.0       40.40           2018-12-04      1   \n",
       "2            10   5196000.0       56.00           2015-08-20      2   \n",
       "5            10   2890000.0       30.40           2018-09-10      1   \n",
       "6             6   3700000.0       37.30           2017-11-02      1   \n",
       "8            20   2900000.0       33.16           2018-05-23      1   \n",
       "\n",
       "   ceiling_height  floors_total  living_area  floor  is_apartment  ...  \\\n",
       "1            2.65          11.0        18.60      1         False  ...   \n",
       "2            2.65           5.0        34.30      4         False  ...   \n",
       "5            2.65          12.0        14.40      5         False  ...   \n",
       "6            2.65          26.0        10.60      6         False  ...   \n",
       "8            2.65          27.0        15.43     26         False  ...   \n",
       "\n",
       "   cityCenters_nearest  parks_around3000  parks_nearest  ponds_around3000  \\\n",
       "1              18603.0               0.0            NaN               0.0   \n",
       "2              13933.0               1.0           90.0               2.0   \n",
       "5                  NaN               NaN            NaN               NaN   \n",
       "6              19143.0               0.0            NaN               0.0   \n",
       "8                  NaN               NaN            NaN               NaN   \n",
       "\n",
       "  ponds_nearest  days_exposition  price_for_sq_m  day_of_public  \\\n",
       "1           NaN             81.0    82920.792079              2   \n",
       "2         574.0            558.0    92785.714286              4   \n",
       "5           NaN             55.0    95065.789474              1   \n",
       "6           NaN            155.0    99195.710456              4   \n",
       "8           NaN            189.0    87454.764777              3   \n",
       "\n",
       "   month_of_public  year_of_public  \n",
       "1               12            2018  \n",
       "2                8            2015  \n",
       "5                9            2018  \n",
       "6               11            2017  \n",
       "8                5            2018  \n",
       "\n",
       "[5 rows x 26 columns]"
      ]
     },
     "execution_count": 187,
     "metadata": {},
     "output_type": "execute_result"
    }
   ],
   "source": [
    "#добавление столбца год публикации объявления\n",
    "\n",
    "data_clear['year_of_public'] = pd.DatetimeIndex(data_clear['first_day_exposition']).year\n",
    "\n",
    "data_clear.head()"
   ]
  },
  {
   "cell_type": "code",
   "execution_count": 188,
   "id": "e9943ed1",
   "metadata": {},
   "outputs": [
    {
     "data": {
      "text/html": [
       "<div>\n",
       "<style scoped>\n",
       "    .dataframe tbody tr th:only-of-type {\n",
       "        vertical-align: middle;\n",
       "    }\n",
       "\n",
       "    .dataframe tbody tr th {\n",
       "        vertical-align: top;\n",
       "    }\n",
       "\n",
       "    .dataframe thead th {\n",
       "        text-align: right;\n",
       "    }\n",
       "</style>\n",
       "<table border=\"1\" class=\"dataframe\">\n",
       "  <thead>\n",
       "    <tr style=\"text-align: right;\">\n",
       "      <th></th>\n",
       "      <th>total_images</th>\n",
       "      <th>last_price</th>\n",
       "      <th>total_area</th>\n",
       "      <th>first_day_exposition</th>\n",
       "      <th>rooms</th>\n",
       "      <th>ceiling_height</th>\n",
       "      <th>floors_total</th>\n",
       "      <th>living_area</th>\n",
       "      <th>floor</th>\n",
       "      <th>is_apartment</th>\n",
       "      <th>...</th>\n",
       "      <th>parks_around3000</th>\n",
       "      <th>parks_nearest</th>\n",
       "      <th>ponds_around3000</th>\n",
       "      <th>ponds_nearest</th>\n",
       "      <th>days_exposition</th>\n",
       "      <th>price_for_sq_m</th>\n",
       "      <th>day_of_public</th>\n",
       "      <th>month_of_public</th>\n",
       "      <th>year_of_public</th>\n",
       "      <th>type_of_floor</th>\n",
       "    </tr>\n",
       "  </thead>\n",
       "  <tbody>\n",
       "    <tr>\n",
       "      <th>1</th>\n",
       "      <td>7</td>\n",
       "      <td>3350000.0</td>\n",
       "      <td>40.40</td>\n",
       "      <td>2018-12-04</td>\n",
       "      <td>1</td>\n",
       "      <td>2.65</td>\n",
       "      <td>11.0</td>\n",
       "      <td>18.60</td>\n",
       "      <td>1</td>\n",
       "      <td>False</td>\n",
       "      <td>...</td>\n",
       "      <td>0.0</td>\n",
       "      <td>NaN</td>\n",
       "      <td>0.0</td>\n",
       "      <td>NaN</td>\n",
       "      <td>81.0</td>\n",
       "      <td>82920.792079</td>\n",
       "      <td>2</td>\n",
       "      <td>12</td>\n",
       "      <td>2018</td>\n",
       "      <td>первый</td>\n",
       "    </tr>\n",
       "    <tr>\n",
       "      <th>2</th>\n",
       "      <td>10</td>\n",
       "      <td>5196000.0</td>\n",
       "      <td>56.00</td>\n",
       "      <td>2015-08-20</td>\n",
       "      <td>2</td>\n",
       "      <td>2.65</td>\n",
       "      <td>5.0</td>\n",
       "      <td>34.30</td>\n",
       "      <td>4</td>\n",
       "      <td>False</td>\n",
       "      <td>...</td>\n",
       "      <td>1.0</td>\n",
       "      <td>90.0</td>\n",
       "      <td>2.0</td>\n",
       "      <td>574.0</td>\n",
       "      <td>558.0</td>\n",
       "      <td>92785.714286</td>\n",
       "      <td>4</td>\n",
       "      <td>8</td>\n",
       "      <td>2015</td>\n",
       "      <td>другой</td>\n",
       "    </tr>\n",
       "    <tr>\n",
       "      <th>5</th>\n",
       "      <td>10</td>\n",
       "      <td>2890000.0</td>\n",
       "      <td>30.40</td>\n",
       "      <td>2018-09-10</td>\n",
       "      <td>1</td>\n",
       "      <td>2.65</td>\n",
       "      <td>12.0</td>\n",
       "      <td>14.40</td>\n",
       "      <td>5</td>\n",
       "      <td>False</td>\n",
       "      <td>...</td>\n",
       "      <td>NaN</td>\n",
       "      <td>NaN</td>\n",
       "      <td>NaN</td>\n",
       "      <td>NaN</td>\n",
       "      <td>55.0</td>\n",
       "      <td>95065.789474</td>\n",
       "      <td>1</td>\n",
       "      <td>9</td>\n",
       "      <td>2018</td>\n",
       "      <td>другой</td>\n",
       "    </tr>\n",
       "    <tr>\n",
       "      <th>6</th>\n",
       "      <td>6</td>\n",
       "      <td>3700000.0</td>\n",
       "      <td>37.30</td>\n",
       "      <td>2017-11-02</td>\n",
       "      <td>1</td>\n",
       "      <td>2.65</td>\n",
       "      <td>26.0</td>\n",
       "      <td>10.60</td>\n",
       "      <td>6</td>\n",
       "      <td>False</td>\n",
       "      <td>...</td>\n",
       "      <td>0.0</td>\n",
       "      <td>NaN</td>\n",
       "      <td>0.0</td>\n",
       "      <td>NaN</td>\n",
       "      <td>155.0</td>\n",
       "      <td>99195.710456</td>\n",
       "      <td>4</td>\n",
       "      <td>11</td>\n",
       "      <td>2017</td>\n",
       "      <td>другой</td>\n",
       "    </tr>\n",
       "    <tr>\n",
       "      <th>8</th>\n",
       "      <td>20</td>\n",
       "      <td>2900000.0</td>\n",
       "      <td>33.16</td>\n",
       "      <td>2018-05-23</td>\n",
       "      <td>1</td>\n",
       "      <td>2.65</td>\n",
       "      <td>27.0</td>\n",
       "      <td>15.43</td>\n",
       "      <td>26</td>\n",
       "      <td>False</td>\n",
       "      <td>...</td>\n",
       "      <td>NaN</td>\n",
       "      <td>NaN</td>\n",
       "      <td>NaN</td>\n",
       "      <td>NaN</td>\n",
       "      <td>189.0</td>\n",
       "      <td>87454.764777</td>\n",
       "      <td>3</td>\n",
       "      <td>5</td>\n",
       "      <td>2018</td>\n",
       "      <td>другой</td>\n",
       "    </tr>\n",
       "  </tbody>\n",
       "</table>\n",
       "<p>5 rows × 27 columns</p>\n",
       "</div>"
      ],
      "text/plain": [
       "   total_images  last_price  total_area first_day_exposition  rooms  \\\n",
       "1             7   3350000.0       40.40           2018-12-04      1   \n",
       "2            10   5196000.0       56.00           2015-08-20      2   \n",
       "5            10   2890000.0       30.40           2018-09-10      1   \n",
       "6             6   3700000.0       37.30           2017-11-02      1   \n",
       "8            20   2900000.0       33.16           2018-05-23      1   \n",
       "\n",
       "   ceiling_height  floors_total  living_area  floor  is_apartment  ...  \\\n",
       "1            2.65          11.0        18.60      1         False  ...   \n",
       "2            2.65           5.0        34.30      4         False  ...   \n",
       "5            2.65          12.0        14.40      5         False  ...   \n",
       "6            2.65          26.0        10.60      6         False  ...   \n",
       "8            2.65          27.0        15.43     26         False  ...   \n",
       "\n",
       "   parks_around3000  parks_nearest  ponds_around3000  ponds_nearest  \\\n",
       "1               0.0            NaN               0.0            NaN   \n",
       "2               1.0           90.0               2.0          574.0   \n",
       "5               NaN            NaN               NaN            NaN   \n",
       "6               0.0            NaN               0.0            NaN   \n",
       "8               NaN            NaN               NaN            NaN   \n",
       "\n",
       "  days_exposition  price_for_sq_m  day_of_public  month_of_public  \\\n",
       "1            81.0    82920.792079              2               12   \n",
       "2           558.0    92785.714286              4                8   \n",
       "5            55.0    95065.789474              1                9   \n",
       "6           155.0    99195.710456              4               11   \n",
       "8           189.0    87454.764777              3                5   \n",
       "\n",
       "   year_of_public  type_of_floor  \n",
       "1            2018         первый  \n",
       "2            2015         другой  \n",
       "5            2018         другой  \n",
       "6            2017         другой  \n",
       "8            2018         другой  \n",
       "\n",
       "[5 rows x 27 columns]"
      ]
     },
     "execution_count": 188,
     "metadata": {},
     "output_type": "execute_result"
    }
   ],
   "source": [
    "#добавление столбца тип этажа квартиры (значения — «первый», «последний», «другой»)\n",
    "\n",
    "def type_of_floor(row):\n",
    "    if row['floor'] == 1:\n",
    "        return 'первый'\n",
    "    elif row['floor'] == row['floors_total']:\n",
    "        return 'последний'\n",
    "    else:\n",
    "        return 'другой'\n",
    "\n",
    "data_clear['type_of_floor'] = data_clear.apply(type_of_floor, axis=1)\n",
    "\n",
    "data_clear.head()"
   ]
  },
  {
   "cell_type": "code",
   "execution_count": 189,
   "id": "e99f7c74",
   "metadata": {},
   "outputs": [
    {
     "data": {
      "text/html": [
       "<div>\n",
       "<style scoped>\n",
       "    .dataframe tbody tr th:only-of-type {\n",
       "        vertical-align: middle;\n",
       "    }\n",
       "\n",
       "    .dataframe tbody tr th {\n",
       "        vertical-align: top;\n",
       "    }\n",
       "\n",
       "    .dataframe thead th {\n",
       "        text-align: right;\n",
       "    }\n",
       "</style>\n",
       "<table border=\"1\" class=\"dataframe\">\n",
       "  <thead>\n",
       "    <tr style=\"text-align: right;\">\n",
       "      <th></th>\n",
       "      <th>total_images</th>\n",
       "      <th>last_price</th>\n",
       "      <th>total_area</th>\n",
       "      <th>first_day_exposition</th>\n",
       "      <th>rooms</th>\n",
       "      <th>ceiling_height</th>\n",
       "      <th>floors_total</th>\n",
       "      <th>living_area</th>\n",
       "      <th>floor</th>\n",
       "      <th>is_apartment</th>\n",
       "      <th>...</th>\n",
       "      <th>parks_nearest</th>\n",
       "      <th>ponds_around3000</th>\n",
       "      <th>ponds_nearest</th>\n",
       "      <th>days_exposition</th>\n",
       "      <th>price_for_sq_m</th>\n",
       "      <th>day_of_public</th>\n",
       "      <th>month_of_public</th>\n",
       "      <th>year_of_public</th>\n",
       "      <th>type_of_floor</th>\n",
       "      <th>city_centre_distance_in_km</th>\n",
       "    </tr>\n",
       "  </thead>\n",
       "  <tbody>\n",
       "    <tr>\n",
       "      <th>1</th>\n",
       "      <td>7</td>\n",
       "      <td>3350000.0</td>\n",
       "      <td>40.40</td>\n",
       "      <td>2018-12-04</td>\n",
       "      <td>1</td>\n",
       "      <td>2.65</td>\n",
       "      <td>11.0</td>\n",
       "      <td>18.60</td>\n",
       "      <td>1</td>\n",
       "      <td>False</td>\n",
       "      <td>...</td>\n",
       "      <td>NaN</td>\n",
       "      <td>0.0</td>\n",
       "      <td>NaN</td>\n",
       "      <td>81.0</td>\n",
       "      <td>82920.792079</td>\n",
       "      <td>2</td>\n",
       "      <td>12</td>\n",
       "      <td>2018</td>\n",
       "      <td>первый</td>\n",
       "      <td>18.603</td>\n",
       "    </tr>\n",
       "    <tr>\n",
       "      <th>2</th>\n",
       "      <td>10</td>\n",
       "      <td>5196000.0</td>\n",
       "      <td>56.00</td>\n",
       "      <td>2015-08-20</td>\n",
       "      <td>2</td>\n",
       "      <td>2.65</td>\n",
       "      <td>5.0</td>\n",
       "      <td>34.30</td>\n",
       "      <td>4</td>\n",
       "      <td>False</td>\n",
       "      <td>...</td>\n",
       "      <td>90.0</td>\n",
       "      <td>2.0</td>\n",
       "      <td>574.0</td>\n",
       "      <td>558.0</td>\n",
       "      <td>92785.714286</td>\n",
       "      <td>4</td>\n",
       "      <td>8</td>\n",
       "      <td>2015</td>\n",
       "      <td>другой</td>\n",
       "      <td>13.933</td>\n",
       "    </tr>\n",
       "    <tr>\n",
       "      <th>5</th>\n",
       "      <td>10</td>\n",
       "      <td>2890000.0</td>\n",
       "      <td>30.40</td>\n",
       "      <td>2018-09-10</td>\n",
       "      <td>1</td>\n",
       "      <td>2.65</td>\n",
       "      <td>12.0</td>\n",
       "      <td>14.40</td>\n",
       "      <td>5</td>\n",
       "      <td>False</td>\n",
       "      <td>...</td>\n",
       "      <td>NaN</td>\n",
       "      <td>NaN</td>\n",
       "      <td>NaN</td>\n",
       "      <td>55.0</td>\n",
       "      <td>95065.789474</td>\n",
       "      <td>1</td>\n",
       "      <td>9</td>\n",
       "      <td>2018</td>\n",
       "      <td>другой</td>\n",
       "      <td>NaN</td>\n",
       "    </tr>\n",
       "    <tr>\n",
       "      <th>6</th>\n",
       "      <td>6</td>\n",
       "      <td>3700000.0</td>\n",
       "      <td>37.30</td>\n",
       "      <td>2017-11-02</td>\n",
       "      <td>1</td>\n",
       "      <td>2.65</td>\n",
       "      <td>26.0</td>\n",
       "      <td>10.60</td>\n",
       "      <td>6</td>\n",
       "      <td>False</td>\n",
       "      <td>...</td>\n",
       "      <td>NaN</td>\n",
       "      <td>0.0</td>\n",
       "      <td>NaN</td>\n",
       "      <td>155.0</td>\n",
       "      <td>99195.710456</td>\n",
       "      <td>4</td>\n",
       "      <td>11</td>\n",
       "      <td>2017</td>\n",
       "      <td>другой</td>\n",
       "      <td>19.143</td>\n",
       "    </tr>\n",
       "    <tr>\n",
       "      <th>8</th>\n",
       "      <td>20</td>\n",
       "      <td>2900000.0</td>\n",
       "      <td>33.16</td>\n",
       "      <td>2018-05-23</td>\n",
       "      <td>1</td>\n",
       "      <td>2.65</td>\n",
       "      <td>27.0</td>\n",
       "      <td>15.43</td>\n",
       "      <td>26</td>\n",
       "      <td>False</td>\n",
       "      <td>...</td>\n",
       "      <td>NaN</td>\n",
       "      <td>NaN</td>\n",
       "      <td>NaN</td>\n",
       "      <td>189.0</td>\n",
       "      <td>87454.764777</td>\n",
       "      <td>3</td>\n",
       "      <td>5</td>\n",
       "      <td>2018</td>\n",
       "      <td>другой</td>\n",
       "      <td>NaN</td>\n",
       "    </tr>\n",
       "  </tbody>\n",
       "</table>\n",
       "<p>5 rows × 28 columns</p>\n",
       "</div>"
      ],
      "text/plain": [
       "   total_images  last_price  total_area first_day_exposition  rooms  \\\n",
       "1             7   3350000.0       40.40           2018-12-04      1   \n",
       "2            10   5196000.0       56.00           2015-08-20      2   \n",
       "5            10   2890000.0       30.40           2018-09-10      1   \n",
       "6             6   3700000.0       37.30           2017-11-02      1   \n",
       "8            20   2900000.0       33.16           2018-05-23      1   \n",
       "\n",
       "   ceiling_height  floors_total  living_area  floor  is_apartment  ...  \\\n",
       "1            2.65          11.0        18.60      1         False  ...   \n",
       "2            2.65           5.0        34.30      4         False  ...   \n",
       "5            2.65          12.0        14.40      5         False  ...   \n",
       "6            2.65          26.0        10.60      6         False  ...   \n",
       "8            2.65          27.0        15.43     26         False  ...   \n",
       "\n",
       "   parks_nearest  ponds_around3000  ponds_nearest  days_exposition  \\\n",
       "1            NaN               0.0            NaN             81.0   \n",
       "2           90.0               2.0          574.0            558.0   \n",
       "5            NaN               NaN            NaN             55.0   \n",
       "6            NaN               0.0            NaN            155.0   \n",
       "8            NaN               NaN            NaN            189.0   \n",
       "\n",
       "  price_for_sq_m  day_of_public  month_of_public  year_of_public  \\\n",
       "1   82920.792079              2               12            2018   \n",
       "2   92785.714286              4                8            2015   \n",
       "5   95065.789474              1                9            2018   \n",
       "6   99195.710456              4               11            2017   \n",
       "8   87454.764777              3                5            2018   \n",
       "\n",
       "   type_of_floor  city_centre_distance_in_km  \n",
       "1         первый                      18.603  \n",
       "2         другой                      13.933  \n",
       "5         другой                         NaN  \n",
       "6         другой                      19.143  \n",
       "8         другой                         NaN  \n",
       "\n",
       "[5 rows x 28 columns]"
      ]
     },
     "execution_count": 189,
     "metadata": {},
     "output_type": "execute_result"
    }
   ],
   "source": [
    "#добавление столбца расстояние до центра города в километрах (переведите из м в км и округлите до целых значений).\n",
    "\n",
    "data_clear['city_centre_distance_in_km'] = data_clear['cityCenters_nearest'] / 1000\n",
    "data_clear.head()"
   ]
  },
  {
   "cell_type": "markdown",
   "id": "88c43e3c",
   "metadata": {},
   "source": [
    "## Шаг 4. Исследовательский анализ данных"
   ]
  },
  {
   "cell_type": "markdown",
   "id": "5677660f",
   "metadata": {},
   "source": [
    "#### Общая площадь"
   ]
  },
  {
   "cell_type": "code",
   "execution_count": 190,
   "id": "15e3a8ca",
   "metadata": {},
   "outputs": [
    {
     "data": {
      "text/plain": [
       "<AxesSubplot:title={'center':'Общая площадь'}, ylabel='Frequency'>"
      ]
     },
     "execution_count": 190,
     "metadata": {},
     "output_type": "execute_result"
    },
    {
     "data": {
      "image/png": "[encoded data removed]",
      "text/plain": [
       "<Figure size 432x288 with 1 Axes>"
      ]
     },
     "metadata": {
      "needs_background": "light"
     },
     "output_type": "display_data"
    }
   ],
   "source": [
    "#рассмотрим общую площадь\n",
    "\n",
    "data_clear['total_area'].plot(kind = 'hist', title = 'Общая площадь', grid = True, bins = 50, range = (0, 200))"
   ]
  },
  {
   "cell_type": "markdown",
   "id": "9bdaa548",
   "metadata": {},
   "source": [
    "* Больше всего продается квартир площадью 42-45 м.кв"
   ]
  },
  {
   "cell_type": "markdown",
   "id": "286a479f",
   "metadata": {},
   "source": [
    "#### Жилая площадь"
   ]
  },
  {
   "cell_type": "code",
   "execution_count": 191,
   "id": "277924d6",
   "metadata": {},
   "outputs": [
    {
     "data": {
      "text/plain": [
       "<AxesSubplot:title={'center':'Жилая площадь'}, ylabel='Frequency'>"
      ]
     },
     "execution_count": 191,
     "metadata": {},
     "output_type": "execute_result"
    },
    {
     "data": {
      "image/png": "[encoded data removed]",
      "text/plain": [
       "<Figure size 432x288 with 1 Axes>"
      ]
     },
     "metadata": {
      "needs_background": "light"
     },
     "output_type": "display_data"
    }
   ],
   "source": [
    "data_clear['living_area'].plot(kind = 'hist', title = 'Жилая площадь', grid = True, bins = 50, range = (0, 125))"
   ]
  },
  {
   "cell_type": "markdown",
   "id": "3bdbb598",
   "metadata": {},
   "source": [
    "* На диаграмме наблюдается 2 пика: 18 и 30 м.кв"
   ]
  },
  {
   "cell_type": "markdown",
   "id": "dedba3f2",
   "metadata": {},
   "source": [
    "#### Площадь кухни"
   ]
  },
  {
   "cell_type": "code",
   "execution_count": 192,
   "id": "911462fb",
   "metadata": {},
   "outputs": [
    {
     "data": {
      "text/plain": [
       "<AxesSubplot:title={'center':'Площадь кухни'}, ylabel='Frequency'>"
      ]
     },
     "execution_count": 192,
     "metadata": {},
     "output_type": "execute_result"
    },
    {
     "data": {
      "image/png": "[encoded data removed]",
      "text/plain": [
       "<Figure size 432x288 with 1 Axes>"
      ]
     },
     "metadata": {
      "needs_background": "light"
     },
     "output_type": "display_data"
    }
   ],
   "source": [
    "data_clear['kitchen_area'].plot(kind = 'hist', title = 'Площадь кухни', grid = True, bins = 50, range = (0, 20))"
   ]
  },
  {
   "cell_type": "markdown",
   "id": "546f9db2",
   "metadata": {},
   "source": [
    "* Наибольшее количество объектов имеет площадь кухни 9 м.кв"
   ]
  },
  {
   "cell_type": "markdown",
   "id": "b69348f6",
   "metadata": {},
   "source": [
    "#### Цена объекта"
   ]
  },
  {
   "cell_type": "code",
   "execution_count": 193,
   "id": "9513e187",
   "metadata": {},
   "outputs": [
    {
     "data": {
      "text/plain": [
       "<AxesSubplot:title={'center':'Цена объекта'}, ylabel='Frequency'>"
      ]
     },
     "execution_count": 193,
     "metadata": {},
     "output_type": "execute_result"
    },
    {
     "data": {
      "image/png": "[encoded data removed]",
      "text/plain": [
       "<Figure size 432x288 with 1 Axes>"
      ]
     },
     "metadata": {
      "needs_background": "light"
     },
     "output_type": "display_data"
    }
   ],
   "source": [
    "data_clear['last_price'].plot(kind = 'hist', title = 'Цена объекта', grid = True, bins = 50, range = (0, 30000000))"
   ]
  },
  {
   "cell_type": "markdown",
   "id": "b8329375",
   "metadata": {},
   "source": [
    "* Наибольшее количество объектов стоит 3-4 млн руб."
   ]
  },
  {
   "cell_type": "markdown",
   "id": "947a20bc",
   "metadata": {},
   "source": [
    "#### Количество комнат"
   ]
  },
  {
   "cell_type": "code",
   "execution_count": 194,
   "id": "d55c2069",
   "metadata": {},
   "outputs": [
    {
     "data": {
      "text/plain": [
       "<AxesSubplot:title={'center':'Количество комнат'}, ylabel='Frequency'>"
      ]
     },
     "execution_count": 194,
     "metadata": {},
     "output_type": "execute_result"
    },
    {
     "data": {
      "image/png": "[encoded data removed]",
      "text/plain": [
       "<Figure size 432x288 with 1 Axes>"
      ]
     },
     "metadata": {
      "needs_background": "light"
     },
     "output_type": "display_data"
    }
   ],
   "source": [
    "data_clear['rooms'].plot(kind = 'hist', title = 'Количество комнат', grid = True, bins = 5, range = (0, 5))"
   ]
  },
  {
   "cell_type": "markdown",
   "id": "55275d5f",
   "metadata": {},
   "source": [
    "* В основном количество комнат в объектах - 1 или 2 комнаты"
   ]
  },
  {
   "cell_type": "markdown",
   "id": "1cc7eb97",
   "metadata": {},
   "source": [
    "#### Высота потолков"
   ]
  },
  {
   "cell_type": "code",
   "execution_count": 195,
   "id": "76a4a7c7",
   "metadata": {},
   "outputs": [
    {
     "data": {
      "text/plain": [
       "<AxesSubplot:title={'center':'Высота потолков'}, ylabel='Frequency'>"
      ]
     },
     "execution_count": 195,
     "metadata": {},
     "output_type": "execute_result"
    },
    {
     "data": {
      "image/png": "[encoded data removed]",
      "text/plain": [
       "<Figure size 432x288 with 1 Axes>"
      ]
     },
     "metadata": {
      "needs_background": "light"
     },
     "output_type": "display_data"
    }
   ],
   "source": [
    "data_clear['ceiling_height'].plot(kind = 'hist', title = 'Высота потолков', grid = True, bins = 50, range = (2, 5))"
   ]
  },
  {
   "cell_type": "markdown",
   "id": "805513cd",
   "metadata": {},
   "source": [
    "* В основном высота потолков составляет 2,6 м."
   ]
  },
  {
   "cell_type": "markdown",
   "id": "620dc777",
   "metadata": {},
   "source": [
    "#### Этаж квартиры"
   ]
  },
  {
   "cell_type": "code",
   "execution_count": 196,
   "id": "cd3af0f1",
   "metadata": {},
   "outputs": [
    {
     "data": {
      "text/plain": [
       "<AxesSubplot:title={'center':'Этаж квартиры'}, ylabel='Frequency'>"
      ]
     },
     "execution_count": 196,
     "metadata": {},
     "output_type": "execute_result"
    },
    {
     "data": {
      "image/png": "[encoded data removed]",
      "text/plain": [
       "<Figure size 432x288 with 1 Axes>"
      ]
     },
     "metadata": {
      "needs_background": "light"
     },
     "output_type": "display_data"
    }
   ],
   "source": [
    "data_clear['floor'].plot(kind = 'hist', title = 'Этаж квартиры', grid = True, bins = 25, range = (0, 25))"
   ]
  },
  {
   "cell_type": "markdown",
   "id": "813a4421",
   "metadata": {},
   "source": [
    "* В основном квартиры располагаются на 3 этаже"
   ]
  },
  {
   "cell_type": "markdown",
   "id": "99ab076c",
   "metadata": {},
   "source": [
    "#### Тип этажа квартиры"
   ]
  },
  {
   "cell_type": "code",
   "execution_count": 197,
   "id": "e7c65f39",
   "metadata": {},
   "outputs": [
    {
     "data": {
      "text/plain": [
       "<AxesSubplot:title={'center':'Тип этажа квартиры'}, xlabel='type_of_floor'>"
      ]
     },
     "execution_count": 197,
     "metadata": {},
     "output_type": "execute_result"
    },
    {
     "data": {
      "image/png": "[encoded data removed]",
      "text/plain": [
       "<Figure size 432x288 with 1 Axes>"
      ]
     },
     "metadata": {
      "needs_background": "light"
     },
     "output_type": "display_data"
    }
   ],
   "source": [
    "data_clear.groupby('type_of_floor')['type_of_floor'].count().plot(kind = 'bar', title = 'Тип этажа квартиры', grid = True)"
   ]
  },
  {
   "cell_type": "markdown",
   "id": "122e4598",
   "metadata": {},
   "source": [
    "* Меньше всего объектов располагается на 1 этаже. Затем с небольшим опережением идет количество квартир на последнем этаже. \n",
    "Наибольшую же часть занимают объекты, которые не попадают в эти категории. "
   ]
  },
  {
   "cell_type": "markdown",
   "id": "4fb0c094",
   "metadata": {},
   "source": [
    "#### Общее количество этажей в доме"
   ]
  },
  {
   "cell_type": "code",
   "execution_count": 198,
   "id": "c7167c05",
   "metadata": {},
   "outputs": [
    {
     "data": {
      "text/plain": [
       "<AxesSubplot:title={'center':'Общее количество этажей в доме'}, ylabel='Frequency'>"
      ]
     },
     "execution_count": 198,
     "metadata": {},
     "output_type": "execute_result"
    },
    {
     "data": {
      "image/png": "[encoded data removed]",
      "text/plain": [
       "<Figure size 432x288 with 1 Axes>"
      ]
     },
     "metadata": {
      "needs_background": "light"
     },
     "output_type": "display_data"
    }
   ],
   "source": [
    "data_clear['floors_total'].plot(kind = 'hist', title = 'Общее количество этажей в доме', grid = True, bins = 50, range = (0, 40))"
   ]
  },
  {
   "cell_type": "markdown",
   "id": "52127926",
   "metadata": {},
   "source": [
    "* В основном в домах встречается 5 этажей"
   ]
  },
  {
   "cell_type": "markdown",
   "id": "e5d62435",
   "metadata": {},
   "source": [
    "#### Расстояние до центра города в метрах\n",
    "\n"
   ]
  },
  {
   "cell_type": "code",
   "execution_count": 199,
   "id": "b6c99b89",
   "metadata": {},
   "outputs": [
    {
     "data": {
      "text/plain": [
       "<AxesSubplot:title={'center':'Расстояние до центра города в метрах'}, ylabel='Frequency'>"
      ]
     },
     "execution_count": 199,
     "metadata": {},
     "output_type": "execute_result"
    },
    {
     "data": {
      "image/png": "[encoded data removed]",
      "text/plain": [
       "<Figure size 432x288 with 1 Axes>"
      ]
     },
     "metadata": {
      "needs_background": "light"
     },
     "output_type": "display_data"
    }
   ],
   "source": [
    "data_clear['cityCenters_nearest'].plot(kind = 'hist', title = 'Расстояние до центра города в метрах', grid = True, bins = 100, range = (0, 60000))"
   ]
  },
  {
   "cell_type": "markdown",
   "id": "d33954c9",
   "metadata": {},
   "source": [
    "* В основном до центра города примерно 15 000 метров (не более 20 000 метров)"
   ]
  },
  {
   "cell_type": "markdown",
   "id": "49ce3ffd",
   "metadata": {},
   "source": [
    "#### Расстояние до ближайшего аэропорта"
   ]
  },
  {
   "cell_type": "code",
   "execution_count": 200,
   "id": "c9bc8855",
   "metadata": {},
   "outputs": [
    {
     "data": {
      "text/plain": [
       "<AxesSubplot:title={'center':'Расстояние до ближайшего аэропорта'}, ylabel='Frequency'>"
      ]
     },
     "execution_count": 200,
     "metadata": {},
     "output_type": "execute_result"
    },
    {
     "data": {
      "image/png": "[encoded data removed]",
      "text/plain": [
       "<Figure size 432x288 with 1 Axes>"
      ]
     },
     "metadata": {
      "needs_background": "light"
     },
     "output_type": "display_data"
    }
   ],
   "source": [
    "data_clear['airports_nearest'].plot(kind = 'hist', title = 'Расстояние до ближайшего аэропорта', grid = True, bins = 50, range = (0, 60000))"
   ]
  },
  {
   "cell_type": "markdown",
   "id": "56d90f84",
   "metadata": {},
   "source": [
    "Наблюдается несколько пиков: от 15 000 метров до 25 000 метров.  \n"
   ]
  },
  {
   "cell_type": "markdown",
   "id": "91c9875d",
   "metadata": {},
   "source": [
    "#### Расстояние до ближайшего парка"
   ]
  },
  {
   "cell_type": "code",
   "execution_count": 201,
   "id": "0e743266",
   "metadata": {},
   "outputs": [
    {
     "data": {
      "text/plain": [
       "<AxesSubplot:title={'center':'Расстояние до ближайшего парка'}, ylabel='Frequency'>"
      ]
     },
     "execution_count": 201,
     "metadata": {},
     "output_type": "execute_result"
    },
    {
     "data": {
      "image/png": "[encoded data removed]",
      "text/plain": [
       "<Figure size 432x288 with 1 Axes>"
      ]
     },
     "metadata": {
      "needs_background": "light"
     },
     "output_type": "display_data"
    }
   ],
   "source": [
    "data_clear['parks_nearest'].plot(kind = 'hist', title = 'Расстояние до ближайшего парка', grid = True, bins = 50, range = (0, 2000))"
   ]
  },
  {
   "cell_type": "markdown",
   "id": "a440d3ff",
   "metadata": {},
   "source": [
    "* В основном до ближайшего парка не более 500 метров"
   ]
  },
  {
   "cell_type": "markdown",
   "id": "09f5acf6",
   "metadata": {},
   "source": [
    "#### День и месяц публикации объявления"
   ]
  },
  {
   "cell_type": "code",
   "execution_count": 202,
   "id": "92f0caf9",
   "metadata": {},
   "outputs": [
    {
     "data": {
      "text/plain": [
       "<AxesSubplot:title={'center':'День публикации объявления'}, ylabel='Frequency'>"
      ]
     },
     "execution_count": 202,
     "metadata": {},
     "output_type": "execute_result"
    },
    {
     "data": {
      "image/png": "[encoded data removed]",
      "text/plain": [
       "<Figure size 432x288 with 1 Axes>"
      ]
     },
     "metadata": {
      "needs_background": "light"
     },
     "output_type": "display_data"
    }
   ],
   "source": [
    "data_clear['day_of_public'].plot(kind = 'hist', title = 'День публикации объявления', grid = True, bins = 50, range = (1, 7))"
   ]
  },
  {
   "cell_type": "markdown",
   "id": "a651038c",
   "metadata": {},
   "source": [
    "* В основном люди публикуют объявления в четверг и во вторник. В будний день активность намного больше, чем в выходной день."
   ]
  },
  {
   "cell_type": "code",
   "execution_count": 203,
   "id": "c832c526",
   "metadata": {},
   "outputs": [
    {
     "data": {
      "text/plain": [
       "<AxesSubplot:title={'center':'Месяц публикации объявления'}, ylabel='Frequency'>"
      ]
     },
     "execution_count": 203,
     "metadata": {},
     "output_type": "execute_result"
    },
    {
     "data": {
      "image/png": "[encoded data removed]",
      "text/plain": [
       "<Figure size 432x288 with 1 Axes>"
      ]
     },
     "metadata": {
      "needs_background": "light"
     },
     "output_type": "display_data"
    }
   ],
   "source": [
    "data_clear['month_of_public'].plot(kind = 'hist', title = 'Месяц публикации объявления', grid = True, bins = 50, range = (1, 12))"
   ]
  },
  {
   "cell_type": "markdown",
   "id": "16502679",
   "metadata": {},
   "source": [
    "* В основном люди публикуют объявления в первом квартале года. Наблюдается пик активности в феврале, затем в марте и апреле. "
   ]
  },
  {
   "cell_type": "markdown",
   "id": "35216142",
   "metadata": {},
   "source": [
    "#### Количество дней до продажи квартиры"
   ]
  },
  {
   "cell_type": "code",
   "execution_count": 204,
   "id": "5e9248bb",
   "metadata": {},
   "outputs": [
    {
     "data": {
      "text/plain": [
       "count    18774.000000\n",
       "mean       172.419410\n",
       "std        210.002748\n",
       "min          1.000000\n",
       "25%         44.000000\n",
       "50%         91.000000\n",
       "75%        218.750000\n",
       "max       1580.000000\n",
       "Name: days_exposition, dtype: float64"
      ]
     },
     "execution_count": 204,
     "metadata": {},
     "output_type": "execute_result"
    },
    {
     "data": {
      "image/png": "[encoded data removed]",
      "text/plain": [
       "<Figure size 432x288 with 1 Axes>"
      ]
     },
     "metadata": {
      "needs_background": "light"
     },
     "output_type": "display_data"
    }
   ],
   "source": [
    "data_clear['days_exposition'].plot(kind = 'hist', grid = True, title = 'Количество дней до продажи квартиры')\n",
    "\n",
    "data_clear['days_exposition'].describe()"
   ]
  },
  {
   "cell_type": "markdown",
   "id": "cf2ed3ff",
   "metadata": {},
   "source": [
    "* В основном квартиры продавались не более чем за 200 дней\n",
    "* При этом среднее значение дней продажи составляет 162 дня. \n",
    "* Медианное значение среднего количнества дней продажи квартиры составляет 95 дней.\n",
    "* Самая короткая продажа квартиры занимала 1 день, а самая длинная - 1580 дней. \n"
   ]
  },
  {
   "cell_type": "code",
   "execution_count": 205,
   "id": "4191016d",
   "metadata": {},
   "outputs": [
    {
     "data": {
      "text/plain": [
       "<AxesSubplot:>"
      ]
     },
     "execution_count": 205,
     "metadata": {},
     "output_type": "execute_result"
    },
    {
     "data": {
      "image/png": "[encoded data removed]",
      "text/plain": [
       "<Figure size 432x288 with 1 Axes>"
      ]
     },
     "metadata": {
      "needs_background": "light"
     },
     "output_type": "display_data"
    }
   ],
   "source": [
    "plt.ylim(0, 450)\n",
    "data_clear.boxplot('days_exposition')"
   ]
  },
  {
   "cell_type": "markdown",
   "id": "98a8ca12",
   "metadata": {},
   "source": [
    "На графике видно, что в среднем квартиры продаются примерно за 90 дней, \n",
    "\n",
    "Все значения выше 420 дней попадают под выбросы (как 1,5 интервала от Q3), в связи с чем можно избавиться от этих выбросов. Можно считать, что продажи выше этого срока - необычайно долгие"
   ]
  },
  {
   "cell_type": "code",
   "execution_count": 206,
   "id": "fbb37635",
   "metadata": {},
   "outputs": [
    {
     "data": {
      "text/html": [
       "<div>\n",
       "<style scoped>\n",
       "    .dataframe tbody tr th:only-of-type {\n",
       "        vertical-align: middle;\n",
       "    }\n",
       "\n",
       "    .dataframe tbody tr th {\n",
       "        vertical-align: top;\n",
       "    }\n",
       "\n",
       "    .dataframe thead th {\n",
       "        text-align: right;\n",
       "    }\n",
       "</style>\n",
       "<table border=\"1\" class=\"dataframe\">\n",
       "  <thead>\n",
       "    <tr style=\"text-align: right;\">\n",
       "      <th></th>\n",
       "      <th>total_images</th>\n",
       "      <th>last_price</th>\n",
       "      <th>total_area</th>\n",
       "      <th>first_day_exposition</th>\n",
       "      <th>rooms</th>\n",
       "      <th>ceiling_height</th>\n",
       "      <th>floors_total</th>\n",
       "      <th>living_area</th>\n",
       "      <th>floor</th>\n",
       "      <th>is_apartment</th>\n",
       "      <th>...</th>\n",
       "      <th>parks_nearest</th>\n",
       "      <th>ponds_around3000</th>\n",
       "      <th>ponds_nearest</th>\n",
       "      <th>days_exposition</th>\n",
       "      <th>price_for_sq_m</th>\n",
       "      <th>day_of_public</th>\n",
       "      <th>month_of_public</th>\n",
       "      <th>year_of_public</th>\n",
       "      <th>type_of_floor</th>\n",
       "      <th>city_centre_distance_in_km</th>\n",
       "    </tr>\n",
       "  </thead>\n",
       "  <tbody>\n",
       "    <tr>\n",
       "      <th>1</th>\n",
       "      <td>7</td>\n",
       "      <td>3350000.0</td>\n",
       "      <td>40.40</td>\n",
       "      <td>2018-12-04</td>\n",
       "      <td>1</td>\n",
       "      <td>2.65</td>\n",
       "      <td>11.0</td>\n",
       "      <td>18.60</td>\n",
       "      <td>1</td>\n",
       "      <td>False</td>\n",
       "      <td>...</td>\n",
       "      <td>NaN</td>\n",
       "      <td>0.0</td>\n",
       "      <td>NaN</td>\n",
       "      <td>81.0</td>\n",
       "      <td>82920.792079</td>\n",
       "      <td>2</td>\n",
       "      <td>12</td>\n",
       "      <td>2018</td>\n",
       "      <td>первый</td>\n",
       "      <td>18.603</td>\n",
       "    </tr>\n",
       "    <tr>\n",
       "      <th>5</th>\n",
       "      <td>10</td>\n",
       "      <td>2890000.0</td>\n",
       "      <td>30.40</td>\n",
       "      <td>2018-09-10</td>\n",
       "      <td>1</td>\n",
       "      <td>2.65</td>\n",
       "      <td>12.0</td>\n",
       "      <td>14.40</td>\n",
       "      <td>5</td>\n",
       "      <td>False</td>\n",
       "      <td>...</td>\n",
       "      <td>NaN</td>\n",
       "      <td>NaN</td>\n",
       "      <td>NaN</td>\n",
       "      <td>55.0</td>\n",
       "      <td>95065.789474</td>\n",
       "      <td>1</td>\n",
       "      <td>9</td>\n",
       "      <td>2018</td>\n",
       "      <td>другой</td>\n",
       "      <td>NaN</td>\n",
       "    </tr>\n",
       "    <tr>\n",
       "      <th>6</th>\n",
       "      <td>6</td>\n",
       "      <td>3700000.0</td>\n",
       "      <td>37.30</td>\n",
       "      <td>2017-11-02</td>\n",
       "      <td>1</td>\n",
       "      <td>2.65</td>\n",
       "      <td>26.0</td>\n",
       "      <td>10.60</td>\n",
       "      <td>6</td>\n",
       "      <td>False</td>\n",
       "      <td>...</td>\n",
       "      <td>NaN</td>\n",
       "      <td>0.0</td>\n",
       "      <td>NaN</td>\n",
       "      <td>155.0</td>\n",
       "      <td>99195.710456</td>\n",
       "      <td>4</td>\n",
       "      <td>11</td>\n",
       "      <td>2017</td>\n",
       "      <td>другой</td>\n",
       "      <td>19.143</td>\n",
       "    </tr>\n",
       "    <tr>\n",
       "      <th>8</th>\n",
       "      <td>20</td>\n",
       "      <td>2900000.0</td>\n",
       "      <td>33.16</td>\n",
       "      <td>2018-05-23</td>\n",
       "      <td>1</td>\n",
       "      <td>2.65</td>\n",
       "      <td>27.0</td>\n",
       "      <td>15.43</td>\n",
       "      <td>26</td>\n",
       "      <td>False</td>\n",
       "      <td>...</td>\n",
       "      <td>NaN</td>\n",
       "      <td>NaN</td>\n",
       "      <td>NaN</td>\n",
       "      <td>189.0</td>\n",
       "      <td>87454.764777</td>\n",
       "      <td>3</td>\n",
       "      <td>5</td>\n",
       "      <td>2018</td>\n",
       "      <td>другой</td>\n",
       "      <td>NaN</td>\n",
       "    </tr>\n",
       "    <tr>\n",
       "      <th>9</th>\n",
       "      <td>18</td>\n",
       "      <td>5400000.0</td>\n",
       "      <td>61.00</td>\n",
       "      <td>2017-02-26</td>\n",
       "      <td>3</td>\n",
       "      <td>2.50</td>\n",
       "      <td>9.0</td>\n",
       "      <td>43.60</td>\n",
       "      <td>7</td>\n",
       "      <td>False</td>\n",
       "      <td>...</td>\n",
       "      <td>NaN</td>\n",
       "      <td>0.0</td>\n",
       "      <td>NaN</td>\n",
       "      <td>289.0</td>\n",
       "      <td>88524.590164</td>\n",
       "      <td>7</td>\n",
       "      <td>2</td>\n",
       "      <td>2017</td>\n",
       "      <td>другой</td>\n",
       "      <td>15.008</td>\n",
       "    </tr>\n",
       "    <tr>\n",
       "      <th>...</th>\n",
       "      <td>...</td>\n",
       "      <td>...</td>\n",
       "      <td>...</td>\n",
       "      <td>...</td>\n",
       "      <td>...</td>\n",
       "      <td>...</td>\n",
       "      <td>...</td>\n",
       "      <td>...</td>\n",
       "      <td>...</td>\n",
       "      <td>...</td>\n",
       "      <td>...</td>\n",
       "      <td>...</td>\n",
       "      <td>...</td>\n",
       "      <td>...</td>\n",
       "      <td>...</td>\n",
       "      <td>...</td>\n",
       "      <td>...</td>\n",
       "      <td>...</td>\n",
       "      <td>...</td>\n",
       "      <td>...</td>\n",
       "      <td>...</td>\n",
       "    </tr>\n",
       "    <tr>\n",
       "      <th>23689</th>\n",
       "      <td>13</td>\n",
       "      <td>3550000.0</td>\n",
       "      <td>35.30</td>\n",
       "      <td>2018-02-28</td>\n",
       "      <td>1</td>\n",
       "      <td>2.86</td>\n",
       "      <td>15.0</td>\n",
       "      <td>16.30</td>\n",
       "      <td>4</td>\n",
       "      <td>False</td>\n",
       "      <td>...</td>\n",
       "      <td>353.0</td>\n",
       "      <td>2.0</td>\n",
       "      <td>652.0</td>\n",
       "      <td>29.0</td>\n",
       "      <td>100566.572238</td>\n",
       "      <td>3</td>\n",
       "      <td>2</td>\n",
       "      <td>2018</td>\n",
       "      <td>другой</td>\n",
       "      <td>16.081</td>\n",
       "    </tr>\n",
       "    <tr>\n",
       "      <th>23690</th>\n",
       "      <td>3</td>\n",
       "      <td>5500000.0</td>\n",
       "      <td>52.00</td>\n",
       "      <td>2018-07-19</td>\n",
       "      <td>2</td>\n",
       "      <td>2.65</td>\n",
       "      <td>5.0</td>\n",
       "      <td>31.00</td>\n",
       "      <td>2</td>\n",
       "      <td>False</td>\n",
       "      <td>...</td>\n",
       "      <td>300.0</td>\n",
       "      <td>0.0</td>\n",
       "      <td>NaN</td>\n",
       "      <td>15.0</td>\n",
       "      <td>105769.230769</td>\n",
       "      <td>4</td>\n",
       "      <td>7</td>\n",
       "      <td>2018</td>\n",
       "      <td>другой</td>\n",
       "      <td>6.263</td>\n",
       "    </tr>\n",
       "    <tr>\n",
       "      <th>23692</th>\n",
       "      <td>2</td>\n",
       "      <td>1350000.0</td>\n",
       "      <td>30.00</td>\n",
       "      <td>2017-07-07</td>\n",
       "      <td>1</td>\n",
       "      <td>2.65</td>\n",
       "      <td>5.0</td>\n",
       "      <td>17.50</td>\n",
       "      <td>4</td>\n",
       "      <td>False</td>\n",
       "      <td>...</td>\n",
       "      <td>NaN</td>\n",
       "      <td>NaN</td>\n",
       "      <td>NaN</td>\n",
       "      <td>413.0</td>\n",
       "      <td>45000.000000</td>\n",
       "      <td>5</td>\n",
       "      <td>7</td>\n",
       "      <td>2017</td>\n",
       "      <td>другой</td>\n",
       "      <td>NaN</td>\n",
       "    </tr>\n",
       "    <tr>\n",
       "      <th>23693</th>\n",
       "      <td>9</td>\n",
       "      <td>4600000.0</td>\n",
       "      <td>62.40</td>\n",
       "      <td>2016-08-05</td>\n",
       "      <td>3</td>\n",
       "      <td>2.60</td>\n",
       "      <td>9.0</td>\n",
       "      <td>40.00</td>\n",
       "      <td>8</td>\n",
       "      <td>False</td>\n",
       "      <td>...</td>\n",
       "      <td>352.0</td>\n",
       "      <td>1.0</td>\n",
       "      <td>675.0</td>\n",
       "      <td>239.0</td>\n",
       "      <td>73717.948718</td>\n",
       "      <td>5</td>\n",
       "      <td>8</td>\n",
       "      <td>2016</td>\n",
       "      <td>другой</td>\n",
       "      <td>34.104</td>\n",
       "    </tr>\n",
       "    <tr>\n",
       "      <th>23695</th>\n",
       "      <td>14</td>\n",
       "      <td>3100000.0</td>\n",
       "      <td>59.00</td>\n",
       "      <td>2018-01-15</td>\n",
       "      <td>3</td>\n",
       "      <td>2.65</td>\n",
       "      <td>5.0</td>\n",
       "      <td>38.00</td>\n",
       "      <td>4</td>\n",
       "      <td>False</td>\n",
       "      <td>...</td>\n",
       "      <td>NaN</td>\n",
       "      <td>NaN</td>\n",
       "      <td>NaN</td>\n",
       "      <td>45.0</td>\n",
       "      <td>52542.372881</td>\n",
       "      <td>1</td>\n",
       "      <td>1</td>\n",
       "      <td>2018</td>\n",
       "      <td>другой</td>\n",
       "      <td>NaN</td>\n",
       "    </tr>\n",
       "  </tbody>\n",
       "</table>\n",
       "<p>16736 rows × 28 columns</p>\n",
       "</div>"
      ],
      "text/plain": [
       "       total_images  last_price  total_area first_day_exposition  rooms  \\\n",
       "1                 7   3350000.0       40.40           2018-12-04      1   \n",
       "5                10   2890000.0       30.40           2018-09-10      1   \n",
       "6                 6   3700000.0       37.30           2017-11-02      1   \n",
       "8                20   2900000.0       33.16           2018-05-23      1   \n",
       "9                18   5400000.0       61.00           2017-02-26      3   \n",
       "...             ...         ...         ...                  ...    ...   \n",
       "23689            13   3550000.0       35.30           2018-02-28      1   \n",
       "23690             3   5500000.0       52.00           2018-07-19      2   \n",
       "23692             2   1350000.0       30.00           2017-07-07      1   \n",
       "23693             9   4600000.0       62.40           2016-08-05      3   \n",
       "23695            14   3100000.0       59.00           2018-01-15      3   \n",
       "\n",
       "       ceiling_height  floors_total  living_area  floor  is_apartment  ...  \\\n",
       "1                2.65          11.0        18.60      1         False  ...   \n",
       "5                2.65          12.0        14.40      5         False  ...   \n",
       "6                2.65          26.0        10.60      6         False  ...   \n",
       "8                2.65          27.0        15.43     26         False  ...   \n",
       "9                2.50           9.0        43.60      7         False  ...   \n",
       "...               ...           ...          ...    ...           ...  ...   \n",
       "23689            2.86          15.0        16.30      4         False  ...   \n",
       "23690            2.65           5.0        31.00      2         False  ...   \n",
       "23692            2.65           5.0        17.50      4         False  ...   \n",
       "23693            2.60           9.0        40.00      8         False  ...   \n",
       "23695            2.65           5.0        38.00      4         False  ...   \n",
       "\n",
       "       parks_nearest  ponds_around3000  ponds_nearest  days_exposition  \\\n",
       "1                NaN               0.0            NaN             81.0   \n",
       "5                NaN               NaN            NaN             55.0   \n",
       "6                NaN               0.0            NaN            155.0   \n",
       "8                NaN               NaN            NaN            189.0   \n",
       "9                NaN               0.0            NaN            289.0   \n",
       "...              ...               ...            ...              ...   \n",
       "23689          353.0               2.0          652.0             29.0   \n",
       "23690          300.0               0.0            NaN             15.0   \n",
       "23692            NaN               NaN            NaN            413.0   \n",
       "23693          352.0               1.0          675.0            239.0   \n",
       "23695            NaN               NaN            NaN             45.0   \n",
       "\n",
       "      price_for_sq_m  day_of_public  month_of_public  year_of_public  \\\n",
       "1       82920.792079              2               12            2018   \n",
       "5       95065.789474              1                9            2018   \n",
       "6       99195.710456              4               11            2017   \n",
       "8       87454.764777              3                5            2018   \n",
       "9       88524.590164              7                2            2017   \n",
       "...              ...            ...              ...             ...   \n",
       "23689  100566.572238              3                2            2018   \n",
       "23690  105769.230769              4                7            2018   \n",
       "23692   45000.000000              5                7            2017   \n",
       "23693   73717.948718              5                8            2016   \n",
       "23695   52542.372881              1                1            2018   \n",
       "\n",
       "       type_of_floor  city_centre_distance_in_km  \n",
       "1             первый                      18.603  \n",
       "5             другой                         NaN  \n",
       "6             другой                      19.143  \n",
       "8             другой                         NaN  \n",
       "9             другой                      15.008  \n",
       "...              ...                         ...  \n",
       "23689         другой                      16.081  \n",
       "23690         другой                       6.263  \n",
       "23692         другой                         NaN  \n",
       "23693         другой                      34.104  \n",
       "23695         другой                         NaN  \n",
       "\n",
       "[16736 rows x 28 columns]"
      ]
     },
     "execution_count": 206,
     "metadata": {},
     "output_type": "execute_result"
    }
   ],
   "source": [
    "data_clear = data_clear.query('days_exposition < 420')\n",
    "data_clear"
   ]
  },
  {
   "cell_type": "code",
   "execution_count": 231,
   "id": "96ad44f5",
   "metadata": {},
   "outputs": [
    {
     "data": {
      "text/plain": [
       "<AxesSubplot:>"
      ]
     },
     "execution_count": 231,
     "metadata": {},
     "output_type": "execute_result"
    },
    {
     "data": {
      "image/png": "[encoded data removed]",
      "text/plain": [
       "<Figure size 432x288 with 1 Axes>"
      ]
     },
     "metadata": {
      "needs_background": "light"
     },
     "output_type": "display_data"
    }
   ],
   "source": [
    "data_clear.boxplot('days_exposition')"
   ]
  },
  {
   "cell_type": "markdown",
   "id": "6233e794",
   "metadata": {},
   "source": [
    "Самые быстрые продажи - 1 день. Можно сказать также, что 25% всей выборки успевают продать квартиры за 38 дней. \n",
    "А вот все что находится после 350 - уже выбросы. "
   ]
  },
  {
   "cell_type": "code",
   "execution_count": 229,
   "id": "94adbda4",
   "metadata": {},
   "outputs": [
    {
     "data": {
      "text/plain": [
       "count    16736.000000\n",
       "mean       112.562799\n",
       "std        101.392302\n",
       "min          1.000000\n",
       "25%         38.000000\n",
       "50%         76.000000\n",
       "75%        163.000000\n",
       "max        419.000000\n",
       "Name: days_exposition, dtype: float64"
      ]
     },
     "execution_count": 229,
     "metadata": {},
     "output_type": "execute_result"
    }
   ],
   "source": [
    "data_clear['days_exposition'].describe()"
   ]
  },
  {
   "cell_type": "code",
   "execution_count": 238,
   "id": "bf484620",
   "metadata": {},
   "outputs": [
    {
     "data": {
      "text/plain": [
       "<AxesSubplot:ylabel='Frequency'>"
      ]
     },
     "execution_count": 238,
     "metadata": {},
     "output_type": "execute_result"
    },
    {
     "data": {
      "image/png": "[encoded data removed]",
      "text/plain": [
       "<Figure size 432x288 with 1 Axes>"
      ]
     },
     "metadata": {
      "needs_background": "light"
     },
     "output_type": "display_data"
    }
   ],
   "source": [
    "data_clear['days_exposition'].plot(kind = 'hist', range = (0, 100))"
   ]
  },
  {
   "cell_type": "markdown",
   "id": "b24ecaaa",
   "metadata": {},
   "source": [
    "Чаще всего продажи происходят на 40-50 день после выкладывания объявления"
   ]
  },
  {
   "cell_type": "markdown",
   "id": "8b4bd2b3",
   "metadata": {},
   "source": [
    "#### Нахождение зависимости на общую (полную) стоимость объекта"
   ]
  },
  {
   "cell_type": "markdown",
   "id": "a6283b4a",
   "metadata": {},
   "source": [
    "Отберем столбцы, которые будут участвовать в исследовании:\n",
    "* полная стоимость;\n",
    "* общая площадь;\n",
    "* жилая площадь;\n",
    "* площадь кухни;\n",
    "* количество комнат;\n",
    "* этаж, на котором расположена квартира (первый, последний, другой);\n",
    "* дата размещения (день недели, месяц, год)."
   ]
  },
  {
   "cell_type": "code",
   "execution_count": 207,
   "id": "b1196a5b",
   "metadata": {},
   "outputs": [
    {
     "data": {
      "text/html": [
       "<div>\n",
       "<style scoped>\n",
       "    .dataframe tbody tr th:only-of-type {\n",
       "        vertical-align: middle;\n",
       "    }\n",
       "\n",
       "    .dataframe tbody tr th {\n",
       "        vertical-align: top;\n",
       "    }\n",
       "\n",
       "    .dataframe thead th {\n",
       "        text-align: right;\n",
       "    }\n",
       "</style>\n",
       "<table border=\"1\" class=\"dataframe\">\n",
       "  <thead>\n",
       "    <tr style=\"text-align: right;\">\n",
       "      <th></th>\n",
       "      <th>last_price</th>\n",
       "      <th>total_area</th>\n",
       "      <th>living_area</th>\n",
       "      <th>kitchen_area</th>\n",
       "      <th>rooms</th>\n",
       "      <th>type_of_floor</th>\n",
       "      <th>day_of_public</th>\n",
       "      <th>month_of_public</th>\n",
       "      <th>year_of_public</th>\n",
       "    </tr>\n",
       "  </thead>\n",
       "  <tbody>\n",
       "    <tr>\n",
       "      <th>0</th>\n",
       "      <td>3350000.0</td>\n",
       "      <td>40.40</td>\n",
       "      <td>18.60</td>\n",
       "      <td>11.00</td>\n",
       "      <td>1</td>\n",
       "      <td>первый</td>\n",
       "      <td>2</td>\n",
       "      <td>12</td>\n",
       "      <td>2018</td>\n",
       "    </tr>\n",
       "    <tr>\n",
       "      <th>1</th>\n",
       "      <td>2890000.0</td>\n",
       "      <td>30.40</td>\n",
       "      <td>14.40</td>\n",
       "      <td>9.10</td>\n",
       "      <td>1</td>\n",
       "      <td>другой</td>\n",
       "      <td>1</td>\n",
       "      <td>9</td>\n",
       "      <td>2018</td>\n",
       "    </tr>\n",
       "    <tr>\n",
       "      <th>2</th>\n",
       "      <td>3700000.0</td>\n",
       "      <td>37.30</td>\n",
       "      <td>10.60</td>\n",
       "      <td>14.40</td>\n",
       "      <td>1</td>\n",
       "      <td>другой</td>\n",
       "      <td>4</td>\n",
       "      <td>11</td>\n",
       "      <td>2017</td>\n",
       "    </tr>\n",
       "    <tr>\n",
       "      <th>3</th>\n",
       "      <td>2900000.0</td>\n",
       "      <td>33.16</td>\n",
       "      <td>15.43</td>\n",
       "      <td>8.81</td>\n",
       "      <td>1</td>\n",
       "      <td>другой</td>\n",
       "      <td>3</td>\n",
       "      <td>5</td>\n",
       "      <td>2018</td>\n",
       "    </tr>\n",
       "    <tr>\n",
       "      <th>4</th>\n",
       "      <td>5400000.0</td>\n",
       "      <td>61.00</td>\n",
       "      <td>43.60</td>\n",
       "      <td>6.50</td>\n",
       "      <td>3</td>\n",
       "      <td>другой</td>\n",
       "      <td>7</td>\n",
       "      <td>2</td>\n",
       "      <td>2017</td>\n",
       "    </tr>\n",
       "    <tr>\n",
       "      <th>...</th>\n",
       "      <td>...</td>\n",
       "      <td>...</td>\n",
       "      <td>...</td>\n",
       "      <td>...</td>\n",
       "      <td>...</td>\n",
       "      <td>...</td>\n",
       "      <td>...</td>\n",
       "      <td>...</td>\n",
       "      <td>...</td>\n",
       "    </tr>\n",
       "    <tr>\n",
       "      <th>16731</th>\n",
       "      <td>3550000.0</td>\n",
       "      <td>35.30</td>\n",
       "      <td>16.30</td>\n",
       "      <td>9.10</td>\n",
       "      <td>1</td>\n",
       "      <td>другой</td>\n",
       "      <td>3</td>\n",
       "      <td>2</td>\n",
       "      <td>2018</td>\n",
       "    </tr>\n",
       "    <tr>\n",
       "      <th>16732</th>\n",
       "      <td>5500000.0</td>\n",
       "      <td>52.00</td>\n",
       "      <td>31.00</td>\n",
       "      <td>6.00</td>\n",
       "      <td>2</td>\n",
       "      <td>другой</td>\n",
       "      <td>4</td>\n",
       "      <td>7</td>\n",
       "      <td>2018</td>\n",
       "    </tr>\n",
       "    <tr>\n",
       "      <th>16733</th>\n",
       "      <td>1350000.0</td>\n",
       "      <td>30.00</td>\n",
       "      <td>17.50</td>\n",
       "      <td>6.00</td>\n",
       "      <td>1</td>\n",
       "      <td>другой</td>\n",
       "      <td>5</td>\n",
       "      <td>7</td>\n",
       "      <td>2017</td>\n",
       "    </tr>\n",
       "    <tr>\n",
       "      <th>16734</th>\n",
       "      <td>4600000.0</td>\n",
       "      <td>62.40</td>\n",
       "      <td>40.00</td>\n",
       "      <td>8.00</td>\n",
       "      <td>3</td>\n",
       "      <td>другой</td>\n",
       "      <td>5</td>\n",
       "      <td>8</td>\n",
       "      <td>2016</td>\n",
       "    </tr>\n",
       "    <tr>\n",
       "      <th>16735</th>\n",
       "      <td>3100000.0</td>\n",
       "      <td>59.00</td>\n",
       "      <td>38.00</td>\n",
       "      <td>8.50</td>\n",
       "      <td>3</td>\n",
       "      <td>другой</td>\n",
       "      <td>1</td>\n",
       "      <td>1</td>\n",
       "      <td>2018</td>\n",
       "    </tr>\n",
       "  </tbody>\n",
       "</table>\n",
       "<p>16736 rows × 9 columns</p>\n",
       "</div>"
      ],
      "text/plain": [
       "       last_price  total_area  living_area  kitchen_area  rooms type_of_floor  \\\n",
       "0       3350000.0       40.40        18.60         11.00      1        первый   \n",
       "1       2890000.0       30.40        14.40          9.10      1        другой   \n",
       "2       3700000.0       37.30        10.60         14.40      1        другой   \n",
       "3       2900000.0       33.16        15.43          8.81      1        другой   \n",
       "4       5400000.0       61.00        43.60          6.50      3        другой   \n",
       "...           ...         ...          ...           ...    ...           ...   \n",
       "16731   3550000.0       35.30        16.30          9.10      1        другой   \n",
       "16732   5500000.0       52.00        31.00          6.00      2        другой   \n",
       "16733   1350000.0       30.00        17.50          6.00      1        другой   \n",
       "16734   4600000.0       62.40        40.00          8.00      3        другой   \n",
       "16735   3100000.0       59.00        38.00          8.50      3        другой   \n",
       "\n",
       "       day_of_public  month_of_public  year_of_public  \n",
       "0                  2               12            2018  \n",
       "1                  1                9            2018  \n",
       "2                  4               11            2017  \n",
       "3                  3                5            2018  \n",
       "4                  7                2            2017  \n",
       "...              ...              ...             ...  \n",
       "16731              3                2            2018  \n",
       "16732              4                7            2018  \n",
       "16733              5                7            2017  \n",
       "16734              5                8            2016  \n",
       "16735              1                1            2018  \n",
       "\n",
       "[16736 rows x 9 columns]"
      ]
     },
     "execution_count": 207,
     "metadata": {},
     "output_type": "execute_result"
    }
   ],
   "source": [
    "col = ['last_price', 'total_area', 'living_area', 'kitchen_area', 'rooms', 'type_of_floor', 'day_of_public', 'month_of_public', 'year_of_public' ]\n",
    "\n",
    "data_corr = data_clear[col].reset_index(drop = True)\n",
    "data_corr"
   ]
  },
  {
   "cell_type": "markdown",
   "id": "b8e785d4",
   "metadata": {},
   "source": [
    "Найдем зависимость между количественными категориями: полная стоимость; общая площадь; жилая площадь; площадь кухни;"
   ]
  },
  {
   "cell_type": "code",
   "execution_count": 208,
   "id": "15f8ff93",
   "metadata": {},
   "outputs": [
    {
     "data": {
      "text/html": [
       "<div>\n",
       "<style scoped>\n",
       "    .dataframe tbody tr th:only-of-type {\n",
       "        vertical-align: middle;\n",
       "    }\n",
       "\n",
       "    .dataframe tbody tr th {\n",
       "        vertical-align: top;\n",
       "    }\n",
       "\n",
       "    .dataframe thead th {\n",
       "        text-align: right;\n",
       "    }\n",
       "</style>\n",
       "<table border=\"1\" class=\"dataframe\">\n",
       "  <thead>\n",
       "    <tr style=\"text-align: right;\">\n",
       "      <th></th>\n",
       "      <th>last_price</th>\n",
       "      <th>total_area</th>\n",
       "      <th>living_area</th>\n",
       "      <th>kitchen_area</th>\n",
       "    </tr>\n",
       "  </thead>\n",
       "  <tbody>\n",
       "    <tr>\n",
       "      <th>last_price</th>\n",
       "      <td>1.000000</td>\n",
       "      <td>0.685660</td>\n",
       "      <td>0.537314</td>\n",
       "      <td>0.433644</td>\n",
       "    </tr>\n",
       "    <tr>\n",
       "      <th>total_area</th>\n",
       "      <td>0.685660</td>\n",
       "      <td>1.000000</td>\n",
       "      <td>0.870479</td>\n",
       "      <td>0.413209</td>\n",
       "    </tr>\n",
       "    <tr>\n",
       "      <th>living_area</th>\n",
       "      <td>0.537314</td>\n",
       "      <td>0.870479</td>\n",
       "      <td>1.000000</td>\n",
       "      <td>0.171738</td>\n",
       "    </tr>\n",
       "    <tr>\n",
       "      <th>kitchen_area</th>\n",
       "      <td>0.433644</td>\n",
       "      <td>0.413209</td>\n",
       "      <td>0.171738</td>\n",
       "      <td>1.000000</td>\n",
       "    </tr>\n",
       "  </tbody>\n",
       "</table>\n",
       "</div>"
      ],
      "text/plain": [
       "              last_price  total_area  living_area  kitchen_area\n",
       "last_price      1.000000    0.685660     0.537314      0.433644\n",
       "total_area      0.685660    1.000000     0.870479      0.413209\n",
       "living_area     0.537314    0.870479     1.000000      0.171738\n",
       "kitchen_area    0.433644    0.413209     0.171738      1.000000"
      ]
     },
     "execution_count": 208,
     "metadata": {},
     "output_type": "execute_result"
    }
   ],
   "source": [
    "data_corr[['last_price', 'total_area', 'living_area', 'kitchen_area']].corr()"
   ]
  },
  {
   "cell_type": "markdown",
   "id": "364a4f42",
   "metadata": {},
   "source": [
    "* Корреляция параметров положительная, что позволяет определить прямое влияение факторов друг на друга: с увеличением одного фактора, растет и другой фактор.\n",
    "* Как видно из таблицы выше: общая площадь сильно влияет на общую стоимость квартиры: коэффициент корреляции больше 0,6. Можно сказать, что чем больше площадь квартиры, чем больше ее цена. \n",
    "* Также можно отметить что жилая площадь и площадь кухни уже слабее влияет на общую стомость недвижимости - коэффициент корреляции меньше 0,6.\n",
    "\n",
    "* Также можно заметить, что площадь жилой части квартиры сильно влияет на общую площадь, что логично: чем больше площадь жилая, тем больше общая площадь. А вот размер кухни практически не влияет на общую площадь (коэффициент корреляции 0.2) и средне влияет на жилую площадь (коэффициент корреляции 0.4)\n"
   ]
  },
  {
   "cell_type": "markdown",
   "id": "5dc6be73",
   "metadata": {},
   "source": [
    "Найдем зависимость между категориальными признаками: полная стоимость; количество комнат; этаж, на котором расположена квартира (первый, последний, другой);\n",
    "дата размещения (день недели, месяц, год)"
   ]
  },
  {
   "cell_type": "markdown",
   "id": "23b47555",
   "metadata": {},
   "source": [
    "#### Количество комнат и цена"
   ]
  },
  {
   "cell_type": "code",
   "execution_count": 209,
   "id": "67acff3f",
   "metadata": {},
   "outputs": [
    {
     "data": {
      "text/plain": [
       "<AxesSubplot:title={'center':'Количество комнат и средняя цена'}, xlabel='rooms', ylabel='last_price'>"
      ]
     },
     "execution_count": 209,
     "metadata": {},
     "output_type": "execute_result"
    },
    {
     "data": {
      "image/png": "[encoded data removed]",
      "text/plain": [
       "<Figure size 432x288 with 1 Axes>"
      ]
     },
     "metadata": {
      "needs_background": "light"
     },
     "output_type": "display_data"
    }
   ],
   "source": [
    "data_corr.plot(x='rooms', y='last_price', kind='scatter', alpha=0.1, title = \"Количество комнат и средняя цена\") "
   ]
  },
  {
   "cell_type": "markdown",
   "id": "0b484d62",
   "metadata": {},
   "source": [
    "Данный график показывает, что при увеличении количества комнат в квартире, цена на квартиру растет, при этом четкий рост наблюдается при увеличении до 3 комнат в квартире. Далее от 4 комнат рост останаливается и даже снижается. "
   ]
  },
  {
   "cell_type": "code",
   "execution_count": 210,
   "id": "68071151",
   "metadata": {},
   "outputs": [
    {
     "data": {
      "text/plain": [
       "<AxesSubplot:title={'center':'Количество комнат и средняя цена'}, xlabel='rooms'>"
      ]
     },
     "execution_count": 210,
     "metadata": {},
     "output_type": "execute_result"
    },
    {
     "data": {
      "image/png": "[encoded data removed]",
      "text/plain": [
       "<Figure size 432x288 with 1 Axes>"
      ]
     },
     "metadata": {
      "needs_background": "light"
     },
     "output_type": "display_data"
    }
   ],
   "source": [
    "data_corr.groupby('rooms')['last_price'].median().plot(title = \"Количество комнат и средняя цена\") "
   ]
  },
  {
   "cell_type": "markdown",
   "id": "d24d9a21",
   "metadata": {},
   "source": [
    "При этом на линейном графике видно, что рост почти линейный, и чем больше комнат - тем больше стоимость квартиры. \n",
    "Однако этот вывод применим лишь к увеличению количества комнат от 0 до 3."
   ]
  },
  {
   "cell_type": "markdown",
   "id": "decee1a8",
   "metadata": {},
   "source": [
    "#### Этаж и цена"
   ]
  },
  {
   "cell_type": "code",
   "execution_count": 211,
   "id": "4d93702a",
   "metadata": {},
   "outputs": [
    {
     "data": {
      "text/plain": [
       "<AxesSubplot:title={'center':'Этаж и средняя цена'}, xlabel='type_of_floor', ylabel='last_price'>"
      ]
     },
     "execution_count": 211,
     "metadata": {},
     "output_type": "execute_result"
    },
    {
     "data": {
      "image/png": "[encoded data removed]",
      "text/plain": [
       "<Figure size 432x288 with 1 Axes>"
      ]
     },
     "metadata": {
      "needs_background": "light"
     },
     "output_type": "display_data"
    }
   ],
   "source": [
    "data_corr.plot(x='type_of_floor', y='last_price', kind='scatter', alpha=0.1, title = \"Этаж и средняя цена\") "
   ]
  },
  {
   "cell_type": "markdown",
   "id": "c56425dc",
   "metadata": {},
   "source": [
    "Как  можно заметить из графика выше, меньше всего стоят квартиры на первом этаже. Затем идут квартиры на последнем этаже. Самые высокие цены на квартиры на этаже между первым и последним.  "
   ]
  },
  {
   "cell_type": "code",
   "execution_count": 212,
   "id": "0b4b4377",
   "metadata": {},
   "outputs": [
    {
     "data": {
      "text/plain": [
       "<AxesSubplot:title={'center':'Этаж и средняя цена'}, xlabel='type_of_floor'>"
      ]
     },
     "execution_count": 212,
     "metadata": {},
     "output_type": "execute_result"
    },
    {
     "data": {
      "image/png": "[encoded data removed]",
      "text/plain": [
       "<Figure size 432x288 with 1 Axes>"
      ]
     },
     "metadata": {
      "needs_background": "light"
     },
     "output_type": "display_data"
    }
   ],
   "source": [
    "data_corr.groupby('type_of_floor')['last_price'].median().sort_values().plot(title = \"Этаж и средняя цена\") "
   ]
  },
  {
   "cell_type": "markdown",
   "id": "0f752159",
   "metadata": {},
   "source": [
    "График выше подтверждает гипотезу, выдвинутую ранее - самые высокие цены на квартиры на этаже между первым и последним"
   ]
  },
  {
   "cell_type": "markdown",
   "id": "b91e95f1",
   "metadata": {},
   "source": [
    "#### Дата размещения и цена"
   ]
  },
  {
   "cell_type": "code",
   "execution_count": 213,
   "id": "db7ec4a0",
   "metadata": {},
   "outputs": [
    {
     "data": {
      "text/plain": [
       "<AxesSubplot:title={'center':'День и средняя цена'}, xlabel='day_of_public', ylabel='last_price'>"
      ]
     },
     "execution_count": 213,
     "metadata": {},
     "output_type": "execute_result"
    },
    {
     "data": {
      "image/png": "[encoded data removed]",
      "text/plain": [
       "<Figure size 432x288 with 1 Axes>"
      ]
     },
     "metadata": {
      "needs_background": "light"
     },
     "output_type": "display_data"
    }
   ],
   "source": [
    "data_corr.plot(x='day_of_public', y='last_price', kind='scatter', alpha=0.1, title = \"День и средняя цена\") "
   ]
  },
  {
   "cell_type": "markdown",
   "id": "4cbeb751",
   "metadata": {},
   "source": [
    "По графику выше цена продажи квартиры не зависит от дня недели"
   ]
  },
  {
   "cell_type": "code",
   "execution_count": 214,
   "id": "a80d51c5",
   "metadata": {},
   "outputs": [
    {
     "data": {
      "text/plain": [
       "<AxesSubplot:title={'center':'День и средняя цена'}, xlabel='day_of_public'>"
      ]
     },
     "execution_count": 214,
     "metadata": {},
     "output_type": "execute_result"
    },
    {
     "data": {
      "image/png": "[encoded data removed]",
      "text/plain": [
       "<Figure size 432x288 with 1 Axes>"
      ]
     },
     "metadata": {
      "needs_background": "light"
     },
     "output_type": "display_data"
    }
   ],
   "source": [
    "data_corr.groupby('day_of_public')['last_price'].median().plot(title = \"День и средняя цена\") "
   ]
  },
  {
   "cell_type": "markdown",
   "id": "9541bfdc",
   "metadata": {},
   "source": [
    "Как видно на графике выше, средняя цена не зависит от дня недели публикации: наблюдается в целом снижение стоимости квартир со среды до пятницы и на выходных. Самое лучшее время выкладывания объявлений - вторник и понедельник.  \n"
   ]
  },
  {
   "cell_type": "code",
   "execution_count": 215,
   "id": "723f1141",
   "metadata": {},
   "outputs": [
    {
     "data": {
      "text/plain": [
       "<AxesSubplot:title={'center':'Месяц и средняя цена'}, xlabel='month_of_public', ylabel='last_price'>"
      ]
     },
     "execution_count": 215,
     "metadata": {},
     "output_type": "execute_result"
    },
    {
     "data": {
      "image/png": "[encoded data removed]",
      "text/plain": [
       "<Figure size 432x288 with 1 Axes>"
      ]
     },
     "metadata": {
      "needs_background": "light"
     },
     "output_type": "display_data"
    }
   ],
   "source": [
    "data_corr.plot(x='month_of_public', y='last_price', kind='scatter', alpha=0.1, title = \"Месяц и средняя цена\") "
   ]
  },
  {
   "cell_type": "markdown",
   "id": "b4449b93",
   "metadata": {},
   "source": [
    "Зависимость от месяца не прослеживается."
   ]
  },
  {
   "cell_type": "code",
   "execution_count": 216,
   "id": "bbcefa6c",
   "metadata": {},
   "outputs": [
    {
     "data": {
      "text/plain": [
       "<AxesSubplot:title={'center':'Месяц и средняя цена'}, xlabel='month_of_public'>"
      ]
     },
     "execution_count": 216,
     "metadata": {},
     "output_type": "execute_result"
    },
    {
     "data": {
      "image/png": "[encoded data removed]",
      "text/plain": [
       "<Figure size 432x288 with 1 Axes>"
      ]
     },
     "metadata": {
      "needs_background": "light"
     },
     "output_type": "display_data"
    }
   ],
   "source": [
    "data_corr.groupby('month_of_public')['last_price'].median().plot(title = \"Месяц и средняя цена\") "
   ]
  },
  {
   "cell_type": "markdown",
   "id": "07fd72d9",
   "metadata": {},
   "source": [
    "Тоже можно сказать и про месяц публикации: прямой зависимости месяца и цены объекта нет. Можно отметить следующие паттерны: зимой и весной цена на квартиры выше чем летом и осенью. Лучше всего заниматься прожажей кватиры в первой половине года"
   ]
  },
  {
   "cell_type": "code",
   "execution_count": 217,
   "id": "18a95913",
   "metadata": {},
   "outputs": [
    {
     "data": {
      "text/plain": [
       "<AxesSubplot:title={'center':'Год и средняя цена'}, xlabel='year_of_public', ylabel='last_price'>"
      ]
     },
     "execution_count": 217,
     "metadata": {},
     "output_type": "execute_result"
    },
    {
     "data": {
      "image/png": "[encoded data removed]",
      "text/plain": [
       "<Figure size 432x288 with 1 Axes>"
      ]
     },
     "metadata": {
      "needs_background": "light"
     },
     "output_type": "display_data"
    }
   ],
   "source": [
    "data_corr.plot(x='year_of_public', y='last_price', kind='scatter', alpha=0.1, title = \"Год и средняя цена\") "
   ]
  },
  {
   "cell_type": "markdown",
   "id": "fb1c0dca",
   "metadata": {},
   "source": [
    "Как можно заметить на графике выше, цены на квартиры растут от года к году: лучше всего продавались квартиры в 2018 году. Однако роста с 2014 года очевиден. "
   ]
  },
  {
   "cell_type": "code",
   "execution_count": 218,
   "id": "a49567df",
   "metadata": {},
   "outputs": [
    {
     "data": {
      "text/plain": [
       "<AxesSubplot:title={'center':'Год и средняя цена'}, xlabel='year_of_public'>"
      ]
     },
     "execution_count": 218,
     "metadata": {},
     "output_type": "execute_result"
    },
    {
     "data": {
      "image/png": "[encoded data removed]",
      "text/plain": [
       "<Figure size 432x288 with 1 Axes>"
      ]
     },
     "metadata": {
      "needs_background": "light"
     },
     "output_type": "display_data"
    }
   ],
   "source": [
    "data_corr.groupby('year_of_public')['last_price'].median().plot(title = \"Год и средняя цена\") "
   ]
  },
  {
   "cell_type": "markdown",
   "id": "40a14b40",
   "metadata": {},
   "source": [
    "При этом совершенно противоположные результаты показываются на графике выше. На графике явно видно, что цена квартир падает. Пик продаж наблюдается в первый год датасета - 2014г. Можно сказать, что продажей квартиры лучще всего заниматься раньше, чем позже. \n",
    "\n",
    "В целом можно отметить, что с увеличеним года растет и цена"
   ]
  },
  {
   "cell_type": "markdown",
   "id": "fb813489",
   "metadata": {},
   "source": [
    "#### Средняя цена одного квадратного метра в 10 населенных пунктах "
   ]
  },
  {
   "cell_type": "code",
   "execution_count": 219,
   "id": "519e0366",
   "metadata": {},
   "outputs": [
    {
     "data": {
      "text/html": [
       "<div>\n",
       "<style scoped>\n",
       "    .dataframe tbody tr th:only-of-type {\n",
       "        vertical-align: middle;\n",
       "    }\n",
       "\n",
       "    .dataframe tbody tr th {\n",
       "        vertical-align: top;\n",
       "    }\n",
       "\n",
       "    .dataframe thead th {\n",
       "        text-align: right;\n",
       "    }\n",
       "</style>\n",
       "<table border=\"1\" class=\"dataframe\">\n",
       "  <thead>\n",
       "    <tr style=\"text-align: right;\">\n",
       "      <th></th>\n",
       "      <th>count</th>\n",
       "      <th>median</th>\n",
       "    </tr>\n",
       "    <tr>\n",
       "      <th>locality_name</th>\n",
       "      <th></th>\n",
       "      <th></th>\n",
       "    </tr>\n",
       "  </thead>\n",
       "  <tbody>\n",
       "    <tr>\n",
       "      <th>санкт-петербург</th>\n",
       "      <td>10819</td>\n",
       "      <td>101851.851852</td>\n",
       "    </tr>\n",
       "    <tr>\n",
       "      <th>пушкин</th>\n",
       "      <td>249</td>\n",
       "      <td>97297.297297</td>\n",
       "    </tr>\n",
       "    <tr>\n",
       "      <th>кудрово</th>\n",
       "      <td>369</td>\n",
       "      <td>95840.867993</td>\n",
       "    </tr>\n",
       "    <tr>\n",
       "      <th>посeлок парголово</th>\n",
       "      <td>263</td>\n",
       "      <td>91328.413284</td>\n",
       "    </tr>\n",
       "    <tr>\n",
       "      <th>посeлок мурино</th>\n",
       "      <td>460</td>\n",
       "      <td>86311.913573</td>\n",
       "    </tr>\n",
       "    <tr>\n",
       "      <th>посeлок шушары</th>\n",
       "      <td>369</td>\n",
       "      <td>76315.789474</td>\n",
       "    </tr>\n",
       "    <tr>\n",
       "      <th>колпино</th>\n",
       "      <td>281</td>\n",
       "      <td>73529.411765</td>\n",
       "    </tr>\n",
       "    <tr>\n",
       "      <th>гатчина</th>\n",
       "      <td>231</td>\n",
       "      <td>67173.913043</td>\n",
       "    </tr>\n",
       "    <tr>\n",
       "      <th>всеволожск</th>\n",
       "      <td>285</td>\n",
       "      <td>65686.274510</td>\n",
       "    </tr>\n",
       "    <tr>\n",
       "      <th>выборг</th>\n",
       "      <td>176</td>\n",
       "      <td>56787.469287</td>\n",
       "    </tr>\n",
       "  </tbody>\n",
       "</table>\n",
       "</div>"
      ],
      "text/plain": [
       "                   count         median\n",
       "locality_name                          \n",
       "санкт-петербург    10819  101851.851852\n",
       "пушкин               249   97297.297297\n",
       "кудрово              369   95840.867993\n",
       "посeлок парголово    263   91328.413284\n",
       "посeлок мурино       460   86311.913573\n",
       "посeлок шушары       369   76315.789474\n",
       "колпино              281   73529.411765\n",
       "гатчина              231   67173.913043\n",
       "всеволожск           285   65686.274510\n",
       "выборг               176   56787.469287"
      ]
     },
     "execution_count": 219,
     "metadata": {},
     "output_type": "execute_result"
    }
   ],
   "source": [
    "top_ten_local_name = data_clear.pivot_table(index = 'locality_name', values = 'price_for_sq_m', aggfunc=('count','median')).sort_values('count', ascending = False).head(10)\n",
    "\n",
    "top_ten_local_name.sort_values(by = 'median', ascending = False)"
   ]
  },
  {
   "cell_type": "markdown",
   "id": "d8e74069",
   "metadata": {},
   "source": [
    "В таблице выше представлены 10 наиболее крупных населенных пунктов по количеству объявлений. Так, больше всего объявлений в Санкт_Петербурге, а меньше всего (из 10 объектов) - в Выборге. \n",
    "Зависимости стоимости квадратного метра от количества объявлений не обнаружено: так, наибольшая цена квадратного метра находится в Санкт-Петербурге, так как это крупнейший город лен области. Затем по цене квартир идут город Пушкин и Кудрово. Самая низкая стомость квартир в городе Гатчина, Всеволожск, Выборг. "
   ]
  },
  {
   "cell_type": "code",
   "execution_count": 220,
   "id": "835626e4",
   "metadata": {},
   "outputs": [
    {
     "data": {
      "image/png": "[encoded data removed]",
      "text/plain": [
       "<Figure size 432x288 with 1 Axes>"
      ]
     },
     "metadata": {
      "needs_background": "light"
     },
     "output_type": "display_data"
    }
   ],
   "source": [
    "plt.plot(top_ten_local_name.index, top_ten_local_name['count'])\n",
    "plt.plot(top_ten_local_name.index, top_ten_local_name['median'])\n",
    "plt.xticks(rotation=90)\n",
    "plt.show()"
   ]
  },
  {
   "cell_type": "markdown",
   "id": "2a7877dc",
   "metadata": {},
   "source": [
    "#### Цена каждого км в Санкт-Петербурге"
   ]
  },
  {
   "cell_type": "code",
   "execution_count": 221,
   "id": "f6c861a4",
   "metadata": {},
   "outputs": [
    {
     "data": {
      "text/plain": [
       "total_images                     0\n",
       "last_price                       0\n",
       "total_area                       0\n",
       "first_day_exposition             0\n",
       "rooms                            0\n",
       "ceiling_height                   0\n",
       "floors_total                     0\n",
       "living_area                      0\n",
       "floor                            0\n",
       "is_apartment                     0\n",
       "studio                           0\n",
       "open_plan                        0\n",
       "kitchen_area                     0\n",
       "balcony                          0\n",
       "locality_name                    0\n",
       "airports_nearest                32\n",
       "cityCenters_nearest             17\n",
       "parks_around3000                17\n",
       "parks_nearest                 6157\n",
       "ponds_around3000                17\n",
       "ponds_nearest                 5610\n",
       "days_exposition                  0\n",
       "price_for_sq_m                   0\n",
       "day_of_public                    0\n",
       "month_of_public                  0\n",
       "year_of_public                   0\n",
       "type_of_floor                    0\n",
       "city_centre_distance_in_km      17\n",
       "dtype: int64"
      ]
     },
     "execution_count": 221,
     "metadata": {},
     "output_type": "execute_result"
    }
   ],
   "source": [
    "spb_new = data_clear.query('locality_name == \"санкт-петербург\"')\n",
    "spb_new.isna().sum()"
   ]
  },
  {
   "cell_type": "markdown",
   "id": "947e1748",
   "metadata": {},
   "source": [
    "В датасете наблюдается 17 пустых значений - удалим их"
   ]
  },
  {
   "cell_type": "code",
   "execution_count": 222,
   "id": "f647683e",
   "metadata": {},
   "outputs": [],
   "source": [
    "spb_new = spb_new.reset_index().dropna(subset = ['cityCenters_nearest'])\n",
    "\n",
    "spb_new['city_centre_distance_in_km'] = spb_new['city_centre_distance_in_km'].astype('int64')"
   ]
  },
  {
   "cell_type": "code",
   "execution_count": 223,
   "id": "d9e42385",
   "metadata": {},
   "outputs": [
    {
     "data": {
      "text/plain": [
       "<AxesSubplot:title={'center':'Средняя цена каждого км'}, xlabel='city_centre_distance_in_km'>"
      ]
     },
     "execution_count": 223,
     "metadata": {},
     "output_type": "execute_result"
    },
    {
     "data": {
      "image/png": "[encoded data removed]",
      "text/plain": [
       "<Figure size 432x288 with 1 Axes>"
      ]
     },
     "metadata": {
      "needs_background": "light"
     },
     "output_type": "display_data"
    }
   ],
   "source": [
    "spb_new.groupby('city_centre_distance_in_km')['last_price'].median().plot(title = 'Средняя цена каждого км')"
   ]
  },
  {
   "cell_type": "markdown",
   "id": "a03a8aff",
   "metadata": {},
   "source": [
    "Так, при расстоянии от 0 до 5 км средняя цена на квартиру падает от 9 000 000 руб до 7 600 000 руб., то есть на 16%. \n",
    "Самая низкая цена наблюдается при удалении от центра на 27 км - 2 250 000 руб, что ниже самого высокого значения цены на 75%"
   ]
  },
  {
   "cell_type": "code",
   "execution_count": 224,
   "id": "5c7dd81c",
   "metadata": {},
   "outputs": [
    {
     "data": {
      "text/plain": [
       "<AxesSubplot:title={'center':'Цены каждого км'}, xlabel='city_centre_distance_in_km', ylabel='last_price'>"
      ]
     },
     "execution_count": 224,
     "metadata": {},
     "output_type": "execute_result"
    },
    {
     "data": {
      "image/png": "[encoded data removed]",
      "text/plain": [
       "<Figure size 432x288 with 1 Axes>"
      ]
     },
     "metadata": {
      "needs_background": "light"
     },
     "output_type": "display_data"
    }
   ],
   "source": [
    "spb_new.plot(x='city_centre_distance_in_km', y='last_price', kind='scatter', alpha=0.1, title = 'Цены каждого км') "
   ]
  },
  {
   "cell_type": "markdown",
   "id": "14bf964d",
   "metadata": {},
   "source": [
    "Однозначно видно, что при удалении квартиры от центра города ее цена смещается вниз"
   ]
  },
  {
   "cell_type": "code",
   "execution_count": 225,
   "id": "eb9e980f",
   "metadata": {},
   "outputs": [
    {
     "data": {
      "text/plain": [
       "-0.3512804121103459"
      ]
     },
     "execution_count": 225,
     "metadata": {},
     "output_type": "execute_result"
    }
   ],
   "source": [
    "spb_new['last_price'].corr(spb_new['city_centre_distance_in_km'])"
   ]
  },
  {
   "cell_type": "markdown",
   "id": "926f9ad1",
   "metadata": {},
   "source": [
    "Коэффициет корреляции Пирсона указывает на наличие слабой орицательной связи: увеличение расстояние от центра города слабо влияет на уменьшение цены квартиры "
   ]
  },
  {
   "cell_type": "markdown",
   "id": "336ad299",
   "metadata": {},
   "source": [
    "## Общие выводы"
   ]
  },
  {
   "cell_type": "markdown",
   "id": "7dd972b2",
   "metadata": {},
   "source": [
    "#### Основная задача исследования - определить факторы, влияющие на строимость квартиры\n",
    "\n",
    "В качетсве проекта было предложено рассмотреть данные сервиса Яндекс Недвижимость — архив объявлений за несколько лет о продаже квартир в Санкт-Петербурге и соседних населённых пунктах.\n",
    "\n",
    "* Первым этапом работы было чтение файла и рассмотрение основной информации о нем. \n",
    "\n",
    "* Вторым этапом работы была предобработка данных:\n",
    "    Преобразованы типы данных:\n",
    "        * для тех столбцов, которые содержат числовые значения, но имели тип данных object, был преобразован тип данных на float\n",
    "        * для булевых данных был определен формат bool\n",
    "        * для столбца с датой был выбран формат данных типа дата.\n",
    "    \n",
    "    Проведена работа с дубликатами:\n",
    "        * дублирующих строк не обнаружено\n",
    "        * неявные дубликаты были устранены в столбце с наименованием населенных пунктов: вместо \"посёлок\" на \"поселок\", вместо \"посёлок городского типа\" на \"поселок\" и тд.\n",
    "\n",
    "    Проведена работа с пустыми значениями:\n",
    "        * были заменены пустые значения на медианные в столбцах с числовыми значениями.\n",
    "        * пропуски в стобцах с булевыми значения были заменены на false или 0 (в связи с тем, что пропуски объявнены значением по умолчанию)\n",
    "        * пропуски названии населенных пунктов заменены на \"нет населенного пункта\"\n",
    "        * пропуски в геоданных оставлены в связи с большой долей пропущенных значений, в том числе необходима более подробная информация по населенным пунктам лен области.\n",
    "\n",
    "    Проведена работа с аномальными значениями:\n",
    "        * аномально большие значения обнаружены в столбце с высотой потолков - высота более 10 метров заменена на значение высоты потолка/10\n",
    "        * были отчищены данные от выбросов по количественным признакам: жилая площадь, площадь кухни, общая площать. Остальные данные (количества комнат; этажа, на котором расположена квартира (первый, последний, другой); даты размещения (день недели, месяц, год) являются категориальными, поэтому их не вычищала.\n",
    "\n",
    "* Третьим этапом работы было выполнено добавление дополнительных столбцов, необходимых для исследования:\n",
    "    * цена одного квадратного метра;\n",
    "    * день недели публикации объявления (0 — понедельник, 1 — вторник и так далее);\n",
    "    * месяц публикации объявления;\n",
    "    * год публикации объявления;\n",
    "    * тип этажа квартиры (значения — «первый», «последний», «другой»);\n",
    "    * расстояние до центра города в километрах (переведите из м в км и округлите до целых значений).\n",
    "    \n",
    "    \n",
    "* Четвертым этапом работы была проведена исследовательская работа по определению факторов, влияющих на цену квартиры. Были выбраны следующие факторы:\n",
    "    * полная стоимость;\n",
    "    * общая площадь;\n",
    "    * жилая площадь;\n",
    "    * площадь кухни;\n",
    "    * количество комнат;\n",
    "    * этаж, на котором расположена квартира (первый, последний, другой);\n",
    "    * дата размещения (день недели, месяц, год).\n",
    "\n",
    "Так, было обнаружено с помощью рассчета корреляции следующие выводы:\n",
    "\n",
    "**Жилая площадь, площадь кухни, общая площадь**\n",
    "   * Корреляция параметров \"общая площаль квартиры\", \"жилая площадь\", \"площадь кухни\" положительная, что позволяет определить прямое влияение факторов друг на друга: с увеличением одного фактора, растет и другой фактор.\n",
    "   * общая площадь сильно влияет на общую стоимость квартиры: коэффициент корреляции больше 0,6. Можно сказать, что чем больше площадь квартиры, чем больше ее цена.\n",
    "   * Жилая площадь и площадь кухни уже слабее влияет на общую стомость недвижимости - коэффициент корреляции меньше 0,6.\n",
    "   * Площадь жилой части квартиры сильно влияет на общую площадь, что логично: чем больше площадь жилая, тем больше общая площадь. А вот размер кухни практически не влияет на общую площадь (коэффициент корреляции 0.2) и средне влияет на жилую площадь (коэффициент корреляции 0.4)\n",
    "   \n",
    "**Количество комнат** \n",
    "   * увеличение количества комнат в квартире, цена на квартиру растет, при этом четкий рост наблюдается при увеличении до 3 комнат в квартире. Далее от 4 комнат рост останаливается и даже снижается. При этом на линейном графике видно, что рост почти линейный, и чем больше комнат - тем больше медианная стоимость квартиры. Однако этот вывод применим лишь к увеличению количества комнат от 0 до 3.\n",
    "   \n",
    "**Этаж**\n",
    "   * меньше всего стоят квартиры на первом этаже. Затем идут квартиры на последнем этаже. Самые высокие цены на квартиры на этаже между первым и последним.  \n",
    "   \n",
    "**Дата размещения** \n",
    "   * средняя цена не зависит от дня недели публикации: наблюдается в целом снижение стоимости квартир со среды до пятницы и на выходных. Самое лучшее время выкладывания объявлений - вторник и понедельник. Зависимость от дня недели не прослеживается.\n",
    "   * прямой зависимости месяца и цены объекта нет. Можно отметить следующие паттерны: зимой и весной цена на квартиры выше чем летом и осенью. Лучше всего заниматься прожажей кватиры в первой половине года. Зависимость от дня недели не прослеживается.\n",
    "   * цены на квартиры растут от года к году: лучше всего продавались квартиры в 2018 году. Однако рост с 2014 года очевиден. При этом совершенно противоположные результаты показываются на графике средней цены по годам: цена квартир падает. Пик продаж наблюдается в первый год датасета - 2014г. Можно сказать, что продажей квартиры лучще всего заниматься раньше, чем позже. В целом можно отметить, что с увеличеним года растет и цена. \n",
    "   \n",
    "**Населенный пункт**\n",
    "   * Больше всего объявлений в Санкт_Петербурге, а меньше всего (из 10 объектов) - в Выборге. Зависимости стоимости квадратного метра от количества объявлений не обнаружено: так, наибольшая цена квадратного метра находится в Санкт-Петербурге (1 место по кол-ву объявлений), так как это крупнейший город лен области. Затем по цене квартир идут город Пушкин (7 место) и Кудрово (4 место). Самая низкая стомость квартир в городе Гатчина (9 место), Всеволожск (5 место), Выборг (10 место). \n",
    "\n",
    "**Цена каждого км в Санкт-Петербурге**\n",
    "   * Так, при расстоянии от 0 до 5 км средняя цена на квартиру падает от 9 000 000 руб до 7 600 000 руб., то есть на 16%. Самая низкая цена наблюдается при удалении от центра на 27 км - 2 250 000 руб, что ниже самого высокого значения цены на 75%. Однозначно видно, что при удалении квартиры от центра города ее цена смещается вниз. Коэффициет корреляции Пирсона указывает на наличие слабой орицательной связи: увеличение расстояние от центра города слабо влияет на уменьшение цены квартиры\n",
    "   \n",
    "   \n",
    "В завершении отметим, что в среднем квартиры продаются примерно за 90 дней. Все значения выше 420 дней попадают под выбросы (как 1,5 интервала от Q3). Можно считать, что продажи выше этого срока - необычайно долгие"
   ]
  }
 ],
 "metadata": {
  "ExecuteTimeLog": [
   {
    "duration": 54,
    "start_time": "2022-09-17T09:16:27.373Z"
   },
   {
    "duration": 905,
    "start_time": "2022-09-17T09:16:36.303Z"
   },
   {
    "duration": 129,
    "start_time": "2022-09-17T09:16:37.211Z"
   },
   {
    "duration": 0,
    "start_time": "2022-09-17T09:16:37.390Z"
   },
   {
    "duration": 0,
    "start_time": "2022-09-17T09:16:37.391Z"
   },
   {
    "duration": 0,
    "start_time": "2022-09-17T09:16:37.392Z"
   },
   {
    "duration": 0,
    "start_time": "2022-09-17T09:16:37.393Z"
   },
   {
    "duration": 0,
    "start_time": "2022-09-17T09:16:37.395Z"
   },
   {
    "duration": 0,
    "start_time": "2022-09-17T09:16:37.396Z"
   },
   {
    "duration": 0,
    "start_time": "2022-09-17T09:16:37.397Z"
   },
   {
    "duration": 0,
    "start_time": "2022-09-17T09:16:37.398Z"
   },
   {
    "duration": 0,
    "start_time": "2022-09-17T09:16:37.399Z"
   },
   {
    "duration": 0,
    "start_time": "2022-09-17T09:16:37.400Z"
   },
   {
    "duration": 0,
    "start_time": "2022-09-17T09:16:37.401Z"
   },
   {
    "duration": 0,
    "start_time": "2022-09-17T09:16:37.402Z"
   },
   {
    "duration": 0,
    "start_time": "2022-09-17T09:16:37.403Z"
   },
   {
    "duration": 0,
    "start_time": "2022-09-17T09:16:37.404Z"
   },
   {
    "duration": 0,
    "start_time": "2022-09-17T09:16:37.405Z"
   },
   {
    "duration": 0,
    "start_time": "2022-09-17T09:16:37.406Z"
   },
   {
    "duration": 0,
    "start_time": "2022-09-17T09:16:37.407Z"
   },
   {
    "duration": 0,
    "start_time": "2022-09-17T09:16:37.408Z"
   },
   {
    "duration": 0,
    "start_time": "2022-09-17T09:16:37.410Z"
   },
   {
    "duration": 0,
    "start_time": "2022-09-17T09:16:37.411Z"
   },
   {
    "duration": 0,
    "start_time": "2022-09-17T09:16:37.413Z"
   },
   {
    "duration": 0,
    "start_time": "2022-09-17T09:16:37.414Z"
   },
   {
    "duration": 0,
    "start_time": "2022-09-17T09:16:37.415Z"
   },
   {
    "duration": 0,
    "start_time": "2022-09-17T09:16:37.416Z"
   },
   {
    "duration": 0,
    "start_time": "2022-09-17T09:16:37.417Z"
   },
   {
    "duration": 0,
    "start_time": "2022-09-17T09:16:37.418Z"
   },
   {
    "duration": 0,
    "start_time": "2022-09-17T09:16:37.419Z"
   },
   {
    "duration": 0,
    "start_time": "2022-09-17T09:16:37.420Z"
   },
   {
    "duration": 0,
    "start_time": "2022-09-17T09:16:37.421Z"
   },
   {
    "duration": 0,
    "start_time": "2022-09-17T09:16:37.423Z"
   },
   {
    "duration": 0,
    "start_time": "2022-09-17T09:16:37.424Z"
   },
   {
    "duration": 0,
    "start_time": "2022-09-17T09:16:37.425Z"
   },
   {
    "duration": 0,
    "start_time": "2022-09-17T09:16:37.427Z"
   },
   {
    "duration": 0,
    "start_time": "2022-09-17T09:16:37.428Z"
   },
   {
    "duration": 0,
    "start_time": "2022-09-17T09:16:37.429Z"
   },
   {
    "duration": 0,
    "start_time": "2022-09-17T09:16:37.430Z"
   },
   {
    "duration": 0,
    "start_time": "2022-09-17T09:16:37.431Z"
   },
   {
    "duration": 0,
    "start_time": "2022-09-17T09:16:37.433Z"
   },
   {
    "duration": 0,
    "start_time": "2022-09-17T09:16:37.434Z"
   },
   {
    "duration": 0,
    "start_time": "2022-09-17T09:16:37.435Z"
   },
   {
    "duration": 0,
    "start_time": "2022-09-17T09:16:37.493Z"
   },
   {
    "duration": 0,
    "start_time": "2022-09-17T09:16:37.493Z"
   },
   {
    "duration": 0,
    "start_time": "2022-09-17T09:16:37.494Z"
   },
   {
    "duration": 0,
    "start_time": "2022-09-17T09:16:37.495Z"
   },
   {
    "duration": 0,
    "start_time": "2022-09-17T09:16:37.495Z"
   },
   {
    "duration": 0,
    "start_time": "2022-09-17T09:16:37.496Z"
   },
   {
    "duration": 0,
    "start_time": "2022-09-17T09:16:37.497Z"
   },
   {
    "duration": 0,
    "start_time": "2022-09-17T09:16:37.497Z"
   },
   {
    "duration": 0,
    "start_time": "2022-09-17T09:16:37.498Z"
   },
   {
    "duration": 0,
    "start_time": "2022-09-17T09:16:37.498Z"
   },
   {
    "duration": 0,
    "start_time": "2022-09-17T09:16:37.499Z"
   },
   {
    "duration": 0,
    "start_time": "2022-09-17T09:16:37.500Z"
   },
   {
    "duration": 1,
    "start_time": "2022-09-17T09:16:37.500Z"
   },
   {
    "duration": 0,
    "start_time": "2022-09-17T09:16:37.501Z"
   },
   {
    "duration": 0,
    "start_time": "2022-09-17T09:16:37.504Z"
   },
   {
    "duration": 0,
    "start_time": "2022-09-17T09:16:37.504Z"
   },
   {
    "duration": 0,
    "start_time": "2022-09-17T09:16:37.505Z"
   },
   {
    "duration": 0,
    "start_time": "2022-09-17T09:16:37.505Z"
   },
   {
    "duration": 0,
    "start_time": "2022-09-17T09:16:37.507Z"
   },
   {
    "duration": 0,
    "start_time": "2022-09-17T09:16:37.510Z"
   },
   {
    "duration": 0,
    "start_time": "2022-09-17T09:16:37.511Z"
   },
   {
    "duration": 0,
    "start_time": "2022-09-17T09:16:37.512Z"
   },
   {
    "duration": 0,
    "start_time": "2022-09-17T09:16:37.513Z"
   },
   {
    "duration": 0,
    "start_time": "2022-09-17T09:16:37.513Z"
   },
   {
    "duration": 0,
    "start_time": "2022-09-17T09:16:37.514Z"
   },
   {
    "duration": 0,
    "start_time": "2022-09-17T09:16:37.516Z"
   },
   {
    "duration": 0,
    "start_time": "2022-09-17T09:16:37.517Z"
   },
   {
    "duration": 0,
    "start_time": "2022-09-17T09:16:37.518Z"
   },
   {
    "duration": 0,
    "start_time": "2022-09-17T09:16:37.519Z"
   },
   {
    "duration": 0,
    "start_time": "2022-09-17T09:16:37.520Z"
   },
   {
    "duration": 0,
    "start_time": "2022-09-17T09:16:37.521Z"
   },
   {
    "duration": 0,
    "start_time": "2022-09-17T09:16:37.522Z"
   },
   {
    "duration": 0,
    "start_time": "2022-09-17T09:16:37.523Z"
   },
   {
    "duration": 0,
    "start_time": "2022-09-17T09:16:37.524Z"
   },
   {
    "duration": 0,
    "start_time": "2022-09-17T09:16:37.525Z"
   },
   {
    "duration": 0,
    "start_time": "2022-09-17T09:16:37.526Z"
   },
   {
    "duration": 67,
    "start_time": "2022-09-17T09:17:43.573Z"
   },
   {
    "duration": 62,
    "start_time": "2022-09-17T09:17:48.521Z"
   },
   {
    "duration": 58,
    "start_time": "2022-09-17T09:18:02.870Z"
   },
   {
    "duration": 71,
    "start_time": "2022-09-17T09:18:14.972Z"
   },
   {
    "duration": 50,
    "start_time": "2022-09-17T09:18:41.626Z"
   },
   {
    "duration": 56,
    "start_time": "2022-09-17T09:18:52.415Z"
   },
   {
    "duration": 50,
    "start_time": "2022-09-17T09:19:55.342Z"
   },
   {
    "duration": 47,
    "start_time": "2022-09-17T09:21:28.432Z"
   },
   {
    "duration": 197,
    "start_time": "2022-09-17T09:23:12.519Z"
   },
   {
    "duration": 721,
    "start_time": "2022-09-17T09:23:21.529Z"
   },
   {
    "duration": 126,
    "start_time": "2022-09-17T09:23:22.253Z"
   },
   {
    "duration": 24,
    "start_time": "2022-09-17T09:23:22.381Z"
   },
   {
    "duration": 2166,
    "start_time": "2022-09-17T09:23:22.407Z"
   },
   {
    "duration": 30,
    "start_time": "2022-09-17T09:23:24.575Z"
   },
   {
    "duration": 34,
    "start_time": "2022-09-17T09:23:24.607Z"
   },
   {
    "duration": 13,
    "start_time": "2022-09-17T09:23:24.643Z"
   },
   {
    "duration": 19,
    "start_time": "2022-09-17T09:23:24.657Z"
   },
   {
    "duration": 157,
    "start_time": "2022-09-17T09:23:24.678Z"
   },
   {
    "duration": 8,
    "start_time": "2022-09-17T09:23:24.838Z"
   },
   {
    "duration": 24,
    "start_time": "2022-09-17T09:23:24.848Z"
   },
   {
    "duration": 55,
    "start_time": "2022-09-17T09:23:24.873Z"
   },
   {
    "duration": 39,
    "start_time": "2022-09-17T09:23:24.930Z"
   },
   {
    "duration": 64,
    "start_time": "2022-09-17T09:23:24.973Z"
   },
   {
    "duration": 47,
    "start_time": "2022-09-17T09:23:25.039Z"
   },
   {
    "duration": 9,
    "start_time": "2022-09-17T09:23:25.088Z"
   },
   {
    "duration": 35,
    "start_time": "2022-09-17T09:23:25.099Z"
   },
   {
    "duration": 18,
    "start_time": "2022-09-17T09:23:25.136Z"
   },
   {
    "duration": 149,
    "start_time": "2022-09-17T09:23:25.156Z"
   },
   {
    "duration": 55,
    "start_time": "2022-09-17T09:23:25.314Z"
   },
   {
    "duration": 10,
    "start_time": "2022-09-17T09:23:25.371Z"
   },
   {
    "duration": 35,
    "start_time": "2022-09-17T09:23:25.383Z"
   },
   {
    "duration": 29,
    "start_time": "2022-09-17T09:23:25.420Z"
   },
   {
    "duration": 194,
    "start_time": "2022-09-17T09:23:25.451Z"
   },
   {
    "duration": 8,
    "start_time": "2022-09-17T09:23:25.647Z"
   },
   {
    "duration": 10,
    "start_time": "2022-09-17T09:23:25.657Z"
   },
   {
    "duration": 8,
    "start_time": "2022-09-17T09:23:25.669Z"
   },
   {
    "duration": 127,
    "start_time": "2022-09-17T09:23:25.689Z"
   },
   {
    "duration": 50,
    "start_time": "2022-09-17T09:23:25.817Z"
   },
   {
    "duration": 37,
    "start_time": "2022-09-17T09:23:25.869Z"
   },
   {
    "duration": 11,
    "start_time": "2022-09-17T09:23:25.913Z"
   },
   {
    "duration": 172,
    "start_time": "2022-09-17T09:23:25.926Z"
   },
   {
    "duration": 58,
    "start_time": "2022-09-17T09:23:26.100Z"
   },
   {
    "duration": 10,
    "start_time": "2022-09-17T09:23:26.160Z"
   },
   {
    "duration": 36,
    "start_time": "2022-09-17T09:23:26.172Z"
   },
   {
    "duration": 13,
    "start_time": "2022-09-17T09:23:26.210Z"
   },
   {
    "duration": 26,
    "start_time": "2022-09-17T09:23:26.225Z"
   },
   {
    "duration": 56,
    "start_time": "2022-09-17T09:23:26.253Z"
   },
   {
    "duration": 38,
    "start_time": "2022-09-17T09:23:26.311Z"
   },
   {
    "duration": 50,
    "start_time": "2022-09-17T09:23:26.351Z"
   },
   {
    "duration": 391,
    "start_time": "2022-09-17T09:23:26.411Z"
   },
   {
    "duration": 27,
    "start_time": "2022-09-17T09:23:26.804Z"
   },
   {
    "duration": 307,
    "start_time": "2022-09-17T09:23:26.833Z"
   },
   {
    "duration": 226,
    "start_time": "2022-09-17T09:23:27.141Z"
   },
   {
    "duration": 236,
    "start_time": "2022-09-17T09:23:27.369Z"
   },
   {
    "duration": 210,
    "start_time": "2022-09-17T09:23:27.607Z"
   },
   {
    "duration": 156,
    "start_time": "2022-09-17T09:23:27.819Z"
   },
   {
    "duration": 211,
    "start_time": "2022-09-17T09:23:27.977Z"
   },
   {
    "duration": 182,
    "start_time": "2022-09-17T09:23:28.197Z"
   },
   {
    "duration": 147,
    "start_time": "2022-09-17T09:23:28.390Z"
   },
   {
    "duration": 211,
    "start_time": "2022-09-17T09:23:28.538Z"
   },
   {
    "duration": 367,
    "start_time": "2022-09-17T09:23:28.751Z"
   },
   {
    "duration": 218,
    "start_time": "2022-09-17T09:23:29.120Z"
   },
   {
    "duration": 227,
    "start_time": "2022-09-17T09:23:29.340Z"
   },
   {
    "duration": 234,
    "start_time": "2022-09-17T09:23:29.568Z"
   },
   {
    "duration": 203,
    "start_time": "2022-09-17T09:23:29.804Z"
   },
   {
    "duration": 190,
    "start_time": "2022-09-17T09:23:30.009Z"
   },
   {
    "duration": 146,
    "start_time": "2022-09-17T09:23:30.201Z"
   },
   {
    "duration": 58,
    "start_time": "2022-09-17T09:23:30.349Z"
   },
   {
    "duration": 18,
    "start_time": "2022-09-17T09:23:30.409Z"
   },
   {
    "duration": 38,
    "start_time": "2022-09-17T09:23:30.429Z"
   },
   {
    "duration": 194,
    "start_time": "2022-09-17T09:23:30.469Z"
   },
   {
    "duration": 161,
    "start_time": "2022-09-17T09:23:30.664Z"
   },
   {
    "duration": 175,
    "start_time": "2022-09-17T09:23:30.827Z"
   },
   {
    "duration": 142,
    "start_time": "2022-09-17T09:23:31.004Z"
   },
   {
    "duration": 312,
    "start_time": "2022-09-17T09:23:31.148Z"
   },
   {
    "duration": 170,
    "start_time": "2022-09-17T09:23:31.462Z"
   },
   {
    "duration": 186,
    "start_time": "2022-09-17T09:23:31.634Z"
   },
   {
    "duration": 191,
    "start_time": "2022-09-17T09:23:31.822Z"
   },
   {
    "duration": 199,
    "start_time": "2022-09-17T09:23:32.015Z"
   },
   {
    "duration": 145,
    "start_time": "2022-09-17T09:23:32.216Z"
   },
   {
    "duration": 32,
    "start_time": "2022-09-17T09:23:32.363Z"
   },
   {
    "duration": 144,
    "start_time": "2022-09-17T09:23:32.397Z"
   },
   {
    "duration": 15,
    "start_time": "2022-09-17T09:23:32.542Z"
   },
   {
    "duration": 103,
    "start_time": "2022-09-17T09:23:32.559Z"
   },
   {
    "duration": 0,
    "start_time": "2022-09-17T09:23:32.664Z"
   },
   {
    "duration": 0,
    "start_time": "2022-09-17T09:23:32.665Z"
   },
   {
    "duration": 0,
    "start_time": "2022-09-17T09:23:32.667Z"
   },
   {
    "duration": 26,
    "start_time": "2022-09-17T09:24:07.032Z"
   },
   {
    "duration": 117,
    "start_time": "2022-09-17T09:24:22.516Z"
   },
   {
    "duration": 135,
    "start_time": "2022-09-17T09:24:30.701Z"
   },
   {
    "duration": 16,
    "start_time": "2022-09-17T09:25:49.903Z"
   },
   {
    "duration": 5,
    "start_time": "2022-09-17T09:25:51.651Z"
   },
   {
    "duration": 46,
    "start_time": "2022-09-17T09:31:53.915Z"
   },
   {
    "duration": 21,
    "start_time": "2022-09-17T09:33:05.087Z"
   },
   {
    "duration": 668,
    "start_time": "2022-09-17T09:33:19.215Z"
   },
   {
    "duration": 134,
    "start_time": "2022-09-17T09:33:19.885Z"
   },
   {
    "duration": 17,
    "start_time": "2022-09-17T09:33:20.021Z"
   },
   {
    "duration": 2221,
    "start_time": "2022-09-17T09:33:20.040Z"
   },
   {
    "duration": 28,
    "start_time": "2022-09-17T09:33:22.263Z"
   },
   {
    "duration": 12,
    "start_time": "2022-09-17T09:33:22.297Z"
   },
   {
    "duration": 5,
    "start_time": "2022-09-17T09:33:22.311Z"
   },
   {
    "duration": 7,
    "start_time": "2022-09-17T09:33:22.317Z"
   },
   {
    "duration": 13,
    "start_time": "2022-09-17T09:33:22.326Z"
   },
   {
    "duration": 38,
    "start_time": "2022-09-17T09:33:26.203Z"
   },
   {
    "duration": 6,
    "start_time": "2022-09-17T09:34:56.049Z"
   },
   {
    "duration": 16,
    "start_time": "2022-09-17T09:35:05.611Z"
   },
   {
    "duration": 316,
    "start_time": "2022-09-17T09:36:36.747Z"
   },
   {
    "duration": 3,
    "start_time": "2022-09-17T09:38:18.089Z"
   },
   {
    "duration": 106,
    "start_time": "2022-09-17T09:38:41.741Z"
   },
   {
    "duration": 3,
    "start_time": "2022-09-17T09:39:15.041Z"
   },
   {
    "duration": 7,
    "start_time": "2022-09-17T09:40:51.159Z"
   },
   {
    "duration": 6,
    "start_time": "2022-09-17T09:41:30.413Z"
   },
   {
    "duration": 42,
    "start_time": "2022-09-17T09:41:42.447Z"
   },
   {
    "duration": 7,
    "start_time": "2022-09-17T09:42:15.352Z"
   },
   {
    "duration": 232,
    "start_time": "2022-09-17T09:42:30.537Z"
   },
   {
    "duration": 166,
    "start_time": "2022-09-17T09:43:01.064Z"
   },
   {
    "duration": 7,
    "start_time": "2022-09-17T09:44:02.232Z"
   },
   {
    "duration": 44,
    "start_time": "2022-09-17T09:44:18.337Z"
   },
   {
    "duration": 8,
    "start_time": "2022-09-17T09:44:49.833Z"
   },
   {
    "duration": 118,
    "start_time": "2022-09-17T09:46:19.411Z"
   },
   {
    "duration": 8,
    "start_time": "2022-09-17T09:49:20.419Z"
   },
   {
    "duration": 103,
    "start_time": "2022-09-17T09:49:38.603Z"
   },
   {
    "duration": 238,
    "start_time": "2022-09-17T09:50:41.391Z"
   },
   {
    "duration": 139,
    "start_time": "2022-09-17T09:51:36.808Z"
   },
   {
    "duration": 9,
    "start_time": "2022-09-17T09:51:44.172Z"
   },
   {
    "duration": 19,
    "start_time": "2022-09-17T09:51:46.045Z"
   },
   {
    "duration": 16,
    "start_time": "2022-09-17T09:52:23.638Z"
   },
   {
    "duration": 12,
    "start_time": "2022-09-17T09:52:36.120Z"
   },
   {
    "duration": 11,
    "start_time": "2022-09-17T09:52:40.617Z"
   },
   {
    "duration": 15,
    "start_time": "2022-09-17T09:52:44.116Z"
   },
   {
    "duration": 3,
    "start_time": "2022-09-17T09:52:46.417Z"
   },
   {
    "duration": 15,
    "start_time": "2022-09-17T09:52:48.084Z"
   },
   {
    "duration": 15,
    "start_time": "2022-09-17T09:52:49.901Z"
   },
   {
    "duration": 9,
    "start_time": "2022-09-17T09:52:56.536Z"
   },
   {
    "duration": 127,
    "start_time": "2022-09-17T09:52:59.118Z"
   },
   {
    "duration": 69,
    "start_time": "2022-09-17T09:53:01.182Z"
   },
   {
    "duration": 9,
    "start_time": "2022-09-17T09:53:03.836Z"
   },
   {
    "duration": 11,
    "start_time": "2022-09-17T09:53:09.838Z"
   },
   {
    "duration": 8,
    "start_time": "2022-09-17T09:53:11.424Z"
   },
   {
    "duration": 182,
    "start_time": "2022-09-17T09:53:13.508Z"
   },
   {
    "duration": 11,
    "start_time": "2022-09-17T09:53:16.068Z"
   },
   {
    "duration": 11,
    "start_time": "2022-09-17T09:53:17.456Z"
   },
   {
    "duration": 12,
    "start_time": "2022-09-17T09:53:18.020Z"
   },
   {
    "duration": 143,
    "start_time": "2022-09-17T09:53:18.985Z"
   },
   {
    "duration": 56,
    "start_time": "2022-09-17T09:53:21.108Z"
   },
   {
    "duration": 12,
    "start_time": "2022-09-17T09:53:21.534Z"
   },
   {
    "duration": 10,
    "start_time": "2022-09-17T09:53:22.577Z"
   },
   {
    "duration": 134,
    "start_time": "2022-09-17T09:53:22.917Z"
   },
   {
    "duration": 62,
    "start_time": "2022-09-17T09:53:24.539Z"
   },
   {
    "duration": 11,
    "start_time": "2022-09-17T09:53:24.836Z"
   },
   {
    "duration": 11,
    "start_time": "2022-09-17T09:53:25.937Z"
   },
   {
    "duration": 28,
    "start_time": "2022-09-17T09:53:26.481Z"
   },
   {
    "duration": 4,
    "start_time": "2022-09-17T09:54:20.954Z"
   },
   {
    "duration": 4,
    "start_time": "2022-09-17T09:54:29.163Z"
   },
   {
    "duration": 7,
    "start_time": "2022-09-17T09:55:32.211Z"
   },
   {
    "duration": 4,
    "start_time": "2022-09-17T09:55:57.284Z"
   },
   {
    "duration": 3,
    "start_time": "2022-09-17T09:56:05.584Z"
   },
   {
    "duration": 85,
    "start_time": "2022-09-17T09:56:54.060Z"
   },
   {
    "duration": 4,
    "start_time": "2022-09-17T09:56:59.242Z"
   },
   {
    "duration": 78,
    "start_time": "2022-09-17T09:57:07.883Z"
   },
   {
    "duration": 4,
    "start_time": "2022-09-17T09:57:12.185Z"
   },
   {
    "duration": 3,
    "start_time": "2022-09-17T09:57:21.506Z"
   },
   {
    "duration": 70,
    "start_time": "2022-09-17T09:57:49.906Z"
   },
   {
    "duration": 54,
    "start_time": "2022-09-17T11:53:34.061Z"
   },
   {
    "duration": 951,
    "start_time": "2022-09-17T11:53:47.623Z"
   },
   {
    "duration": 370,
    "start_time": "2022-09-17T11:53:48.578Z"
   },
   {
    "duration": 16,
    "start_time": "2022-09-17T11:53:48.949Z"
   },
   {
    "duration": 2342,
    "start_time": "2022-09-17T11:53:48.967Z"
   },
   {
    "duration": 29,
    "start_time": "2022-09-17T11:53:51.312Z"
   },
   {
    "duration": 39,
    "start_time": "2022-09-17T11:53:51.343Z"
   },
   {
    "duration": 6,
    "start_time": "2022-09-17T11:53:51.384Z"
   },
   {
    "duration": 13,
    "start_time": "2022-09-17T11:53:51.392Z"
   },
   {
    "duration": 31,
    "start_time": "2022-09-17T11:53:51.406Z"
   },
   {
    "duration": 51,
    "start_time": "2022-09-17T11:53:51.440Z"
   },
   {
    "duration": 27,
    "start_time": "2022-09-17T11:53:51.493Z"
   },
   {
    "duration": 10,
    "start_time": "2022-09-17T11:53:51.522Z"
   },
   {
    "duration": 49,
    "start_time": "2022-09-17T11:53:51.534Z"
   },
   {
    "duration": 200,
    "start_time": "2022-09-17T11:53:51.588Z"
   },
   {
    "duration": 14,
    "start_time": "2022-09-17T11:53:51.791Z"
   },
   {
    "duration": 21,
    "start_time": "2022-09-17T11:53:51.808Z"
   },
   {
    "duration": 24,
    "start_time": "2022-09-17T11:53:51.832Z"
   },
   {
    "duration": 34,
    "start_time": "2022-09-17T11:53:51.858Z"
   },
   {
    "duration": 17,
    "start_time": "2022-09-17T11:53:51.894Z"
   },
   {
    "duration": 3,
    "start_time": "2022-09-17T11:53:51.913Z"
   },
   {
    "duration": 11,
    "start_time": "2022-09-17T11:53:51.918Z"
   },
   {
    "duration": 10,
    "start_time": "2022-09-17T11:53:51.931Z"
   },
   {
    "duration": 16,
    "start_time": "2022-09-17T11:53:51.955Z"
   },
   {
    "duration": 145,
    "start_time": "2022-09-17T11:53:51.974Z"
   },
   {
    "duration": 82,
    "start_time": "2022-09-17T11:53:52.121Z"
   },
   {
    "duration": 12,
    "start_time": "2022-09-17T11:53:52.206Z"
   },
   {
    "duration": 16,
    "start_time": "2022-09-17T11:53:52.221Z"
   },
   {
    "duration": 32,
    "start_time": "2022-09-17T11:53:52.240Z"
   },
   {
    "duration": 210,
    "start_time": "2022-09-17T11:53:52.274Z"
   },
   {
    "duration": 9,
    "start_time": "2022-09-17T11:53:52.486Z"
   },
   {
    "duration": 9,
    "start_time": "2022-09-17T11:53:52.496Z"
   },
   {
    "duration": 9,
    "start_time": "2022-09-17T11:53:52.507Z"
   },
   {
    "duration": 171,
    "start_time": "2022-09-17T11:53:52.518Z"
   },
   {
    "duration": 72,
    "start_time": "2022-09-17T11:53:52.691Z"
   },
   {
    "duration": 13,
    "start_time": "2022-09-17T11:53:52.765Z"
   },
   {
    "duration": 11,
    "start_time": "2022-09-17T11:53:52.781Z"
   },
   {
    "duration": 162,
    "start_time": "2022-09-17T11:53:52.795Z"
   },
   {
    "duration": 64,
    "start_time": "2022-09-17T11:53:52.960Z"
   },
   {
    "duration": 36,
    "start_time": "2022-09-17T11:53:53.026Z"
   },
   {
    "duration": 13,
    "start_time": "2022-09-17T11:53:53.064Z"
   },
   {
    "duration": 21,
    "start_time": "2022-09-17T11:53:53.082Z"
   },
   {
    "duration": 4,
    "start_time": "2022-09-17T11:54:04.788Z"
   },
   {
    "duration": 6,
    "start_time": "2022-09-17T11:54:49.447Z"
   },
   {
    "duration": 6,
    "start_time": "2022-09-17T11:54:57.416Z"
   },
   {
    "duration": 6,
    "start_time": "2022-09-17T11:55:27.097Z"
   },
   {
    "duration": 31,
    "start_time": "2022-09-17T11:57:28.980Z"
   },
   {
    "duration": 4,
    "start_time": "2022-09-17T11:57:36.371Z"
   },
   {
    "duration": 189,
    "start_time": "2022-09-17T11:57:36.377Z"
   },
   {
    "duration": 16,
    "start_time": "2022-09-17T11:57:36.572Z"
   },
   {
    "duration": 2380,
    "start_time": "2022-09-17T11:57:36.590Z"
   },
   {
    "duration": 35,
    "start_time": "2022-09-17T11:57:38.972Z"
   },
   {
    "duration": 15,
    "start_time": "2022-09-17T11:57:39.010Z"
   },
   {
    "duration": 7,
    "start_time": "2022-09-17T11:57:39.027Z"
   },
   {
    "duration": 10,
    "start_time": "2022-09-17T11:57:39.053Z"
   },
   {
    "duration": 16,
    "start_time": "2022-09-17T11:57:39.064Z"
   },
   {
    "duration": 12,
    "start_time": "2022-09-17T11:57:39.082Z"
   },
   {
    "duration": 7,
    "start_time": "2022-09-17T11:57:39.096Z"
   },
   {
    "duration": 9,
    "start_time": "2022-09-17T11:57:39.105Z"
   },
   {
    "duration": 7,
    "start_time": "2022-09-17T11:57:39.117Z"
   },
   {
    "duration": 155,
    "start_time": "2022-09-17T11:57:39.163Z"
   },
   {
    "duration": 10,
    "start_time": "2022-09-17T11:57:39.319Z"
   },
   {
    "duration": 36,
    "start_time": "2022-09-17T11:57:39.331Z"
   },
   {
    "duration": 13,
    "start_time": "2022-09-17T11:57:39.369Z"
   },
   {
    "duration": 10,
    "start_time": "2022-09-17T11:57:39.385Z"
   },
   {
    "duration": 24,
    "start_time": "2022-09-17T11:57:39.397Z"
   },
   {
    "duration": 32,
    "start_time": "2022-09-17T11:57:39.423Z"
   },
   {
    "duration": 14,
    "start_time": "2022-09-17T11:57:39.465Z"
   },
   {
    "duration": 15,
    "start_time": "2022-09-17T11:57:39.482Z"
   },
   {
    "duration": 12,
    "start_time": "2022-09-17T11:57:39.500Z"
   },
   {
    "duration": 205,
    "start_time": "2022-09-17T11:57:39.514Z"
   },
   {
    "duration": 69,
    "start_time": "2022-09-17T11:57:39.721Z"
   },
   {
    "duration": 9,
    "start_time": "2022-09-17T11:57:39.792Z"
   },
   {
    "duration": 22,
    "start_time": "2022-09-17T11:57:39.803Z"
   },
   {
    "duration": 41,
    "start_time": "2022-09-17T11:57:39.827Z"
   },
   {
    "duration": 199,
    "start_time": "2022-09-17T11:57:39.872Z"
   },
   {
    "duration": 10,
    "start_time": "2022-09-17T11:57:40.081Z"
   },
   {
    "duration": 41,
    "start_time": "2022-09-17T11:57:40.093Z"
   },
   {
    "duration": 42,
    "start_time": "2022-09-17T11:57:40.137Z"
   },
   {
    "duration": 205,
    "start_time": "2022-09-17T11:57:40.181Z"
   },
   {
    "duration": 54,
    "start_time": "2022-09-17T11:57:40.389Z"
   },
   {
    "duration": 23,
    "start_time": "2022-09-17T11:57:40.445Z"
   },
   {
    "duration": 23,
    "start_time": "2022-09-17T11:57:40.475Z"
   },
   {
    "duration": 136,
    "start_time": "2022-09-17T11:57:40.501Z"
   },
   {
    "duration": 82,
    "start_time": "2022-09-17T11:57:40.638Z"
   },
   {
    "duration": 15,
    "start_time": "2022-09-17T11:57:40.722Z"
   },
   {
    "duration": 25,
    "start_time": "2022-09-17T11:57:40.739Z"
   },
   {
    "duration": 21,
    "start_time": "2022-09-17T11:57:40.773Z"
   },
   {
    "duration": 8,
    "start_time": "2022-09-17T11:57:40.796Z"
   },
   {
    "duration": 41,
    "start_time": "2022-09-17T11:57:40.805Z"
   },
   {
    "duration": 56,
    "start_time": "2022-09-17T11:57:40.854Z"
   },
   {
    "duration": 28,
    "start_time": "2022-09-17T11:57:40.912Z"
   },
   {
    "duration": 43,
    "start_time": "2022-09-17T11:57:40.942Z"
   },
   {
    "duration": 548,
    "start_time": "2022-09-17T11:57:40.987Z"
   },
   {
    "duration": 48,
    "start_time": "2022-09-17T11:57:41.537Z"
   },
   {
    "duration": 390,
    "start_time": "2022-09-17T11:57:41.587Z"
   },
   {
    "duration": 241,
    "start_time": "2022-09-17T11:57:41.980Z"
   },
   {
    "duration": 271,
    "start_time": "2022-09-17T11:57:42.224Z"
   },
   {
    "duration": 242,
    "start_time": "2022-09-17T11:57:42.497Z"
   },
   {
    "duration": 169,
    "start_time": "2022-09-17T11:57:42.742Z"
   },
   {
    "duration": 220,
    "start_time": "2022-09-17T11:57:42.914Z"
   },
   {
    "duration": 198,
    "start_time": "2022-09-17T11:57:43.136Z"
   },
   {
    "duration": 166,
    "start_time": "2022-09-17T11:57:43.336Z"
   },
   {
    "duration": 241,
    "start_time": "2022-09-17T11:57:43.504Z"
   },
   {
    "duration": 291,
    "start_time": "2022-09-17T11:57:43.747Z"
   },
   {
    "duration": 365,
    "start_time": "2022-09-17T11:57:44.040Z"
   },
   {
    "duration": 246,
    "start_time": "2022-09-17T11:57:44.407Z"
   },
   {
    "duration": 258,
    "start_time": "2022-09-17T11:57:44.663Z"
   },
   {
    "duration": 219,
    "start_time": "2022-09-17T11:57:44.923Z"
   },
   {
    "duration": 200,
    "start_time": "2022-09-17T11:57:45.144Z"
   },
   {
    "duration": 170,
    "start_time": "2022-09-17T11:57:45.346Z"
   },
   {
    "duration": 72,
    "start_time": "2022-09-17T11:57:45.518Z"
   },
   {
    "duration": 25,
    "start_time": "2022-09-17T11:57:45.592Z"
   },
   {
    "duration": 43,
    "start_time": "2022-09-17T11:57:45.620Z"
   },
   {
    "duration": 202,
    "start_time": "2022-09-17T11:57:45.671Z"
   },
   {
    "duration": 151,
    "start_time": "2022-09-17T11:57:45.877Z"
   },
   {
    "duration": 199,
    "start_time": "2022-09-17T11:57:46.030Z"
   },
   {
    "duration": 174,
    "start_time": "2022-09-17T11:57:46.231Z"
   },
   {
    "duration": 201,
    "start_time": "2022-09-17T11:57:46.406Z"
   },
   {
    "duration": 177,
    "start_time": "2022-09-17T11:57:46.610Z"
   },
   {
    "duration": 234,
    "start_time": "2022-09-17T11:57:46.789Z"
   },
   {
    "duration": 182,
    "start_time": "2022-09-17T11:57:47.025Z"
   },
   {
    "duration": 220,
    "start_time": "2022-09-17T11:57:47.210Z"
   },
   {
    "duration": 193,
    "start_time": "2022-09-17T11:57:47.432Z"
   },
   {
    "duration": 49,
    "start_time": "2022-09-17T11:57:47.628Z"
   },
   {
    "duration": 231,
    "start_time": "2022-09-17T11:57:47.679Z"
   },
   {
    "duration": 17,
    "start_time": "2022-09-17T11:57:47.914Z"
   },
   {
    "duration": 107,
    "start_time": "2022-09-17T11:57:47.933Z"
   },
   {
    "duration": 0,
    "start_time": "2022-09-17T11:57:48.042Z"
   },
   {
    "duration": 0,
    "start_time": "2022-09-17T11:57:48.055Z"
   },
   {
    "duration": 0,
    "start_time": "2022-09-17T11:57:48.056Z"
   },
   {
    "duration": 22,
    "start_time": "2022-09-17T12:00:08.698Z"
   },
   {
    "duration": 14,
    "start_time": "2022-09-17T12:00:21.493Z"
   },
   {
    "duration": 17,
    "start_time": "2022-09-17T12:00:39.560Z"
   },
   {
    "duration": 41,
    "start_time": "2022-09-17T12:02:14.633Z"
   },
   {
    "duration": 23,
    "start_time": "2022-09-17T12:02:28.416Z"
   },
   {
    "duration": 13,
    "start_time": "2022-09-17T12:02:41.898Z"
   },
   {
    "duration": 39,
    "start_time": "2022-09-17T12:02:58.828Z"
   },
   {
    "duration": 7,
    "start_time": "2022-09-17T12:03:10.547Z"
   },
   {
    "duration": 6,
    "start_time": "2022-09-17T12:03:19.255Z"
   },
   {
    "duration": 6,
    "start_time": "2022-09-17T12:03:32.946Z"
   },
   {
    "duration": 14,
    "start_time": "2022-09-17T12:04:13.332Z"
   },
   {
    "duration": 51,
    "start_time": "2022-09-17T12:05:05.219Z"
   },
   {
    "duration": 19,
    "start_time": "2022-09-17T12:05:35.542Z"
   },
   {
    "duration": 11,
    "start_time": "2022-09-17T12:06:32.986Z"
   },
   {
    "duration": 3,
    "start_time": "2022-09-17T12:06:48.487Z"
   },
   {
    "duration": 138,
    "start_time": "2022-09-17T12:06:48.492Z"
   },
   {
    "duration": 57,
    "start_time": "2022-09-17T12:06:48.632Z"
   },
   {
    "duration": 2310,
    "start_time": "2022-09-17T12:06:48.691Z"
   },
   {
    "duration": 25,
    "start_time": "2022-09-17T12:06:51.004Z"
   },
   {
    "duration": 31,
    "start_time": "2022-09-17T12:06:51.031Z"
   },
   {
    "duration": 7,
    "start_time": "2022-09-17T12:06:51.064Z"
   },
   {
    "duration": 11,
    "start_time": "2022-09-17T12:06:51.073Z"
   },
   {
    "duration": 18,
    "start_time": "2022-09-17T12:06:51.086Z"
   },
   {
    "duration": 6,
    "start_time": "2022-09-17T12:06:51.106Z"
   },
   {
    "duration": 9,
    "start_time": "2022-09-17T12:06:51.113Z"
   },
   {
    "duration": 11,
    "start_time": "2022-09-17T12:06:51.124Z"
   },
   {
    "duration": 28,
    "start_time": "2022-09-17T12:06:51.136Z"
   },
   {
    "duration": 124,
    "start_time": "2022-09-17T12:06:51.170Z"
   },
   {
    "duration": 9,
    "start_time": "2022-09-17T12:06:51.295Z"
   },
   {
    "duration": 18,
    "start_time": "2022-09-17T12:06:51.306Z"
   },
   {
    "duration": 9,
    "start_time": "2022-09-17T12:06:51.326Z"
   },
   {
    "duration": 29,
    "start_time": "2022-09-17T12:06:51.337Z"
   },
   {
    "duration": 23,
    "start_time": "2022-09-17T12:06:51.368Z"
   },
   {
    "duration": 5,
    "start_time": "2022-09-17T12:06:51.393Z"
   },
   {
    "duration": 12,
    "start_time": "2022-09-17T12:06:51.400Z"
   },
   {
    "duration": 19,
    "start_time": "2022-09-17T12:06:51.414Z"
   },
   {
    "duration": 34,
    "start_time": "2022-09-17T12:06:51.437Z"
   },
   {
    "duration": 187,
    "start_time": "2022-09-17T12:06:51.473Z"
   },
   {
    "duration": 61,
    "start_time": "2022-09-17T12:06:51.670Z"
   },
   {
    "duration": 25,
    "start_time": "2022-09-17T12:06:51.733Z"
   },
   {
    "duration": 12,
    "start_time": "2022-09-17T12:06:51.762Z"
   },
   {
    "duration": 17,
    "start_time": "2022-09-17T12:06:51.776Z"
   },
   {
    "duration": 205,
    "start_time": "2022-09-17T12:06:51.795Z"
   },
   {
    "duration": 10,
    "start_time": "2022-09-17T12:06:52.002Z"
   },
   {
    "duration": 9,
    "start_time": "2022-09-17T12:06:52.014Z"
   },
   {
    "duration": 12,
    "start_time": "2022-09-17T12:06:52.024Z"
   },
   {
    "duration": 147,
    "start_time": "2022-09-17T12:06:52.037Z"
   },
   {
    "duration": 48,
    "start_time": "2022-09-17T12:06:52.186Z"
   },
   {
    "duration": 27,
    "start_time": "2022-09-17T12:06:52.236Z"
   },
   {
    "duration": 24,
    "start_time": "2022-09-17T12:06:52.264Z"
   },
   {
    "duration": 147,
    "start_time": "2022-09-17T12:06:52.290Z"
   },
   {
    "duration": 61,
    "start_time": "2022-09-17T12:06:52.439Z"
   },
   {
    "duration": 10,
    "start_time": "2022-09-17T12:06:52.502Z"
   },
   {
    "duration": 9,
    "start_time": "2022-09-17T12:06:52.514Z"
   },
   {
    "duration": 22,
    "start_time": "2022-09-17T12:06:52.553Z"
   },
   {
    "duration": 7,
    "start_time": "2022-09-17T12:06:52.577Z"
   },
   {
    "duration": 38,
    "start_time": "2022-09-17T12:06:52.586Z"
   },
   {
    "duration": 55,
    "start_time": "2022-09-17T12:06:52.625Z"
   },
   {
    "duration": 67,
    "start_time": "2022-09-17T12:06:52.683Z"
   },
   {
    "duration": 42,
    "start_time": "2022-09-17T12:06:52.753Z"
   },
   {
    "duration": 355,
    "start_time": "2022-09-17T12:06:52.797Z"
   },
   {
    "duration": 34,
    "start_time": "2022-09-17T12:06:53.153Z"
   },
   {
    "duration": 256,
    "start_time": "2022-09-17T12:06:53.189Z"
   },
   {
    "duration": 237,
    "start_time": "2022-09-17T12:06:53.447Z"
   },
   {
    "duration": 233,
    "start_time": "2022-09-17T12:06:53.686Z"
   },
   {
    "duration": 408,
    "start_time": "2022-09-17T12:06:53.921Z"
   },
   {
    "duration": 174,
    "start_time": "2022-09-17T12:06:54.330Z"
   },
   {
    "duration": 216,
    "start_time": "2022-09-17T12:06:54.506Z"
   },
   {
    "duration": 180,
    "start_time": "2022-09-17T12:06:54.724Z"
   },
   {
    "duration": 156,
    "start_time": "2022-09-17T12:06:54.906Z"
   },
   {
    "duration": 216,
    "start_time": "2022-09-17T12:06:55.069Z"
   },
   {
    "duration": 301,
    "start_time": "2022-09-17T12:06:55.287Z"
   },
   {
    "duration": 228,
    "start_time": "2022-09-17T12:06:55.591Z"
   },
   {
    "duration": 223,
    "start_time": "2022-09-17T12:06:55.821Z"
   },
   {
    "duration": 239,
    "start_time": "2022-09-17T12:06:56.046Z"
   },
   {
    "duration": 205,
    "start_time": "2022-09-17T12:06:56.287Z"
   },
   {
    "duration": 207,
    "start_time": "2022-09-17T12:06:56.494Z"
   },
   {
    "duration": 170,
    "start_time": "2022-09-17T12:06:56.703Z"
   },
   {
    "duration": 49,
    "start_time": "2022-09-17T12:06:56.875Z"
   },
   {
    "duration": 29,
    "start_time": "2022-09-17T12:06:56.926Z"
   },
   {
    "duration": 14,
    "start_time": "2022-09-17T12:06:56.959Z"
   },
   {
    "duration": 197,
    "start_time": "2022-09-17T12:06:56.975Z"
   },
   {
    "duration": 163,
    "start_time": "2022-09-17T12:06:57.176Z"
   },
   {
    "duration": 172,
    "start_time": "2022-09-17T12:06:57.341Z"
   },
   {
    "duration": 163,
    "start_time": "2022-09-17T12:06:57.515Z"
   },
   {
    "duration": 199,
    "start_time": "2022-09-17T12:06:57.680Z"
   },
   {
    "duration": 184,
    "start_time": "2022-09-17T12:06:57.882Z"
   },
   {
    "duration": 186,
    "start_time": "2022-09-17T12:06:58.068Z"
   },
   {
    "duration": 163,
    "start_time": "2022-09-17T12:06:58.255Z"
   },
   {
    "duration": 207,
    "start_time": "2022-09-17T12:06:58.420Z"
   },
   {
    "duration": 175,
    "start_time": "2022-09-17T12:06:58.629Z"
   },
   {
    "duration": 25,
    "start_time": "2022-09-17T12:06:58.806Z"
   },
   {
    "duration": 188,
    "start_time": "2022-09-17T12:06:58.834Z"
   },
   {
    "duration": 32,
    "start_time": "2022-09-17T12:06:59.024Z"
   },
   {
    "duration": 14,
    "start_time": "2022-09-17T12:06:59.057Z"
   },
   {
    "duration": 153,
    "start_time": "2022-09-17T12:06:59.073Z"
   },
   {
    "duration": 474,
    "start_time": "2022-09-17T12:06:59.229Z"
   },
   {
    "duration": 7,
    "start_time": "2022-09-17T12:06:59.705Z"
   },
   {
    "duration": 10,
    "start_time": "2022-09-17T12:10:37.134Z"
   },
   {
    "duration": 139,
    "start_time": "2022-09-17T12:10:44.984Z"
   },
   {
    "duration": 7,
    "start_time": "2022-09-17T12:11:29.579Z"
   },
   {
    "duration": 9,
    "start_time": "2022-09-17T12:11:46.773Z"
   },
   {
    "duration": 120,
    "start_time": "2022-09-17T12:12:47.940Z"
   },
   {
    "duration": 117,
    "start_time": "2022-09-17T12:13:01.777Z"
   },
   {
    "duration": 151,
    "start_time": "2022-09-17T12:13:35.864Z"
   },
   {
    "duration": 133,
    "start_time": "2022-09-17T12:14:02.080Z"
   },
   {
    "duration": 257,
    "start_time": "2022-09-17T12:14:55.288Z"
   },
   {
    "duration": 299,
    "start_time": "2022-09-17T12:15:05.431Z"
   },
   {
    "duration": 149,
    "start_time": "2022-09-17T12:15:47.540Z"
   },
   {
    "duration": 105,
    "start_time": "2022-09-17T12:16:00.899Z"
   },
   {
    "duration": 174,
    "start_time": "2022-09-17T12:16:03.649Z"
   }
  ],
  "kernelspec": {
   "display_name": "Python 3 (ipykernel)",
   "language": "python",
   "name": "python3"
  },
  "language_info": {
   "codemirror_mode": {
    "name": "ipython",
    "version": 3
   },
   "file_extension": ".py",
   "mimetype": "text/x-python",
   "name": "python",
   "nbconvert_exporter": "python",
   "pygments_lexer": "ipython3",
   "version": "3.10.8"
  },
  "toc": {
   "base_numbering": 1,
   "nav_menu": {},
   "number_sections": true,
   "sideBar": true,
   "skip_h1_title": true,
   "title_cell": "Table of Contents",
   "title_sidebar": "Contents",
   "toc_cell": false,
   "toc_position": {},
   "toc_section_display": true,
   "toc_window_display": false
  }
 },
 "nbformat": 4,
 "nbformat_minor": 5
}
